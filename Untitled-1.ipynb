{
 "cells": [
  {
   "cell_type": "code",
   "execution_count": 1,
   "metadata": {},
   "outputs": [],
   "source": [
    "import pandas as pd\n",
    "\n",
    "data_path = 'C:/Users/pietr/Documents/GitHub/Thesis-CaianiRenContardi/df_model.csv'\n",
    "\n",
    "df = pd.read_csv(data_path)"
   ]
  },
  {
   "cell_type": "code",
   "execution_count": 2,
   "metadata": {},
   "outputs": [
    {
     "data": {
      "application/vnd.microsoft.datawrangler.viewer.v0+json": {
       "columns": [
        {
         "name": "index",
         "rawType": "int64",
         "type": "integer"
        },
        {
         "name": "FOI_TEXT",
         "rawType": "object",
         "type": "string"
        },
        {
         "name": "PROBLEM_CODE",
         "rawType": "float64",
         "type": "float"
        },
        {
         "name": "IMDRF",
         "rawType": "object",
         "type": "string"
        }
       ],
       "conversionMethod": "pd.DataFrame",
       "ref": "20131d78-2d90-4788-9e9b-221235550852",
       "rows": [
        [
         "0",
         "IT WAS REPORTED THAT THE LEAD WAS IMPLANTED INITIALLY IN SUB-OPTIMAL POSITION. THE LEAD EXHIBITED CHRONIC DISLODGEMENT ISSUE. LEAD WAS CAPPED AND REPLACED ON (B)(6) 2018. PATIENT WAS STABLE THORUGHOUT THE EVENT.",
         "2923.0",
         "A051201"
        ],
        [
         "1",
         "IT WAS REPORTED THAT DURING FOLLOW-UP VISIT, DEVICE WAS FOUND TO BE IN BACKUP VVI MODE. DEVICE DOWNLOAD WAS PERFORMED SUCCESSFULLY. PATIENT WAS STABLE THROUGHOUT THE EVENT.",
         "1440.0",
         "A071205"
        ],
        [
         "2",
         "IT WAS REPORTED THAT THE LEAD CAPTURE THRESHOLD WAS INCREASING OVER THE PAST SEVERAL MONTHS. PATIENT WAS PACER DEPENDENT. LEAD WAS CAPPED AND REPLACED ON (B)(6) 2018. DEVICE WAS ALSO REPLACED TO EXTEND THE BATTERY LIFE. PATIENT WAS STABLE THROUGHOUT THE EVENT.",
         "1559.0",
         "A070908"
        ],
        [
         "3",
         "IT WAS REPORTED THAT THE LEAD CAPTURE THRESHOLD WAS INCREASING OVER THE PAST SEVERAL MONTHS. PATIENT WAS PACER DEPENDENT. LEAD WAS CAPPED AND REPLACED ON (B)(6) 2018. DEVICE WAS ALSO REPLACED TO EXTEND THE BATTERY LIFE. PATIENT WAS STABLE THROUGHOUT THE EVENT.",
         "3266.0",
         "A070102"
        ],
        [
         "4",
         "NEW INFORMATION RECEIVED NOTES THAT LOSS OF SENSING WAS ALSO NOTED ON THE LEAD.",
         "1559.0",
         "A070908"
        ]
       ],
       "shape": {
        "columns": 3,
        "rows": 5
       }
      },
      "text/html": [
       "<div>\n",
       "<style scoped>\n",
       "    .dataframe tbody tr th:only-of-type {\n",
       "        vertical-align: middle;\n",
       "    }\n",
       "\n",
       "    .dataframe tbody tr th {\n",
       "        vertical-align: top;\n",
       "    }\n",
       "\n",
       "    .dataframe thead th {\n",
       "        text-align: right;\n",
       "    }\n",
       "</style>\n",
       "<table border=\"1\" class=\"dataframe\">\n",
       "  <thead>\n",
       "    <tr style=\"text-align: right;\">\n",
       "      <th></th>\n",
       "      <th>FOI_TEXT</th>\n",
       "      <th>PROBLEM_CODE</th>\n",
       "      <th>IMDRF</th>\n",
       "    </tr>\n",
       "  </thead>\n",
       "  <tbody>\n",
       "    <tr>\n",
       "      <th>0</th>\n",
       "      <td>IT WAS REPORTED THAT THE LEAD WAS IMPLANTED IN...</td>\n",
       "      <td>2923.0</td>\n",
       "      <td>A051201</td>\n",
       "    </tr>\n",
       "    <tr>\n",
       "      <th>1</th>\n",
       "      <td>IT WAS REPORTED THAT DURING FOLLOW-UP VISIT, D...</td>\n",
       "      <td>1440.0</td>\n",
       "      <td>A071205</td>\n",
       "    </tr>\n",
       "    <tr>\n",
       "      <th>2</th>\n",
       "      <td>IT WAS REPORTED THAT THE LEAD CAPTURE THRESHOL...</td>\n",
       "      <td>1559.0</td>\n",
       "      <td>A070908</td>\n",
       "    </tr>\n",
       "    <tr>\n",
       "      <th>3</th>\n",
       "      <td>IT WAS REPORTED THAT THE LEAD CAPTURE THRESHOL...</td>\n",
       "      <td>3266.0</td>\n",
       "      <td>A070102</td>\n",
       "    </tr>\n",
       "    <tr>\n",
       "      <th>4</th>\n",
       "      <td>NEW INFORMATION RECEIVED NOTES THAT LOSS OF SE...</td>\n",
       "      <td>1559.0</td>\n",
       "      <td>A070908</td>\n",
       "    </tr>\n",
       "  </tbody>\n",
       "</table>\n",
       "</div>"
      ],
      "text/plain": [
       "                                            FOI_TEXT  PROBLEM_CODE    IMDRF\n",
       "0  IT WAS REPORTED THAT THE LEAD WAS IMPLANTED IN...        2923.0  A051201\n",
       "1  IT WAS REPORTED THAT DURING FOLLOW-UP VISIT, D...        1440.0  A071205\n",
       "2  IT WAS REPORTED THAT THE LEAD CAPTURE THRESHOL...        1559.0  A070908\n",
       "3  IT WAS REPORTED THAT THE LEAD CAPTURE THRESHOL...        3266.0  A070102\n",
       "4  NEW INFORMATION RECEIVED NOTES THAT LOSS OF SE...        1559.0  A070908"
      ]
     },
     "execution_count": 2,
     "metadata": {},
     "output_type": "execute_result"
    }
   ],
   "source": [
    "df.head()"
   ]
  },
  {
   "cell_type": "code",
   "execution_count": 3,
   "metadata": {},
   "outputs": [
    {
     "name": "stderr",
     "output_type": "stream",
     "text": [
      "c:\\Users\\pietr\\Documents\\GitHub\\Thesis-CaianiRenContardi\\tesinlp\\Lib\\site-packages\\tqdm\\auto.py:21: TqdmWarning: IProgress not found. Please update jupyter and ipywidgets. See https://ipywidgets.readthedocs.io/en/stable/user_install.html\n",
      "  from .autonotebook import tqdm as notebook_tqdm\n"
     ]
    },
    {
     "ename": "KeyboardInterrupt",
     "evalue": "",
     "output_type": "error",
     "traceback": [
      "\u001b[1;31m---------------------------------------------------------------------------\u001b[0m",
      "\u001b[1;31mKeyboardInterrupt\u001b[0m                         Traceback (most recent call last)",
      "Cell \u001b[1;32mIn[3], line 9\u001b[0m\n\u001b[0;32m      6\u001b[0m     output \u001b[38;5;241m=\u001b[39m tokenizer\u001b[38;5;241m.\u001b[39mtokenize(text)\n\u001b[0;32m      7\u001b[0m     \u001b[38;5;28;01mreturn\u001b[39;00m \u001b[38;5;28mlen\u001b[39m(output)\n\u001b[1;32m----> 9\u001b[0m num_tokens \u001b[38;5;241m=\u001b[39m \u001b[43mdf\u001b[49m\u001b[43m[\u001b[49m\u001b[38;5;124;43m'\u001b[39;49m\u001b[38;5;124;43mFOI_TEXT\u001b[39;49m\u001b[38;5;124;43m'\u001b[39;49m\u001b[43m]\u001b[49m\u001b[38;5;241;43m.\u001b[39;49m\u001b[43mapply\u001b[49m\u001b[43m(\u001b[49m\u001b[43mcount_tokens\u001b[49m\u001b[43m)\u001b[49m\n\u001b[0;32m     10\u001b[0m num_tokens[num_tokens \u001b[38;5;241m>\u001b[39m \u001b[38;5;241m512\u001b[39m]\u001b[38;5;241m.\u001b[39mcount()\n",
      "File \u001b[1;32mc:\\Users\\pietr\\Documents\\GitHub\\Thesis-CaianiRenContardi\\tesinlp\\Lib\\site-packages\\pandas\\core\\series.py:4924\u001b[0m, in \u001b[0;36mSeries.apply\u001b[1;34m(self, func, convert_dtype, args, by_row, **kwargs)\u001b[0m\n\u001b[0;32m   4789\u001b[0m \u001b[38;5;28;01mdef\u001b[39;00m \u001b[38;5;21mapply\u001b[39m(\n\u001b[0;32m   4790\u001b[0m     \u001b[38;5;28mself\u001b[39m,\n\u001b[0;32m   4791\u001b[0m     func: AggFuncType,\n\u001b[1;32m   (...)\u001b[0m\n\u001b[0;32m   4796\u001b[0m     \u001b[38;5;241m*\u001b[39m\u001b[38;5;241m*\u001b[39mkwargs,\n\u001b[0;32m   4797\u001b[0m ) \u001b[38;5;241m-\u001b[39m\u001b[38;5;241m>\u001b[39m DataFrame \u001b[38;5;241m|\u001b[39m Series:\n\u001b[0;32m   4798\u001b[0m \u001b[38;5;250m    \u001b[39m\u001b[38;5;124;03m\"\"\"\u001b[39;00m\n\u001b[0;32m   4799\u001b[0m \u001b[38;5;124;03m    Invoke function on values of Series.\u001b[39;00m\n\u001b[0;32m   4800\u001b[0m \n\u001b[1;32m   (...)\u001b[0m\n\u001b[0;32m   4915\u001b[0m \u001b[38;5;124;03m    dtype: float64\u001b[39;00m\n\u001b[0;32m   4916\u001b[0m \u001b[38;5;124;03m    \"\"\"\u001b[39;00m\n\u001b[0;32m   4917\u001b[0m     \u001b[38;5;28;01mreturn\u001b[39;00m \u001b[43mSeriesApply\u001b[49m\u001b[43m(\u001b[49m\n\u001b[0;32m   4918\u001b[0m \u001b[43m        \u001b[49m\u001b[38;5;28;43mself\u001b[39;49m\u001b[43m,\u001b[49m\n\u001b[0;32m   4919\u001b[0m \u001b[43m        \u001b[49m\u001b[43mfunc\u001b[49m\u001b[43m,\u001b[49m\n\u001b[0;32m   4920\u001b[0m \u001b[43m        \u001b[49m\u001b[43mconvert_dtype\u001b[49m\u001b[38;5;241;43m=\u001b[39;49m\u001b[43mconvert_dtype\u001b[49m\u001b[43m,\u001b[49m\n\u001b[0;32m   4921\u001b[0m \u001b[43m        \u001b[49m\u001b[43mby_row\u001b[49m\u001b[38;5;241;43m=\u001b[39;49m\u001b[43mby_row\u001b[49m\u001b[43m,\u001b[49m\n\u001b[0;32m   4922\u001b[0m \u001b[43m        \u001b[49m\u001b[43margs\u001b[49m\u001b[38;5;241;43m=\u001b[39;49m\u001b[43margs\u001b[49m\u001b[43m,\u001b[49m\n\u001b[0;32m   4923\u001b[0m \u001b[43m        \u001b[49m\u001b[43mkwargs\u001b[49m\u001b[38;5;241;43m=\u001b[39;49m\u001b[43mkwargs\u001b[49m\u001b[43m,\u001b[49m\n\u001b[1;32m-> 4924\u001b[0m \u001b[43m    \u001b[49m\u001b[43m)\u001b[49m\u001b[38;5;241;43m.\u001b[39;49m\u001b[43mapply\u001b[49m\u001b[43m(\u001b[49m\u001b[43m)\u001b[49m\n",
      "File \u001b[1;32mc:\\Users\\pietr\\Documents\\GitHub\\Thesis-CaianiRenContardi\\tesinlp\\Lib\\site-packages\\pandas\\core\\apply.py:1427\u001b[0m, in \u001b[0;36mSeriesApply.apply\u001b[1;34m(self)\u001b[0m\n\u001b[0;32m   1424\u001b[0m     \u001b[38;5;28;01mreturn\u001b[39;00m \u001b[38;5;28mself\u001b[39m\u001b[38;5;241m.\u001b[39mapply_compat()\n\u001b[0;32m   1426\u001b[0m \u001b[38;5;66;03m# self.func is Callable\u001b[39;00m\n\u001b[1;32m-> 1427\u001b[0m \u001b[38;5;28;01mreturn\u001b[39;00m \u001b[38;5;28;43mself\u001b[39;49m\u001b[38;5;241;43m.\u001b[39;49m\u001b[43mapply_standard\u001b[49m\u001b[43m(\u001b[49m\u001b[43m)\u001b[49m\n",
      "File \u001b[1;32mc:\\Users\\pietr\\Documents\\GitHub\\Thesis-CaianiRenContardi\\tesinlp\\Lib\\site-packages\\pandas\\core\\apply.py:1507\u001b[0m, in \u001b[0;36mSeriesApply.apply_standard\u001b[1;34m(self)\u001b[0m\n\u001b[0;32m   1501\u001b[0m \u001b[38;5;66;03m# row-wise access\u001b[39;00m\n\u001b[0;32m   1502\u001b[0m \u001b[38;5;66;03m# apply doesn't have a `na_action` keyword and for backward compat reasons\u001b[39;00m\n\u001b[0;32m   1503\u001b[0m \u001b[38;5;66;03m# we need to give `na_action=\"ignore\"` for categorical data.\u001b[39;00m\n\u001b[0;32m   1504\u001b[0m \u001b[38;5;66;03m# TODO: remove the `na_action=\"ignore\"` when that default has been changed in\u001b[39;00m\n\u001b[0;32m   1505\u001b[0m \u001b[38;5;66;03m#  Categorical (GH51645).\u001b[39;00m\n\u001b[0;32m   1506\u001b[0m action \u001b[38;5;241m=\u001b[39m \u001b[38;5;124m\"\u001b[39m\u001b[38;5;124mignore\u001b[39m\u001b[38;5;124m\"\u001b[39m \u001b[38;5;28;01mif\u001b[39;00m \u001b[38;5;28misinstance\u001b[39m(obj\u001b[38;5;241m.\u001b[39mdtype, CategoricalDtype) \u001b[38;5;28;01melse\u001b[39;00m \u001b[38;5;28;01mNone\u001b[39;00m\n\u001b[1;32m-> 1507\u001b[0m mapped \u001b[38;5;241m=\u001b[39m \u001b[43mobj\u001b[49m\u001b[38;5;241;43m.\u001b[39;49m\u001b[43m_map_values\u001b[49m\u001b[43m(\u001b[49m\n\u001b[0;32m   1508\u001b[0m \u001b[43m    \u001b[49m\u001b[43mmapper\u001b[49m\u001b[38;5;241;43m=\u001b[39;49m\u001b[43mcurried\u001b[49m\u001b[43m,\u001b[49m\u001b[43m \u001b[49m\u001b[43mna_action\u001b[49m\u001b[38;5;241;43m=\u001b[39;49m\u001b[43maction\u001b[49m\u001b[43m,\u001b[49m\u001b[43m \u001b[49m\u001b[43mconvert\u001b[49m\u001b[38;5;241;43m=\u001b[39;49m\u001b[38;5;28;43mself\u001b[39;49m\u001b[38;5;241;43m.\u001b[39;49m\u001b[43mconvert_dtype\u001b[49m\n\u001b[0;32m   1509\u001b[0m \u001b[43m\u001b[49m\u001b[43m)\u001b[49m\n\u001b[0;32m   1511\u001b[0m \u001b[38;5;28;01mif\u001b[39;00m \u001b[38;5;28mlen\u001b[39m(mapped) \u001b[38;5;129;01mand\u001b[39;00m \u001b[38;5;28misinstance\u001b[39m(mapped[\u001b[38;5;241m0\u001b[39m], ABCSeries):\n\u001b[0;32m   1512\u001b[0m     \u001b[38;5;66;03m# GH#43986 Need to do list(mapped) in order to get treated as nested\u001b[39;00m\n\u001b[0;32m   1513\u001b[0m     \u001b[38;5;66;03m#  See also GH#25959 regarding EA support\u001b[39;00m\n\u001b[0;32m   1514\u001b[0m     \u001b[38;5;28;01mreturn\u001b[39;00m obj\u001b[38;5;241m.\u001b[39m_constructor_expanddim(\u001b[38;5;28mlist\u001b[39m(mapped), index\u001b[38;5;241m=\u001b[39mobj\u001b[38;5;241m.\u001b[39mindex)\n",
      "File \u001b[1;32mc:\\Users\\pietr\\Documents\\GitHub\\Thesis-CaianiRenContardi\\tesinlp\\Lib\\site-packages\\pandas\\core\\base.py:921\u001b[0m, in \u001b[0;36mIndexOpsMixin._map_values\u001b[1;34m(self, mapper, na_action, convert)\u001b[0m\n\u001b[0;32m    918\u001b[0m \u001b[38;5;28;01mif\u001b[39;00m \u001b[38;5;28misinstance\u001b[39m(arr, ExtensionArray):\n\u001b[0;32m    919\u001b[0m     \u001b[38;5;28;01mreturn\u001b[39;00m arr\u001b[38;5;241m.\u001b[39mmap(mapper, na_action\u001b[38;5;241m=\u001b[39mna_action)\n\u001b[1;32m--> 921\u001b[0m \u001b[38;5;28;01mreturn\u001b[39;00m \u001b[43malgorithms\u001b[49m\u001b[38;5;241;43m.\u001b[39;49m\u001b[43mmap_array\u001b[49m\u001b[43m(\u001b[49m\u001b[43marr\u001b[49m\u001b[43m,\u001b[49m\u001b[43m \u001b[49m\u001b[43mmapper\u001b[49m\u001b[43m,\u001b[49m\u001b[43m \u001b[49m\u001b[43mna_action\u001b[49m\u001b[38;5;241;43m=\u001b[39;49m\u001b[43mna_action\u001b[49m\u001b[43m,\u001b[49m\u001b[43m \u001b[49m\u001b[43mconvert\u001b[49m\u001b[38;5;241;43m=\u001b[39;49m\u001b[43mconvert\u001b[49m\u001b[43m)\u001b[49m\n",
      "File \u001b[1;32mc:\\Users\\pietr\\Documents\\GitHub\\Thesis-CaianiRenContardi\\tesinlp\\Lib\\site-packages\\pandas\\core\\algorithms.py:1743\u001b[0m, in \u001b[0;36mmap_array\u001b[1;34m(arr, mapper, na_action, convert)\u001b[0m\n\u001b[0;32m   1741\u001b[0m values \u001b[38;5;241m=\u001b[39m arr\u001b[38;5;241m.\u001b[39mastype(\u001b[38;5;28mobject\u001b[39m, copy\u001b[38;5;241m=\u001b[39m\u001b[38;5;28;01mFalse\u001b[39;00m)\n\u001b[0;32m   1742\u001b[0m \u001b[38;5;28;01mif\u001b[39;00m na_action \u001b[38;5;129;01mis\u001b[39;00m \u001b[38;5;28;01mNone\u001b[39;00m:\n\u001b[1;32m-> 1743\u001b[0m     \u001b[38;5;28;01mreturn\u001b[39;00m \u001b[43mlib\u001b[49m\u001b[38;5;241;43m.\u001b[39;49m\u001b[43mmap_infer\u001b[49m\u001b[43m(\u001b[49m\u001b[43mvalues\u001b[49m\u001b[43m,\u001b[49m\u001b[43m \u001b[49m\u001b[43mmapper\u001b[49m\u001b[43m,\u001b[49m\u001b[43m \u001b[49m\u001b[43mconvert\u001b[49m\u001b[38;5;241;43m=\u001b[39;49m\u001b[43mconvert\u001b[49m\u001b[43m)\u001b[49m\n\u001b[0;32m   1744\u001b[0m \u001b[38;5;28;01melse\u001b[39;00m:\n\u001b[0;32m   1745\u001b[0m     \u001b[38;5;28;01mreturn\u001b[39;00m lib\u001b[38;5;241m.\u001b[39mmap_infer_mask(\n\u001b[0;32m   1746\u001b[0m         values, mapper, mask\u001b[38;5;241m=\u001b[39misna(values)\u001b[38;5;241m.\u001b[39mview(np\u001b[38;5;241m.\u001b[39muint8), convert\u001b[38;5;241m=\u001b[39mconvert\n\u001b[0;32m   1747\u001b[0m     )\n",
      "File \u001b[1;32mlib.pyx:2972\u001b[0m, in \u001b[0;36mpandas._libs.lib.map_infer\u001b[1;34m()\u001b[0m\n",
      "Cell \u001b[1;32mIn[3], line 6\u001b[0m, in \u001b[0;36mcount_tokens\u001b[1;34m(text)\u001b[0m\n\u001b[0;32m      5\u001b[0m \u001b[38;5;28;01mdef\u001b[39;00m \u001b[38;5;21mcount_tokens\u001b[39m(text):\n\u001b[1;32m----> 6\u001b[0m     output \u001b[38;5;241m=\u001b[39m \u001b[43mtokenizer\u001b[49m\u001b[38;5;241;43m.\u001b[39;49m\u001b[43mtokenize\u001b[49m\u001b[43m(\u001b[49m\u001b[43mtext\u001b[49m\u001b[43m)\u001b[49m\n\u001b[0;32m      7\u001b[0m     \u001b[38;5;28;01mreturn\u001b[39;00m \u001b[38;5;28mlen\u001b[39m(output)\n",
      "File \u001b[1;32mc:\\Users\\pietr\\Documents\\GitHub\\Thesis-CaianiRenContardi\\tesinlp\\Lib\\site-packages\\transformers\\tokenization_utils_fast.py:411\u001b[0m, in \u001b[0;36mPreTrainedTokenizerFast.tokenize\u001b[1;34m(self, text, pair, add_special_tokens, **kwargs)\u001b[0m\n\u001b[0;32m    410\u001b[0m \u001b[38;5;28;01mdef\u001b[39;00m \u001b[38;5;21mtokenize\u001b[39m(\u001b[38;5;28mself\u001b[39m, text: \u001b[38;5;28mstr\u001b[39m, pair: Optional[\u001b[38;5;28mstr\u001b[39m] \u001b[38;5;241m=\u001b[39m \u001b[38;5;28;01mNone\u001b[39;00m, add_special_tokens: \u001b[38;5;28mbool\u001b[39m \u001b[38;5;241m=\u001b[39m \u001b[38;5;28;01mFalse\u001b[39;00m, \u001b[38;5;241m*\u001b[39m\u001b[38;5;241m*\u001b[39mkwargs) \u001b[38;5;241m-\u001b[39m\u001b[38;5;241m>\u001b[39m List[\u001b[38;5;28mstr\u001b[39m]:\n\u001b[1;32m--> 411\u001b[0m     \u001b[38;5;28;01mreturn\u001b[39;00m \u001b[38;5;28;43mself\u001b[39;49m\u001b[38;5;241;43m.\u001b[39;49m\u001b[43mencode_plus\u001b[49m\u001b[43m(\u001b[49m\u001b[43mtext\u001b[49m\u001b[38;5;241;43m=\u001b[39;49m\u001b[43mtext\u001b[49m\u001b[43m,\u001b[49m\u001b[43m \u001b[49m\u001b[43mtext_pair\u001b[49m\u001b[38;5;241;43m=\u001b[39;49m\u001b[43mpair\u001b[49m\u001b[43m,\u001b[49m\u001b[43m \u001b[49m\u001b[43madd_special_tokens\u001b[49m\u001b[38;5;241;43m=\u001b[39;49m\u001b[43madd_special_tokens\u001b[49m\u001b[43m,\u001b[49m\u001b[43m \u001b[49m\u001b[38;5;241;43m*\u001b[39;49m\u001b[38;5;241;43m*\u001b[39;49m\u001b[43mkwargs\u001b[49m\u001b[43m)\u001b[49m\u001b[38;5;241m.\u001b[39mtokens()\n",
      "File \u001b[1;32mc:\\Users\\pietr\\Documents\\GitHub\\Thesis-CaianiRenContardi\\tesinlp\\Lib\\site-packages\\transformers\\tokenization_utils_base.py:3207\u001b[0m, in \u001b[0;36mPreTrainedTokenizerBase.encode_plus\u001b[1;34m(self, text, text_pair, add_special_tokens, padding, truncation, max_length, stride, is_split_into_words, pad_to_multiple_of, padding_side, return_tensors, return_token_type_ids, return_attention_mask, return_overflowing_tokens, return_special_tokens_mask, return_offsets_mapping, return_length, verbose, **kwargs)\u001b[0m\n\u001b[0;32m   3197\u001b[0m \u001b[38;5;66;03m# Backward compatibility for 'truncation_strategy', 'pad_to_max_length'\u001b[39;00m\n\u001b[0;32m   3198\u001b[0m padding_strategy, truncation_strategy, max_length, kwargs \u001b[38;5;241m=\u001b[39m \u001b[38;5;28mself\u001b[39m\u001b[38;5;241m.\u001b[39m_get_padding_truncation_strategies(\n\u001b[0;32m   3199\u001b[0m     padding\u001b[38;5;241m=\u001b[39mpadding,\n\u001b[0;32m   3200\u001b[0m     truncation\u001b[38;5;241m=\u001b[39mtruncation,\n\u001b[1;32m   (...)\u001b[0m\n\u001b[0;32m   3204\u001b[0m     \u001b[38;5;241m*\u001b[39m\u001b[38;5;241m*\u001b[39mkwargs,\n\u001b[0;32m   3205\u001b[0m )\n\u001b[1;32m-> 3207\u001b[0m \u001b[38;5;28;01mreturn\u001b[39;00m \u001b[38;5;28;43mself\u001b[39;49m\u001b[38;5;241;43m.\u001b[39;49m\u001b[43m_encode_plus\u001b[49m\u001b[43m(\u001b[49m\n\u001b[0;32m   3208\u001b[0m \u001b[43m    \u001b[49m\u001b[43mtext\u001b[49m\u001b[38;5;241;43m=\u001b[39;49m\u001b[43mtext\u001b[49m\u001b[43m,\u001b[49m\n\u001b[0;32m   3209\u001b[0m \u001b[43m    \u001b[49m\u001b[43mtext_pair\u001b[49m\u001b[38;5;241;43m=\u001b[39;49m\u001b[43mtext_pair\u001b[49m\u001b[43m,\u001b[49m\n\u001b[0;32m   3210\u001b[0m \u001b[43m    \u001b[49m\u001b[43madd_special_tokens\u001b[49m\u001b[38;5;241;43m=\u001b[39;49m\u001b[43madd_special_tokens\u001b[49m\u001b[43m,\u001b[49m\n\u001b[0;32m   3211\u001b[0m \u001b[43m    \u001b[49m\u001b[43mpadding_strategy\u001b[49m\u001b[38;5;241;43m=\u001b[39;49m\u001b[43mpadding_strategy\u001b[49m\u001b[43m,\u001b[49m\n\u001b[0;32m   3212\u001b[0m \u001b[43m    \u001b[49m\u001b[43mtruncation_strategy\u001b[49m\u001b[38;5;241;43m=\u001b[39;49m\u001b[43mtruncation_strategy\u001b[49m\u001b[43m,\u001b[49m\n\u001b[0;32m   3213\u001b[0m \u001b[43m    \u001b[49m\u001b[43mmax_length\u001b[49m\u001b[38;5;241;43m=\u001b[39;49m\u001b[43mmax_length\u001b[49m\u001b[43m,\u001b[49m\n\u001b[0;32m   3214\u001b[0m \u001b[43m    \u001b[49m\u001b[43mstride\u001b[49m\u001b[38;5;241;43m=\u001b[39;49m\u001b[43mstride\u001b[49m\u001b[43m,\u001b[49m\n\u001b[0;32m   3215\u001b[0m \u001b[43m    \u001b[49m\u001b[43mis_split_into_words\u001b[49m\u001b[38;5;241;43m=\u001b[39;49m\u001b[43mis_split_into_words\u001b[49m\u001b[43m,\u001b[49m\n\u001b[0;32m   3216\u001b[0m \u001b[43m    \u001b[49m\u001b[43mpad_to_multiple_of\u001b[49m\u001b[38;5;241;43m=\u001b[39;49m\u001b[43mpad_to_multiple_of\u001b[49m\u001b[43m,\u001b[49m\n\u001b[0;32m   3217\u001b[0m \u001b[43m    \u001b[49m\u001b[43mpadding_side\u001b[49m\u001b[38;5;241;43m=\u001b[39;49m\u001b[43mpadding_side\u001b[49m\u001b[43m,\u001b[49m\n\u001b[0;32m   3218\u001b[0m \u001b[43m    \u001b[49m\u001b[43mreturn_tensors\u001b[49m\u001b[38;5;241;43m=\u001b[39;49m\u001b[43mreturn_tensors\u001b[49m\u001b[43m,\u001b[49m\n\u001b[0;32m   3219\u001b[0m \u001b[43m    \u001b[49m\u001b[43mreturn_token_type_ids\u001b[49m\u001b[38;5;241;43m=\u001b[39;49m\u001b[43mreturn_token_type_ids\u001b[49m\u001b[43m,\u001b[49m\n\u001b[0;32m   3220\u001b[0m \u001b[43m    \u001b[49m\u001b[43mreturn_attention_mask\u001b[49m\u001b[38;5;241;43m=\u001b[39;49m\u001b[43mreturn_attention_mask\u001b[49m\u001b[43m,\u001b[49m\n\u001b[0;32m   3221\u001b[0m \u001b[43m    \u001b[49m\u001b[43mreturn_overflowing_tokens\u001b[49m\u001b[38;5;241;43m=\u001b[39;49m\u001b[43mreturn_overflowing_tokens\u001b[49m\u001b[43m,\u001b[49m\n\u001b[0;32m   3222\u001b[0m \u001b[43m    \u001b[49m\u001b[43mreturn_special_tokens_mask\u001b[49m\u001b[38;5;241;43m=\u001b[39;49m\u001b[43mreturn_special_tokens_mask\u001b[49m\u001b[43m,\u001b[49m\n\u001b[0;32m   3223\u001b[0m \u001b[43m    \u001b[49m\u001b[43mreturn_offsets_mapping\u001b[49m\u001b[38;5;241;43m=\u001b[39;49m\u001b[43mreturn_offsets_mapping\u001b[49m\u001b[43m,\u001b[49m\n\u001b[0;32m   3224\u001b[0m \u001b[43m    \u001b[49m\u001b[43mreturn_length\u001b[49m\u001b[38;5;241;43m=\u001b[39;49m\u001b[43mreturn_length\u001b[49m\u001b[43m,\u001b[49m\n\u001b[0;32m   3225\u001b[0m \u001b[43m    \u001b[49m\u001b[43mverbose\u001b[49m\u001b[38;5;241;43m=\u001b[39;49m\u001b[43mverbose\u001b[49m\u001b[43m,\u001b[49m\n\u001b[0;32m   3226\u001b[0m \u001b[43m    \u001b[49m\u001b[43msplit_special_tokens\u001b[49m\u001b[38;5;241;43m=\u001b[39;49m\u001b[43mkwargs\u001b[49m\u001b[38;5;241;43m.\u001b[39;49m\u001b[43mpop\u001b[49m\u001b[43m(\u001b[49m\u001b[38;5;124;43m\"\u001b[39;49m\u001b[38;5;124;43msplit_special_tokens\u001b[39;49m\u001b[38;5;124;43m\"\u001b[39;49m\u001b[43m,\u001b[49m\u001b[43m \u001b[49m\u001b[38;5;28;43mself\u001b[39;49m\u001b[38;5;241;43m.\u001b[39;49m\u001b[43msplit_special_tokens\u001b[49m\u001b[43m)\u001b[49m\u001b[43m,\u001b[49m\n\u001b[0;32m   3227\u001b[0m \u001b[43m    \u001b[49m\u001b[38;5;241;43m*\u001b[39;49m\u001b[38;5;241;43m*\u001b[39;49m\u001b[43mkwargs\u001b[49m\u001b[43m,\u001b[49m\n\u001b[0;32m   3228\u001b[0m \u001b[43m\u001b[49m\u001b[43m)\u001b[49m\n",
      "File \u001b[1;32mc:\\Users\\pietr\\Documents\\GitHub\\Thesis-CaianiRenContardi\\tesinlp\\Lib\\site-packages\\transformers\\tokenization_utils_fast.py:603\u001b[0m, in \u001b[0;36mPreTrainedTokenizerFast._encode_plus\u001b[1;34m(self, text, text_pair, add_special_tokens, padding_strategy, truncation_strategy, max_length, stride, is_split_into_words, pad_to_multiple_of, padding_side, return_tensors, return_token_type_ids, return_attention_mask, return_overflowing_tokens, return_special_tokens_mask, return_offsets_mapping, return_length, verbose, split_special_tokens, **kwargs)\u001b[0m\n\u001b[0;32m    579\u001b[0m \u001b[38;5;28;01mdef\u001b[39;00m \u001b[38;5;21m_encode_plus\u001b[39m(\n\u001b[0;32m    580\u001b[0m     \u001b[38;5;28mself\u001b[39m,\n\u001b[0;32m    581\u001b[0m     text: Union[TextInput, PreTokenizedInput],\n\u001b[1;32m   (...)\u001b[0m\n\u001b[0;32m    600\u001b[0m     \u001b[38;5;241m*\u001b[39m\u001b[38;5;241m*\u001b[39mkwargs,\n\u001b[0;32m    601\u001b[0m ) \u001b[38;5;241m-\u001b[39m\u001b[38;5;241m>\u001b[39m BatchEncoding:\n\u001b[0;32m    602\u001b[0m     batched_input \u001b[38;5;241m=\u001b[39m [(text, text_pair)] \u001b[38;5;28;01mif\u001b[39;00m text_pair \u001b[38;5;28;01melse\u001b[39;00m [text]\n\u001b[1;32m--> 603\u001b[0m     batched_output \u001b[38;5;241m=\u001b[39m \u001b[38;5;28;43mself\u001b[39;49m\u001b[38;5;241;43m.\u001b[39;49m\u001b[43m_batch_encode_plus\u001b[49m\u001b[43m(\u001b[49m\n\u001b[0;32m    604\u001b[0m \u001b[43m        \u001b[49m\u001b[43mbatched_input\u001b[49m\u001b[43m,\u001b[49m\n\u001b[0;32m    605\u001b[0m \u001b[43m        \u001b[49m\u001b[43mis_split_into_words\u001b[49m\u001b[38;5;241;43m=\u001b[39;49m\u001b[43mis_split_into_words\u001b[49m\u001b[43m,\u001b[49m\n\u001b[0;32m    606\u001b[0m \u001b[43m        \u001b[49m\u001b[43madd_special_tokens\u001b[49m\u001b[38;5;241;43m=\u001b[39;49m\u001b[43madd_special_tokens\u001b[49m\u001b[43m,\u001b[49m\n\u001b[0;32m    607\u001b[0m \u001b[43m        \u001b[49m\u001b[43mpadding_strategy\u001b[49m\u001b[38;5;241;43m=\u001b[39;49m\u001b[43mpadding_strategy\u001b[49m\u001b[43m,\u001b[49m\n\u001b[0;32m    608\u001b[0m \u001b[43m        \u001b[49m\u001b[43mtruncation_strategy\u001b[49m\u001b[38;5;241;43m=\u001b[39;49m\u001b[43mtruncation_strategy\u001b[49m\u001b[43m,\u001b[49m\n\u001b[0;32m    609\u001b[0m \u001b[43m        \u001b[49m\u001b[43mmax_length\u001b[49m\u001b[38;5;241;43m=\u001b[39;49m\u001b[43mmax_length\u001b[49m\u001b[43m,\u001b[49m\n\u001b[0;32m    610\u001b[0m \u001b[43m        \u001b[49m\u001b[43mstride\u001b[49m\u001b[38;5;241;43m=\u001b[39;49m\u001b[43mstride\u001b[49m\u001b[43m,\u001b[49m\n\u001b[0;32m    611\u001b[0m \u001b[43m        \u001b[49m\u001b[43mpad_to_multiple_of\u001b[49m\u001b[38;5;241;43m=\u001b[39;49m\u001b[43mpad_to_multiple_of\u001b[49m\u001b[43m,\u001b[49m\n\u001b[0;32m    612\u001b[0m \u001b[43m        \u001b[49m\u001b[43mpadding_side\u001b[49m\u001b[38;5;241;43m=\u001b[39;49m\u001b[43mpadding_side\u001b[49m\u001b[43m,\u001b[49m\n\u001b[0;32m    613\u001b[0m \u001b[43m        \u001b[49m\u001b[43mreturn_tensors\u001b[49m\u001b[38;5;241;43m=\u001b[39;49m\u001b[43mreturn_tensors\u001b[49m\u001b[43m,\u001b[49m\n\u001b[0;32m    614\u001b[0m \u001b[43m        \u001b[49m\u001b[43mreturn_token_type_ids\u001b[49m\u001b[38;5;241;43m=\u001b[39;49m\u001b[43mreturn_token_type_ids\u001b[49m\u001b[43m,\u001b[49m\n\u001b[0;32m    615\u001b[0m \u001b[43m        \u001b[49m\u001b[43mreturn_attention_mask\u001b[49m\u001b[38;5;241;43m=\u001b[39;49m\u001b[43mreturn_attention_mask\u001b[49m\u001b[43m,\u001b[49m\n\u001b[0;32m    616\u001b[0m \u001b[43m        \u001b[49m\u001b[43mreturn_overflowing_tokens\u001b[49m\u001b[38;5;241;43m=\u001b[39;49m\u001b[43mreturn_overflowing_tokens\u001b[49m\u001b[43m,\u001b[49m\n\u001b[0;32m    617\u001b[0m \u001b[43m        \u001b[49m\u001b[43mreturn_special_tokens_mask\u001b[49m\u001b[38;5;241;43m=\u001b[39;49m\u001b[43mreturn_special_tokens_mask\u001b[49m\u001b[43m,\u001b[49m\n\u001b[0;32m    618\u001b[0m \u001b[43m        \u001b[49m\u001b[43mreturn_offsets_mapping\u001b[49m\u001b[38;5;241;43m=\u001b[39;49m\u001b[43mreturn_offsets_mapping\u001b[49m\u001b[43m,\u001b[49m\n\u001b[0;32m    619\u001b[0m \u001b[43m        \u001b[49m\u001b[43mreturn_length\u001b[49m\u001b[38;5;241;43m=\u001b[39;49m\u001b[43mreturn_length\u001b[49m\u001b[43m,\u001b[49m\n\u001b[0;32m    620\u001b[0m \u001b[43m        \u001b[49m\u001b[43mverbose\u001b[49m\u001b[38;5;241;43m=\u001b[39;49m\u001b[43mverbose\u001b[49m\u001b[43m,\u001b[49m\n\u001b[0;32m    621\u001b[0m \u001b[43m        \u001b[49m\u001b[43msplit_special_tokens\u001b[49m\u001b[38;5;241;43m=\u001b[39;49m\u001b[43msplit_special_tokens\u001b[49m\u001b[43m,\u001b[49m\n\u001b[0;32m    622\u001b[0m \u001b[43m        \u001b[49m\u001b[38;5;241;43m*\u001b[39;49m\u001b[38;5;241;43m*\u001b[39;49m\u001b[43mkwargs\u001b[49m\u001b[43m,\u001b[49m\n\u001b[0;32m    623\u001b[0m \u001b[43m    \u001b[49m\u001b[43m)\u001b[49m\n\u001b[0;32m    625\u001b[0m     \u001b[38;5;66;03m# Return tensor is None, then we can remove the leading batch axis\u001b[39;00m\n\u001b[0;32m    626\u001b[0m     \u001b[38;5;66;03m# Overflowing tokens are returned as a batch of output so we keep them in this case\u001b[39;00m\n\u001b[0;32m    627\u001b[0m     \u001b[38;5;28;01mif\u001b[39;00m return_tensors \u001b[38;5;129;01mis\u001b[39;00m \u001b[38;5;28;01mNone\u001b[39;00m \u001b[38;5;129;01mand\u001b[39;00m \u001b[38;5;129;01mnot\u001b[39;00m return_overflowing_tokens:\n",
      "File \u001b[1;32mc:\\Users\\pietr\\Documents\\GitHub\\Thesis-CaianiRenContardi\\tesinlp\\Lib\\site-packages\\transformers\\tokenization_utils_fast.py:529\u001b[0m, in \u001b[0;36mPreTrainedTokenizerFast._batch_encode_plus\u001b[1;34m(self, batch_text_or_text_pairs, add_special_tokens, padding_strategy, truncation_strategy, max_length, stride, is_split_into_words, pad_to_multiple_of, padding_side, return_tensors, return_token_type_ids, return_attention_mask, return_overflowing_tokens, return_special_tokens_mask, return_offsets_mapping, return_length, verbose, split_special_tokens)\u001b[0m\n\u001b[0;32m    526\u001b[0m \u001b[38;5;28;01mif\u001b[39;00m \u001b[38;5;28mself\u001b[39m\u001b[38;5;241m.\u001b[39m_tokenizer\u001b[38;5;241m.\u001b[39mencode_special_tokens \u001b[38;5;241m!=\u001b[39m split_special_tokens:\n\u001b[0;32m    527\u001b[0m     \u001b[38;5;28mself\u001b[39m\u001b[38;5;241m.\u001b[39m_tokenizer\u001b[38;5;241m.\u001b[39mencode_special_tokens \u001b[38;5;241m=\u001b[39m split_special_tokens\n\u001b[1;32m--> 529\u001b[0m encodings \u001b[38;5;241m=\u001b[39m \u001b[38;5;28;43mself\u001b[39;49m\u001b[38;5;241;43m.\u001b[39;49m\u001b[43m_tokenizer\u001b[49m\u001b[38;5;241;43m.\u001b[39;49m\u001b[43mencode_batch\u001b[49m\u001b[43m(\u001b[49m\n\u001b[0;32m    530\u001b[0m \u001b[43m    \u001b[49m\u001b[43mbatch_text_or_text_pairs\u001b[49m\u001b[43m,\u001b[49m\n\u001b[0;32m    531\u001b[0m \u001b[43m    \u001b[49m\u001b[43madd_special_tokens\u001b[49m\u001b[38;5;241;43m=\u001b[39;49m\u001b[43madd_special_tokens\u001b[49m\u001b[43m,\u001b[49m\n\u001b[0;32m    532\u001b[0m \u001b[43m    \u001b[49m\u001b[43mis_pretokenized\u001b[49m\u001b[38;5;241;43m=\u001b[39;49m\u001b[43mis_split_into_words\u001b[49m\u001b[43m,\u001b[49m\n\u001b[0;32m    533\u001b[0m \u001b[43m\u001b[49m\u001b[43m)\u001b[49m\n\u001b[0;32m    535\u001b[0m \u001b[38;5;66;03m# Convert encoding to dict\u001b[39;00m\n\u001b[0;32m    536\u001b[0m \u001b[38;5;66;03m# `Tokens` has type: Tuple[\u001b[39;00m\n\u001b[0;32m    537\u001b[0m \u001b[38;5;66;03m#                       List[Dict[str, List[List[int]]]] or List[Dict[str, 2D-Tensor]],\u001b[39;00m\n\u001b[0;32m    538\u001b[0m \u001b[38;5;66;03m#                       List[EncodingFast]\u001b[39;00m\n\u001b[0;32m    539\u001b[0m \u001b[38;5;66;03m#                    ]\u001b[39;00m\n\u001b[0;32m    540\u001b[0m \u001b[38;5;66;03m# with nested dimensions corresponding to batch, overflows, sequence length\u001b[39;00m\n\u001b[0;32m    541\u001b[0m tokens_and_encodings \u001b[38;5;241m=\u001b[39m [\n\u001b[0;32m    542\u001b[0m     \u001b[38;5;28mself\u001b[39m\u001b[38;5;241m.\u001b[39m_convert_encoding(\n\u001b[0;32m    543\u001b[0m         encoding\u001b[38;5;241m=\u001b[39mencoding,\n\u001b[1;32m   (...)\u001b[0m\n\u001b[0;32m    552\u001b[0m     \u001b[38;5;28;01mfor\u001b[39;00m encoding \u001b[38;5;129;01min\u001b[39;00m encodings\n\u001b[0;32m    553\u001b[0m ]\n",
      "\u001b[1;31mKeyboardInterrupt\u001b[0m: "
     ]
    }
   ],
   "source": [
    "# count the number of text above 512 tokens\n",
    "from transformers import AutoTokenizer\n",
    "tokenizer = AutoTokenizer.from_pretrained(\"emilyalsentzer/Bio_ClinicalBERT\")\n",
    "\n",
    "def count_tokens(text):\n",
    "    output = tokenizer.tokenize(text)\n",
    "    return len(output)\n",
    "\n",
    "num_tokens = df['FOI_TEXT'].apply(count_tokens)\n",
    "num_tokens[num_tokens > 512].count()"
   ]
  },
  {
   "cell_type": "code",
   "execution_count": 3,
   "metadata": {},
   "outputs": [
    {
     "data": {
      "text/plain": [
       "584279"
      ]
     },
     "execution_count": 3,
     "metadata": {},
     "output_type": "execute_result"
    }
   ],
   "source": [
    "len(df)"
   ]
  },
  {
   "cell_type": "code",
   "execution_count": 4,
   "metadata": {},
   "outputs": [],
   "source": [
    "unlabelled = df[(df['PROBLEM_CODE'].isna()) | (df['IMDRF'].isna())]\n",
    "df.drop(unlabelled.index, inplace=True)\n",
    "df.drop_duplicates(inplace=True)\n",
    "df.drop(columns=['PROBLEM_CODE'], inplace=True)"
   ]
  },
  {
   "cell_type": "code",
   "execution_count": 5,
   "metadata": {},
   "outputs": [],
   "source": [
    "from util.preprocessor import TextPreprocessor\n",
    "\n",
    "preprocessor = TextPreprocessor()"
   ]
  },
  {
   "cell_type": "code",
   "execution_count": 7,
   "metadata": {},
   "outputs": [],
   "source": [
    "df['FOI_TEXT'] = df['FOI_TEXT'].str.lower()\n",
    "df['Cleaned'] = df['FOI_TEXT'].apply(preprocessor.clean_text)\n",
    "df['NoPunctuation'] = df['Cleaned'].apply(preprocessor.remove_punct)"
   ]
  },
  {
   "cell_type": "code",
   "execution_count": 8,
   "metadata": {},
   "outputs": [],
   "source": [
    "uni10 = pd.read_csv('ngrams/uni10.csv')\n",
    "uni20 = pd.read_csv('ngrams/uni20.csv')\n",
    "uni30 = pd.read_csv('ngrams/uni30.csv')\n",
    "\n",
    "list10 = uni10['word'].tolist()\n",
    "list20 = uni20['word'].tolist()\n",
    "list30 = uni30['word'].tolist()"
   ]
  },
  {
   "cell_type": "code",
   "execution_count": 9,
   "metadata": {},
   "outputs": [],
   "source": [
    "df['NoStop10'] = df['Cleaned'].apply(lambda text: preprocessor.remove_stopwords(text=text, stoplist=list10))\n",
    "df['NoStop20'] = df['Cleaned'].apply(lambda text: preprocessor.remove_stopwords(text=text, stoplist=list20))\n",
    "df['NoStop30'] = df['Cleaned'].apply(lambda text: preprocessor.remove_stopwords(text=text, stoplist=list30))"
   ]
  },
  {
   "cell_type": "code",
   "execution_count": 10,
   "metadata": {},
   "outputs": [],
   "source": [
    "df['IMDRF'] = df['IMDRF'].apply(preprocessor.remredclass)\n",
    "df['CatOneIMDRF'], df['CatTwoIMDRF'] = zip(*df['IMDRF'].apply(preprocessor.extract_category))"
   ]
  },
  {
   "cell_type": "code",
   "execution_count": 11,
   "metadata": {},
   "outputs": [
    {
     "data": {
      "application/vnd.microsoft.datawrangler.viewer.v0+json": {
       "columns": [
        {
         "name": "index",
         "rawType": "int64",
         "type": "integer"
        },
        {
         "name": "FOI_TEXT",
         "rawType": "object",
         "type": "string"
        },
        {
         "name": "IMDRF",
         "rawType": "object",
         "type": "string"
        },
        {
         "name": "Cleaned",
         "rawType": "object",
         "type": "string"
        },
        {
         "name": "NoPunctuation",
         "rawType": "object",
         "type": "string"
        },
        {
         "name": "NoStop10",
         "rawType": "object",
         "type": "string"
        },
        {
         "name": "NoStop20",
         "rawType": "object",
         "type": "string"
        },
        {
         "name": "NoStop30",
         "rawType": "object",
         "type": "string"
        },
        {
         "name": "CatOneIMDRF",
         "rawType": "object",
         "type": "string"
        },
        {
         "name": "CatTwoIMDRF",
         "rawType": "object",
         "type": "string"
        }
       ],
       "conversionMethod": "pd.DataFrame",
       "ref": "49f7d13a-2654-47c0-ab46-0a0be46f2964",
       "rows": [
        [
         "432108",
         "it was reported that during implant the�right atrial (ra) lead exhibited poor thresholds and sensing values. the ra lead was attempted/not used and replaced.�no patient complications have been reported as a result of this event.",
         "A0701",
         "it was reported that during implant the right atrial lead exhibited poor thresholds and sensing values. the ra lead was attempted/not used and replaced. no patient complications have been reported as a result of this event.",
         "it was reported that during implant the right atrial lead exhibited poor thresholds and sensing values the ra lead was attemptednot used and replaced no patient complications have been reported as a result of this event",
         "it was that during implant the exhibited poor thresholds and sensing values. the ra was attempted/not used and replaced. no have been as a of this event.",
         "it was that during implant the poor thresholds and sensing values. the ra was attempted/not used and replaced. no have been as a of this event.",
         "it was that during implant the poor thresholds and sensing values. the was attempted/not used and replaced. no have been as a of this event.",
         "A07",
         "A0701"
        ],
        [
         "145991",
         "it was reported that the patient presented to the hospital for an evaluation for a knee surgery clearance. upon interrogating the pulse generator, there were alerts for right ventricular lead impedance below lower limit with the most recent lead impedance at 260 ohms. the right ventricular lead also had stored episodes of noise reversion and high ventricular rate which appeared to be lead noise. in addition, the atrial lead had episodes of inappropriate auto mode switch due to lead noise. the pulse generator was already programmed to vdd where it was noted that the atrial lead previously had poor sensing and intermittent capture. the physician reprogrammed the leads prior to and after the procedure to accommodate for the anomalies. the physician stated that the patient did not appear to require right ventricular pacing. the ventricular lead was then programmed to 6.0 v output and sensing was changed to auto. it was noted that the lead was tested with uni-polar tip and ring sensing and pacing with no successful sensing or capture without stimulation of the pocket. the patient was in stable condition and no other changes were made. related manufacturer reference number: 2017865-2020-06900.",
         "A090801",
         "it was reported that the patient presented to the hospital for an evaluation for a knee surgery clearance. upon interrogating the pulse generator, there were alerts for right ventricular lead impedance below lower limit with the most recent lead impedance at ohms. the right ventricular lead also had stored episodes of noise reversion and high ventricular rate which appeared to be lead noise. in addition, the atrial lead had episodes of inappropriate auto mode switch due to lead noise. the pulse generator was already programmed to vdd where it was noted that the atrial lead previously had poor sensing and intermittent capture. the physician reprogrammed the leads prior to and after the procedure to accommodate for the anomalies. the physician stated that the patient did not appear to require right ventricular pacing. the ventricular lead was then programmed to . v output and sensing was changed to auto. it was noted that the lead was tested with uni-polar tip and ring sensing and pacing with no successful sensing or capture without stimulation of the pocket. the patient was in stable condition and no other changes were made. related manufacturer reference number: --.",
         "it was reported that the patient presented to the hospital for an evaluation for a knee surgery clearance upon interrogating the pulse generator there were alerts for right ventricular lead impedance below lower limit with the most recent lead impedance at ohms the right ventricular lead also had stored episodes of noise reversion and high ventricular rate which appeared to be lead noise in addition the atrial lead had episodes of inappropriate auto mode switch due to lead noise the pulse generator was already programmed to vdd where it was noted that the atrial lead previously had poor sensing and intermittent capture the physician reprogrammed the leads prior to and after the procedure to accommodate for the anomalies the physician stated that the patient did not appear to require right ventricular pacing the ventricular lead was then programmed to  v output and sensing was changed to auto it was noted that the lead was tested with unipolar tip and ring sensing and pacing with no successful sensing or capture without stimulation of the pocket the patient was in stable condition and no other changes were made related manufacturer reference number",
         "it was that the presented to the hospital for an evaluation for a knee surgery clearance. upon interrogating the pulse generator, there were alerts for impedance below lower limit with the most recent impedance at ohms. the also had stored episodes of noise reversion and high rate which appeared to be noise. in addition, the had episodes of inappropriate auto mode switch due to noise. the pulse generator was already programmed to vdd where it was noted that the previously had poor sensing and intermittent capture. the physician reprogrammed the leads prior to and after the procedure to accommodate for the anomalies. the physician stated that the did not appear to require pacing. the was then programmed to . v output and sensing was changed to auto. it was noted that the was tested with uni-polar tip and ring sensing and pacing with no successful sensing or capture without stimulation of the pocket. the was in stable condition and no other changes were made. related manufacturer reference number: --.",
         "it was that the presented to the hospital for an evaluation for a knee surgery clearance. upon interrogating the pulse generator, there were alerts for below lower limit with the most recent at ohms. the also had stored episodes of noise reversion and rate which appeared to be noise. in addition, the had episodes of inappropriate auto mode switch due to noise. the pulse generator was already programmed to vdd where it was that the previously had poor sensing and intermittent capture. the physician reprogrammed the leads prior to and after the procedure to accommodate for the anomalies. the physician stated that the did not appear to require pacing. the was then programmed to . v output and sensing was changed to auto. it was that the was tested with uni-polar tip and ring sensing and with no successful sensing or capture without stimulation of the pocket. the was in stable condition and no other changes were made. related manufacturer reference number: --.",
         "it was that the presented to the hospital for an evaluation for a knee surgery clearance. upon interrogating the pulse generator, there were alerts for below lower limit with the most recent at ohms. the also had stored episodes of reversion and rate which appeared to be noise. in addition, the had episodes of inappropriate auto mode switch to noise. the pulse generator was already programmed to vdd where it was that the previously had poor sensing and intermittent capture. the physician reprogrammed the leads prior to and after the to accommodate for the anomalies. the physician stated that the did not appear to require pacing. the was then programmed to . v output and sensing was changed to auto. it was that the was tested with uni-polar tip and ring sensing and with no successful sensing or without stimulation of the pocket. the was in condition and no other changes were made. related manufacturer reference number: --.",
         "A09",
         "A0908"
        ],
        [
         "259118",
         "it was reported that this pacemaker system triggered a lead safety switch (lss) due to a high out of range right atrial (ra) pacing impedance measurement of greater than 3000 ohms. additionally, the patient was seen in-clinic and noise was reproducible with provocative maneuvers. chest x-ray images were provided to boston scientific technical services for review and did not reveal any anomaly. the device was reprogrammed. this pacemaker and ra lead remains in service, and there were no adverse patient effects reported.",
         "A072201",
         "it was reported that this pacemaker system triggered a lead safety switch due to a high out of range right atrial pacing impedance measurement of greater than ohms. additionally, the patient was seen in-clinic and noise was reproducible with provocative maneuvers. chest x-ray images were provided to boston scientific technical services for review and did not reveal any anomaly. the device was reprogrammed. this pacemaker and ra lead remains in service, and there were no adverse patient effects reported.",
         "it was reported that this pacemaker system triggered a lead safety switch due to a high out of range right atrial pacing impedance measurement of greater than ohms additionally the patient was seen inclinic and noise was reproducible with provocative maneuvers chest xray images were provided to boston scientific technical services for review and did not reveal any anomaly the device was reprogrammed this pacemaker and ra lead remains in service and there were no adverse patient effects reported",
         "it was that this pacemaker system triggered a safety switch due to a high out of range pacing impedance measurement of greater than ohms. additionally, the was seen in-clinic and noise was reproducible with provocative maneuvers. chest x-ray images were provided to boston scientific technical services for review and did not reveal any anomaly. the was reprogrammed. this pacemaker and ra remains in service, and there were no adverse effects reported.",
         "it was that this pacemaker system triggered a safety switch due to a out of range measurement of greater than ohms. additionally, the was seen in-clinic and noise was reproducible with provocative maneuvers. chest x-ray images were provided to boston scientific technical services for review and did not reveal any anomaly. the was reprogrammed. this pacemaker and ra remains in service, and there were no reported.",
         "it was that this system triggered a safety switch to a out of range measurement of greater than ohms. additionally, the was seen in-clinic and was reproducible with provocative maneuvers. chest x-ray images were provided to boston scientific technical services for review and did not reveal any anomaly. the was reprogrammed. this and in service, and there were no reported.",
         "A07",
         "A0722"
        ],
        [
         "502603",
         "related manufacturer report number: 2017865-2023-36013. it was reported during in clinic follow up that the right ventricular and atrial leads were exhibiting noise. on the former, this noise resulted in oversensing and ventricular pacing inhibition. the patient was reportedly symptomatic to the inhibition, but the exact symptoms exhibited were unknown. during revision procedure, insulation breach was noted on both leads. both leads were explanted and successfully replaced. the patient was stable following the operation.",
         "A070909",
         "related manufacturer report number: --. it was reported during in clinic follow up that the right ventricular and atrial leads were exhibiting noise. on the former, this noise resulted in oversensing and ventricular pacing inhibition. the patient was reportedly symptomatic to the inhibition, but the exact symptoms exhibited were unknown. during revision procedure, insulation breach was noted on both leads. both leads were explanted and successfully replaced. the patient was stable following the operation.",
         "related manufacturer report number  it was reported during in clinic follow up that the right ventricular and atrial leads were exhibiting noise on the former this noise resulted in oversensing and ventricular pacing inhibition the patient was reportedly symptomatic to the inhibition but the exact symptoms exhibited were unknown during revision procedure insulation breach was noted on both leads both leads were explanted and successfully replaced the patient was stable following the operation",
         "related manufacturer report number: --. it was during in clinic follow up that the and leads were exhibiting noise. on the former, this noise resulted in oversensing and pacing inhibition. the was reportedly symptomatic to the inhibition, but the exact symptoms exhibited were unknown. during revision procedure, insulation breach was noted on both leads. both leads were explanted and successfully replaced. the was stable following the operation.",
         "related manufacturer report number: --. it was during in clinic follow up that the and leads were exhibiting noise. on the former, this noise resulted in oversensing and inhibition. the was reportedly symptomatic to the inhibition, but the exact symptoms were unknown. during revision procedure, insulation breach was on both leads. both leads were and successfully replaced. the was stable following the operation.",
         "related manufacturer report number: --. it was during in clinic follow up that the and leads were exhibiting noise. on the former, this resulted in oversensing and inhibition. the was reportedly symptomatic to the inhibition, but the exact symptoms were unknown. during revision procedure, insulation breach was on both leads. both leads were and successfully replaced. the was following the operation.",
         "A07",
         "A0709"
        ],
        [
         "173353",
         "it was reported that a patient presented in a post operation check with an atrial lead that exhibited a decrease in sensing amplitude and loss of capture. the lead was repositioned on (b)(6) 2020. values were acceptable post reposition. the patient was doing fine, was recovering, and was scheduled to be discharged.",
         "A070101",
         "it was reported that a patient presented in a post operation check with an atrial lead that exhibited a decrease in sensing amplitude and loss of capture. the lead was repositioned on . values were acceptable post reposition. the patient was doing fine, was recovering, and was scheduled to be discharged.",
         "it was reported that a patient presented in a post operation check with an atrial lead that exhibited a decrease in sensing amplitude and loss of capture the lead was repositioned on  values were acceptable post reposition the patient was doing fine was recovering and was scheduled to be discharged",
         "it was that a presented in a post operation check with an that exhibited a decrease in sensing amplitude and loss of capture. the was repositioned on . values were acceptable post reposition. the was doing fine, was recovering, and was scheduled to be discharged.",
         "it was that a presented in a post operation check with an that a decrease in sensing amplitude and loss of capture. the was repositioned on . values were acceptable post reposition. the was doing fine, was recovering, and was scheduled to be discharged.",
         "it was that a presented in a post operation check with an that a decrease in sensing amplitude and loss of capture. the was repositioned on . values were acceptable post reposition. the was doing fine, was recovering, and was scheduled to be discharged.",
         "A07",
         "A0701"
        ],
        [
         "571440",
         "it was reported that a physician contacted boston scientific technical services (ts) explaining that they had scheduled a replacement procedure for this pacemaker as the device has been implanted for over ten years and because at the last follow up, the estimated remaining battery longevity was only six months, but the day of the procedure, the device was interrogated, and they noticed the battery longevity had increased to three years. no changes to programming had been done from the previous follow up, and pacing percentage and leads outputs were consistent. a request was made to have data from this device analyzed, but technical services (ts) indicated that the current uploaded device data was insufficient for a battery analysis and requested to provide updated raw data. at this time, no further information is available. no adverse patient effects were reported. the device remains in service. additional information was received. updated data was transmitted from the device. ts performed a battery analysis and confirmed there is no evidence of premature battery depletion (pbd). the battery of this device is depleting normally, there are no abnormal faults or resets, and the power consumption is stable and within expectations based on programming and therapy delivery. no adverse patient effects were reported. the device remains in service.",
         "A0705",
         "it was reported that a physician contacted boston scientific technical services explaining that they had scheduled a replacement procedure for this pacemaker as the device has been implanted for over ten years and because at the last follow up, the estimated remaining battery longevity was only six months, but the day of the procedure, the device was interrogated, and they noticed the battery longevity had increased to three years. no changes to programming had been done from the previous follow up, and pacing percentage and leads outputs were consistent. a request was made to have data from this device analyzed, but technical services indicated that the current uploaded device data was insufficient for a battery analysis and requested to provide updated raw data. at this time, no further information is available. no adverse patient effects were reported. the device remains in service. additional information was received. updated data was transmitted from the device. ts performed a battery analysis and confirmed there is no evidence of premature battery depletion . the battery of this device is depleting normally, there are no abnormal faults or resets, and the power consumption is stable and within expectations based on programming and therapy delivery. no adverse patient effects were reported. the device remains in service.",
         "it was reported that a physician contacted boston scientific technical services explaining that they had scheduled a replacement procedure for this pacemaker as the device has been implanted for over ten years and because at the last follow up the estimated remaining battery longevity was only six months but the day of the procedure the device was interrogated and they noticed the battery longevity had increased to three years no changes to programming had been done from the previous follow up and pacing percentage and leads outputs were consistent a request was made to have data from this device analyzed but technical services indicated that the current uploaded device data was insufficient for a battery analysis and requested to provide updated raw data at this time no further information is available no adverse patient effects were reported the device remains in service additional information was received updated data was transmitted from the device ts performed a battery analysis and confirmed there is no evidence of premature battery depletion  the battery of this device is depleting normally there are no abnormal faults or resets and the power consumption is stable and within expectations based on programming and therapy delivery no adverse patient effects were reported the device remains in service",
         "it was that a physician contacted boston scientific technical services explaining that they had scheduled a replacement procedure for this pacemaker as the has been implanted for over ten years and because at the last follow up, the estimated remaining battery longevity was only six months, but the day of the procedure, the was interrogated, and they noticed the battery longevity had increased to three years. no changes to programming had been done from the previous follow up, and pacing percentage and leads outputs were consistent. a request was made to have data from this analyzed, but technical services indicated that the current uploaded data was insufficient for a battery analysis and requested to provide updated raw data. at this time, no further information is available. no adverse effects were reported. the remains in service. additional information was received. updated data was transmitted from the device. ts performed a battery analysis and confirmed there is no evidence of premature battery depletion . the battery of this is depleting normally, there are no abnormal faults or resets, and the power consumption is stable and within expectations based on programming and therapy delivery. no adverse effects were reported. the remains in service.",
         "it was that a physician contacted boston scientific technical services explaining that they had scheduled a replacement procedure for this pacemaker as the has been implanted for over ten years and because at the last follow up, the estimated remaining battery longevity was only six months, but the day of the procedure, the was interrogated, and they noticed the battery longevity had increased to three years. no changes to programming had been done from the previous follow up, and percentage and leads outputs were consistent. a request was made to have data from this analyzed, but technical services indicated that the current uploaded data was insufficient for a battery analysis and requested to provide updated raw data. at this time, no further information is available. no were reported. the remains in service. information was received. updated data was transmitted from the device. ts performed a battery analysis and confirmed there is no evidence of premature battery depletion . the battery of this is depleting normally, there are no abnormal faults or resets, and the power consumption is stable and within expectations based on programming and therapy delivery. no were reported. the remains in service.",
         "it was that a physician contacted boston scientific technical services explaining that they had scheduled a replacement for this as the has been implanted for over ten years and because at the last follow up, the estimated remaining battery longevity was only six months, but the day of the procedure, the was interrogated, and they noticed the battery longevity had increased to three years. no changes to programming had been done from the previous follow up, and percentage and leads outputs were consistent. a request was made to have data from this analyzed, but technical services indicated that the current uploaded data was insufficient for a battery analysis and requested to provide updated raw data. at this time, no further information is available. no were reported. the in service. information was received. updated data was transmitted from the device. ts performed a battery analysis and confirmed there is no evidence of premature battery depletion . the battery of this is depleting normally, there are no abnormal faults or resets, and the power consumption is and within expectations based on programming and therapy delivery. no were reported. the in service.",
         "A07",
         "A0705"
        ],
        [
         "312318",
         "it was reported that this right atrial (ra) lead was capped and abandoned due to a complete fracture just below the suture sleeve. the fracture was identified by a complete lack of measurements. it was successfully replaced with a new lead. no additional adverse patient effects were reported.",
         "A0722",
         "it was reported that this right atrial lead was capped and abandoned due to a complete fracture just below the suture sleeve. the fracture was identified by a complete lack of measurements. it was successfully replaced with a new lead. no additional adverse patient effects were reported.",
         "it was reported that this right atrial lead was capped and abandoned due to a complete fracture just below the suture sleeve the fracture was identified by a complete lack of measurements it was successfully replaced with a new lead no additional adverse patient effects were reported",
         "it was that this was capped and abandoned due to a complete fracture just below the suture sleeve. the fracture was identified by a complete lack of measurements. it was successfully replaced with a new lead. no additional adverse effects were reported.",
         "it was that this was capped and abandoned due to a complete fracture just below the suture sleeve. the fracture was identified by a complete lack of measurements. it was successfully with a new lead. no were reported.",
         "it was that this was capped and abandoned to a complete fracture just below the suture sleeve. the fracture was identified by a complete lack of measurements. it was successfully with a new lead. no were reported.",
         "A07",
         "A0722"
        ],
        [
         "198374",
         "it was reported that the right ventricular (rv) lead exhibited undersensed beats and fluctuating r waves. the rv lead was reprogrammed and remains in use. no patient complications have been reported as a result of this event.",
         "A0709",
         "it was reported that the right ventricular lead exhibited undersensed beats and fluctuating r waves. the rv lead was reprogrammed and remains in use. no patient complications have been reported as a result of this event.",
         "it was reported that the right ventricular lead exhibited undersensed beats and fluctuating r waves the rv lead was reprogrammed and remains in use no patient complications have been reported as a result of this event",
         "it was that the exhibited undersensed beats and fluctuating r waves. the rv was reprogrammed and remains in use. no have been as a of this event.",
         "it was that the undersensed beats and fluctuating r waves. the rv was reprogrammed and remains in use. no have been as a of this event.",
         "it was that the undersensed beats and fluctuating r waves. the was reprogrammed and in use. no have been as a of this event.",
         "A07",
         "A0709"
        ],
        [
         "158201",
         "it was reported when the external pulse generator (epg) was turned on there was no sensing. the epg does not turn off with dead batteries, it stays on but it does not stimulate. the batteries were charged and the cable works with another epg. the epg returned for service. there was no patient involvement.",
         "A0907",
         "it was reported when the external pulse generator was turned on there was no sensing. the epg does not turn off with dead batteries, it stays on but it does not stimulate. the batteries were charged and the cable works with another epg. the epg returned for service. there was no patient involvement.",
         "it was reported when the external pulse generator was turned on there was no sensing the epg does not turn off with dead batteries it stays on but it does not stimulate the batteries were charged and the cable works with another epg the epg returned for service there was no patient involvement",
         "it was when the external pulse generator was turned on there was no sensing. the epg does not turn off with dead batteries, it stays on but it does not stimulate. the batteries were charged and the cable works with another epg. the epg returned for service. there was no involvement.",
         "it was when the external pulse generator was turned on there was no sensing. the epg does not turn off with dead batteries, it stays on but it does not stimulate. the batteries were charged and the cable works with another epg. the epg returned for service. there was no involvement.",
         "it was when the external pulse generator was turned on there was no sensing. the epg does not turn off with dead batteries, it stays on but it does not stimulate. the batteries were charged and the cable works with another epg. the epg returned for service. there was no involvement.",
         "A09",
         "A0907"
        ],
        [
         "361821",
         "reportedly, during a follow-up performed on (b)(6) 2022, it was impossible to print a report when clicking on the print button on the top of the screen of the programmer.",
         "A09",
         "reportedly, during a follow-up performed on , it was impossible to print a report when clicking on the print button on the top of the screen of the programmer.",
         "reportedly during a followup performed on  it was impossible to print a report when clicking on the print button on the top of the screen of the programmer",
         "reportedly, during a follow-up performed on , it was impossible to print a report when clicking on the print button on the top of the screen of the programmer.",
         "reportedly, during a follow-up performed on , it was impossible to print a report when clicking on the print button on the top of the screen of the programmer.",
         "reportedly, during a follow-up performed on , it was impossible to print a report when clicking on the print button on the top of the screen of the programmer.",
         "A09",
         ""
        ],
        [
         "17015",
         "during follow-up, it was reported that the patient had pectoral muscle stimulation. loss of capture was observed on the right ventricular (rv) lead. diagnostic imaging was performed and revealed that the rv, atrial, and left ventricular (lv) leads were dislodged. no intervention was performed; the device and leads were deactivated to resolve the event. the patient was in stable condition and there were no adverse consequences. related manufacturer reference number: 2938836-2019-01420, 2017865-2019-03003.",
         "A051201",
         "during follow-up, it was reported that the patient had pectoral muscle stimulation. loss of capture was observed on the right ventricular lead. diagnostic imaging was performed and revealed that the rv, atrial, and left ventricular leads were dislodged. no intervention was performed; the device and leads were deactivated to resolve the event. the patient was in stable condition and there were no adverse consequences. related manufacturer reference number: --, --.",
         "during followup it was reported that the patient had pectoral muscle stimulation loss of capture was observed on the right ventricular lead diagnostic imaging was performed and revealed that the rv atrial and left ventricular leads were dislodged no intervention was performed the device and leads were deactivated to resolve the event the patient was in stable condition and there were no adverse consequences related manufacturer reference number",
         "during follow-up, it was that the had pectoral muscle stimulation. loss of capture was observed on the lead. diagnostic imaging was performed and revealed that the rv, atrial, and left leads were dislodged. no intervention was performed; the and leads were deactivated to resolve the event. the was in stable condition and there were no adverse consequences. related manufacturer reference number: --, --.",
         "during follow-up, it was that the had pectoral muscle stimulation. loss of capture was observed on the lead. diagnostic imaging was performed and revealed that the rv, atrial, and left leads were dislodged. no intervention was performed; the and leads were deactivated to resolve the event. the was in stable condition and there were no consequences. related manufacturer reference number: --, --.",
         "during follow-up, it was that the had pectoral muscle stimulation. loss of was observed on the lead. diagnostic imaging was performed and revealed that the rv, atrial, and left leads were dislodged. no intervention was performed; the and leads were deactivated to resolve the event. the was in condition and there were no consequences. related manufacturer reference number: --, --.",
         "A05",
         "A0512"
        ],
        [
         "158743",
         "the device was returned and analyzed.",
         "A0908",
         "the device was returned and analyzed.",
         "the device was returned and analyzed",
         "the was returned and analyzed.",
         "the was returned and analyzed.",
         "the was returned and analyzed.",
         "A09",
         "A0908"
        ],
        [
         "46007",
         "it was further reported that the right ventricular (rv) lead was removed and replaced.",
         "A072201",
         "it was further reported that the right ventricular lead was removed and replaced.",
         "it was further reported that the right ventricular lead was removed and replaced",
         "it was further that the was removed and replaced.",
         "it was further that the was removed and replaced.",
         "it was further that the was removed and replaced.",
         "A07",
         "A0722"
        ],
        [
         "311377",
         "it was reported that this implantable cardioverter defibrillator device recorded a code 1003 indicative of battery voltage too low for the projected remaining capacity. data analysis showed the battery appeared to be depleting more quickly than expected. device replacement was recommended. this device remains in service. no further adverse patient effects were reported.",
         "A070504",
         "it was reported that this implantable cardioverter defibrillator device recorded a code indicative of battery voltage too low for the projected remaining capacity. data analysis showed the battery appeared to be depleting more quickly than expected. device replacement was recommended. this device remains in service. no further adverse patient effects were reported.",
         "it was reported that this implantable cardioverter defibrillator device recorded a code indicative of battery voltage too low for the projected remaining capacity data analysis showed the battery appeared to be depleting more quickly than expected device replacement was recommended this device remains in service no further adverse patient effects were reported",
         "it was that this implantable cardioverter defibrillator recorded a code indicative of battery voltage too low for the projected remaining capacity. data analysis showed the battery appeared to be depleting more quickly than expected. replacement was recommended. this remains in service. no further adverse effects were reported.",
         "it was that this implantable cardioverter defibrillator recorded a code indicative of battery voltage too low for the projected remaining capacity. data analysis showed the battery appeared to be depleting more quickly than expected. replacement was recommended. this remains in service. no further were reported.",
         "it was that this implantable cardioverter defibrillator recorded a code indicative of battery voltage too low for the projected remaining capacity. data analysis showed the battery appeared to be depleting more quickly than expected. replacement was recommended. this in service. no further were reported.",
         "A07",
         "A0705"
        ],
        [
         "183255",
         "it was reported that the patient presented for an atrial lead replacement, since the atrial lead had increasing thresholds over time with eventual loss of capture, and the p-waves were routinely being undersensed. when the pocket was opened during the procedure, it was noted that the insulation was no longer holding the lead together it was first believed that the breach was under the suture sleeve, but the electrophysiologist later looked at the x-ray and felt that the insulation break was caused by subclavian crush. the lead was explanted and replaced, and the patient was in good condition throughout.",
         "A070910",
         "it was reported that the patient presented for an atrial lead replacement, since the atrial lead had increasing thresholds over time with eventual loss of capture, and the p-waves were routinely being undersensed. when the pocket was opened during the procedure, it was noted that the insulation was no longer holding the lead together it was first believed that the breach was under the suture sleeve, but the electrophysiologist later looked at the x-ray and felt that the insulation break was caused by subclavian crush. the lead was explanted and replaced, and the patient was in good condition throughout.",
         "it was reported that the patient presented for an atrial lead replacement since the atrial lead had increasing thresholds over time with eventual loss of capture and the pwaves were routinely being undersensed when the pocket was opened during the procedure it was noted that the insulation was no longer holding the lead together it was first believed that the breach was under the suture sleeve but the electrophysiologist later looked at the xray and felt that the insulation break was caused by subclavian crush the lead was explanted and replaced and the patient was in good condition throughout",
         "it was that the presented for an replacement, since the had increasing thresholds over time with eventual loss of capture, and the p-waves were routinely being undersensed. when the pocket was opened during the procedure, it was noted that the insulation was no longer holding the together it was first believed that the breach was under the suture sleeve, but the electrophysiologist later looked at the x-ray and felt that the insulation break was caused by subclavian crush. the was explanted and replaced, and the was in good condition throughout.",
         "it was that the presented for an replacement, since the had increasing thresholds over time with eventual loss of capture, and the p-waves were routinely being undersensed. when the pocket was opened during the procedure, it was that the insulation was no longer holding the together it was first believed that the breach was under the suture sleeve, but the electrophysiologist later looked at the x-ray and felt that the insulation break was caused by subclavian crush. the was and replaced, and the was in good condition throughout.",
         "it was that the presented for an replacement, since the had increasing thresholds over time with eventual loss of capture, and the p-waves were routinely being undersensed. when the pocket was opened during the procedure, it was that the insulation was no longer holding the together it was first believed that the breach was under the suture sleeve, but the electrophysiologist later looked at the x-ray and felt that the insulation break was caused by subclavian crush. the was and replaced, and the was in good condition throughout.",
         "A07",
         "A0709"
        ],
        [
         "63011",
         "it was reported that during the implant procedure of the right ventricular (rv) lead, the helix was blocked. the lead was removed and replaced. no patient complications have been reported as a result of this event.",
         "A04",
         "it was reported that during the implant procedure of the right ventricular lead, the helix was blocked. the lead was removed and replaced. no patient complications have been reported as a result of this event.",
         "it was reported that during the implant procedure of the right ventricular lead the helix was blocked the lead was removed and replaced no patient complications have been reported as a result of this event",
         "it was that during the implant procedure of the lead, the helix was blocked. the was removed and replaced. no have been as a of this event.",
         "it was that during the implant procedure of the lead, the helix was blocked. the was removed and replaced. no have been as a of this event.",
         "it was that during the implant of the lead, the helix was blocked. the was removed and replaced. no have been as a of this event.",
         "A04",
         ""
        ],
        [
         "454756",
         "it was reported that a warning was triggered due to a low� left ventricular (lv) lead impedance measurement. the lv lead remains in use.�no patient complications have been reported as a result of this event.",
         "A072202",
         "it was reported that a warning was triggered due to a low left ventricular lead impedance measurement. the lv lead remains in use. no patient complications have been reported as a result of this event.",
         "it was reported that a warning was triggered due to a low left ventricular lead impedance measurement the lv lead remains in use no patient complications have been reported as a result of this event",
         "it was that a warning was triggered due to a low left impedance measurement. the lv remains in use. no have been as a of this event.",
         "it was that a warning was triggered due to a low left measurement. the lv remains in use. no have been as a of this event.",
         "it was that a warning was triggered to a low left measurement. the lv in use. no have been as a of this event.",
         "A07",
         "A0722"
        ],
        [
         "278462",
         "it was reported that right atrial (ra) lead undersensing was noted on stored atrial tachycardia/atrial fibrillation (at/af) events. failure to capture from the cardiac resynchronization therapy defibrillator (crt-d) was also noted via telemetry monitor. the ra lead and device remain in use. no patient complications have been reported as a result of this event.",
         "A070910",
         "it was reported that right atrial lead undersensing was noted on stored atrial tachycardia/atrial fibrillation events. failure to capture from the cardiac resynchronization therapy defibrillator was also noted via telemetry monitor. the ra lead and device remain in use. no patient complications have been reported as a result of this event.",
         "it was reported that right atrial lead undersensing was noted on stored atrial tachycardiaatrial fibrillation events failure to capture from the cardiac resynchronization therapy defibrillator was also noted via telemetry monitor the ra lead and device remain in use no patient complications have been reported as a result of this event",
         "it was that undersensing was noted on stored tachycardia/atrial fibrillation events. failure to capture from the cardiac resynchronization therapy defibrillator was also noted via telemetry monitor. the ra and remain in use. no have been as a of this event.",
         "it was that undersensing was on stored tachycardia/atrial fibrillation events. failure to capture from the cardiac resynchronization therapy defibrillator was also via telemetry monitor. the ra and remain in use. no have been as a of this event.",
         "it was that undersensing was on stored tachycardia/atrial fibrillation events. failure to from the cardiac resynchronization therapy defibrillator was also via telemetry monitor. the and remain in use. no have been as a of this event.",
         "A07",
         "A0709"
        ],
        [
         "557384",
         "it was reported that during implant, the�right atrial (ra) lead exhibited high thresholds and low sensing. the lead was attempted/not used and replaced.�no patient complications have been reported as a result of this event.",
         "A070901",
         "it was reported that during implant, the right atrial lead exhibited high thresholds and low sensing. the lead was attempted/not used and replaced. no patient complications have been reported as a result of this event.",
         "it was reported that during implant the right atrial lead exhibited high thresholds and low sensing the lead was attemptednot used and replaced no patient complications have been reported as a result of this event",
         "it was that during implant, the exhibited high thresholds and low sensing. the was attempted/not used and replaced. no have been as a of this event.",
         "it was that during implant, the thresholds and low sensing. the was attempted/not used and replaced. no have been as a of this event.",
         "it was that during implant, the thresholds and low sensing. the was attempted/not used and replaced. no have been as a of this event.",
         "A07",
         "A0709"
        ],
        [
         "8647",
         "it was reported that an asymptomatic patient presented in clinic. device interrogation of the pacemaker revealed a discrepancy of heart rhythm. the episode of antitachycardia in remote transmission was longer than the episode shown during in clinic check. physician stated that this discrepancy made decisions about anticoagulation needs unnecessarily difficult.",
         "A1107",
         "it was reported that an asymptomatic patient presented in clinic. device interrogation of the pacemaker revealed a discrepancy of heart rhythm. the episode of antitachycardia in remote transmission was longer than the episode shown during in clinic check. physician stated that this discrepancy made decisions about anticoagulation needs unnecessarily difficult.",
         "it was reported that an asymptomatic patient presented in clinic device interrogation of the pacemaker revealed a discrepancy of heart rhythm the episode of antitachycardia in remote transmission was longer than the episode shown during in clinic check physician stated that this discrepancy made decisions about anticoagulation needs unnecessarily difficult",
         "it was that an asymptomatic presented in clinic. interrogation of the pacemaker revealed a discrepancy of heart rhythm. the episode of antitachycardia in remote transmission was longer than the episode shown during in clinic check. physician stated that this discrepancy made decisions about anticoagulation needs unnecessarily difficult.",
         "it was that an asymptomatic presented in clinic. interrogation of the pacemaker revealed a discrepancy of heart rhythm. the episode of antitachycardia in remote transmission was longer than the episode shown during in clinic check. physician stated that this discrepancy made decisions about anticoagulation needs unnecessarily difficult.",
         "it was that an asymptomatic presented in clinic. interrogation of the revealed a discrepancy of heart rhythm. the episode of antitachycardia in remote transmission was longer than the episode shown during in clinic check. physician stated that this discrepancy made decisions about anticoagulation needs unnecessarily difficult.",
         "A11",
         "A1107"
        ],
        [
         "309169",
         "during a remote follow-up, noise was observed on the right atrial (ra) lead. the physician alleged suspected lead damage to be the cause of the event, however, it was not confirmed via diagnostic imaging. no intervention has been performed at this time to resolve the event. the patient was in stable condition and will continue to be monitored.",
         "A0401",
         "during a remote follow-up, noise was observed on the right atrial lead. the physician alleged suspected lead damage to be the cause of the event, however, it was not confirmed via diagnostic imaging. no intervention has been performed at this time to resolve the event. the patient was in stable condition and will continue to be monitored.",
         "during a remote followup noise was observed on the right atrial lead the physician alleged suspected lead damage to be the cause of the event however it was not confirmed via diagnostic imaging no intervention has been performed at this time to resolve the event the patient was in stable condition and will continue to be monitored",
         "during a remote follow-up, noise was observed on the lead. the physician alleged suspected damage to be the cause of the event, however, it was not confirmed via diagnostic imaging. no intervention has been performed at this time to resolve the event. the was in stable condition and will continue to be monitored.",
         "during a remote follow-up, noise was observed on the lead. the physician alleged suspected damage to be the cause of the event, however, it was not confirmed via diagnostic imaging. no intervention has been performed at this time to resolve the event. the was in stable condition and will continue to be monitored.",
         "during a remote follow-up, was observed on the lead. the physician alleged suspected damage to be the cause of the event, however, it was not confirmed via diagnostic imaging. no intervention has been performed at this time to resolve the event. the was in condition and will continue to be monitored.",
         "A04",
         "A0401"
        ],
        [
         "173988",
         "it was reported that the patient implanted with this right ventricular (rv) lead underwent a device replacement procedure, where the cardiac resynchronization therapy pacemaker (crt-p) was explanted and replaced with a dual chamber pacemaker. the chronic rv lead was surgically abandoned and the right atrial (ra) and left ventricular (lv) leads were connected to the new device. it was reported that the rv lead exhibited noise and a diminished pacing impedance measurement of 214 ohms. pacing threshold measurements were high at 3.3v and the rv lead was oversensing the lv pacing signals, resulting in pacing inhibition. the physician did not feel venous access would be possible so no new rv lead was implanted. no additional adverse patient effects were reported.",
         "A070909",
         "it was reported that the patient implanted with this right ventricular lead underwent a device replacement procedure, where the cardiac resynchronization therapy pacemaker was explanted and replaced with a dual chamber pacemaker. the chronic rv lead was surgically abandoned and the right atrial and left ventricular leads were connected to the new device. it was reported that the rv lead exhibited noise and a diminished pacing impedance measurement of ohms. pacing threshold measurements were high at .v and the rv lead was oversensing the lv pacing signals, resulting in pacing inhibition. the physician did not feel venous access would be possible so no new rv lead was implanted. no additional adverse patient effects were reported.",
         "it was reported that the patient implanted with this right ventricular lead underwent a device replacement procedure where the cardiac resynchronization therapy pacemaker was explanted and replaced with a dual chamber pacemaker the chronic rv lead was surgically abandoned and the right atrial and left ventricular leads were connected to the new device it was reported that the rv lead exhibited noise and a diminished pacing impedance measurement of ohms pacing threshold measurements were high at v and the rv lead was oversensing the lv pacing signals resulting in pacing inhibition the physician did not feel venous access would be possible so no new rv lead was implanted no additional adverse patient effects were reported",
         "it was that the implanted with this underwent a replacement procedure, where the cardiac resynchronization therapy pacemaker was explanted and replaced with a dual chamber pacemaker. the chronic rv was surgically abandoned and the and left leads were connected to the new device. it was that the rv exhibited noise and a diminished pacing impedance measurement of ohms. pacing threshold measurements were high at .v and the rv was oversensing the lv pacing signals, resulting in pacing inhibition. the physician did not feel venous access would be possible so no new rv was implanted. no additional adverse effects were reported.",
         "it was that the implanted with this underwent a replacement procedure, where the cardiac resynchronization therapy pacemaker was and with a dual chamber pacemaker. the chronic rv was surgically abandoned and the and left leads were connected to the new device. it was that the rv noise and a diminished measurement of ohms. threshold measurements were at .v and the rv was oversensing the lv signals, resulting in inhibition. the physician did not feel venous access would be possible so no new rv was implanted. no were reported.",
         "it was that the implanted with this underwent a replacement procedure, where the cardiac resynchronization therapy was and with a dual chamber pacemaker. the chronic was surgically abandoned and the and left leads were connected to the new device. it was that the and a diminished measurement of ohms. threshold measurements were at .v and the was oversensing the lv signals, resulting in inhibition. the physician did not feel venous access would be possible so no new was implanted. no were reported.",
         "A07",
         "A0709"
        ],
        [
         "357809",
         "it was reported that this pacemaker and right ventricular (rv) lead exhibited oversensing of noise resulting in the minute ventilation (mv) feature being disabled. the patient was noted to be fairly pacemaker dependent. technical services (ts) reviewed the stored episode and noted some of the noise was consistent with oversensing related to the mv feature. the oversensing did not result in pacing inhibition with greater than 2 seconds of asystole. the health care professional (hcp) noted the rv pacing impedance measurements were within normal limits and evaluation of the lead noted no anomalies. the hcp planned to make programming changes and no longer use mv. no adverse patient effects were reported. this device remains in service.",
         "A070909",
         "it was reported that this pacemaker and right ventricular lead exhibited oversensing of noise resulting in the minute ventilation feature being disabled. the patient was noted to be fairly pacemaker dependent. technical services reviewed the stored episode and noted some of the noise was consistent with oversensing related to the mv feature. the oversensing did not result in pacing inhibition with greater than seconds of asystole. the health care professional noted the rv pacing impedance measurements were within normal limits and evaluation of the lead noted no anomalies. the hcp planned to make programming changes and no longer use mv. no adverse patient effects were reported. this device remains in service.",
         "it was reported that this pacemaker and right ventricular lead exhibited oversensing of noise resulting in the minute ventilation feature being disabled the patient was noted to be fairly pacemaker dependent technical services reviewed the stored episode and noted some of the noise was consistent with oversensing related to the mv feature the oversensing did not result in pacing inhibition with greater than seconds of asystole the health care professional noted the rv pacing impedance measurements were within normal limits and evaluation of the lead noted no anomalies the hcp planned to make programming changes and no longer use mv no adverse patient effects were reported this device remains in service",
         "it was that this pacemaker and exhibited oversensing of noise resulting in the minute ventilation feature being disabled. the was noted to be fairly pacemaker dependent. technical services reviewed the stored episode and noted some of the noise was consistent with oversensing related to the mv feature. the oversensing did not in pacing inhibition with greater than seconds of asystole. the health care professional noted the rv pacing impedance measurements were within normal limits and evaluation of the noted no anomalies. the hcp planned to make programming changes and no longer use mv. no adverse effects were reported. this remains in service.",
         "it was that this pacemaker and oversensing of noise resulting in the minute ventilation feature being disabled. the was to be fairly pacemaker dependent. technical services reviewed the stored episode and some of the noise was consistent with oversensing related to the mv feature. the oversensing did not in inhibition with greater than seconds of asystole. the health care professional the rv measurements were within normal limits and evaluation of the no anomalies. the hcp planned to make programming changes and no longer use mv. no were reported. this remains in service.",
         "it was that this and oversensing of resulting in the minute ventilation feature being disabled. the was to be fairly dependent. technical services reviewed the stored episode and some of the was consistent with oversensing related to the mv feature. the oversensing did not in inhibition with greater than seconds of asystole. the health care professional the measurements were within normal limits and evaluation of the no anomalies. the hcp planned to make programming changes and no longer mv. no were reported. this in service.",
         "A07",
         "A0709"
        ],
        [
         "377355",
         "it was reported that the right atrial (ra) lead position check failed and exhibited intermittent undersensing. the ra lead remains in use.�no patient complications have been reported as a result of this event.",
         "A1502",
         "it was reported that the right atrial lead position check failed and exhibited intermittent undersensing. the ra lead remains in use. no patient complications have been reported as a result of this event.",
         "it was reported that the right atrial lead position check failed and exhibited intermittent undersensing the ra lead remains in use no patient complications have been reported as a result of this event",
         "it was that the position check failed and exhibited intermittent undersensing. the ra remains in use. no have been as a of this event.",
         "it was that the position check failed and intermittent undersensing. the ra remains in use. no have been as a of this event.",
         "it was that the position check failed and intermittent undersensing. the in use. no have been as a of this event.",
         "A15",
         "A1502"
        ],
        [
         "484643",
         "it was reported that the�right atrial (ra) lead and�left ventricular (lv) lead exhibited high thresholds and loss of capture. the patient was unable to be paced properly due to the high thresholds. the ra and lv leads were explanted and replaced.�no patient complications have been reported as a result of this event.",
         "A0712",
         "it was reported that the right atrial lead and left ventricular lead exhibited high thresholds and loss of capture. the patient was unable to be paced properly due to the high thresholds. the ra and lv leads were explanted and replaced. no patient complications have been reported as a result of this event.",
         "it was reported that the right atrial lead and left ventricular lead exhibited high thresholds and loss of capture the patient was unable to be paced properly due to the high thresholds the ra and lv leads were explanted and replaced no patient complications have been reported as a result of this event",
         "it was that the and left exhibited high thresholds and loss of capture. the was unable to be paced properly due to the high thresholds. the ra and lv leads were explanted and replaced. no have been as a of this event.",
         "it was that the and left thresholds and loss of capture. the was unable to be paced properly due to the thresholds. the ra and lv leads were and replaced. no have been as a of this event.",
         "it was that the and left thresholds and loss of capture. the was unable to be paced properly to the thresholds. the and lv leads were and replaced. no have been as a of this event.",
         "A07",
         "A0712"
        ],
        [
         "392006",
         "new information received notes that in 2013 the right ventricular (rv) lead exhibited polarity switch due to unspecified impedance problem.",
         "A070101",
         "new information received notes that in the right ventricular lead exhibited polarity switch due to unspecified impedance problem.",
         "new information received notes that in the right ventricular lead exhibited polarity switch due to unspecified impedance problem",
         "new information received notes that in the exhibited polarity switch due to unspecified impedance problem.",
         "new information received notes that in the polarity switch due to unspecified problem.",
         "new information received notes that in the polarity switch to unspecified problem.",
         "A07",
         "A0701"
        ],
        [
         "194035",
         "during a remote follow-up, episodes of noise resulting in undersensing were noted on the right ventricular (rv) lead. provocative testing will be performed at the next follow-up in clinic, however, no intervention was performed at this time. the patient was stable.",
         "A090801",
         "during a remote follow-up, episodes of noise resulting in undersensing were noted on the right ventricular lead. provocative testing will be performed at the next follow-up in clinic, however, no intervention was performed at this time. the patient was stable.",
         "during a remote followup episodes of noise resulting in undersensing were noted on the right ventricular lead provocative testing will be performed at the next followup in clinic however no intervention was performed at this time the patient was stable",
         "during a remote follow-up, episodes of noise resulting in undersensing were noted on the lead. provocative testing will be performed at the next follow-up in clinic, however, no intervention was performed at this time. the was stable.",
         "during a remote follow-up, episodes of noise resulting in undersensing were on the lead. provocative testing will be performed at the next follow-up in clinic, however, no intervention was performed at this time. the was stable.",
         "during a remote follow-up, episodes of resulting in undersensing were on the lead. provocative testing will be performed at the next follow-up in clinic, however, no intervention was performed at this time. the was stable.",
         "A09",
         "A0908"
        ],
        [
         "536877",
         "it was reported that during the implant procedure noise was observed on the ventricular channel. no abnormalities were observed with the right ventricular (rv) lead, which led the physician to determine that the noise was due to an issue with the header of the pacemaker. subsequently the pacemaker was attempted and not implanted. a new pacemaker was implanted with the existing rv lead and the procedure was completed without any further complications. no adverse effects were reported.",
         "A04",
         "it was reported that during the implant procedure noise was observed on the ventricular channel. no abnormalities were observed with the right ventricular lead, which led the physician to determine that the noise was due to an issue with the header of the pacemaker. subsequently the pacemaker was attempted and not implanted. a new pacemaker was implanted with the existing rv lead and the procedure was completed without any further complications. no adverse effects were reported.",
         "it was reported that during the implant procedure noise was observed on the ventricular channel no abnormalities were observed with the right ventricular lead which led the physician to determine that the noise was due to an issue with the header of the pacemaker subsequently the pacemaker was attempted and not implanted a new pacemaker was implanted with the existing rv lead and the procedure was completed without any further complications no adverse effects were reported",
         "it was that during the implant procedure noise was observed on the channel. no abnormalities were observed with the lead, which led the physician to determine that the noise was due to an issue with the header of the pacemaker. subsequently the pacemaker was attempted and not implanted. a new pacemaker was implanted with the existing rv and the procedure was completed without any further complications. no adverse effects were reported.",
         "it was that during the implant procedure noise was observed on the channel. no abnormalities were observed with the lead, which led the physician to determine that the noise was due to an issue with the header of the pacemaker. subsequently the pacemaker was attempted and not implanted. a new pacemaker was implanted with the existing rv and the procedure was completed without any further complications. no were reported.",
         "it was that during the implant was observed on the channel. no abnormalities were observed with the lead, which led the physician to determine that the was to an issue with the header of the pacemaker. subsequently the was attempted and not implanted. a new was implanted with the existing and the was completed without any further complications. no were reported.",
         "A04",
         ""
        ],
        [
         "295302",
         "it was reported that this pacemaker longevity was decreasing faster than expected between follow-ups. review of data analysis revealed the power consumption was higher than expected. a device replacement was recommended, however the device remains in-service at this time with safe replacement interval for at least 90 days. no adverse patient effects were reported. additional information provided from the field indicated the patient was later admitted to the hospital after experiencing a syncopal episode. review of their system noted oversensing with pacing inhibition and the pacemaker was now in safety mode. surgical intervention was performed, and the pacemaker was explanted and replaced. no additional adverse patient effects were reported.",
         "A0712",
         "it was reported that this pacemaker longevity was decreasing faster than expected between follow-ups. review of data analysis revealed the power consumption was higher than expected. a device replacement was recommended, however the device remains in-service at this time with safe replacement interval for at least days. no adverse patient effects were reported. additional information provided from the field indicated the patient was later admitted to the hospital after experiencing a syncopal episode. review of their system noted oversensing with pacing inhibition and the pacemaker was now in safety mode. surgical intervention was performed, and the pacemaker was explanted and replaced. no additional adverse patient effects were reported.",
         "it was reported that this pacemaker longevity was decreasing faster than expected between followups review of data analysis revealed the power consumption was higher than expected a device replacement was recommended however the device remains inservice at this time with safe replacement interval for at least days no adverse patient effects were reported additional information provided from the field indicated the patient was later admitted to the hospital after experiencing a syncopal episode review of their system noted oversensing with pacing inhibition and the pacemaker was now in safety mode surgical intervention was performed and the pacemaker was explanted and replaced no additional adverse patient effects were reported",
         "it was that this pacemaker longevity was decreasing faster than expected between follow-ups. review of data analysis revealed the power consumption was higher than expected. a replacement was recommended, however the remains in-service at this time with safe replacement interval for at least days. no adverse effects were reported. additional information provided from the field indicated the was later admitted to the hospital after experiencing a syncopal episode. review of their system noted oversensing with pacing inhibition and the pacemaker was now in safety mode. surgical intervention was performed, and the pacemaker was explanted and replaced. no additional adverse effects were reported.",
         "it was that this pacemaker longevity was decreasing faster than expected between follow-ups. review of data analysis revealed the power consumption was higher than expected. a replacement was recommended, however the remains in-service at this time with safe replacement interval for at least days. no were reported. information provided from the field indicated the was later admitted to the hospital after experiencing a syncopal episode. review of their system oversensing with inhibition and the pacemaker was now in safety mode. surgical intervention was performed, and the pacemaker was and replaced. no were reported.",
         "it was that this longevity was decreasing faster than expected between follow-ups. review of data analysis revealed the power consumption was higher than expected. a replacement was recommended, however the in-service at this time with safe replacement interval for at least days. no were reported. information provided from the field indicated the was later admitted to the hospital after experiencing a syncopal episode. review of their system oversensing with inhibition and the was now in safety mode. surgical intervention was performed, and the was and replaced. no were reported.",
         "A07",
         "A0712"
        ],
        [
         "35273",
         "it was reported that this right atrial (ra) lead was not successfully implanted, the lead experienced placement difficulty and helix extension issues. a conductor fracture was suspected. the lead was removed and replaced prior to pocket closure. no adverse patient effects were reported.",
         "A04",
         "it was reported that this right atrial lead was not successfully implanted, the lead experienced placement difficulty and helix extension issues. a conductor fracture was suspected. the lead was removed and replaced prior to pocket closure. no adverse patient effects were reported.",
         "it was reported that this right atrial lead was not successfully implanted the lead experienced placement difficulty and helix extension issues a conductor fracture was suspected the lead was removed and replaced prior to pocket closure no adverse patient effects were reported",
         "it was that this was not successfully implanted, the experienced placement difficulty and helix extension issues. a conductor fracture was suspected. the was removed and replaced prior to pocket closure. no adverse effects were reported.",
         "it was that this was not successfully implanted, the experienced placement difficulty and helix extension issues. a conductor fracture was suspected. the was removed and prior to pocket closure. no were reported.",
         "it was that this was not successfully implanted, the experienced placement difficulty and helix extension issues. a conductor fracture was suspected. the was removed and prior to pocket closure. no were reported.",
         "A04",
         ""
        ],
        [
         "384765",
         "it was reported that during implant of a�right atrial (ra) lead�the patient experienced atrial standstill. the ra lead exhibited high thresholds, non-capture and rising impedance. the ra lead was not used and was replaced. however, it was reported that the replacement�ra lead also exhibited�high thresholds, non-capture and rising impedance. the�replacement ra lead was not used and was replaced.�no further patient complications have been reported as a result of this event.",
         "A0722",
         "it was reported that during implant of a right atrial lead the patient experienced atrial standstill. the ra lead exhibited high thresholds, non-capture and rising impedance. the ra lead was not used and was replaced. however, it was reported that the replacement ra lead also exhibited high thresholds, non-capture and rising impedance. the replacement ra lead was not used and was replaced. no further patient complications have been reported as a result of this event.",
         "it was reported that during implant of a right atrial lead the patient experienced atrial standstill the ra lead exhibited high thresholds noncapture and rising impedance the ra lead was not used and was replaced however it was reported that the replacement ra lead also exhibited high thresholds noncapture and rising impedance the replacement ra lead was not used and was replaced no further patient complications have been reported as a result of this event",
         "it was that during implant of a the experienced standstill. the ra exhibited high thresholds, non-capture and rising impedance. the ra was not used and was replaced. however, it was that the replacement ra also exhibited high thresholds, non-capture and rising impedance. the replacement ra was not used and was replaced. no further have been as a of this event.",
         "it was that during implant of a the experienced standstill. the ra thresholds, non-capture and rising impedance. the ra was not used and was replaced. however, it was that the replacement ra also thresholds, non-capture and rising impedance. the replacement ra was not used and was replaced. no further have been as a of this event.",
         "it was that during implant of a the experienced standstill. the thresholds, non-capture and rising impedance. the was not used and was replaced. however, it was that the replacement also thresholds, non-capture and rising impedance. the replacement was not used and was replaced. no further have been as a of this event.",
         "A07",
         "A0722"
        ],
        [
         "133643",
         "it was reported that during the implant procedure placement difficulty was noted. it was further reported the stylet may have introduced blood into the lead. the physician used mineral oil and stated he \"stretched\" the lead. the lead was attempted / not used and replaced. no patient complications have been reported as a result of this event.",
         "A1502",
         "it was reported that during the implant procedure placement difficulty was noted. it was further reported the stylet may have introduced blood into the lead. the physician used mineral oil and stated he \"stretched\" the lead. the lead was attempted / not used and replaced. no patient complications have been reported as a result of this event.",
         "it was reported that during the implant procedure placement difficulty was noted it was further reported the stylet may have introduced blood into the lead the physician used mineral oil and stated he stretched the lead the lead was attempted  not used and replaced no patient complications have been reported as a result of this event",
         "it was that during the implant procedure placement difficulty was noted. it was further the stylet may have introduced blood into the lead. the physician used mineral oil and stated he \"stretched\" the lead. the was attempted / not used and replaced. no have been as a of this event.",
         "it was that during the implant procedure placement difficulty was noted. it was further the stylet may have introduced blood into the lead. the physician used mineral oil and stated he \"stretched\" the lead. the was attempted / not used and replaced. no have been as a of this event.",
         "it was that during the implant placement difficulty was noted. it was further the stylet may have introduced blood into the lead. the physician used mineral oil and stated he \"stretched\" the lead. the was attempted / not used and replaced. no have been as a of this event.",
         "A15",
         "A1502"
        ],
        [
         "554907",
         "it was reported, a patient's right ventricular (rv) lead presented with high pacing impedance and loss of capture. the lead was explanted in a procedure on (b)(6) 2023. in which a visible abrasion was noted, under the suture sleeve. post-procedure, the patient was stable.",
         "A070101",
         "it was reported, a patient's right ventricular lead presented with high pacing impedance and loss of capture. the lead was explanted in a procedure on . in which a visible abrasion was noted, under the suture sleeve. post-procedure, the patient was stable.",
         "it was reported a patients right ventricular lead presented with high pacing impedance and loss of capture the lead was explanted in a procedure on  in which a visible abrasion was noted under the suture sleeve postprocedure the patient was stable",
         "it was reported, a patient's presented with high pacing impedance and loss of capture. the was explanted in a procedure on . in which a visible abrasion was noted, under the suture sleeve. post-procedure, the was stable.",
         "it was reported, a patient's presented with and loss of capture. the was in a procedure on . in which a visible abrasion was noted, under the suture sleeve. post-procedure, the was stable.",
         "it was reported, a patient's presented with and loss of capture. the was in a on . in which a visible abrasion was noted, under the suture sleeve. post-procedure, the was stable.",
         "A07",
         "A0701"
        ],
        [
         "429829",
         "additional information was received indicating the suspected cause of the inability to interrogate the device was due to premature battery depletion.",
         "A070504",
         "additional information was received indicating the suspected cause of the inability to interrogate the device was due to premature battery depletion.",
         "additional information was received indicating the suspected cause of the inability to interrogate the device was due to premature battery depletion",
         "additional information was received indicating the suspected cause of the inability to interrogate the was due to premature battery depletion.",
         "information was received indicating the suspected cause of the inability to interrogate the was due to premature battery depletion.",
         "information was received indicating the suspected cause of the inability to interrogate the was to premature battery depletion.",
         "A07",
         "A0705"
        ],
        [
         "294899",
         "it was reported that right atrial (ra) lead exhibited a lead warning for high unipolar and bipolar impedance. it was further reported that an atrial polarity switch also occurred. the ra lead remains in use. no patient complications have been reported as a result of this event.",
         "A072201",
         "it was reported that right atrial lead exhibited a lead warning for high unipolar and bipolar impedance. it was further reported that an atrial polarity switch also occurred. the ra lead remains in use. no patient complications have been reported as a result of this event.",
         "it was reported that right atrial lead exhibited a lead warning for high unipolar and bipolar impedance it was further reported that an atrial polarity switch also occurred the ra lead remains in use no patient complications have been reported as a result of this event",
         "it was that exhibited a warning for high unipolar and bipolar impedance. it was further that an polarity switch also occurred. the ra remains in use. no have been as a of this event.",
         "it was that a warning for unipolar and bipolar impedance. it was further that an polarity switch also occurred. the ra remains in use. no have been as a of this event.",
         "it was that a warning for unipolar and bipolar impedance. it was further that an polarity switch also occurred. the in use. no have been as a of this event.",
         "A07",
         "A0722"
        ],
        [
         "40139",
         "it was reported that during the implant procedure, physician experienced difficulty while retracting the lead helix. lead also exhibited high impedance and insulation anomaly. lead was not used and was replaced. patient was stable.",
         "A150201",
         "it was reported that during the implant procedure, physician experienced difficulty while retracting the lead helix. lead also exhibited high impedance and insulation anomaly. lead was not used and was replaced. patient was stable.",
         "it was reported that during the implant procedure physician experienced difficulty while retracting the lead helix lead also exhibited high impedance and insulation anomaly lead was not used and was replaced patient was stable",
         "it was that during the implant procedure, physician experienced difficulty while retracting the helix. also exhibited high impedance and insulation anomaly. was not used and was replaced. was stable.",
         "it was that during the implant procedure, physician experienced difficulty while retracting the helix. also and insulation anomaly. was not used and was replaced. was stable.",
         "it was that during the implant procedure, physician experienced difficulty while retracting the helix. also and insulation anomaly. was not used and was replaced. was stable.",
         "A15",
         "A1502"
        ],
        [
         "265474",
         "it was reported that during the implant procedure, the guidewire was stuck in the left ventricular (lv) lead. the lv lead was removed and replaced. no patient complications have been reported as a result of this event.",
         "A15",
         "it was reported that during the implant procedure, the guidewire was stuck in the left ventricular lead. the lv lead was removed and replaced. no patient complications have been reported as a result of this event.",
         "it was reported that during the implant procedure the guidewire was stuck in the left ventricular lead the lv lead was removed and replaced no patient complications have been reported as a result of this event",
         "it was that during the implant procedure, the guidewire was stuck in the left lead. the lv was removed and replaced. no have been as a of this event.",
         "it was that during the implant procedure, the guidewire was stuck in the left lead. the lv was removed and replaced. no have been as a of this event.",
         "it was that during the implant procedure, the guidewire was stuck in the left lead. the lv was removed and replaced. no have been as a of this event.",
         "A15",
         ""
        ],
        [
         "423793",
         "it was reported that there was a loss of capture on the patient's lead. the lead remains in use. no patient complications have been reported as a result of this event.",
         "A070101",
         "it was reported that there was a loss of capture on the patient's lead. the lead remains in use. no patient complications have been reported as a result of this event.",
         "it was reported that there was a loss of capture on the patients lead the lead remains in use no patient complications have been reported as a result of this event",
         "it was that there was a loss of capture on the patient's lead. the remains in use. no have been as a of this event.",
         "it was that there was a loss of capture on the patient's lead. the remains in use. no have been as a of this event.",
         "it was that there was a loss of on the patient's lead. the in use. no have been as a of this event.",
         "A07",
         "A0701"
        ],
        [
         "251736",
         "it was reported that the right atrial (ra) lead exhibited diminished sensing and potential under-sensing. the ra lead remains in use. no patient complications have been reported as a result of this event.",
         "A070910",
         "it was reported that the right atrial lead exhibited diminished sensing and potential under-sensing. the ra lead remains in use. no patient complications have been reported as a result of this event.",
         "it was reported that the right atrial lead exhibited diminished sensing and potential undersensing the ra lead remains in use no patient complications have been reported as a result of this event",
         "it was that the exhibited diminished sensing and potential under-sensing. the ra remains in use. no have been as a of this event.",
         "it was that the diminished sensing and potential under-sensing. the ra remains in use. no have been as a of this event.",
         "it was that the diminished sensing and potential under-sensing. the in use. no have been as a of this event.",
         "A07",
         "A0709"
        ],
        [
         "84568",
         "this lead was explanted and replaced due to undersensing, loss of capture and dislodgement. should additional information become available, this file will be updated.",
         "A070101",
         "this lead was explanted and replaced due to undersensing, loss of capture and dislodgement. should additional information become available, this file will be updated.",
         "this lead was explanted and replaced due to undersensing loss of capture and dislodgement should additional information become available this file will be updated",
         "this was explanted and replaced due to undersensing, loss of capture and dislodgement. should additional information become available, this file will be updated.",
         "this was and due to undersensing, loss of capture and dislodgement. should information become available, this file will be updated.",
         "this was and to undersensing, loss of and dislodgement. should information become available, this file will be updated.",
         "A07",
         "A0701"
        ],
        [
         "169942",
         "related manufacturer reference number: 2017865-2020-12917, 2017865-2020-12920. it was reported that an asymptomatic patient presented to a follow-up in-clinic with their implantable pacemaker, right ventricular, and atrial leads exhibiting noise over-sensing. the atiral lead noise over-sensing also caused automatic mode switch episodes. the device was reprogrammed to address the issue. patient was stable after the event.",
         "A070909",
         "related manufacturer reference number: --, --. it was reported that an asymptomatic patient presented to a follow-up in-clinic with their implantable pacemaker, right ventricular, and atrial leads exhibiting noise over-sensing. the atiral lead noise over-sensing also caused automatic mode switch episodes. the device was reprogrammed to address the issue. patient was stable after the event.",
         "related manufacturer reference number   it was reported that an asymptomatic patient presented to a followup inclinic with their implantable pacemaker right ventricular and atrial leads exhibiting noise oversensing the atiral lead noise oversensing also caused automatic mode switch episodes the device was reprogrammed to address the issue patient was stable after the event",
         "related manufacturer reference number: --, --. it was that an asymptomatic presented to a follow-up in-clinic with their implantable pacemaker, ventricular, and leads exhibiting noise over-sensing. the atiral noise over-sensing also caused automatic mode switch episodes. the was reprogrammed to address the issue. was stable after the event.",
         "related manufacturer reference number: --, --. it was that an asymptomatic presented to a follow-up in-clinic with their implantable pacemaker, ventricular, and leads exhibiting noise over-sensing. the atiral noise over-sensing also caused automatic mode switch episodes. the was reprogrammed to address the issue. was stable after the event.",
         "related manufacturer reference number: --, --. it was that an asymptomatic presented to a follow-up in-clinic with their implantable pacemaker, ventricular, and leads exhibiting over-sensing. the atiral over-sensing also caused automatic mode switch episodes. the was reprogrammed to address the issue. was after the event.",
         "A07",
         "A0709"
        ],
        [
         "361320",
         "it was further reported that the ra lead is now stable.",
         "A070102",
         "it was further reported that the ra lead is now stable.",
         "it was further reported that the ra lead is now stable",
         "it was further that the ra is now stable.",
         "it was further that the ra is now stable.",
         "it was further that the is now stable.",
         "A07",
         "A0701"
        ],
        [
         "458258",
         "it was reported that the�right ventricular (rv) lead exhibited rising thresholds and high thresholds. the rv lead remains in use.�no patient complications have been reported as a result of this event.",
         "A0701",
         "it was reported that the right ventricular lead exhibited rising thresholds and high thresholds. the rv lead remains in use. no patient complications have been reported as a result of this event.",
         "it was reported that the right ventricular lead exhibited rising thresholds and high thresholds the rv lead remains in use no patient complications have been reported as a result of this event",
         "it was that the exhibited rising thresholds and high thresholds. the rv remains in use. no have been as a of this event.",
         "it was that the rising thresholds and thresholds. the rv remains in use. no have been as a of this event.",
         "it was that the rising thresholds and thresholds. the in use. no have been as a of this event.",
         "A07",
         "A0701"
        ],
        [
         "383726",
         "it was reported that the patient experienced near syncope. the�right ventricular (rv) lead exhibited high and rising impedance, with a polarity switch noted. the rv lead was explanted and replaced. no further patient complications have been reported as a result of this event.",
         "A072201",
         "it was reported that the patient experienced near syncope. the right ventricular lead exhibited high and rising impedance, with a polarity switch noted. the rv lead was explanted and replaced. no further patient complications have been reported as a result of this event.",
         "it was reported that the patient experienced near syncope the right ventricular lead exhibited high and rising impedance with a polarity switch noted the rv lead was explanted and replaced no further patient complications have been reported as a result of this event",
         "it was that the experienced near syncope. the exhibited high and rising impedance, with a polarity switch noted. the rv was explanted and replaced. no further have been as a of this event.",
         "it was that the experienced near syncope. the and rising impedance, with a polarity switch noted. the rv was and replaced. no further have been as a of this event.",
         "it was that the experienced near syncope. the and rising impedance, with a polarity switch noted. the was and replaced. no further have been as a of this event.",
         "A07",
         "A0722"
        ],
        [
         "252926",
         "the rv lead was reprogrammed.",
         "A1502",
         "the rv lead was reprogrammed.",
         "the rv lead was reprogrammed",
         "the rv was reprogrammed.",
         "the rv was reprogrammed.",
         "the was reprogrammed.",
         "A15",
         "A1502"
        ],
        [
         "560034",
         "during follow-up, sensing noise was observed on the right atrial (ra) lead and the device. lead damage was suspected but was not confirmed visually. device reprogramming was anticipated to resolve the event. the patient was stable and there were no adverse consequences. related manufacturer reference number: (b)(4).",
         "A070909",
         "during follow-up, sensing noise was observed on the right atrial lead and the device. lead damage was suspected but was not confirmed visually. device reprogramming was anticipated to resolve the event. the patient was stable and there were no adverse consequences. related manufacturer reference number: .",
         "during followup sensing noise was observed on the right atrial lead and the device lead damage was suspected but was not confirmed visually device reprogramming was anticipated to resolve the event the patient was stable and there were no adverse consequences related manufacturer reference number",
         "during follow-up, sensing noise was observed on the and the device. damage was suspected but was not confirmed visually. reprogramming was anticipated to resolve the event. the was stable and there were no adverse consequences. related manufacturer reference number: .",
         "during follow-up, sensing noise was observed on the and the device. damage was suspected but was not confirmed visually. reprogramming was anticipated to resolve the event. the was stable and there were no consequences. related manufacturer reference number: .",
         "during follow-up, sensing was observed on the and the device. damage was suspected but was not confirmed visually. reprogramming was anticipated to resolve the event. the was and there were no consequences. related manufacturer reference number: .",
         "A07",
         "A0709"
        ],
        [
         "205071",
         "it was reported that this implantable cardioverter defibrillator (icd) exhibited high out of range shock impedance measurements and recorded a fault code 1005. a commanded shock was delivered and out of range measurements were again observed. this device was also found to have recorded a fault code 1003. this device remains in service. no additional adverse patient effects were reported.",
         "A070504",
         "it was reported that this implantable cardioverter defibrillator exhibited high out of range shock impedance measurements and recorded a fault code . a commanded shock was delivered and out of range measurements were again observed. this device was also found to have recorded a fault code . this device remains in service. no additional adverse patient effects were reported.",
         "it was reported that this implantable cardioverter defibrillator exhibited high out of range shock impedance measurements and recorded a fault code  a commanded shock was delivered and out of range measurements were again observed this device was also found to have recorded a fault code  this device remains in service no additional adverse patient effects were reported",
         "it was that this implantable cardioverter defibrillator exhibited high out of range shock impedance measurements and recorded a fault code . a commanded shock was delivered and out of range measurements were again observed. this was also found to have recorded a fault code . this remains in service. no additional adverse effects were reported.",
         "it was that this implantable cardioverter defibrillator out of range shock measurements and recorded a fault code . a commanded shock was delivered and out of range measurements were again observed. this was also found to have recorded a fault code . this remains in service. no were reported.",
         "it was that this implantable cardioverter defibrillator out of range shock measurements and recorded a fault code . a commanded shock was delivered and out of range measurements were again observed. this was also found to have recorded a fault code . this in service. no were reported.",
         "A07",
         "A0705"
        ],
        [
         "92617",
         "it was reported that this pacemaker was part of a system revision due to infection and erosion. this device was explanted. no additional adverse patient effects were reported.",
         "A24",
         "it was reported that this pacemaker was part of a system revision due to infection and erosion. this device was explanted. no additional adverse patient effects were reported.",
         "it was reported that this pacemaker was part of a system revision due to infection and erosion this device was explanted no additional adverse patient effects were reported",
         "it was that this pacemaker was part of a system revision due to infection and erosion. this was explanted. no additional adverse effects were reported.",
         "it was that this pacemaker was part of a system revision due to infection and erosion. this was explanted. no were reported.",
         "it was that this was part of a system revision to infection and erosion. this was explanted. no were reported.",
         "A24",
         ""
        ],
        [
         "23941",
         "additional information received noted the organism identified was staphylococcus aureus bacteremia.",
         "A24",
         "additional information received noted the organism identified was staphylococcus aureus bacteremia.",
         "additional information received noted the organism identified was staphylococcus aureus bacteremia",
         "additional information received noted the organism identified was staphylococcus aureus bacteremia.",
         "information received the organism identified was staphylococcus aureus bacteremia.",
         "information received the organism identified was staphylococcus aureus bacteremia.",
         "A24",
         ""
        ],
        [
         "245950",
         "it was reported that the patient presented for a follow up to the clinic on (b)(6) 2021. during interrogation of the pacemaker, it was noted that the battery longevity decreased more than normal from the previous device interrogation performed 8 months ago. the physician decided to shorten the device check intervals. no programming changes were made to the pacemaker. the patient is in stable condition.",
         "A090805",
         "it was reported that the patient presented for a follow up to the clinic on . during interrogation of the pacemaker, it was noted that the battery longevity decreased more than normal from the previous device interrogation performed months ago. the physician decided to shorten the device check intervals. no programming changes were made to the pacemaker. the patient is in stable condition.",
         "it was reported that the patient presented for a follow up to the clinic on  during interrogation of the pacemaker it was noted that the battery longevity decreased more than normal from the previous device interrogation performed months ago the physician decided to shorten the device check intervals no programming changes were made to the pacemaker the patient is in stable condition",
         "it was that the presented for a follow up to the clinic on . during interrogation of the pacemaker, it was noted that the battery longevity decreased more than normal from the previous interrogation performed months ago. the physician decided to shorten the check intervals. no programming changes were made to the pacemaker. the is in stable condition.",
         "it was that the presented for a follow up to the clinic on . during interrogation of the pacemaker, it was that the battery longevity decreased more than normal from the previous interrogation performed months ago. the physician decided to shorten the check intervals. no programming changes were made to the pacemaker. the is in stable condition.",
         "it was that the presented for a follow up to the clinic on . during interrogation of the pacemaker, it was that the battery longevity decreased more than normal from the previous interrogation performed months ago. the physician decided to shorten the check intervals. no programming changes were made to the pacemaker. the is in condition.",
         "A09",
         "A0908"
        ]
       ],
       "shape": {
        "columns": 9,
        "rows": 100
       }
      },
      "text/html": [
       "<div>\n",
       "<style scoped>\n",
       "    .dataframe tbody tr th:only-of-type {\n",
       "        vertical-align: middle;\n",
       "    }\n",
       "\n",
       "    .dataframe tbody tr th {\n",
       "        vertical-align: top;\n",
       "    }\n",
       "\n",
       "    .dataframe thead th {\n",
       "        text-align: right;\n",
       "    }\n",
       "</style>\n",
       "<table border=\"1\" class=\"dataframe\">\n",
       "  <thead>\n",
       "    <tr style=\"text-align: right;\">\n",
       "      <th></th>\n",
       "      <th>FOI_TEXT</th>\n",
       "      <th>IMDRF</th>\n",
       "      <th>Cleaned</th>\n",
       "      <th>NoPunctuation</th>\n",
       "      <th>NoStop10</th>\n",
       "      <th>NoStop20</th>\n",
       "      <th>NoStop30</th>\n",
       "      <th>CatOneIMDRF</th>\n",
       "      <th>CatTwoIMDRF</th>\n",
       "    </tr>\n",
       "  </thead>\n",
       "  <tbody>\n",
       "    <tr>\n",
       "      <th>432108</th>\n",
       "      <td>it was reported that during implant the�right ...</td>\n",
       "      <td>A0701</td>\n",
       "      <td>it was reported that during implant the right ...</td>\n",
       "      <td>it was reported that during implant the right ...</td>\n",
       "      <td>it was that during implant the exhibited poor ...</td>\n",
       "      <td>it was that during implant the poor thresholds...</td>\n",
       "      <td>it was that during implant the poor thresholds...</td>\n",
       "      <td>A07</td>\n",
       "      <td>A0701</td>\n",
       "    </tr>\n",
       "    <tr>\n",
       "      <th>145991</th>\n",
       "      <td>it was reported that the patient presented to ...</td>\n",
       "      <td>A090801</td>\n",
       "      <td>it was reported that the patient presented to ...</td>\n",
       "      <td>it was reported that the patient presented to ...</td>\n",
       "      <td>it was that the presented to the hospital for ...</td>\n",
       "      <td>it was that the presented to the hospital for ...</td>\n",
       "      <td>it was that the presented to the hospital for ...</td>\n",
       "      <td>A09</td>\n",
       "      <td>A0908</td>\n",
       "    </tr>\n",
       "    <tr>\n",
       "      <th>259118</th>\n",
       "      <td>it was reported that this pacemaker system tri...</td>\n",
       "      <td>A072201</td>\n",
       "      <td>it was reported that this pacemaker system tri...</td>\n",
       "      <td>it was reported that this pacemaker system tri...</td>\n",
       "      <td>it was that this pacemaker system triggered a ...</td>\n",
       "      <td>it was that this pacemaker system triggered a ...</td>\n",
       "      <td>it was that this system triggered a safety swi...</td>\n",
       "      <td>A07</td>\n",
       "      <td>A0722</td>\n",
       "    </tr>\n",
       "    <tr>\n",
       "      <th>502603</th>\n",
       "      <td>related manufacturer report number: 2017865-20...</td>\n",
       "      <td>A070909</td>\n",
       "      <td>related manufacturer report number: --. it was...</td>\n",
       "      <td>related manufacturer report number  it was rep...</td>\n",
       "      <td>related manufacturer report number: --. it was...</td>\n",
       "      <td>related manufacturer report number: --. it was...</td>\n",
       "      <td>related manufacturer report number: --. it was...</td>\n",
       "      <td>A07</td>\n",
       "      <td>A0709</td>\n",
       "    </tr>\n",
       "    <tr>\n",
       "      <th>173353</th>\n",
       "      <td>it was reported that a patient presented in a ...</td>\n",
       "      <td>A070101</td>\n",
       "      <td>it was reported that a patient presented in a ...</td>\n",
       "      <td>it was reported that a patient presented in a ...</td>\n",
       "      <td>it was that a presented in a post operation ch...</td>\n",
       "      <td>it was that a presented in a post operation ch...</td>\n",
       "      <td>it was that a presented in a post operation ch...</td>\n",
       "      <td>A07</td>\n",
       "      <td>A0701</td>\n",
       "    </tr>\n",
       "    <tr>\n",
       "      <th>...</th>\n",
       "      <td>...</td>\n",
       "      <td>...</td>\n",
       "      <td>...</td>\n",
       "      <td>...</td>\n",
       "      <td>...</td>\n",
       "      <td>...</td>\n",
       "      <td>...</td>\n",
       "      <td>...</td>\n",
       "      <td>...</td>\n",
       "    </tr>\n",
       "    <tr>\n",
       "      <th>83969</th>\n",
       "      <td>related manufacturer reference number: 2938836...</td>\n",
       "      <td>A070909</td>\n",
       "      <td>related manufacturer reference number: --. it ...</td>\n",
       "      <td>related manufacturer reference number  it was ...</td>\n",
       "      <td>related manufacturer reference number: --. it ...</td>\n",
       "      <td>related manufacturer reference number: --. it ...</td>\n",
       "      <td>related manufacturer reference number: --. it ...</td>\n",
       "      <td>A07</td>\n",
       "      <td>A0709</td>\n",
       "    </tr>\n",
       "    <tr>\n",
       "      <th>323755</th>\n",
       "      <td>it was further reported that the wound culture...</td>\n",
       "      <td>A24</td>\n",
       "      <td>it was further reported that the wound culture...</td>\n",
       "      <td>it was further reported that the wound culture...</td>\n",
       "      <td>it was further that the wound culture from out...</td>\n",
       "      <td>it was further that the wound culture from out...</td>\n",
       "      <td>it was further that the wound culture from out...</td>\n",
       "      <td>A24</td>\n",
       "      <td></td>\n",
       "    </tr>\n",
       "    <tr>\n",
       "      <th>47378</th>\n",
       "      <td>it was reported that this implantable cardiove...</td>\n",
       "      <td>A090201</td>\n",
       "      <td>it was reported that this implantable cardiove...</td>\n",
       "      <td>it was reported that this implantable cardiove...</td>\n",
       "      <td>it was that this implantable cardioverter defi...</td>\n",
       "      <td>it was that this implantable cardioverter defi...</td>\n",
       "      <td>it was that this implantable cardioverter defi...</td>\n",
       "      <td>A09</td>\n",
       "      <td>A0902</td>\n",
       "    </tr>\n",
       "    <tr>\n",
       "      <th>483388</th>\n",
       "      <td>related mfr report number: 2017865-2023-21184....</td>\n",
       "      <td>A24</td>\n",
       "      <td>related mfr report number: --. related mfr rep...</td>\n",
       "      <td>related mfr report number  related mfr report ...</td>\n",
       "      <td>related mfr report number: --. related mfr rep...</td>\n",
       "      <td>related mfr report number: --. related mfr rep...</td>\n",
       "      <td>related mfr report number: --. related mfr rep...</td>\n",
       "      <td>A24</td>\n",
       "      <td></td>\n",
       "    </tr>\n",
       "    <tr>\n",
       "      <th>70224</th>\n",
       "      <td>it was reported that the right atrial (ra) lea...</td>\n",
       "      <td>A27</td>\n",
       "      <td>it was reported that the right atrial lead was...</td>\n",
       "      <td>it was reported that the right atrial lead was...</td>\n",
       "      <td>it was that the was capped for an unknown reas...</td>\n",
       "      <td>it was that the was capped for an unknown reas...</td>\n",
       "      <td>it was that the was capped for an unknown reas...</td>\n",
       "      <td>A27</td>\n",
       "      <td></td>\n",
       "    </tr>\n",
       "  </tbody>\n",
       "</table>\n",
       "<p>100 rows × 9 columns</p>\n",
       "</div>"
      ],
      "text/plain": [
       "                                                 FOI_TEXT    IMDRF  \\\n",
       "432108  it was reported that during implant the�right ...    A0701   \n",
       "145991  it was reported that the patient presented to ...  A090801   \n",
       "259118  it was reported that this pacemaker system tri...  A072201   \n",
       "502603  related manufacturer report number: 2017865-20...  A070909   \n",
       "173353  it was reported that a patient presented in a ...  A070101   \n",
       "...                                                   ...      ...   \n",
       "83969   related manufacturer reference number: 2938836...  A070909   \n",
       "323755  it was further reported that the wound culture...      A24   \n",
       "47378   it was reported that this implantable cardiove...  A090201   \n",
       "483388  related mfr report number: 2017865-2023-21184....      A24   \n",
       "70224   it was reported that the right atrial (ra) lea...      A27   \n",
       "\n",
       "                                                  Cleaned  \\\n",
       "432108  it was reported that during implant the right ...   \n",
       "145991  it was reported that the patient presented to ...   \n",
       "259118  it was reported that this pacemaker system tri...   \n",
       "502603  related manufacturer report number: --. it was...   \n",
       "173353  it was reported that a patient presented in a ...   \n",
       "...                                                   ...   \n",
       "83969   related manufacturer reference number: --. it ...   \n",
       "323755  it was further reported that the wound culture...   \n",
       "47378   it was reported that this implantable cardiove...   \n",
       "483388  related mfr report number: --. related mfr rep...   \n",
       "70224   it was reported that the right atrial lead was...   \n",
       "\n",
       "                                            NoPunctuation  \\\n",
       "432108  it was reported that during implant the right ...   \n",
       "145991  it was reported that the patient presented to ...   \n",
       "259118  it was reported that this pacemaker system tri...   \n",
       "502603  related manufacturer report number  it was rep...   \n",
       "173353  it was reported that a patient presented in a ...   \n",
       "...                                                   ...   \n",
       "83969   related manufacturer reference number  it was ...   \n",
       "323755  it was further reported that the wound culture...   \n",
       "47378   it was reported that this implantable cardiove...   \n",
       "483388  related mfr report number  related mfr report ...   \n",
       "70224   it was reported that the right atrial lead was...   \n",
       "\n",
       "                                                 NoStop10  \\\n",
       "432108  it was that during implant the exhibited poor ...   \n",
       "145991  it was that the presented to the hospital for ...   \n",
       "259118  it was that this pacemaker system triggered a ...   \n",
       "502603  related manufacturer report number: --. it was...   \n",
       "173353  it was that a presented in a post operation ch...   \n",
       "...                                                   ...   \n",
       "83969   related manufacturer reference number: --. it ...   \n",
       "323755  it was further that the wound culture from out...   \n",
       "47378   it was that this implantable cardioverter defi...   \n",
       "483388  related mfr report number: --. related mfr rep...   \n",
       "70224   it was that the was capped for an unknown reas...   \n",
       "\n",
       "                                                 NoStop20  \\\n",
       "432108  it was that during implant the poor thresholds...   \n",
       "145991  it was that the presented to the hospital for ...   \n",
       "259118  it was that this pacemaker system triggered a ...   \n",
       "502603  related manufacturer report number: --. it was...   \n",
       "173353  it was that a presented in a post operation ch...   \n",
       "...                                                   ...   \n",
       "83969   related manufacturer reference number: --. it ...   \n",
       "323755  it was further that the wound culture from out...   \n",
       "47378   it was that this implantable cardioverter defi...   \n",
       "483388  related mfr report number: --. related mfr rep...   \n",
       "70224   it was that the was capped for an unknown reas...   \n",
       "\n",
       "                                                 NoStop30 CatOneIMDRF  \\\n",
       "432108  it was that during implant the poor thresholds...         A07   \n",
       "145991  it was that the presented to the hospital for ...         A09   \n",
       "259118  it was that this system triggered a safety swi...         A07   \n",
       "502603  related manufacturer report number: --. it was...         A07   \n",
       "173353  it was that a presented in a post operation ch...         A07   \n",
       "...                                                   ...         ...   \n",
       "83969   related manufacturer reference number: --. it ...         A07   \n",
       "323755  it was further that the wound culture from out...         A24   \n",
       "47378   it was that this implantable cardioverter defi...         A09   \n",
       "483388  related mfr report number: --. related mfr rep...         A24   \n",
       "70224   it was that the was capped for an unknown reas...         A27   \n",
       "\n",
       "       CatTwoIMDRF  \n",
       "432108       A0701  \n",
       "145991       A0908  \n",
       "259118       A0722  \n",
       "502603       A0709  \n",
       "173353       A0701  \n",
       "...            ...  \n",
       "83969        A0709  \n",
       "323755              \n",
       "47378        A0902  \n",
       "483388              \n",
       "70224               \n",
       "\n",
       "[100 rows x 9 columns]"
      ]
     },
     "execution_count": 11,
     "metadata": {},
     "output_type": "execute_result"
    }
   ],
   "source": [
    "sub_df = df.sample(n=100, random_state=42)\n",
    "sub_df"
   ]
  },
  {
   "cell_type": "code",
   "execution_count": 12,
   "metadata": {},
   "outputs": [],
   "source": [
    "sub_df['f2sent'] = sub_df['FOI_TEXT'].apply(lambda x: preprocessor.first_two_sentences(x))\n",
    "sub_df['trimsent'] = sub_df['FOI_TEXT'].apply(lambda x: preprocessor.trimlastcompBERT(x))"
   ]
  },
  {
   "cell_type": "code",
   "execution_count": 13,
   "metadata": {},
   "outputs": [],
   "source": [
    "sub_df['cleanf2'] = sub_df['f2sent'].apply(preprocessor.clean_text)\n",
    "sub_df['cleantrim'] = sub_df['trimsent'].apply(preprocessor.clean_text)\n",
    "sub_df['nopunf2'] = sub_df['cleanf2'].apply(preprocessor.remove_punct)\n",
    "sub_df['nopuntrim'] = sub_df['cleantrim'].apply(preprocessor.remove_punct)"
   ]
  },
  {
   "cell_type": "code",
   "execution_count": null,
   "metadata": {},
   "outputs": [
    {
     "data": {
      "application/vnd.microsoft.datawrangler.viewer.v0+json": {
       "columns": [
        {
         "name": "index",
         "rawType": "int64",
         "type": "integer"
        },
        {
         "name": "FOI_TEXT",
         "rawType": "object",
         "type": "string"
        },
        {
         "name": "IMDRF",
         "rawType": "object",
         "type": "string"
        },
        {
         "name": "Cleaned",
         "rawType": "object",
         "type": "string"
        },
        {
         "name": "NoPunctuation",
         "rawType": "object",
         "type": "string"
        },
        {
         "name": "NoStop10",
         "rawType": "object",
         "type": "string"
        },
        {
         "name": "NoStop20",
         "rawType": "object",
         "type": "string"
        },
        {
         "name": "NoStop30",
         "rawType": "object",
         "type": "string"
        },
        {
         "name": "CatOneIMDRF",
         "rawType": "object",
         "type": "string"
        },
        {
         "name": "CatTwoIMDRF",
         "rawType": "object",
         "type": "string"
        },
        {
         "name": "f2sent",
         "rawType": "object",
         "type": "string"
        },
        {
         "name": "trimsent",
         "rawType": "object",
         "type": "string"
        },
        {
         "name": "cleanf2",
         "rawType": "object",
         "type": "string"
        },
        {
         "name": "cleantrim",
         "rawType": "object",
         "type": "string"
        },
        {
         "name": "nopunf2",
         "rawType": "object",
         "type": "string"
        },
        {
         "name": "nopuntrim",
         "rawType": "object",
         "type": "string"
        }
       ],
       "conversionMethod": "pd.DataFrame",
       "ref": "2d55496d-3392-41c8-844c-15bd57fb2fe9",
       "rows": [
        [
         "432108",
         "it was reported that during implant the�right atrial (ra) lead exhibited poor thresholds and sensing values. the ra lead was attempted/not used and replaced.�no patient complications have been reported as a result of this event.",
         "A0701",
         "it was reported that during implant the right atrial lead exhibited poor thresholds and sensing values. the ra lead was attempted/not used and replaced. no patient complications have been reported as a result of this event.",
         "it was reported that during implant the right atrial lead exhibited poor thresholds and sensing values the ra lead was attemptednot used and replaced no patient complications have been reported as a result of this event",
         "it was that during implant the exhibited poor thresholds and sensing values. the ra was attempted/not used and replaced. no have been as a of this event.",
         "it was that during implant the poor thresholds and sensing values. the ra was attempted/not used and replaced. no have been as a of this event.",
         "it was that during implant the poor thresholds and sensing values. the was attempted/not used and replaced. no have been as a of this event.",
         "A07",
         "A0701",
         "it was reported that during implant the�right atrial (ra) lead exhibited poor thresholds and sensing values. the ra lead was attempted/not used and replaced.�no patient complications have been reported as a result of this event.",
         "it was reported that during implant the�right atrial (ra) lead exhibited poor thresholds and sensing values. the ra lead was attempted/not used and replaced.�no patient complications have been reported as a result of this event.",
         "it was reported that during implant the right atrial lead exhibited poor thresholds and sensing values. the ra lead was attempted/not used and replaced. no patient complications have been reported as a result of this event.",
         "it was reported that during implant the right atrial lead exhibited poor thresholds and sensing values. the ra lead was attempted/not used and replaced. no patient complications have been reported as a result of this event.",
         "it was reported that during implant the right atrial lead exhibited poor thresholds and sensing values the ra lead was attemptednot used and replaced no patient complications have been reported as a result of this event",
         "it was reported that during implant the right atrial lead exhibited poor thresholds and sensing values the ra lead was attemptednot used and replaced no patient complications have been reported as a result of this event"
        ],
        [
         "145991",
         "it was reported that the patient presented to the hospital for an evaluation for a knee surgery clearance. upon interrogating the pulse generator, there were alerts for right ventricular lead impedance below lower limit with the most recent lead impedance at 260 ohms. the right ventricular lead also had stored episodes of noise reversion and high ventricular rate which appeared to be lead noise. in addition, the atrial lead had episodes of inappropriate auto mode switch due to lead noise. the pulse generator was already programmed to vdd where it was noted that the atrial lead previously had poor sensing and intermittent capture. the physician reprogrammed the leads prior to and after the procedure to accommodate for the anomalies. the physician stated that the patient did not appear to require right ventricular pacing. the ventricular lead was then programmed to 6.0 v output and sensing was changed to auto. it was noted that the lead was tested with uni-polar tip and ring sensing and pacing with no successful sensing or capture without stimulation of the pocket. the patient was in stable condition and no other changes were made. related manufacturer reference number: 2017865-2020-06900.",
         "A090801",
         "it was reported that the patient presented to the hospital for an evaluation for a knee surgery clearance. upon interrogating the pulse generator, there were alerts for right ventricular lead impedance below lower limit with the most recent lead impedance at ohms. the right ventricular lead also had stored episodes of noise reversion and high ventricular rate which appeared to be lead noise. in addition, the atrial lead had episodes of inappropriate auto mode switch due to lead noise. the pulse generator was already programmed to vdd where it was noted that the atrial lead previously had poor sensing and intermittent capture. the physician reprogrammed the leads prior to and after the procedure to accommodate for the anomalies. the physician stated that the patient did not appear to require right ventricular pacing. the ventricular lead was then programmed to . v output and sensing was changed to auto. it was noted that the lead was tested with uni-polar tip and ring sensing and pacing with no successful sensing or capture without stimulation of the pocket. the patient was in stable condition and no other changes were made. related manufacturer reference number: --.",
         "it was reported that the patient presented to the hospital for an evaluation for a knee surgery clearance upon interrogating the pulse generator there were alerts for right ventricular lead impedance below lower limit with the most recent lead impedance at ohms the right ventricular lead also had stored episodes of noise reversion and high ventricular rate which appeared to be lead noise in addition the atrial lead had episodes of inappropriate auto mode switch due to lead noise the pulse generator was already programmed to vdd where it was noted that the atrial lead previously had poor sensing and intermittent capture the physician reprogrammed the leads prior to and after the procedure to accommodate for the anomalies the physician stated that the patient did not appear to require right ventricular pacing the ventricular lead was then programmed to  v output and sensing was changed to auto it was noted that the lead was tested with unipolar tip and ring sensing and pacing with no successful sensing or capture without stimulation of the pocket the patient was in stable condition and no other changes were made related manufacturer reference number",
         "it was that the presented to the hospital for an evaluation for a knee surgery clearance. upon interrogating the pulse generator, there were alerts for impedance below lower limit with the most recent impedance at ohms. the also had stored episodes of noise reversion and high rate which appeared to be noise. in addition, the had episodes of inappropriate auto mode switch due to noise. the pulse generator was already programmed to vdd where it was noted that the previously had poor sensing and intermittent capture. the physician reprogrammed the leads prior to and after the procedure to accommodate for the anomalies. the physician stated that the did not appear to require pacing. the was then programmed to . v output and sensing was changed to auto. it was noted that the was tested with uni-polar tip and ring sensing and pacing with no successful sensing or capture without stimulation of the pocket. the was in stable condition and no other changes were made. related manufacturer reference number: --.",
         "it was that the presented to the hospital for an evaluation for a knee surgery clearance. upon interrogating the pulse generator, there were alerts for below lower limit with the most recent at ohms. the also had stored episodes of noise reversion and rate which appeared to be noise. in addition, the had episodes of inappropriate auto mode switch due to noise. the pulse generator was already programmed to vdd where it was that the previously had poor sensing and intermittent capture. the physician reprogrammed the leads prior to and after the procedure to accommodate for the anomalies. the physician stated that the did not appear to require pacing. the was then programmed to . v output and sensing was changed to auto. it was that the was tested with uni-polar tip and ring sensing and with no successful sensing or capture without stimulation of the pocket. the was in stable condition and no other changes were made. related manufacturer reference number: --.",
         "it was that the presented to the hospital for an evaluation for a knee surgery clearance. upon interrogating the pulse generator, there were alerts for below lower limit with the most recent at ohms. the also had stored episodes of reversion and rate which appeared to be noise. in addition, the had episodes of inappropriate auto mode switch to noise. the pulse generator was already programmed to vdd where it was that the previously had poor sensing and intermittent capture. the physician reprogrammed the leads prior to and after the to accommodate for the anomalies. the physician stated that the did not appear to require pacing. the was then programmed to . v output and sensing was changed to auto. it was that the was tested with uni-polar tip and ring sensing and with no successful sensing or without stimulation of the pocket. the was in condition and no other changes were made. related manufacturer reference number: --.",
         "A09",
         "A0908",
         "it was reported that the patient presented to the hospital for an evaluation for a knee surgery clearance. upon interrogating the pulse generator, there were alerts for right ventricular lead impedance below lower limit with the most recent lead impedance at 260 ohms.",
         "it was reported that the patient presented to the hospital for an evaluation for a knee surgery clearance. upon interrogating the pulse generator, there were alerts for right ventricular lead impedance below lower limit with the most recent lead impedance at 260 ohms. the right ventricular lead also had stored episodes of noise reversion and high ventricular rate which appeared to be lead noise. in addition, the atrial lead had episodes of inappropriate auto mode switch due to lead noise. the pulse generator was already programmed to vdd where it was noted that the atrial lead previously had poor sensing and intermittent capture. the physician reprogrammed the leads prior to and after the procedure to accommodate for the anomalies. the physician stated that the patient did not appear to require right ventricular pacing. the ventricular lead was then programmed to 6.0 v output and sensing was changed to auto. it was noted that the lead was tested with uni-polar tip and ring sensing and pacing with no successful sensing or capture without stimulation of the pocket. the patient was in stable condition and no other changes were made. related manufacturer reference number: 2017865-2020-06900.",
         "it was reported that the patient presented to the hospital for an evaluation for a knee surgery clearance. upon interrogating the pulse generator, there were alerts for right ventricular lead impedance below lower limit with the most recent lead impedance at ohms.",
         "it was reported that the patient presented to the hospital for an evaluation for a knee surgery clearance. upon interrogating the pulse generator, there were alerts for right ventricular lead impedance below lower limit with the most recent lead impedance at ohms. the right ventricular lead also had stored episodes of noise reversion and high ventricular rate which appeared to be lead noise. in addition, the atrial lead had episodes of inappropriate auto mode switch due to lead noise. the pulse generator was already programmed to vdd where it was noted that the atrial lead previously had poor sensing and intermittent capture. the physician reprogrammed the leads prior to and after the procedure to accommodate for the anomalies. the physician stated that the patient did not appear to require right ventricular pacing. the ventricular lead was then programmed to . v output and sensing was changed to auto. it was noted that the lead was tested with uni-polar tip and ring sensing and pacing with no successful sensing or capture without stimulation of the pocket. the patient was in stable condition and no other changes were made. related manufacturer reference number: --.",
         "it was reported that the patient presented to the hospital for an evaluation for a knee surgery clearance upon interrogating the pulse generator there were alerts for right ventricular lead impedance below lower limit with the most recent lead impedance at ohms",
         "it was reported that the patient presented to the hospital for an evaluation for a knee surgery clearance upon interrogating the pulse generator there were alerts for right ventricular lead impedance below lower limit with the most recent lead impedance at ohms the right ventricular lead also had stored episodes of noise reversion and high ventricular rate which appeared to be lead noise in addition the atrial lead had episodes of inappropriate auto mode switch due to lead noise the pulse generator was already programmed to vdd where it was noted that the atrial lead previously had poor sensing and intermittent capture the physician reprogrammed the leads prior to and after the procedure to accommodate for the anomalies the physician stated that the patient did not appear to require right ventricular pacing the ventricular lead was then programmed to  v output and sensing was changed to auto it was noted that the lead was tested with unipolar tip and ring sensing and pacing with no successful sensing or capture without stimulation of the pocket the patient was in stable condition and no other changes were made related manufacturer reference number"
        ],
        [
         "259118",
         "it was reported that this pacemaker system triggered a lead safety switch (lss) due to a high out of range right atrial (ra) pacing impedance measurement of greater than 3000 ohms. additionally, the patient was seen in-clinic and noise was reproducible with provocative maneuvers. chest x-ray images were provided to boston scientific technical services for review and did not reveal any anomaly. the device was reprogrammed. this pacemaker and ra lead remains in service, and there were no adverse patient effects reported.",
         "A072201",
         "it was reported that this pacemaker system triggered a lead safety switch due to a high out of range right atrial pacing impedance measurement of greater than ohms. additionally, the patient was seen in-clinic and noise was reproducible with provocative maneuvers. chest x-ray images were provided to boston scientific technical services for review and did not reveal any anomaly. the device was reprogrammed. this pacemaker and ra lead remains in service, and there were no adverse patient effects reported.",
         "it was reported that this pacemaker system triggered a lead safety switch due to a high out of range right atrial pacing impedance measurement of greater than ohms additionally the patient was seen inclinic and noise was reproducible with provocative maneuvers chest xray images were provided to boston scientific technical services for review and did not reveal any anomaly the device was reprogrammed this pacemaker and ra lead remains in service and there were no adverse patient effects reported",
         "it was that this pacemaker system triggered a safety switch due to a high out of range pacing impedance measurement of greater than ohms. additionally, the was seen in-clinic and noise was reproducible with provocative maneuvers. chest x-ray images were provided to boston scientific technical services for review and did not reveal any anomaly. the was reprogrammed. this pacemaker and ra remains in service, and there were no adverse effects reported.",
         "it was that this pacemaker system triggered a safety switch due to a out of range measurement of greater than ohms. additionally, the was seen in-clinic and noise was reproducible with provocative maneuvers. chest x-ray images were provided to boston scientific technical services for review and did not reveal any anomaly. the was reprogrammed. this pacemaker and ra remains in service, and there were no reported.",
         "it was that this system triggered a safety switch to a out of range measurement of greater than ohms. additionally, the was seen in-clinic and was reproducible with provocative maneuvers. chest x-ray images were provided to boston scientific technical services for review and did not reveal any anomaly. the was reprogrammed. this and in service, and there were no reported.",
         "A07",
         "A0722",
         "it was reported that this pacemaker system triggered a lead safety switch (lss) due to a high out of range right atrial (ra) pacing impedance measurement of greater than 3000 ohms. additionally, the patient was seen in-clinic and noise was reproducible with provocative maneuvers.",
         "it was reported that this pacemaker system triggered a lead safety switch (lss) due to a high out of range right atrial (ra) pacing impedance measurement of greater than 3000 ohms. additionally, the patient was seen in-clinic and noise was reproducible with provocative maneuvers. chest x-ray images were provided to boston scientific technical services for review and did not reveal any anomaly. the device was reprogrammed. this pacemaker and ra lead remains in service, and there were no adverse patient effects reported.",
         "it was reported that this pacemaker system triggered a lead safety switch due to a high out of range right atrial pacing impedance measurement of greater than ohms. additionally, the patient was seen in-clinic and noise was reproducible with provocative maneuvers.",
         "it was reported that this pacemaker system triggered a lead safety switch due to a high out of range right atrial pacing impedance measurement of greater than ohms. additionally, the patient was seen in-clinic and noise was reproducible with provocative maneuvers. chest x-ray images were provided to boston scientific technical services for review and did not reveal any anomaly. the device was reprogrammed. this pacemaker and ra lead remains in service, and there were no adverse patient effects reported.",
         "it was reported that this pacemaker system triggered a lead safety switch due to a high out of range right atrial pacing impedance measurement of greater than ohms additionally the patient was seen inclinic and noise was reproducible with provocative maneuvers",
         "it was reported that this pacemaker system triggered a lead safety switch due to a high out of range right atrial pacing impedance measurement of greater than ohms additionally the patient was seen inclinic and noise was reproducible with provocative maneuvers chest xray images were provided to boston scientific technical services for review and did not reveal any anomaly the device was reprogrammed this pacemaker and ra lead remains in service and there were no adverse patient effects reported"
        ],
        [
         "502603",
         "related manufacturer report number: 2017865-2023-36013. it was reported during in clinic follow up that the right ventricular and atrial leads were exhibiting noise. on the former, this noise resulted in oversensing and ventricular pacing inhibition. the patient was reportedly symptomatic to the inhibition, but the exact symptoms exhibited were unknown. during revision procedure, insulation breach was noted on both leads. both leads were explanted and successfully replaced. the patient was stable following the operation.",
         "A070909",
         "related manufacturer report number: --. it was reported during in clinic follow up that the right ventricular and atrial leads were exhibiting noise. on the former, this noise resulted in oversensing and ventricular pacing inhibition. the patient was reportedly symptomatic to the inhibition, but the exact symptoms exhibited were unknown. during revision procedure, insulation breach was noted on both leads. both leads were explanted and successfully replaced. the patient was stable following the operation.",
         "related manufacturer report number  it was reported during in clinic follow up that the right ventricular and atrial leads were exhibiting noise on the former this noise resulted in oversensing and ventricular pacing inhibition the patient was reportedly symptomatic to the inhibition but the exact symptoms exhibited were unknown during revision procedure insulation breach was noted on both leads both leads were explanted and successfully replaced the patient was stable following the operation",
         "related manufacturer report number: --. it was during in clinic follow up that the and leads were exhibiting noise. on the former, this noise resulted in oversensing and pacing inhibition. the was reportedly symptomatic to the inhibition, but the exact symptoms exhibited were unknown. during revision procedure, insulation breach was noted on both leads. both leads were explanted and successfully replaced. the was stable following the operation.",
         "related manufacturer report number: --. it was during in clinic follow up that the and leads were exhibiting noise. on the former, this noise resulted in oversensing and inhibition. the was reportedly symptomatic to the inhibition, but the exact symptoms were unknown. during revision procedure, insulation breach was on both leads. both leads were and successfully replaced. the was stable following the operation.",
         "related manufacturer report number: --. it was during in clinic follow up that the and leads were exhibiting noise. on the former, this resulted in oversensing and inhibition. the was reportedly symptomatic to the inhibition, but the exact symptoms were unknown. during revision procedure, insulation breach was on both leads. both leads were and successfully replaced. the was following the operation.",
         "A07",
         "A0709",
         "related manufacturer report number: 2017865-2023-36013. it was reported during in clinic follow up that the right ventricular and atrial leads were exhibiting noise. on the former, this noise resulted in oversensing and ventricular pacing inhibition.",
         "related manufacturer report number: 2017865-2023-36013. it was reported during in clinic follow up that the right ventricular and atrial leads were exhibiting noise. on the former, this noise resulted in oversensing and ventricular pacing inhibition. the patient was reportedly symptomatic to the inhibition, but the exact symptoms exhibited were unknown. during revision procedure, insulation breach was noted on both leads. both leads were explanted and successfully replaced. the patient was stable following the operation.",
         "related manufacturer report number: --. it was reported during in clinic follow up that the right ventricular and atrial leads were exhibiting noise. on the former, this noise resulted in oversensing and ventricular pacing inhibition.",
         "related manufacturer report number: --. it was reported during in clinic follow up that the right ventricular and atrial leads were exhibiting noise. on the former, this noise resulted in oversensing and ventricular pacing inhibition. the patient was reportedly symptomatic to the inhibition, but the exact symptoms exhibited were unknown. during revision procedure, insulation breach was noted on both leads. both leads were explanted and successfully replaced. the patient was stable following the operation.",
         "related manufacturer report number  it was reported during in clinic follow up that the right ventricular and atrial leads were exhibiting noise on the former this noise resulted in oversensing and ventricular pacing inhibition",
         "related manufacturer report number  it was reported during in clinic follow up that the right ventricular and atrial leads were exhibiting noise on the former this noise resulted in oversensing and ventricular pacing inhibition the patient was reportedly symptomatic to the inhibition but the exact symptoms exhibited were unknown during revision procedure insulation breach was noted on both leads both leads were explanted and successfully replaced the patient was stable following the operation"
        ],
        [
         "173353",
         "it was reported that a patient presented in a post operation check with an atrial lead that exhibited a decrease in sensing amplitude and loss of capture. the lead was repositioned on (b)(6) 2020. values were acceptable post reposition. the patient was doing fine, was recovering, and was scheduled to be discharged.",
         "A070101",
         "it was reported that a patient presented in a post operation check with an atrial lead that exhibited a decrease in sensing amplitude and loss of capture. the lead was repositioned on . values were acceptable post reposition. the patient was doing fine, was recovering, and was scheduled to be discharged.",
         "it was reported that a patient presented in a post operation check with an atrial lead that exhibited a decrease in sensing amplitude and loss of capture the lead was repositioned on  values were acceptable post reposition the patient was doing fine was recovering and was scheduled to be discharged",
         "it was that a presented in a post operation check with an that exhibited a decrease in sensing amplitude and loss of capture. the was repositioned on . values were acceptable post reposition. the was doing fine, was recovering, and was scheduled to be discharged.",
         "it was that a presented in a post operation check with an that a decrease in sensing amplitude and loss of capture. the was repositioned on . values were acceptable post reposition. the was doing fine, was recovering, and was scheduled to be discharged.",
         "it was that a presented in a post operation check with an that a decrease in sensing amplitude and loss of capture. the was repositioned on . values were acceptable post reposition. the was doing fine, was recovering, and was scheduled to be discharged.",
         "A07",
         "A0701",
         "it was reported that a patient presented in a post operation check with an atrial lead that exhibited a decrease in sensing amplitude and loss of capture. the lead was repositioned on (b)(6) 2020. values were acceptable post reposition.",
         "it was reported that a patient presented in a post operation check with an atrial lead that exhibited a decrease in sensing amplitude and loss of capture. the lead was repositioned on (b)(6) 2020. values were acceptable post reposition. the patient was doing fine, was recovering, and was scheduled to be discharged.",
         "it was reported that a patient presented in a post operation check with an atrial lead that exhibited a decrease in sensing amplitude and loss of capture. the lead was repositioned on . values were acceptable post reposition.",
         "it was reported that a patient presented in a post operation check with an atrial lead that exhibited a decrease in sensing amplitude and loss of capture. the lead was repositioned on . values were acceptable post reposition. the patient was doing fine, was recovering, and was scheduled to be discharged.",
         "it was reported that a patient presented in a post operation check with an atrial lead that exhibited a decrease in sensing amplitude and loss of capture the lead was repositioned on  values were acceptable post reposition",
         "it was reported that a patient presented in a post operation check with an atrial lead that exhibited a decrease in sensing amplitude and loss of capture the lead was repositioned on  values were acceptable post reposition the patient was doing fine was recovering and was scheduled to be discharged"
        ],
        [
         "571440",
         "it was reported that a physician contacted boston scientific technical services (ts) explaining that they had scheduled a replacement procedure for this pacemaker as the device has been implanted for over ten years and because at the last follow up, the estimated remaining battery longevity was only six months, but the day of the procedure, the device was interrogated, and they noticed the battery longevity had increased to three years. no changes to programming had been done from the previous follow up, and pacing percentage and leads outputs were consistent. a request was made to have data from this device analyzed, but technical services (ts) indicated that the current uploaded device data was insufficient for a battery analysis and requested to provide updated raw data. at this time, no further information is available. no adverse patient effects were reported. the device remains in service. additional information was received. updated data was transmitted from the device. ts performed a battery analysis and confirmed there is no evidence of premature battery depletion (pbd). the battery of this device is depleting normally, there are no abnormal faults or resets, and the power consumption is stable and within expectations based on programming and therapy delivery. no adverse patient effects were reported. the device remains in service.",
         "A0705",
         "it was reported that a physician contacted boston scientific technical services explaining that they had scheduled a replacement procedure for this pacemaker as the device has been implanted for over ten years and because at the last follow up, the estimated remaining battery longevity was only six months, but the day of the procedure, the device was interrogated, and they noticed the battery longevity had increased to three years. no changes to programming had been done from the previous follow up, and pacing percentage and leads outputs were consistent. a request was made to have data from this device analyzed, but technical services indicated that the current uploaded device data was insufficient for a battery analysis and requested to provide updated raw data. at this time, no further information is available. no adverse patient effects were reported. the device remains in service. additional information was received. updated data was transmitted from the device. ts performed a battery analysis and confirmed there is no evidence of premature battery depletion . the battery of this device is depleting normally, there are no abnormal faults or resets, and the power consumption is stable and within expectations based on programming and therapy delivery. no adverse patient effects were reported. the device remains in service.",
         "it was reported that a physician contacted boston scientific technical services explaining that they had scheduled a replacement procedure for this pacemaker as the device has been implanted for over ten years and because at the last follow up the estimated remaining battery longevity was only six months but the day of the procedure the device was interrogated and they noticed the battery longevity had increased to three years no changes to programming had been done from the previous follow up and pacing percentage and leads outputs were consistent a request was made to have data from this device analyzed but technical services indicated that the current uploaded device data was insufficient for a battery analysis and requested to provide updated raw data at this time no further information is available no adverse patient effects were reported the device remains in service additional information was received updated data was transmitted from the device ts performed a battery analysis and confirmed there is no evidence of premature battery depletion  the battery of this device is depleting normally there are no abnormal faults or resets and the power consumption is stable and within expectations based on programming and therapy delivery no adverse patient effects were reported the device remains in service",
         "it was that a physician contacted boston scientific technical services explaining that they had scheduled a replacement procedure for this pacemaker as the has been implanted for over ten years and because at the last follow up, the estimated remaining battery longevity was only six months, but the day of the procedure, the was interrogated, and they noticed the battery longevity had increased to three years. no changes to programming had been done from the previous follow up, and pacing percentage and leads outputs were consistent. a request was made to have data from this analyzed, but technical services indicated that the current uploaded data was insufficient for a battery analysis and requested to provide updated raw data. at this time, no further information is available. no adverse effects were reported. the remains in service. additional information was received. updated data was transmitted from the device. ts performed a battery analysis and confirmed there is no evidence of premature battery depletion . the battery of this is depleting normally, there are no abnormal faults or resets, and the power consumption is stable and within expectations based on programming and therapy delivery. no adverse effects were reported. the remains in service.",
         "it was that a physician contacted boston scientific technical services explaining that they had scheduled a replacement procedure for this pacemaker as the has been implanted for over ten years and because at the last follow up, the estimated remaining battery longevity was only six months, but the day of the procedure, the was interrogated, and they noticed the battery longevity had increased to three years. no changes to programming had been done from the previous follow up, and percentage and leads outputs were consistent. a request was made to have data from this analyzed, but technical services indicated that the current uploaded data was insufficient for a battery analysis and requested to provide updated raw data. at this time, no further information is available. no were reported. the remains in service. information was received. updated data was transmitted from the device. ts performed a battery analysis and confirmed there is no evidence of premature battery depletion . the battery of this is depleting normally, there are no abnormal faults or resets, and the power consumption is stable and within expectations based on programming and therapy delivery. no were reported. the remains in service.",
         "it was that a physician contacted boston scientific technical services explaining that they had scheduled a replacement for this as the has been implanted for over ten years and because at the last follow up, the estimated remaining battery longevity was only six months, but the day of the procedure, the was interrogated, and they noticed the battery longevity had increased to three years. no changes to programming had been done from the previous follow up, and percentage and leads outputs were consistent. a request was made to have data from this analyzed, but technical services indicated that the current uploaded data was insufficient for a battery analysis and requested to provide updated raw data. at this time, no further information is available. no were reported. the in service. information was received. updated data was transmitted from the device. ts performed a battery analysis and confirmed there is no evidence of premature battery depletion . the battery of this is depleting normally, there are no abnormal faults or resets, and the power consumption is and within expectations based on programming and therapy delivery. no were reported. the in service.",
         "A07",
         "A0705",
         "it was reported that a physician contacted boston scientific technical services (ts) explaining that they had scheduled a replacement procedure for this pacemaker as the device has been implanted for over ten years and because at the last follow up, the estimated remaining battery longevity was only six months, but the day of the procedure, the device was interrogated, and they noticed the battery longevity had increased to three years. no changes to programming had been done from the previous follow up, and pacing percentage and leads outputs were consistent.",
         "it was reported that a physician contacted boston scientific technical services (ts) explaining that they had scheduled a replacement procedure for this pacemaker as the device has been implanted for over ten years and because at the last follow up, the estimated remaining battery longevity was only six months, but the day of the procedure, the device was interrogated, and they noticed the battery longevity had increased to three years. no changes to programming had been done from the previous follow up, and pacing percentage and leads outputs were consistent. a request was made to have data from this device analyzed, but technical services (ts) indicated that the current uploaded device data was insufficient for a battery analysis and requested to provide updated raw data. at this time, no further information is available. no adverse patient effects were reported. the device remains in service. additional information was received. updated data was transmitted from the device. ts performed a battery analysis and confirmed there is no evidence of premature battery depletion (pbd). the battery of this device is depleting normally, there are no abnormal faults or resets, and the power consumption is stable and within expectations based on programming and therapy delivery. no adverse patient effects were reported. the device remains in service.",
         "it was reported that a physician contacted boston scientific technical services explaining that they had scheduled a replacement procedure for this pacemaker as the device has been implanted for over ten years and because at the last follow up, the estimated remaining battery longevity was only six months, but the day of the procedure, the device was interrogated, and they noticed the battery longevity had increased to three years. no changes to programming had been done from the previous follow up, and pacing percentage and leads outputs were consistent.",
         "it was reported that a physician contacted boston scientific technical services explaining that they had scheduled a replacement procedure for this pacemaker as the device has been implanted for over ten years and because at the last follow up, the estimated remaining battery longevity was only six months, but the day of the procedure, the device was interrogated, and they noticed the battery longevity had increased to three years. no changes to programming had been done from the previous follow up, and pacing percentage and leads outputs were consistent. a request was made to have data from this device analyzed, but technical services indicated that the current uploaded device data was insufficient for a battery analysis and requested to provide updated raw data. at this time, no further information is available. no adverse patient effects were reported. the device remains in service. additional information was received. updated data was transmitted from the device. ts performed a battery analysis and confirmed there is no evidence of premature battery depletion . the battery of this device is depleting normally, there are no abnormal faults or resets, and the power consumption is stable and within expectations based on programming and therapy delivery. no adverse patient effects were reported. the device remains in service.",
         "it was reported that a physician contacted boston scientific technical services explaining that they had scheduled a replacement procedure for this pacemaker as the device has been implanted for over ten years and because at the last follow up the estimated remaining battery longevity was only six months but the day of the procedure the device was interrogated and they noticed the battery longevity had increased to three years no changes to programming had been done from the previous follow up and pacing percentage and leads outputs were consistent",
         "it was reported that a physician contacted boston scientific technical services explaining that they had scheduled a replacement procedure for this pacemaker as the device has been implanted for over ten years and because at the last follow up the estimated remaining battery longevity was only six months but the day of the procedure the device was interrogated and they noticed the battery longevity had increased to three years no changes to programming had been done from the previous follow up and pacing percentage and leads outputs were consistent a request was made to have data from this device analyzed but technical services indicated that the current uploaded device data was insufficient for a battery analysis and requested to provide updated raw data at this time no further information is available no adverse patient effects were reported the device remains in service additional information was received updated data was transmitted from the device ts performed a battery analysis and confirmed there is no evidence of premature battery depletion  the battery of this device is depleting normally there are no abnormal faults or resets and the power consumption is stable and within expectations based on programming and therapy delivery no adverse patient effects were reported the device remains in service"
        ],
        [
         "312318",
         "it was reported that this right atrial (ra) lead was capped and abandoned due to a complete fracture just below the suture sleeve. the fracture was identified by a complete lack of measurements. it was successfully replaced with a new lead. no additional adverse patient effects were reported.",
         "A0722",
         "it was reported that this right atrial lead was capped and abandoned due to a complete fracture just below the suture sleeve. the fracture was identified by a complete lack of measurements. it was successfully replaced with a new lead. no additional adverse patient effects were reported.",
         "it was reported that this right atrial lead was capped and abandoned due to a complete fracture just below the suture sleeve the fracture was identified by a complete lack of measurements it was successfully replaced with a new lead no additional adverse patient effects were reported",
         "it was that this was capped and abandoned due to a complete fracture just below the suture sleeve. the fracture was identified by a complete lack of measurements. it was successfully replaced with a new lead. no additional adverse effects were reported.",
         "it was that this was capped and abandoned due to a complete fracture just below the suture sleeve. the fracture was identified by a complete lack of measurements. it was successfully with a new lead. no were reported.",
         "it was that this was capped and abandoned to a complete fracture just below the suture sleeve. the fracture was identified by a complete lack of measurements. it was successfully with a new lead. no were reported.",
         "A07",
         "A0722",
         "it was reported that this right atrial (ra) lead was capped and abandoned due to a complete fracture just below the suture sleeve. the fracture was identified by a complete lack of measurements.",
         "it was reported that this right atrial (ra) lead was capped and abandoned due to a complete fracture just below the suture sleeve. the fracture was identified by a complete lack of measurements. it was successfully replaced with a new lead. no additional adverse patient effects were reported.",
         "it was reported that this right atrial lead was capped and abandoned due to a complete fracture just below the suture sleeve. the fracture was identified by a complete lack of measurements.",
         "it was reported that this right atrial lead was capped and abandoned due to a complete fracture just below the suture sleeve. the fracture was identified by a complete lack of measurements. it was successfully replaced with a new lead. no additional adverse patient effects were reported.",
         "it was reported that this right atrial lead was capped and abandoned due to a complete fracture just below the suture sleeve the fracture was identified by a complete lack of measurements",
         "it was reported that this right atrial lead was capped and abandoned due to a complete fracture just below the suture sleeve the fracture was identified by a complete lack of measurements it was successfully replaced with a new lead no additional adverse patient effects were reported"
        ],
        [
         "198374",
         "it was reported that the right ventricular (rv) lead exhibited undersensed beats and fluctuating r waves. the rv lead was reprogrammed and remains in use. no patient complications have been reported as a result of this event.",
         "A0709",
         "it was reported that the right ventricular lead exhibited undersensed beats and fluctuating r waves. the rv lead was reprogrammed and remains in use. no patient complications have been reported as a result of this event.",
         "it was reported that the right ventricular lead exhibited undersensed beats and fluctuating r waves the rv lead was reprogrammed and remains in use no patient complications have been reported as a result of this event",
         "it was that the exhibited undersensed beats and fluctuating r waves. the rv was reprogrammed and remains in use. no have been as a of this event.",
         "it was that the undersensed beats and fluctuating r waves. the rv was reprogrammed and remains in use. no have been as a of this event.",
         "it was that the undersensed beats and fluctuating r waves. the was reprogrammed and in use. no have been as a of this event.",
         "A07",
         "A0709",
         "it was reported that the right ventricular (rv) lead exhibited undersensed beats and fluctuating r waves. the rv lead was reprogrammed and remains in use.",
         "it was reported that the right ventricular (rv) lead exhibited undersensed beats and fluctuating r waves. the rv lead was reprogrammed and remains in use. no patient complications have been reported as a result of this event.",
         "it was reported that the right ventricular lead exhibited undersensed beats and fluctuating r waves. the rv lead was reprogrammed and remains in use.",
         "it was reported that the right ventricular lead exhibited undersensed beats and fluctuating r waves. the rv lead was reprogrammed and remains in use. no patient complications have been reported as a result of this event.",
         "it was reported that the right ventricular lead exhibited undersensed beats and fluctuating r waves the rv lead was reprogrammed and remains in use",
         "it was reported that the right ventricular lead exhibited undersensed beats and fluctuating r waves the rv lead was reprogrammed and remains in use no patient complications have been reported as a result of this event"
        ],
        [
         "158201",
         "it was reported when the external pulse generator (epg) was turned on there was no sensing. the epg does not turn off with dead batteries, it stays on but it does not stimulate. the batteries were charged and the cable works with another epg. the epg returned for service. there was no patient involvement.",
         "A0907",
         "it was reported when the external pulse generator was turned on there was no sensing. the epg does not turn off with dead batteries, it stays on but it does not stimulate. the batteries were charged and the cable works with another epg. the epg returned for service. there was no patient involvement.",
         "it was reported when the external pulse generator was turned on there was no sensing the epg does not turn off with dead batteries it stays on but it does not stimulate the batteries were charged and the cable works with another epg the epg returned for service there was no patient involvement",
         "it was when the external pulse generator was turned on there was no sensing. the epg does not turn off with dead batteries, it stays on but it does not stimulate. the batteries were charged and the cable works with another epg. the epg returned for service. there was no involvement.",
         "it was when the external pulse generator was turned on there was no sensing. the epg does not turn off with dead batteries, it stays on but it does not stimulate. the batteries were charged and the cable works with another epg. the epg returned for service. there was no involvement.",
         "it was when the external pulse generator was turned on there was no sensing. the epg does not turn off with dead batteries, it stays on but it does not stimulate. the batteries were charged and the cable works with another epg. the epg returned for service. there was no involvement.",
         "A09",
         "A0907",
         "it was reported when the external pulse generator (epg) was turned on there was no sensing. the epg does not turn off with dead batteries, it stays on but it does not stimulate.",
         "it was reported when the external pulse generator (epg) was turned on there was no sensing. the epg does not turn off with dead batteries, it stays on but it does not stimulate. the batteries were charged and the cable works with another epg. the epg returned for service. there was no patient involvement.",
         "it was reported when the external pulse generator was turned on there was no sensing. the epg does not turn off with dead batteries, it stays on but it does not stimulate.",
         "it was reported when the external pulse generator was turned on there was no sensing. the epg does not turn off with dead batteries, it stays on but it does not stimulate. the batteries were charged and the cable works with another epg. the epg returned for service. there was no patient involvement.",
         "it was reported when the external pulse generator was turned on there was no sensing the epg does not turn off with dead batteries it stays on but it does not stimulate",
         "it was reported when the external pulse generator was turned on there was no sensing the epg does not turn off with dead batteries it stays on but it does not stimulate the batteries were charged and the cable works with another epg the epg returned for service there was no patient involvement"
        ],
        [
         "361821",
         "reportedly, during a follow-up performed on (b)(6) 2022, it was impossible to print a report when clicking on the print button on the top of the screen of the programmer.",
         "A09",
         "reportedly, during a follow-up performed on , it was impossible to print a report when clicking on the print button on the top of the screen of the programmer.",
         "reportedly during a followup performed on  it was impossible to print a report when clicking on the print button on the top of the screen of the programmer",
         "reportedly, during a follow-up performed on , it was impossible to print a report when clicking on the print button on the top of the screen of the programmer.",
         "reportedly, during a follow-up performed on , it was impossible to print a report when clicking on the print button on the top of the screen of the programmer.",
         "reportedly, during a follow-up performed on , it was impossible to print a report when clicking on the print button on the top of the screen of the programmer.",
         "A09",
         "",
         "reportedly, during a follow-up performed on , it was impossible to print a report when clicking on the print button on the top of the screen of the programmer.",
         "reportedly, during a follow-up performed on (b)(6) 2022, it was impossible to print a report when clicking on the print button on the top of the screen of the programmer.",
         "reportedly, during a follow-up performed on , it was impossible to print a report when clicking on the print button on the top of the screen of the programmer.",
         "reportedly, during a follow-up performed on , it was impossible to print a report when clicking on the print button on the top of the screen of the programmer.",
         "reportedly during a followup performed on  it was impossible to print a report when clicking on the print button on the top of the screen of the programmer",
         "reportedly during a followup performed on  it was impossible to print a report when clicking on the print button on the top of the screen of the programmer"
        ],
        [
         "17015",
         "during follow-up, it was reported that the patient had pectoral muscle stimulation. loss of capture was observed on the right ventricular (rv) lead. diagnostic imaging was performed and revealed that the rv, atrial, and left ventricular (lv) leads were dislodged. no intervention was performed; the device and leads were deactivated to resolve the event. the patient was in stable condition and there were no adverse consequences. related manufacturer reference number: 2938836-2019-01420, 2017865-2019-03003.",
         "A051201",
         "during follow-up, it was reported that the patient had pectoral muscle stimulation. loss of capture was observed on the right ventricular lead. diagnostic imaging was performed and revealed that the rv, atrial, and left ventricular leads were dislodged. no intervention was performed; the device and leads were deactivated to resolve the event. the patient was in stable condition and there were no adverse consequences. related manufacturer reference number: --, --.",
         "during followup it was reported that the patient had pectoral muscle stimulation loss of capture was observed on the right ventricular lead diagnostic imaging was performed and revealed that the rv atrial and left ventricular leads were dislodged no intervention was performed the device and leads were deactivated to resolve the event the patient was in stable condition and there were no adverse consequences related manufacturer reference number",
         "during follow-up, it was that the had pectoral muscle stimulation. loss of capture was observed on the lead. diagnostic imaging was performed and revealed that the rv, atrial, and left leads were dislodged. no intervention was performed; the and leads were deactivated to resolve the event. the was in stable condition and there were no adverse consequences. related manufacturer reference number: --, --.",
         "during follow-up, it was that the had pectoral muscle stimulation. loss of capture was observed on the lead. diagnostic imaging was performed and revealed that the rv, atrial, and left leads were dislodged. no intervention was performed; the and leads were deactivated to resolve the event. the was in stable condition and there were no consequences. related manufacturer reference number: --, --.",
         "during follow-up, it was that the had pectoral muscle stimulation. loss of was observed on the lead. diagnostic imaging was performed and revealed that the rv, atrial, and left leads were dislodged. no intervention was performed; the and leads were deactivated to resolve the event. the was in condition and there were no consequences. related manufacturer reference number: --, --.",
         "A05",
         "A0512",
         "during follow-up, it was reported that the patient had pectoral muscle stimulation. loss of capture was observed on the right ventricular (rv) lead.",
         "during follow-up, it was reported that the patient had pectoral muscle stimulation. loss of capture was observed on the right ventricular (rv) lead. diagnostic imaging was performed and revealed that the rv, atrial, and left ventricular (lv) leads were dislodged. no intervention was performed; the device and leads were deactivated to resolve the event. the patient was in stable condition and there were no adverse consequences. related manufacturer reference number: 2938836-2019-01420, 2017865-2019-03003.",
         "during follow-up, it was reported that the patient had pectoral muscle stimulation. loss of capture was observed on the right ventricular lead.",
         "during follow-up, it was reported that the patient had pectoral muscle stimulation. loss of capture was observed on the right ventricular lead. diagnostic imaging was performed and revealed that the rv, atrial, and left ventricular leads were dislodged. no intervention was performed; the device and leads were deactivated to resolve the event. the patient was in stable condition and there were no adverse consequences. related manufacturer reference number: --, --.",
         "during followup it was reported that the patient had pectoral muscle stimulation loss of capture was observed on the right ventricular lead",
         "during followup it was reported that the patient had pectoral muscle stimulation loss of capture was observed on the right ventricular lead diagnostic imaging was performed and revealed that the rv atrial and left ventricular leads were dislodged no intervention was performed the device and leads were deactivated to resolve the event the patient was in stable condition and there were no adverse consequences related manufacturer reference number"
        ],
        [
         "158743",
         "the device was returned and analyzed.",
         "A0908",
         "the device was returned and analyzed.",
         "the device was returned and analyzed",
         "the was returned and analyzed.",
         "the was returned and analyzed.",
         "the was returned and analyzed.",
         "A09",
         "A0908",
         "the device was returned and analyzed.",
         "the device was returned and analyzed.",
         "the device was returned and analyzed.",
         "the device was returned and analyzed.",
         "the device was returned and analyzed",
         "the device was returned and analyzed"
        ],
        [
         "46007",
         "it was further reported that the right ventricular (rv) lead was removed and replaced.",
         "A072201",
         "it was further reported that the right ventricular lead was removed and replaced.",
         "it was further reported that the right ventricular lead was removed and replaced",
         "it was further that the was removed and replaced.",
         "it was further that the was removed and replaced.",
         "it was further that the was removed and replaced.",
         "A07",
         "A0722",
         "it was further reported that the right ventricular lead was removed and replaced.",
         "it was further reported that the right ventricular (rv) lead was removed and replaced.",
         "it was further reported that the right ventricular lead was removed and replaced.",
         "it was further reported that the right ventricular lead was removed and replaced.",
         "it was further reported that the right ventricular lead was removed and replaced",
         "it was further reported that the right ventricular lead was removed and replaced"
        ],
        [
         "311377",
         "it was reported that this implantable cardioverter defibrillator device recorded a code 1003 indicative of battery voltage too low for the projected remaining capacity. data analysis showed the battery appeared to be depleting more quickly than expected. device replacement was recommended. this device remains in service. no further adverse patient effects were reported.",
         "A070504",
         "it was reported that this implantable cardioverter defibrillator device recorded a code indicative of battery voltage too low for the projected remaining capacity. data analysis showed the battery appeared to be depleting more quickly than expected. device replacement was recommended. this device remains in service. no further adverse patient effects were reported.",
         "it was reported that this implantable cardioverter defibrillator device recorded a code indicative of battery voltage too low for the projected remaining capacity data analysis showed the battery appeared to be depleting more quickly than expected device replacement was recommended this device remains in service no further adverse patient effects were reported",
         "it was that this implantable cardioverter defibrillator recorded a code indicative of battery voltage too low for the projected remaining capacity. data analysis showed the battery appeared to be depleting more quickly than expected. replacement was recommended. this remains in service. no further adverse effects were reported.",
         "it was that this implantable cardioverter defibrillator recorded a code indicative of battery voltage too low for the projected remaining capacity. data analysis showed the battery appeared to be depleting more quickly than expected. replacement was recommended. this remains in service. no further were reported.",
         "it was that this implantable cardioverter defibrillator recorded a code indicative of battery voltage too low for the projected remaining capacity. data analysis showed the battery appeared to be depleting more quickly than expected. replacement was recommended. this in service. no further were reported.",
         "A07",
         "A0705",
         "it was reported that this implantable cardioverter defibrillator device recorded a code 1003 indicative of battery voltage too low for the projected remaining capacity. data analysis showed the battery appeared to be depleting more quickly than expected.",
         "it was reported that this implantable cardioverter defibrillator device recorded a code 1003 indicative of battery voltage too low for the projected remaining capacity. data analysis showed the battery appeared to be depleting more quickly than expected. device replacement was recommended. this device remains in service. no further adverse patient effects were reported.",
         "it was reported that this implantable cardioverter defibrillator device recorded a code indicative of battery voltage too low for the projected remaining capacity. data analysis showed the battery appeared to be depleting more quickly than expected.",
         "it was reported that this implantable cardioverter defibrillator device recorded a code indicative of battery voltage too low for the projected remaining capacity. data analysis showed the battery appeared to be depleting more quickly than expected. device replacement was recommended. this device remains in service. no further adverse patient effects were reported.",
         "it was reported that this implantable cardioverter defibrillator device recorded a code indicative of battery voltage too low for the projected remaining capacity data analysis showed the battery appeared to be depleting more quickly than expected",
         "it was reported that this implantable cardioverter defibrillator device recorded a code indicative of battery voltage too low for the projected remaining capacity data analysis showed the battery appeared to be depleting more quickly than expected device replacement was recommended this device remains in service no further adverse patient effects were reported"
        ],
        [
         "183255",
         "it was reported that the patient presented for an atrial lead replacement, since the atrial lead had increasing thresholds over time with eventual loss of capture, and the p-waves were routinely being undersensed. when the pocket was opened during the procedure, it was noted that the insulation was no longer holding the lead together it was first believed that the breach was under the suture sleeve, but the electrophysiologist later looked at the x-ray and felt that the insulation break was caused by subclavian crush. the lead was explanted and replaced, and the patient was in good condition throughout.",
         "A070910",
         "it was reported that the patient presented for an atrial lead replacement, since the atrial lead had increasing thresholds over time with eventual loss of capture, and the p-waves were routinely being undersensed. when the pocket was opened during the procedure, it was noted that the insulation was no longer holding the lead together it was first believed that the breach was under the suture sleeve, but the electrophysiologist later looked at the x-ray and felt that the insulation break was caused by subclavian crush. the lead was explanted and replaced, and the patient was in good condition throughout.",
         "it was reported that the patient presented for an atrial lead replacement since the atrial lead had increasing thresholds over time with eventual loss of capture and the pwaves were routinely being undersensed when the pocket was opened during the procedure it was noted that the insulation was no longer holding the lead together it was first believed that the breach was under the suture sleeve but the electrophysiologist later looked at the xray and felt that the insulation break was caused by subclavian crush the lead was explanted and replaced and the patient was in good condition throughout",
         "it was that the presented for an replacement, since the had increasing thresholds over time with eventual loss of capture, and the p-waves were routinely being undersensed. when the pocket was opened during the procedure, it was noted that the insulation was no longer holding the together it was first believed that the breach was under the suture sleeve, but the electrophysiologist later looked at the x-ray and felt that the insulation break was caused by subclavian crush. the was explanted and replaced, and the was in good condition throughout.",
         "it was that the presented for an replacement, since the had increasing thresholds over time with eventual loss of capture, and the p-waves were routinely being undersensed. when the pocket was opened during the procedure, it was that the insulation was no longer holding the together it was first believed that the breach was under the suture sleeve, but the electrophysiologist later looked at the x-ray and felt that the insulation break was caused by subclavian crush. the was and replaced, and the was in good condition throughout.",
         "it was that the presented for an replacement, since the had increasing thresholds over time with eventual loss of capture, and the p-waves were routinely being undersensed. when the pocket was opened during the procedure, it was that the insulation was no longer holding the together it was first believed that the breach was under the suture sleeve, but the electrophysiologist later looked at the x-ray and felt that the insulation break was caused by subclavian crush. the was and replaced, and the was in good condition throughout.",
         "A07",
         "A0709",
         "it was reported that the patient presented for an atrial lead replacement, since the atrial lead had increasing thresholds over time with eventual loss of capture, and the p-waves were routinely being undersensed. when the pocket was opened during the procedure, it was noted that the insulation was no longer holding the lead together it was first believed that the breach was under the suture sleeve, but the electrophysiologist later looked at the x-ray and felt that the insulation break was caused by subclavian crush.",
         "it was reported that the patient presented for an atrial lead replacement, since the atrial lead had increasing thresholds over time with eventual loss of capture, and the p-waves were routinely being undersensed. when the pocket was opened during the procedure, it was noted that the insulation was no longer holding the lead together it was first believed that the breach was under the suture sleeve, but the electrophysiologist later looked at the x-ray and felt that the insulation break was caused by subclavian crush. the lead was explanted and replaced, and the patient was in good condition throughout.",
         "it was reported that the patient presented for an atrial lead replacement, since the atrial lead had increasing thresholds over time with eventual loss of capture, and the p-waves were routinely being undersensed. when the pocket was opened during the procedure, it was noted that the insulation was no longer holding the lead together it was first believed that the breach was under the suture sleeve, but the electrophysiologist later looked at the x-ray and felt that the insulation break was caused by subclavian crush.",
         "it was reported that the patient presented for an atrial lead replacement, since the atrial lead had increasing thresholds over time with eventual loss of capture, and the p-waves were routinely being undersensed. when the pocket was opened during the procedure, it was noted that the insulation was no longer holding the lead together it was first believed that the breach was under the suture sleeve, but the electrophysiologist later looked at the x-ray and felt that the insulation break was caused by subclavian crush. the lead was explanted and replaced, and the patient was in good condition throughout.",
         "it was reported that the patient presented for an atrial lead replacement since the atrial lead had increasing thresholds over time with eventual loss of capture and the pwaves were routinely being undersensed when the pocket was opened during the procedure it was noted that the insulation was no longer holding the lead together it was first believed that the breach was under the suture sleeve but the electrophysiologist later looked at the xray and felt that the insulation break was caused by subclavian crush",
         "it was reported that the patient presented for an atrial lead replacement since the atrial lead had increasing thresholds over time with eventual loss of capture and the pwaves were routinely being undersensed when the pocket was opened during the procedure it was noted that the insulation was no longer holding the lead together it was first believed that the breach was under the suture sleeve but the electrophysiologist later looked at the xray and felt that the insulation break was caused by subclavian crush the lead was explanted and replaced and the patient was in good condition throughout"
        ],
        [
         "63011",
         "it was reported that during the implant procedure of the right ventricular (rv) lead, the helix was blocked. the lead was removed and replaced. no patient complications have been reported as a result of this event.",
         "A04",
         "it was reported that during the implant procedure of the right ventricular lead, the helix was blocked. the lead was removed and replaced. no patient complications have been reported as a result of this event.",
         "it was reported that during the implant procedure of the right ventricular lead the helix was blocked the lead was removed and replaced no patient complications have been reported as a result of this event",
         "it was that during the implant procedure of the lead, the helix was blocked. the was removed and replaced. no have been as a of this event.",
         "it was that during the implant procedure of the lead, the helix was blocked. the was removed and replaced. no have been as a of this event.",
         "it was that during the implant of the lead, the helix was blocked. the was removed and replaced. no have been as a of this event.",
         "A04",
         "",
         "it was reported that during the implant procedure of the right ventricular (rv) lead, the helix was blocked. the lead was removed and replaced.",
         "it was reported that during the implant procedure of the right ventricular (rv) lead, the helix was blocked. the lead was removed and replaced. no patient complications have been reported as a result of this event.",
         "it was reported that during the implant procedure of the right ventricular lead, the helix was blocked. the lead was removed and replaced.",
         "it was reported that during the implant procedure of the right ventricular lead, the helix was blocked. the lead was removed and replaced. no patient complications have been reported as a result of this event.",
         "it was reported that during the implant procedure of the right ventricular lead the helix was blocked the lead was removed and replaced",
         "it was reported that during the implant procedure of the right ventricular lead the helix was blocked the lead was removed and replaced no patient complications have been reported as a result of this event"
        ],
        [
         "454756",
         "it was reported that a warning was triggered due to a low� left ventricular (lv) lead impedance measurement. the lv lead remains in use.�no patient complications have been reported as a result of this event.",
         "A072202",
         "it was reported that a warning was triggered due to a low left ventricular lead impedance measurement. the lv lead remains in use. no patient complications have been reported as a result of this event.",
         "it was reported that a warning was triggered due to a low left ventricular lead impedance measurement the lv lead remains in use no patient complications have been reported as a result of this event",
         "it was that a warning was triggered due to a low left impedance measurement. the lv remains in use. no have been as a of this event.",
         "it was that a warning was triggered due to a low left measurement. the lv remains in use. no have been as a of this event.",
         "it was that a warning was triggered to a low left measurement. the lv in use. no have been as a of this event.",
         "A07",
         "A0722",
         "it was reported that a warning was triggered due to a low� left ventricular (lv) lead impedance measurement. the lv lead remains in use.�no patient complications have been reported as a result of this event.",
         "it was reported that a warning was triggered due to a low� left ventricular (lv) lead impedance measurement. the lv lead remains in use.�no patient complications have been reported as a result of this event.",
         "it was reported that a warning was triggered due to a low left ventricular lead impedance measurement. the lv lead remains in use. no patient complications have been reported as a result of this event.",
         "it was reported that a warning was triggered due to a low left ventricular lead impedance measurement. the lv lead remains in use. no patient complications have been reported as a result of this event.",
         "it was reported that a warning was triggered due to a low left ventricular lead impedance measurement the lv lead remains in use no patient complications have been reported as a result of this event",
         "it was reported that a warning was triggered due to a low left ventricular lead impedance measurement the lv lead remains in use no patient complications have been reported as a result of this event"
        ],
        [
         "278462",
         "it was reported that right atrial (ra) lead undersensing was noted on stored atrial tachycardia/atrial fibrillation (at/af) events. failure to capture from the cardiac resynchronization therapy defibrillator (crt-d) was also noted via telemetry monitor. the ra lead and device remain in use. no patient complications have been reported as a result of this event.",
         "A070910",
         "it was reported that right atrial lead undersensing was noted on stored atrial tachycardia/atrial fibrillation events. failure to capture from the cardiac resynchronization therapy defibrillator was also noted via telemetry monitor. the ra lead and device remain in use. no patient complications have been reported as a result of this event.",
         "it was reported that right atrial lead undersensing was noted on stored atrial tachycardiaatrial fibrillation events failure to capture from the cardiac resynchronization therapy defibrillator was also noted via telemetry monitor the ra lead and device remain in use no patient complications have been reported as a result of this event",
         "it was that undersensing was noted on stored tachycardia/atrial fibrillation events. failure to capture from the cardiac resynchronization therapy defibrillator was also noted via telemetry monitor. the ra and remain in use. no have been as a of this event.",
         "it was that undersensing was on stored tachycardia/atrial fibrillation events. failure to capture from the cardiac resynchronization therapy defibrillator was also via telemetry monitor. the ra and remain in use. no have been as a of this event.",
         "it was that undersensing was on stored tachycardia/atrial fibrillation events. failure to from the cardiac resynchronization therapy defibrillator was also via telemetry monitor. the and remain in use. no have been as a of this event.",
         "A07",
         "A0709",
         "it was reported that right atrial (ra) lead undersensing was noted on stored atrial tachycardia/atrial fibrillation (at/af) events. failure to capture from the cardiac resynchronization therapy defibrillator (crt-d) was also noted via telemetry monitor.",
         "it was reported that right atrial (ra) lead undersensing was noted on stored atrial tachycardia/atrial fibrillation (at/af) events. failure to capture from the cardiac resynchronization therapy defibrillator (crt-d) was also noted via telemetry monitor. the ra lead and device remain in use. no patient complications have been reported as a result of this event.",
         "it was reported that right atrial lead undersensing was noted on stored atrial tachycardia/atrial fibrillation events. failure to capture from the cardiac resynchronization therapy defibrillator was also noted via telemetry monitor.",
         "it was reported that right atrial lead undersensing was noted on stored atrial tachycardia/atrial fibrillation events. failure to capture from the cardiac resynchronization therapy defibrillator was also noted via telemetry monitor. the ra lead and device remain in use. no patient complications have been reported as a result of this event.",
         "it was reported that right atrial lead undersensing was noted on stored atrial tachycardiaatrial fibrillation events failure to capture from the cardiac resynchronization therapy defibrillator was also noted via telemetry monitor",
         "it was reported that right atrial lead undersensing was noted on stored atrial tachycardiaatrial fibrillation events failure to capture from the cardiac resynchronization therapy defibrillator was also noted via telemetry monitor the ra lead and device remain in use no patient complications have been reported as a result of this event"
        ],
        [
         "557384",
         "it was reported that during implant, the�right atrial (ra) lead exhibited high thresholds and low sensing. the lead was attempted/not used and replaced.�no patient complications have been reported as a result of this event.",
         "A070901",
         "it was reported that during implant, the right atrial lead exhibited high thresholds and low sensing. the lead was attempted/not used and replaced. no patient complications have been reported as a result of this event.",
         "it was reported that during implant the right atrial lead exhibited high thresholds and low sensing the lead was attemptednot used and replaced no patient complications have been reported as a result of this event",
         "it was that during implant, the exhibited high thresholds and low sensing. the was attempted/not used and replaced. no have been as a of this event.",
         "it was that during implant, the thresholds and low sensing. the was attempted/not used and replaced. no have been as a of this event.",
         "it was that during implant, the thresholds and low sensing. the was attempted/not used and replaced. no have been as a of this event.",
         "A07",
         "A0709",
         "it was reported that during implant, the�right atrial (ra) lead exhibited high thresholds and low sensing. the lead was attempted/not used and replaced.�no patient complications have been reported as a result of this event.",
         "it was reported that during implant, the�right atrial (ra) lead exhibited high thresholds and low sensing. the lead was attempted/not used and replaced.�no patient complications have been reported as a result of this event.",
         "it was reported that during implant, the right atrial lead exhibited high thresholds and low sensing. the lead was attempted/not used and replaced. no patient complications have been reported as a result of this event.",
         "it was reported that during implant, the right atrial lead exhibited high thresholds and low sensing. the lead was attempted/not used and replaced. no patient complications have been reported as a result of this event.",
         "it was reported that during implant the right atrial lead exhibited high thresholds and low sensing the lead was attemptednot used and replaced no patient complications have been reported as a result of this event",
         "it was reported that during implant the right atrial lead exhibited high thresholds and low sensing the lead was attemptednot used and replaced no patient complications have been reported as a result of this event"
        ],
        [
         "8647",
         "it was reported that an asymptomatic patient presented in clinic. device interrogation of the pacemaker revealed a discrepancy of heart rhythm. the episode of antitachycardia in remote transmission was longer than the episode shown during in clinic check. physician stated that this discrepancy made decisions about anticoagulation needs unnecessarily difficult.",
         "A1107",
         "it was reported that an asymptomatic patient presented in clinic. device interrogation of the pacemaker revealed a discrepancy of heart rhythm. the episode of antitachycardia in remote transmission was longer than the episode shown during in clinic check. physician stated that this discrepancy made decisions about anticoagulation needs unnecessarily difficult.",
         "it was reported that an asymptomatic patient presented in clinic device interrogation of the pacemaker revealed a discrepancy of heart rhythm the episode of antitachycardia in remote transmission was longer than the episode shown during in clinic check physician stated that this discrepancy made decisions about anticoagulation needs unnecessarily difficult",
         "it was that an asymptomatic presented in clinic. interrogation of the pacemaker revealed a discrepancy of heart rhythm. the episode of antitachycardia in remote transmission was longer than the episode shown during in clinic check. physician stated that this discrepancy made decisions about anticoagulation needs unnecessarily difficult.",
         "it was that an asymptomatic presented in clinic. interrogation of the pacemaker revealed a discrepancy of heart rhythm. the episode of antitachycardia in remote transmission was longer than the episode shown during in clinic check. physician stated that this discrepancy made decisions about anticoagulation needs unnecessarily difficult.",
         "it was that an asymptomatic presented in clinic. interrogation of the revealed a discrepancy of heart rhythm. the episode of antitachycardia in remote transmission was longer than the episode shown during in clinic check. physician stated that this discrepancy made decisions about anticoagulation needs unnecessarily difficult.",
         "A11",
         "A1107",
         "it was reported that an asymptomatic patient presented in clinic. device interrogation of the pacemaker revealed a discrepancy of heart rhythm.",
         "it was reported that an asymptomatic patient presented in clinic. device interrogation of the pacemaker revealed a discrepancy of heart rhythm. the episode of antitachycardia in remote transmission was longer than the episode shown during in clinic check. physician stated that this discrepancy made decisions about anticoagulation needs unnecessarily difficult.",
         "it was reported that an asymptomatic patient presented in clinic. device interrogation of the pacemaker revealed a discrepancy of heart rhythm.",
         "it was reported that an asymptomatic patient presented in clinic. device interrogation of the pacemaker revealed a discrepancy of heart rhythm. the episode of antitachycardia in remote transmission was longer than the episode shown during in clinic check. physician stated that this discrepancy made decisions about anticoagulation needs unnecessarily difficult.",
         "it was reported that an asymptomatic patient presented in clinic device interrogation of the pacemaker revealed a discrepancy of heart rhythm",
         "it was reported that an asymptomatic patient presented in clinic device interrogation of the pacemaker revealed a discrepancy of heart rhythm the episode of antitachycardia in remote transmission was longer than the episode shown during in clinic check physician stated that this discrepancy made decisions about anticoagulation needs unnecessarily difficult"
        ],
        [
         "309169",
         "during a remote follow-up, noise was observed on the right atrial (ra) lead. the physician alleged suspected lead damage to be the cause of the event, however, it was not confirmed via diagnostic imaging. no intervention has been performed at this time to resolve the event. the patient was in stable condition and will continue to be monitored.",
         "A0401",
         "during a remote follow-up, noise was observed on the right atrial lead. the physician alleged suspected lead damage to be the cause of the event, however, it was not confirmed via diagnostic imaging. no intervention has been performed at this time to resolve the event. the patient was in stable condition and will continue to be monitored.",
         "during a remote followup noise was observed on the right atrial lead the physician alleged suspected lead damage to be the cause of the event however it was not confirmed via diagnostic imaging no intervention has been performed at this time to resolve the event the patient was in stable condition and will continue to be monitored",
         "during a remote follow-up, noise was observed on the lead. the physician alleged suspected damage to be the cause of the event, however, it was not confirmed via diagnostic imaging. no intervention has been performed at this time to resolve the event. the was in stable condition and will continue to be monitored.",
         "during a remote follow-up, noise was observed on the lead. the physician alleged suspected damage to be the cause of the event, however, it was not confirmed via diagnostic imaging. no intervention has been performed at this time to resolve the event. the was in stable condition and will continue to be monitored.",
         "during a remote follow-up, was observed on the lead. the physician alleged suspected damage to be the cause of the event, however, it was not confirmed via diagnostic imaging. no intervention has been performed at this time to resolve the event. the was in condition and will continue to be monitored.",
         "A04",
         "A0401",
         "during a remote follow-up, noise was observed on the right atrial (ra) lead. the physician alleged suspected lead damage to be the cause of the event, however, it was not confirmed via diagnostic imaging.",
         "during a remote follow-up, noise was observed on the right atrial (ra) lead. the physician alleged suspected lead damage to be the cause of the event, however, it was not confirmed via diagnostic imaging. no intervention has been performed at this time to resolve the event. the patient was in stable condition and will continue to be monitored.",
         "during a remote follow-up, noise was observed on the right atrial lead. the physician alleged suspected lead damage to be the cause of the event, however, it was not confirmed via diagnostic imaging.",
         "during a remote follow-up, noise was observed on the right atrial lead. the physician alleged suspected lead damage to be the cause of the event, however, it was not confirmed via diagnostic imaging. no intervention has been performed at this time to resolve the event. the patient was in stable condition and will continue to be monitored.",
         "during a remote followup noise was observed on the right atrial lead the physician alleged suspected lead damage to be the cause of the event however it was not confirmed via diagnostic imaging",
         "during a remote followup noise was observed on the right atrial lead the physician alleged suspected lead damage to be the cause of the event however it was not confirmed via diagnostic imaging no intervention has been performed at this time to resolve the event the patient was in stable condition and will continue to be monitored"
        ],
        [
         "173988",
         "it was reported that the patient implanted with this right ventricular (rv) lead underwent a device replacement procedure, where the cardiac resynchronization therapy pacemaker (crt-p) was explanted and replaced with a dual chamber pacemaker. the chronic rv lead was surgically abandoned and the right atrial (ra) and left ventricular (lv) leads were connected to the new device. it was reported that the rv lead exhibited noise and a diminished pacing impedance measurement of 214 ohms. pacing threshold measurements were high at 3.3v and the rv lead was oversensing the lv pacing signals, resulting in pacing inhibition. the physician did not feel venous access would be possible so no new rv lead was implanted. no additional adverse patient effects were reported.",
         "A070909",
         "it was reported that the patient implanted with this right ventricular lead underwent a device replacement procedure, where the cardiac resynchronization therapy pacemaker was explanted and replaced with a dual chamber pacemaker. the chronic rv lead was surgically abandoned and the right atrial and left ventricular leads were connected to the new device. it was reported that the rv lead exhibited noise and a diminished pacing impedance measurement of ohms. pacing threshold measurements were high at .v and the rv lead was oversensing the lv pacing signals, resulting in pacing inhibition. the physician did not feel venous access would be possible so no new rv lead was implanted. no additional adverse patient effects were reported.",
         "it was reported that the patient implanted with this right ventricular lead underwent a device replacement procedure where the cardiac resynchronization therapy pacemaker was explanted and replaced with a dual chamber pacemaker the chronic rv lead was surgically abandoned and the right atrial and left ventricular leads were connected to the new device it was reported that the rv lead exhibited noise and a diminished pacing impedance measurement of ohms pacing threshold measurements were high at v and the rv lead was oversensing the lv pacing signals resulting in pacing inhibition the physician did not feel venous access would be possible so no new rv lead was implanted no additional adverse patient effects were reported",
         "it was that the implanted with this underwent a replacement procedure, where the cardiac resynchronization therapy pacemaker was explanted and replaced with a dual chamber pacemaker. the chronic rv was surgically abandoned and the and left leads were connected to the new device. it was that the rv exhibited noise and a diminished pacing impedance measurement of ohms. pacing threshold measurements were high at .v and the rv was oversensing the lv pacing signals, resulting in pacing inhibition. the physician did not feel venous access would be possible so no new rv was implanted. no additional adverse effects were reported.",
         "it was that the implanted with this underwent a replacement procedure, where the cardiac resynchronization therapy pacemaker was and with a dual chamber pacemaker. the chronic rv was surgically abandoned and the and left leads were connected to the new device. it was that the rv noise and a diminished measurement of ohms. threshold measurements were at .v and the rv was oversensing the lv signals, resulting in inhibition. the physician did not feel venous access would be possible so no new rv was implanted. no were reported.",
         "it was that the implanted with this underwent a replacement procedure, where the cardiac resynchronization therapy was and with a dual chamber pacemaker. the chronic was surgically abandoned and the and left leads were connected to the new device. it was that the and a diminished measurement of ohms. threshold measurements were at .v and the was oversensing the lv signals, resulting in inhibition. the physician did not feel venous access would be possible so no new was implanted. no were reported.",
         "A07",
         "A0709",
         "it was reported that the patient implanted with this right ventricular (rv) lead underwent a device replacement procedure, where the cardiac resynchronization therapy pacemaker (crt-p) was explanted and replaced with a dual chamber pacemaker. the chronic rv lead was surgically abandoned and the right atrial (ra) and left ventricular (lv) leads were connected to the new device.",
         "it was reported that the patient implanted with this right ventricular (rv) lead underwent a device replacement procedure, where the cardiac resynchronization therapy pacemaker (crt-p) was explanted and replaced with a dual chamber pacemaker. the chronic rv lead was surgically abandoned and the right atrial (ra) and left ventricular (lv) leads were connected to the new device. it was reported that the rv lead exhibited noise and a diminished pacing impedance measurement of 214 ohms. pacing threshold measurements were high at 3.3v and the rv lead was oversensing the lv pacing signals, resulting in pacing inhibition. the physician did not feel venous access would be possible so no new rv lead was implanted. no additional adverse patient effects were reported.",
         "it was reported that the patient implanted with this right ventricular lead underwent a device replacement procedure, where the cardiac resynchronization therapy pacemaker was explanted and replaced with a dual chamber pacemaker. the chronic rv lead was surgically abandoned and the right atrial and left ventricular leads were connected to the new device.",
         "it was reported that the patient implanted with this right ventricular lead underwent a device replacement procedure, where the cardiac resynchronization therapy pacemaker was explanted and replaced with a dual chamber pacemaker. the chronic rv lead was surgically abandoned and the right atrial and left ventricular leads were connected to the new device. it was reported that the rv lead exhibited noise and a diminished pacing impedance measurement of ohms. pacing threshold measurements were high at .v and the rv lead was oversensing the lv pacing signals, resulting in pacing inhibition. the physician did not feel venous access would be possible so no new rv lead was implanted. no additional adverse patient effects were reported.",
         "it was reported that the patient implanted with this right ventricular lead underwent a device replacement procedure where the cardiac resynchronization therapy pacemaker was explanted and replaced with a dual chamber pacemaker the chronic rv lead was surgically abandoned and the right atrial and left ventricular leads were connected to the new device",
         "it was reported that the patient implanted with this right ventricular lead underwent a device replacement procedure where the cardiac resynchronization therapy pacemaker was explanted and replaced with a dual chamber pacemaker the chronic rv lead was surgically abandoned and the right atrial and left ventricular leads were connected to the new device it was reported that the rv lead exhibited noise and a diminished pacing impedance measurement of ohms pacing threshold measurements were high at v and the rv lead was oversensing the lv pacing signals resulting in pacing inhibition the physician did not feel venous access would be possible so no new rv lead was implanted no additional adverse patient effects were reported"
        ],
        [
         "357809",
         "it was reported that this pacemaker and right ventricular (rv) lead exhibited oversensing of noise resulting in the minute ventilation (mv) feature being disabled. the patient was noted to be fairly pacemaker dependent. technical services (ts) reviewed the stored episode and noted some of the noise was consistent with oversensing related to the mv feature. the oversensing did not result in pacing inhibition with greater than 2 seconds of asystole. the health care professional (hcp) noted the rv pacing impedance measurements were within normal limits and evaluation of the lead noted no anomalies. the hcp planned to make programming changes and no longer use mv. no adverse patient effects were reported. this device remains in service.",
         "A070909",
         "it was reported that this pacemaker and right ventricular lead exhibited oversensing of noise resulting in the minute ventilation feature being disabled. the patient was noted to be fairly pacemaker dependent. technical services reviewed the stored episode and noted some of the noise was consistent with oversensing related to the mv feature. the oversensing did not result in pacing inhibition with greater than seconds of asystole. the health care professional noted the rv pacing impedance measurements were within normal limits and evaluation of the lead noted no anomalies. the hcp planned to make programming changes and no longer use mv. no adverse patient effects were reported. this device remains in service.",
         "it was reported that this pacemaker and right ventricular lead exhibited oversensing of noise resulting in the minute ventilation feature being disabled the patient was noted to be fairly pacemaker dependent technical services reviewed the stored episode and noted some of the noise was consistent with oversensing related to the mv feature the oversensing did not result in pacing inhibition with greater than seconds of asystole the health care professional noted the rv pacing impedance measurements were within normal limits and evaluation of the lead noted no anomalies the hcp planned to make programming changes and no longer use mv no adverse patient effects were reported this device remains in service",
         "it was that this pacemaker and exhibited oversensing of noise resulting in the minute ventilation feature being disabled. the was noted to be fairly pacemaker dependent. technical services reviewed the stored episode and noted some of the noise was consistent with oversensing related to the mv feature. the oversensing did not in pacing inhibition with greater than seconds of asystole. the health care professional noted the rv pacing impedance measurements were within normal limits and evaluation of the noted no anomalies. the hcp planned to make programming changes and no longer use mv. no adverse effects were reported. this remains in service.",
         "it was that this pacemaker and oversensing of noise resulting in the minute ventilation feature being disabled. the was to be fairly pacemaker dependent. technical services reviewed the stored episode and some of the noise was consistent with oversensing related to the mv feature. the oversensing did not in inhibition with greater than seconds of asystole. the health care professional the rv measurements were within normal limits and evaluation of the no anomalies. the hcp planned to make programming changes and no longer use mv. no were reported. this remains in service.",
         "it was that this and oversensing of resulting in the minute ventilation feature being disabled. the was to be fairly dependent. technical services reviewed the stored episode and some of the was consistent with oversensing related to the mv feature. the oversensing did not in inhibition with greater than seconds of asystole. the health care professional the measurements were within normal limits and evaluation of the no anomalies. the hcp planned to make programming changes and no longer mv. no were reported. this in service.",
         "A07",
         "A0709",
         "it was reported that this pacemaker and right ventricular (rv) lead exhibited oversensing of noise resulting in the minute ventilation (mv) feature being disabled. the patient was noted to be fairly pacemaker dependent.",
         "it was reported that this pacemaker and right ventricular (rv) lead exhibited oversensing of noise resulting in the minute ventilation (mv) feature being disabled. the patient was noted to be fairly pacemaker dependent. technical services (ts) reviewed the stored episode and noted some of the noise was consistent with oversensing related to the mv feature. the oversensing did not result in pacing inhibition with greater than 2 seconds of asystole. the health care professional (hcp) noted the rv pacing impedance measurements were within normal limits and evaluation of the lead noted no anomalies. the hcp planned to make programming changes and no longer use mv. no adverse patient effects were reported. this device remains in service.",
         "it was reported that this pacemaker and right ventricular lead exhibited oversensing of noise resulting in the minute ventilation feature being disabled. the patient was noted to be fairly pacemaker dependent.",
         "it was reported that this pacemaker and right ventricular lead exhibited oversensing of noise resulting in the minute ventilation feature being disabled. the patient was noted to be fairly pacemaker dependent. technical services reviewed the stored episode and noted some of the noise was consistent with oversensing related to the mv feature. the oversensing did not result in pacing inhibition with greater than seconds of asystole. the health care professional noted the rv pacing impedance measurements were within normal limits and evaluation of the lead noted no anomalies. the hcp planned to make programming changes and no longer use mv. no adverse patient effects were reported. this device remains in service.",
         "it was reported that this pacemaker and right ventricular lead exhibited oversensing of noise resulting in the minute ventilation feature being disabled the patient was noted to be fairly pacemaker dependent",
         "it was reported that this pacemaker and right ventricular lead exhibited oversensing of noise resulting in the minute ventilation feature being disabled the patient was noted to be fairly pacemaker dependent technical services reviewed the stored episode and noted some of the noise was consistent with oversensing related to the mv feature the oversensing did not result in pacing inhibition with greater than seconds of asystole the health care professional noted the rv pacing impedance measurements were within normal limits and evaluation of the lead noted no anomalies the hcp planned to make programming changes and no longer use mv no adverse patient effects were reported this device remains in service"
        ],
        [
         "377355",
         "it was reported that the right atrial (ra) lead position check failed and exhibited intermittent undersensing. the ra lead remains in use.�no patient complications have been reported as a result of this event.",
         "A1502",
         "it was reported that the right atrial lead position check failed and exhibited intermittent undersensing. the ra lead remains in use. no patient complications have been reported as a result of this event.",
         "it was reported that the right atrial lead position check failed and exhibited intermittent undersensing the ra lead remains in use no patient complications have been reported as a result of this event",
         "it was that the position check failed and exhibited intermittent undersensing. the ra remains in use. no have been as a of this event.",
         "it was that the position check failed and intermittent undersensing. the ra remains in use. no have been as a of this event.",
         "it was that the position check failed and intermittent undersensing. the in use. no have been as a of this event.",
         "A15",
         "A1502",
         "it was reported that the right atrial (ra) lead position check failed and exhibited intermittent undersensing. the ra lead remains in use.�no patient complications have been reported as a result of this event.",
         "it was reported that the right atrial (ra) lead position check failed and exhibited intermittent undersensing. the ra lead remains in use.�no patient complications have been reported as a result of this event.",
         "it was reported that the right atrial lead position check failed and exhibited intermittent undersensing. the ra lead remains in use. no patient complications have been reported as a result of this event.",
         "it was reported that the right atrial lead position check failed and exhibited intermittent undersensing. the ra lead remains in use. no patient complications have been reported as a result of this event.",
         "it was reported that the right atrial lead position check failed and exhibited intermittent undersensing the ra lead remains in use no patient complications have been reported as a result of this event",
         "it was reported that the right atrial lead position check failed and exhibited intermittent undersensing the ra lead remains in use no patient complications have been reported as a result of this event"
        ],
        [
         "484643",
         "it was reported that the�right atrial (ra) lead and�left ventricular (lv) lead exhibited high thresholds and loss of capture. the patient was unable to be paced properly due to the high thresholds. the ra and lv leads were explanted and replaced.�no patient complications have been reported as a result of this event.",
         "A0712",
         "it was reported that the right atrial lead and left ventricular lead exhibited high thresholds and loss of capture. the patient was unable to be paced properly due to the high thresholds. the ra and lv leads were explanted and replaced. no patient complications have been reported as a result of this event.",
         "it was reported that the right atrial lead and left ventricular lead exhibited high thresholds and loss of capture the patient was unable to be paced properly due to the high thresholds the ra and lv leads were explanted and replaced no patient complications have been reported as a result of this event",
         "it was that the and left exhibited high thresholds and loss of capture. the was unable to be paced properly due to the high thresholds. the ra and lv leads were explanted and replaced. no have been as a of this event.",
         "it was that the and left thresholds and loss of capture. the was unable to be paced properly due to the thresholds. the ra and lv leads were and replaced. no have been as a of this event.",
         "it was that the and left thresholds and loss of capture. the was unable to be paced properly to the thresholds. the and lv leads were and replaced. no have been as a of this event.",
         "A07",
         "A0712",
         "it was reported that the�right atrial (ra) lead and�left ventricular (lv) lead exhibited high thresholds and loss of capture. the patient was unable to be paced properly due to the high thresholds.",
         "it was reported that the�right atrial (ra) lead and�left ventricular (lv) lead exhibited high thresholds and loss of capture. the patient was unable to be paced properly due to the high thresholds. the ra and lv leads were explanted and replaced.�no patient complications have been reported as a result of this event.",
         "it was reported that the right atrial lead and left ventricular lead exhibited high thresholds and loss of capture. the patient was unable to be paced properly due to the high thresholds.",
         "it was reported that the right atrial lead and left ventricular lead exhibited high thresholds and loss of capture. the patient was unable to be paced properly due to the high thresholds. the ra and lv leads were explanted and replaced. no patient complications have been reported as a result of this event.",
         "it was reported that the right atrial lead and left ventricular lead exhibited high thresholds and loss of capture the patient was unable to be paced properly due to the high thresholds",
         "it was reported that the right atrial lead and left ventricular lead exhibited high thresholds and loss of capture the patient was unable to be paced properly due to the high thresholds the ra and lv leads were explanted and replaced no patient complications have been reported as a result of this event"
        ],
        [
         "392006",
         "new information received notes that in 2013 the right ventricular (rv) lead exhibited polarity switch due to unspecified impedance problem.",
         "A070101",
         "new information received notes that in the right ventricular lead exhibited polarity switch due to unspecified impedance problem.",
         "new information received notes that in the right ventricular lead exhibited polarity switch due to unspecified impedance problem",
         "new information received notes that in the exhibited polarity switch due to unspecified impedance problem.",
         "new information received notes that in the polarity switch due to unspecified problem.",
         "new information received notes that in the polarity switch to unspecified problem.",
         "A07",
         "A0701",
         "new information received notes that in the right ventricular lead exhibited polarity switch due to unspecified impedance problem.",
         "new information received notes that in 2013 the right ventricular (rv) lead exhibited polarity switch due to unspecified impedance problem.",
         "new information received notes that in the right ventricular lead exhibited polarity switch due to unspecified impedance problem.",
         "new information received notes that in the right ventricular lead exhibited polarity switch due to unspecified impedance problem.",
         "new information received notes that in the right ventricular lead exhibited polarity switch due to unspecified impedance problem",
         "new information received notes that in the right ventricular lead exhibited polarity switch due to unspecified impedance problem"
        ],
        [
         "194035",
         "during a remote follow-up, episodes of noise resulting in undersensing were noted on the right ventricular (rv) lead. provocative testing will be performed at the next follow-up in clinic, however, no intervention was performed at this time. the patient was stable.",
         "A090801",
         "during a remote follow-up, episodes of noise resulting in undersensing were noted on the right ventricular lead. provocative testing will be performed at the next follow-up in clinic, however, no intervention was performed at this time. the patient was stable.",
         "during a remote followup episodes of noise resulting in undersensing were noted on the right ventricular lead provocative testing will be performed at the next followup in clinic however no intervention was performed at this time the patient was stable",
         "during a remote follow-up, episodes of noise resulting in undersensing were noted on the lead. provocative testing will be performed at the next follow-up in clinic, however, no intervention was performed at this time. the was stable.",
         "during a remote follow-up, episodes of noise resulting in undersensing were on the lead. provocative testing will be performed at the next follow-up in clinic, however, no intervention was performed at this time. the was stable.",
         "during a remote follow-up, episodes of resulting in undersensing were on the lead. provocative testing will be performed at the next follow-up in clinic, however, no intervention was performed at this time. the was stable.",
         "A09",
         "A0908",
         "during a remote follow-up, episodes of noise resulting in undersensing were noted on the right ventricular (rv) lead. provocative testing will be performed at the next follow-up in clinic, however, no intervention was performed at this time.",
         "during a remote follow-up, episodes of noise resulting in undersensing were noted on the right ventricular (rv) lead. provocative testing will be performed at the next follow-up in clinic, however, no intervention was performed at this time. the patient was stable.",
         "during a remote follow-up, episodes of noise resulting in undersensing were noted on the right ventricular lead. provocative testing will be performed at the next follow-up in clinic, however, no intervention was performed at this time.",
         "during a remote follow-up, episodes of noise resulting in undersensing were noted on the right ventricular lead. provocative testing will be performed at the next follow-up in clinic, however, no intervention was performed at this time. the patient was stable.",
         "during a remote followup episodes of noise resulting in undersensing were noted on the right ventricular lead provocative testing will be performed at the next followup in clinic however no intervention was performed at this time",
         "during a remote followup episodes of noise resulting in undersensing were noted on the right ventricular lead provocative testing will be performed at the next followup in clinic however no intervention was performed at this time the patient was stable"
        ],
        [
         "536877",
         "it was reported that during the implant procedure noise was observed on the ventricular channel. no abnormalities were observed with the right ventricular (rv) lead, which led the physician to determine that the noise was due to an issue with the header of the pacemaker. subsequently the pacemaker was attempted and not implanted. a new pacemaker was implanted with the existing rv lead and the procedure was completed without any further complications. no adverse effects were reported.",
         "A04",
         "it was reported that during the implant procedure noise was observed on the ventricular channel. no abnormalities were observed with the right ventricular lead, which led the physician to determine that the noise was due to an issue with the header of the pacemaker. subsequently the pacemaker was attempted and not implanted. a new pacemaker was implanted with the existing rv lead and the procedure was completed without any further complications. no adverse effects were reported.",
         "it was reported that during the implant procedure noise was observed on the ventricular channel no abnormalities were observed with the right ventricular lead which led the physician to determine that the noise was due to an issue with the header of the pacemaker subsequently the pacemaker was attempted and not implanted a new pacemaker was implanted with the existing rv lead and the procedure was completed without any further complications no adverse effects were reported",
         "it was that during the implant procedure noise was observed on the channel. no abnormalities were observed with the lead, which led the physician to determine that the noise was due to an issue with the header of the pacemaker. subsequently the pacemaker was attempted and not implanted. a new pacemaker was implanted with the existing rv and the procedure was completed without any further complications. no adverse effects were reported.",
         "it was that during the implant procedure noise was observed on the channel. no abnormalities were observed with the lead, which led the physician to determine that the noise was due to an issue with the header of the pacemaker. subsequently the pacemaker was attempted and not implanted. a new pacemaker was implanted with the existing rv and the procedure was completed without any further complications. no were reported.",
         "it was that during the implant was observed on the channel. no abnormalities were observed with the lead, which led the physician to determine that the was to an issue with the header of the pacemaker. subsequently the was attempted and not implanted. a new was implanted with the existing and the was completed without any further complications. no were reported.",
         "A04",
         "",
         "it was reported that during the implant procedure noise was observed on the ventricular channel. no abnormalities were observed with the right ventricular (rv) lead, which led the physician to determine that the noise was due to an issue with the header of the pacemaker.",
         "it was reported that during the implant procedure noise was observed on the ventricular channel. no abnormalities were observed with the right ventricular (rv) lead, which led the physician to determine that the noise was due to an issue with the header of the pacemaker. subsequently the pacemaker was attempted and not implanted. a new pacemaker was implanted with the existing rv lead and the procedure was completed without any further complications. no adverse effects were reported.",
         "it was reported that during the implant procedure noise was observed on the ventricular channel. no abnormalities were observed with the right ventricular lead, which led the physician to determine that the noise was due to an issue with the header of the pacemaker.",
         "it was reported that during the implant procedure noise was observed on the ventricular channel. no abnormalities were observed with the right ventricular lead, which led the physician to determine that the noise was due to an issue with the header of the pacemaker. subsequently the pacemaker was attempted and not implanted. a new pacemaker was implanted with the existing rv lead and the procedure was completed without any further complications. no adverse effects were reported.",
         "it was reported that during the implant procedure noise was observed on the ventricular channel no abnormalities were observed with the right ventricular lead which led the physician to determine that the noise was due to an issue with the header of the pacemaker",
         "it was reported that during the implant procedure noise was observed on the ventricular channel no abnormalities were observed with the right ventricular lead which led the physician to determine that the noise was due to an issue with the header of the pacemaker subsequently the pacemaker was attempted and not implanted a new pacemaker was implanted with the existing rv lead and the procedure was completed without any further complications no adverse effects were reported"
        ],
        [
         "295302",
         "it was reported that this pacemaker longevity was decreasing faster than expected between follow-ups. review of data analysis revealed the power consumption was higher than expected. a device replacement was recommended, however the device remains in-service at this time with safe replacement interval for at least 90 days. no adverse patient effects were reported. additional information provided from the field indicated the patient was later admitted to the hospital after experiencing a syncopal episode. review of their system noted oversensing with pacing inhibition and the pacemaker was now in safety mode. surgical intervention was performed, and the pacemaker was explanted and replaced. no additional adverse patient effects were reported.",
         "A0712",
         "it was reported that this pacemaker longevity was decreasing faster than expected between follow-ups. review of data analysis revealed the power consumption was higher than expected. a device replacement was recommended, however the device remains in-service at this time with safe replacement interval for at least days. no adverse patient effects were reported. additional information provided from the field indicated the patient was later admitted to the hospital after experiencing a syncopal episode. review of their system noted oversensing with pacing inhibition and the pacemaker was now in safety mode. surgical intervention was performed, and the pacemaker was explanted and replaced. no additional adverse patient effects were reported.",
         "it was reported that this pacemaker longevity was decreasing faster than expected between followups review of data analysis revealed the power consumption was higher than expected a device replacement was recommended however the device remains inservice at this time with safe replacement interval for at least days no adverse patient effects were reported additional information provided from the field indicated the patient was later admitted to the hospital after experiencing a syncopal episode review of their system noted oversensing with pacing inhibition and the pacemaker was now in safety mode surgical intervention was performed and the pacemaker was explanted and replaced no additional adverse patient effects were reported",
         "it was that this pacemaker longevity was decreasing faster than expected between follow-ups. review of data analysis revealed the power consumption was higher than expected. a replacement was recommended, however the remains in-service at this time with safe replacement interval for at least days. no adverse effects were reported. additional information provided from the field indicated the was later admitted to the hospital after experiencing a syncopal episode. review of their system noted oversensing with pacing inhibition and the pacemaker was now in safety mode. surgical intervention was performed, and the pacemaker was explanted and replaced. no additional adverse effects were reported.",
         "it was that this pacemaker longevity was decreasing faster than expected between follow-ups. review of data analysis revealed the power consumption was higher than expected. a replacement was recommended, however the remains in-service at this time with safe replacement interval for at least days. no were reported. information provided from the field indicated the was later admitted to the hospital after experiencing a syncopal episode. review of their system oversensing with inhibition and the pacemaker was now in safety mode. surgical intervention was performed, and the pacemaker was and replaced. no were reported.",
         "it was that this longevity was decreasing faster than expected between follow-ups. review of data analysis revealed the power consumption was higher than expected. a replacement was recommended, however the in-service at this time with safe replacement interval for at least days. no were reported. information provided from the field indicated the was later admitted to the hospital after experiencing a syncopal episode. review of their system oversensing with inhibition and the was now in safety mode. surgical intervention was performed, and the was and replaced. no were reported.",
         "A07",
         "A0712",
         "it was reported that this pacemaker longevity was decreasing faster than expected between follow-ups. review of data analysis revealed the power consumption was higher than expected.",
         "it was reported that this pacemaker longevity was decreasing faster than expected between follow-ups. review of data analysis revealed the power consumption was higher than expected. a device replacement was recommended, however the device remains in-service at this time with safe replacement interval for at least 90 days. no adverse patient effects were reported. additional information provided from the field indicated the patient was later admitted to the hospital after experiencing a syncopal episode. review of their system noted oversensing with pacing inhibition and the pacemaker was now in safety mode. surgical intervention was performed, and the pacemaker was explanted and replaced. no additional adverse patient effects were reported.",
         "it was reported that this pacemaker longevity was decreasing faster than expected between follow-ups. review of data analysis revealed the power consumption was higher than expected.",
         "it was reported that this pacemaker longevity was decreasing faster than expected between follow-ups. review of data analysis revealed the power consumption was higher than expected. a device replacement was recommended, however the device remains in-service at this time with safe replacement interval for at least days. no adverse patient effects were reported. additional information provided from the field indicated the patient was later admitted to the hospital after experiencing a syncopal episode. review of their system noted oversensing with pacing inhibition and the pacemaker was now in safety mode. surgical intervention was performed, and the pacemaker was explanted and replaced. no additional adverse patient effects were reported.",
         "it was reported that this pacemaker longevity was decreasing faster than expected between followups review of data analysis revealed the power consumption was higher than expected",
         "it was reported that this pacemaker longevity was decreasing faster than expected between followups review of data analysis revealed the power consumption was higher than expected a device replacement was recommended however the device remains inservice at this time with safe replacement interval for at least days no adverse patient effects were reported additional information provided from the field indicated the patient was later admitted to the hospital after experiencing a syncopal episode review of their system noted oversensing with pacing inhibition and the pacemaker was now in safety mode surgical intervention was performed and the pacemaker was explanted and replaced no additional adverse patient effects were reported"
        ],
        [
         "35273",
         "it was reported that this right atrial (ra) lead was not successfully implanted, the lead experienced placement difficulty and helix extension issues. a conductor fracture was suspected. the lead was removed and replaced prior to pocket closure. no adverse patient effects were reported.",
         "A04",
         "it was reported that this right atrial lead was not successfully implanted, the lead experienced placement difficulty and helix extension issues. a conductor fracture was suspected. the lead was removed and replaced prior to pocket closure. no adverse patient effects were reported.",
         "it was reported that this right atrial lead was not successfully implanted the lead experienced placement difficulty and helix extension issues a conductor fracture was suspected the lead was removed and replaced prior to pocket closure no adverse patient effects were reported",
         "it was that this was not successfully implanted, the experienced placement difficulty and helix extension issues. a conductor fracture was suspected. the was removed and replaced prior to pocket closure. no adverse effects were reported.",
         "it was that this was not successfully implanted, the experienced placement difficulty and helix extension issues. a conductor fracture was suspected. the was removed and prior to pocket closure. no were reported.",
         "it was that this was not successfully implanted, the experienced placement difficulty and helix extension issues. a conductor fracture was suspected. the was removed and prior to pocket closure. no were reported.",
         "A04",
         "",
         "it was reported that this right atrial (ra) lead was not successfully implanted, the lead experienced placement difficulty and helix extension issues. a conductor fracture was suspected.",
         "it was reported that this right atrial (ra) lead was not successfully implanted, the lead experienced placement difficulty and helix extension issues. a conductor fracture was suspected. the lead was removed and replaced prior to pocket closure. no adverse patient effects were reported.",
         "it was reported that this right atrial lead was not successfully implanted, the lead experienced placement difficulty and helix extension issues. a conductor fracture was suspected.",
         "it was reported that this right atrial lead was not successfully implanted, the lead experienced placement difficulty and helix extension issues. a conductor fracture was suspected. the lead was removed and replaced prior to pocket closure. no adverse patient effects were reported.",
         "it was reported that this right atrial lead was not successfully implanted the lead experienced placement difficulty and helix extension issues a conductor fracture was suspected",
         "it was reported that this right atrial lead was not successfully implanted the lead experienced placement difficulty and helix extension issues a conductor fracture was suspected the lead was removed and replaced prior to pocket closure no adverse patient effects were reported"
        ],
        [
         "384765",
         "it was reported that during implant of a�right atrial (ra) lead�the patient experienced atrial standstill. the ra lead exhibited high thresholds, non-capture and rising impedance. the ra lead was not used and was replaced. however, it was reported that the replacement�ra lead also exhibited�high thresholds, non-capture and rising impedance. the�replacement ra lead was not used and was replaced.�no further patient complications have been reported as a result of this event.",
         "A0722",
         "it was reported that during implant of a right atrial lead the patient experienced atrial standstill. the ra lead exhibited high thresholds, non-capture and rising impedance. the ra lead was not used and was replaced. however, it was reported that the replacement ra lead also exhibited high thresholds, non-capture and rising impedance. the replacement ra lead was not used and was replaced. no further patient complications have been reported as a result of this event.",
         "it was reported that during implant of a right atrial lead the patient experienced atrial standstill the ra lead exhibited high thresholds noncapture and rising impedance the ra lead was not used and was replaced however it was reported that the replacement ra lead also exhibited high thresholds noncapture and rising impedance the replacement ra lead was not used and was replaced no further patient complications have been reported as a result of this event",
         "it was that during implant of a the experienced standstill. the ra exhibited high thresholds, non-capture and rising impedance. the ra was not used and was replaced. however, it was that the replacement ra also exhibited high thresholds, non-capture and rising impedance. the replacement ra was not used and was replaced. no further have been as a of this event.",
         "it was that during implant of a the experienced standstill. the ra thresholds, non-capture and rising impedance. the ra was not used and was replaced. however, it was that the replacement ra also thresholds, non-capture and rising impedance. the replacement ra was not used and was replaced. no further have been as a of this event.",
         "it was that during implant of a the experienced standstill. the thresholds, non-capture and rising impedance. the was not used and was replaced. however, it was that the replacement also thresholds, non-capture and rising impedance. the replacement was not used and was replaced. no further have been as a of this event.",
         "A07",
         "A0722",
         "it was reported that during implant of a�right atrial (ra) lead�the patient experienced atrial standstill. the ra lead exhibited high thresholds, non-capture and rising impedance.",
         "it was reported that during implant of a�right atrial (ra) lead�the patient experienced atrial standstill. the ra lead exhibited high thresholds, non-capture and rising impedance. the ra lead was not used and was replaced. however, it was reported that the replacement�ra lead also exhibited�high thresholds, non-capture and rising impedance. the�replacement ra lead was not used and was replaced.�no further patient complications have been reported as a result of this event.",
         "it was reported that during implant of a right atrial lead the patient experienced atrial standstill. the ra lead exhibited high thresholds, non-capture and rising impedance.",
         "it was reported that during implant of a right atrial lead the patient experienced atrial standstill. the ra lead exhibited high thresholds, non-capture and rising impedance. the ra lead was not used and was replaced. however, it was reported that the replacement ra lead also exhibited high thresholds, non-capture and rising impedance. the replacement ra lead was not used and was replaced. no further patient complications have been reported as a result of this event.",
         "it was reported that during implant of a right atrial lead the patient experienced atrial standstill the ra lead exhibited high thresholds noncapture and rising impedance",
         "it was reported that during implant of a right atrial lead the patient experienced atrial standstill the ra lead exhibited high thresholds noncapture and rising impedance the ra lead was not used and was replaced however it was reported that the replacement ra lead also exhibited high thresholds noncapture and rising impedance the replacement ra lead was not used and was replaced no further patient complications have been reported as a result of this event"
        ],
        [
         "133643",
         "it was reported that during the implant procedure placement difficulty was noted. it was further reported the stylet may have introduced blood into the lead. the physician used mineral oil and stated he \"stretched\" the lead. the lead was attempted / not used and replaced. no patient complications have been reported as a result of this event.",
         "A1502",
         "it was reported that during the implant procedure placement difficulty was noted. it was further reported the stylet may have introduced blood into the lead. the physician used mineral oil and stated he \"stretched\" the lead. the lead was attempted / not used and replaced. no patient complications have been reported as a result of this event.",
         "it was reported that during the implant procedure placement difficulty was noted it was further reported the stylet may have introduced blood into the lead the physician used mineral oil and stated he stretched the lead the lead was attempted  not used and replaced no patient complications have been reported as a result of this event",
         "it was that during the implant procedure placement difficulty was noted. it was further the stylet may have introduced blood into the lead. the physician used mineral oil and stated he \"stretched\" the lead. the was attempted / not used and replaced. no have been as a of this event.",
         "it was that during the implant procedure placement difficulty was noted. it was further the stylet may have introduced blood into the lead. the physician used mineral oil and stated he \"stretched\" the lead. the was attempted / not used and replaced. no have been as a of this event.",
         "it was that during the implant placement difficulty was noted. it was further the stylet may have introduced blood into the lead. the physician used mineral oil and stated he \"stretched\" the lead. the was attempted / not used and replaced. no have been as a of this event.",
         "A15",
         "A1502",
         "it was reported that during the implant procedure placement difficulty was noted. it was further reported the stylet may have introduced blood into the lead.",
         "it was reported that during the implant procedure placement difficulty was noted. it was further reported the stylet may have introduced blood into the lead. the physician used mineral oil and stated he \"stretched\" the lead. the lead was attempted / not used and replaced. no patient complications have been reported as a result of this event.",
         "it was reported that during the implant procedure placement difficulty was noted. it was further reported the stylet may have introduced blood into the lead.",
         "it was reported that during the implant procedure placement difficulty was noted. it was further reported the stylet may have introduced blood into the lead. the physician used mineral oil and stated he \"stretched\" the lead. the lead was attempted / not used and replaced. no patient complications have been reported as a result of this event.",
         "it was reported that during the implant procedure placement difficulty was noted it was further reported the stylet may have introduced blood into the lead",
         "it was reported that during the implant procedure placement difficulty was noted it was further reported the stylet may have introduced blood into the lead the physician used mineral oil and stated he stretched the lead the lead was attempted  not used and replaced no patient complications have been reported as a result of this event"
        ],
        [
         "554907",
         "it was reported, a patient's right ventricular (rv) lead presented with high pacing impedance and loss of capture. the lead was explanted in a procedure on (b)(6) 2023. in which a visible abrasion was noted, under the suture sleeve. post-procedure, the patient was stable.",
         "A070101",
         "it was reported, a patient's right ventricular lead presented with high pacing impedance and loss of capture. the lead was explanted in a procedure on . in which a visible abrasion was noted, under the suture sleeve. post-procedure, the patient was stable.",
         "it was reported a patients right ventricular lead presented with high pacing impedance and loss of capture the lead was explanted in a procedure on  in which a visible abrasion was noted under the suture sleeve postprocedure the patient was stable",
         "it was reported, a patient's presented with high pacing impedance and loss of capture. the was explanted in a procedure on . in which a visible abrasion was noted, under the suture sleeve. post-procedure, the was stable.",
         "it was reported, a patient's presented with and loss of capture. the was in a procedure on . in which a visible abrasion was noted, under the suture sleeve. post-procedure, the was stable.",
         "it was reported, a patient's presented with and loss of capture. the was in a on . in which a visible abrasion was noted, under the suture sleeve. post-procedure, the was stable.",
         "A07",
         "A0701",
         "it was reported, a patient's right ventricular (rv) lead presented with high pacing impedance and loss of capture. the lead was explanted in a procedure on (b)(6) 2023. in which a visible abrasion was noted, under the suture sleeve.",
         "it was reported, a patient's right ventricular (rv) lead presented with high pacing impedance and loss of capture. the lead was explanted in a procedure on (b)(6) 2023. in which a visible abrasion was noted, under the suture sleeve. post-procedure, the patient was stable.",
         "it was reported, a patient's right ventricular lead presented with high pacing impedance and loss of capture. the lead was explanted in a procedure on . in which a visible abrasion was noted, under the suture sleeve.",
         "it was reported, a patient's right ventricular lead presented with high pacing impedance and loss of capture. the lead was explanted in a procedure on . in which a visible abrasion was noted, under the suture sleeve. post-procedure, the patient was stable.",
         "it was reported a patients right ventricular lead presented with high pacing impedance and loss of capture the lead was explanted in a procedure on  in which a visible abrasion was noted under the suture sleeve",
         "it was reported a patients right ventricular lead presented with high pacing impedance and loss of capture the lead was explanted in a procedure on  in which a visible abrasion was noted under the suture sleeve postprocedure the patient was stable"
        ],
        [
         "429829",
         "additional information was received indicating the suspected cause of the inability to interrogate the device was due to premature battery depletion.",
         "A070504",
         "additional information was received indicating the suspected cause of the inability to interrogate the device was due to premature battery depletion.",
         "additional information was received indicating the suspected cause of the inability to interrogate the device was due to premature battery depletion",
         "additional information was received indicating the suspected cause of the inability to interrogate the was due to premature battery depletion.",
         "information was received indicating the suspected cause of the inability to interrogate the was due to premature battery depletion.",
         "information was received indicating the suspected cause of the inability to interrogate the was to premature battery depletion.",
         "A07",
         "A0705",
         "additional information was received indicating the suspected cause of the inability to interrogate the device was due to premature battery depletion.",
         "additional information was received indicating the suspected cause of the inability to interrogate the device was due to premature battery depletion.",
         "additional information was received indicating the suspected cause of the inability to interrogate the device was due to premature battery depletion.",
         "additional information was received indicating the suspected cause of the inability to interrogate the device was due to premature battery depletion.",
         "additional information was received indicating the suspected cause of the inability to interrogate the device was due to premature battery depletion",
         "additional information was received indicating the suspected cause of the inability to interrogate the device was due to premature battery depletion"
        ],
        [
         "294899",
         "it was reported that right atrial (ra) lead exhibited a lead warning for high unipolar and bipolar impedance. it was further reported that an atrial polarity switch also occurred. the ra lead remains in use. no patient complications have been reported as a result of this event.",
         "A072201",
         "it was reported that right atrial lead exhibited a lead warning for high unipolar and bipolar impedance. it was further reported that an atrial polarity switch also occurred. the ra lead remains in use. no patient complications have been reported as a result of this event.",
         "it was reported that right atrial lead exhibited a lead warning for high unipolar and bipolar impedance it was further reported that an atrial polarity switch also occurred the ra lead remains in use no patient complications have been reported as a result of this event",
         "it was that exhibited a warning for high unipolar and bipolar impedance. it was further that an polarity switch also occurred. the ra remains in use. no have been as a of this event.",
         "it was that a warning for unipolar and bipolar impedance. it was further that an polarity switch also occurred. the ra remains in use. no have been as a of this event.",
         "it was that a warning for unipolar and bipolar impedance. it was further that an polarity switch also occurred. the in use. no have been as a of this event.",
         "A07",
         "A0722",
         "it was reported that right atrial (ra) lead exhibited a lead warning for high unipolar and bipolar impedance. it was further reported that an atrial polarity switch also occurred.",
         "it was reported that right atrial (ra) lead exhibited a lead warning for high unipolar and bipolar impedance. it was further reported that an atrial polarity switch also occurred. the ra lead remains in use. no patient complications have been reported as a result of this event.",
         "it was reported that right atrial lead exhibited a lead warning for high unipolar and bipolar impedance. it was further reported that an atrial polarity switch also occurred.",
         "it was reported that right atrial lead exhibited a lead warning for high unipolar and bipolar impedance. it was further reported that an atrial polarity switch also occurred. the ra lead remains in use. no patient complications have been reported as a result of this event.",
         "it was reported that right atrial lead exhibited a lead warning for high unipolar and bipolar impedance it was further reported that an atrial polarity switch also occurred",
         "it was reported that right atrial lead exhibited a lead warning for high unipolar and bipolar impedance it was further reported that an atrial polarity switch also occurred the ra lead remains in use no patient complications have been reported as a result of this event"
        ],
        [
         "40139",
         "it was reported that during the implant procedure, physician experienced difficulty while retracting the lead helix. lead also exhibited high impedance and insulation anomaly. lead was not used and was replaced. patient was stable.",
         "A150201",
         "it was reported that during the implant procedure, physician experienced difficulty while retracting the lead helix. lead also exhibited high impedance and insulation anomaly. lead was not used and was replaced. patient was stable.",
         "it was reported that during the implant procedure physician experienced difficulty while retracting the lead helix lead also exhibited high impedance and insulation anomaly lead was not used and was replaced patient was stable",
         "it was that during the implant procedure, physician experienced difficulty while retracting the helix. also exhibited high impedance and insulation anomaly. was not used and was replaced. was stable.",
         "it was that during the implant procedure, physician experienced difficulty while retracting the helix. also and insulation anomaly. was not used and was replaced. was stable.",
         "it was that during the implant procedure, physician experienced difficulty while retracting the helix. also and insulation anomaly. was not used and was replaced. was stable.",
         "A15",
         "A1502",
         "it was reported that during the implant procedure, physician experienced difficulty while retracting the lead helix. lead also exhibited high impedance and insulation anomaly.",
         "it was reported that during the implant procedure, physician experienced difficulty while retracting the lead helix. lead also exhibited high impedance and insulation anomaly. lead was not used and was replaced. patient was stable.",
         "it was reported that during the implant procedure, physician experienced difficulty while retracting the lead helix. lead also exhibited high impedance and insulation anomaly.",
         "it was reported that during the implant procedure, physician experienced difficulty while retracting the lead helix. lead also exhibited high impedance and insulation anomaly. lead was not used and was replaced. patient was stable.",
         "it was reported that during the implant procedure physician experienced difficulty while retracting the lead helix lead also exhibited high impedance and insulation anomaly",
         "it was reported that during the implant procedure physician experienced difficulty while retracting the lead helix lead also exhibited high impedance and insulation anomaly lead was not used and was replaced patient was stable"
        ],
        [
         "265474",
         "it was reported that during the implant procedure, the guidewire was stuck in the left ventricular (lv) lead. the lv lead was removed and replaced. no patient complications have been reported as a result of this event.",
         "A15",
         "it was reported that during the implant procedure, the guidewire was stuck in the left ventricular lead. the lv lead was removed and replaced. no patient complications have been reported as a result of this event.",
         "it was reported that during the implant procedure the guidewire was stuck in the left ventricular lead the lv lead was removed and replaced no patient complications have been reported as a result of this event",
         "it was that during the implant procedure, the guidewire was stuck in the left lead. the lv was removed and replaced. no have been as a of this event.",
         "it was that during the implant procedure, the guidewire was stuck in the left lead. the lv was removed and replaced. no have been as a of this event.",
         "it was that during the implant procedure, the guidewire was stuck in the left lead. the lv was removed and replaced. no have been as a of this event.",
         "A15",
         "",
         "it was reported that during the implant procedure, the guidewire was stuck in the left ventricular (lv) lead. the lv lead was removed and replaced.",
         "it was reported that during the implant procedure, the guidewire was stuck in the left ventricular (lv) lead. the lv lead was removed and replaced. no patient complications have been reported as a result of this event.",
         "it was reported that during the implant procedure, the guidewire was stuck in the left ventricular lead. the lv lead was removed and replaced.",
         "it was reported that during the implant procedure, the guidewire was stuck in the left ventricular lead. the lv lead was removed and replaced. no patient complications have been reported as a result of this event.",
         "it was reported that during the implant procedure the guidewire was stuck in the left ventricular lead the lv lead was removed and replaced",
         "it was reported that during the implant procedure the guidewire was stuck in the left ventricular lead the lv lead was removed and replaced no patient complications have been reported as a result of this event"
        ],
        [
         "423793",
         "it was reported that there was a loss of capture on the patient's lead. the lead remains in use. no patient complications have been reported as a result of this event.",
         "A070101",
         "it was reported that there was a loss of capture on the patient's lead. the lead remains in use. no patient complications have been reported as a result of this event.",
         "it was reported that there was a loss of capture on the patients lead the lead remains in use no patient complications have been reported as a result of this event",
         "it was that there was a loss of capture on the patient's lead. the remains in use. no have been as a of this event.",
         "it was that there was a loss of capture on the patient's lead. the remains in use. no have been as a of this event.",
         "it was that there was a loss of on the patient's lead. the in use. no have been as a of this event.",
         "A07",
         "A0701",
         "it was reported that there was a loss of capture on the patient's lead. the lead remains in use.",
         "it was reported that there was a loss of capture on the patient's lead. the lead remains in use. no patient complications have been reported as a result of this event.",
         "it was reported that there was a loss of capture on the patient's lead. the lead remains in use.",
         "it was reported that there was a loss of capture on the patient's lead. the lead remains in use. no patient complications have been reported as a result of this event.",
         "it was reported that there was a loss of capture on the patients lead the lead remains in use",
         "it was reported that there was a loss of capture on the patients lead the lead remains in use no patient complications have been reported as a result of this event"
        ],
        [
         "251736",
         "it was reported that the right atrial (ra) lead exhibited diminished sensing and potential under-sensing. the ra lead remains in use. no patient complications have been reported as a result of this event.",
         "A070910",
         "it was reported that the right atrial lead exhibited diminished sensing and potential under-sensing. the ra lead remains in use. no patient complications have been reported as a result of this event.",
         "it was reported that the right atrial lead exhibited diminished sensing and potential undersensing the ra lead remains in use no patient complications have been reported as a result of this event",
         "it was that the exhibited diminished sensing and potential under-sensing. the ra remains in use. no have been as a of this event.",
         "it was that the diminished sensing and potential under-sensing. the ra remains in use. no have been as a of this event.",
         "it was that the diminished sensing and potential under-sensing. the in use. no have been as a of this event.",
         "A07",
         "A0709",
         "it was reported that the right atrial (ra) lead exhibited diminished sensing and potential under-sensing. the ra lead remains in use.",
         "it was reported that the right atrial (ra) lead exhibited diminished sensing and potential under-sensing. the ra lead remains in use. no patient complications have been reported as a result of this event.",
         "it was reported that the right atrial lead exhibited diminished sensing and potential under-sensing. the ra lead remains in use.",
         "it was reported that the right atrial lead exhibited diminished sensing and potential under-sensing. the ra lead remains in use. no patient complications have been reported as a result of this event.",
         "it was reported that the right atrial lead exhibited diminished sensing and potential undersensing the ra lead remains in use",
         "it was reported that the right atrial lead exhibited diminished sensing and potential undersensing the ra lead remains in use no patient complications have been reported as a result of this event"
        ],
        [
         "84568",
         "this lead was explanted and replaced due to undersensing, loss of capture and dislodgement. should additional information become available, this file will be updated.",
         "A070101",
         "this lead was explanted and replaced due to undersensing, loss of capture and dislodgement. should additional information become available, this file will be updated.",
         "this lead was explanted and replaced due to undersensing loss of capture and dislodgement should additional information become available this file will be updated",
         "this was explanted and replaced due to undersensing, loss of capture and dislodgement. should additional information become available, this file will be updated.",
         "this was and due to undersensing, loss of capture and dislodgement. should information become available, this file will be updated.",
         "this was and to undersensing, loss of and dislodgement. should information become available, this file will be updated.",
         "A07",
         "A0701",
         "this lead was explanted and replaced due to undersensing, loss of capture and dislodgement. should additional information become available, this file will be updated.",
         "this lead was explanted and replaced due to undersensing, loss of capture and dislodgement. should additional information become available, this file will be updated.",
         "this lead was explanted and replaced due to undersensing, loss of capture and dislodgement. should additional information become available, this file will be updated.",
         "this lead was explanted and replaced due to undersensing, loss of capture and dislodgement. should additional information become available, this file will be updated.",
         "this lead was explanted and replaced due to undersensing loss of capture and dislodgement should additional information become available this file will be updated",
         "this lead was explanted and replaced due to undersensing loss of capture and dislodgement should additional information become available this file will be updated"
        ],
        [
         "169942",
         "related manufacturer reference number: 2017865-2020-12917, 2017865-2020-12920. it was reported that an asymptomatic patient presented to a follow-up in-clinic with their implantable pacemaker, right ventricular, and atrial leads exhibiting noise over-sensing. the atiral lead noise over-sensing also caused automatic mode switch episodes. the device was reprogrammed to address the issue. patient was stable after the event.",
         "A070909",
         "related manufacturer reference number: --, --. it was reported that an asymptomatic patient presented to a follow-up in-clinic with their implantable pacemaker, right ventricular, and atrial leads exhibiting noise over-sensing. the atiral lead noise over-sensing also caused automatic mode switch episodes. the device was reprogrammed to address the issue. patient was stable after the event.",
         "related manufacturer reference number   it was reported that an asymptomatic patient presented to a followup inclinic with their implantable pacemaker right ventricular and atrial leads exhibiting noise oversensing the atiral lead noise oversensing also caused automatic mode switch episodes the device was reprogrammed to address the issue patient was stable after the event",
         "related manufacturer reference number: --, --. it was that an asymptomatic presented to a follow-up in-clinic with their implantable pacemaker, ventricular, and leads exhibiting noise over-sensing. the atiral noise over-sensing also caused automatic mode switch episodes. the was reprogrammed to address the issue. was stable after the event.",
         "related manufacturer reference number: --, --. it was that an asymptomatic presented to a follow-up in-clinic with their implantable pacemaker, ventricular, and leads exhibiting noise over-sensing. the atiral noise over-sensing also caused automatic mode switch episodes. the was reprogrammed to address the issue. was stable after the event.",
         "related manufacturer reference number: --, --. it was that an asymptomatic presented to a follow-up in-clinic with their implantable pacemaker, ventricular, and leads exhibiting over-sensing. the atiral over-sensing also caused automatic mode switch episodes. the was reprogrammed to address the issue. was after the event.",
         "A07",
         "A0709",
         "related manufacturer reference number: 2017865-2020-12917, 2017865-2020-12920. it was reported that an asymptomatic patient presented to a follow-up in-clinic with their implantable pacemaker, right ventricular, and atrial leads exhibiting noise over-sensing. the atiral lead noise over-sensing also caused automatic mode switch episodes.",
         "related manufacturer reference number: 2017865-2020-12917, 2017865-2020-12920. it was reported that an asymptomatic patient presented to a follow-up in-clinic with their implantable pacemaker, right ventricular, and atrial leads exhibiting noise over-sensing. the atiral lead noise over-sensing also caused automatic mode switch episodes. the device was reprogrammed to address the issue. patient was stable after the event.",
         "related manufacturer reference number: --, --. it was reported that an asymptomatic patient presented to a follow-up in-clinic with their implantable pacemaker, right ventricular, and atrial leads exhibiting noise over-sensing. the atiral lead noise over-sensing also caused automatic mode switch episodes.",
         "related manufacturer reference number: --, --. it was reported that an asymptomatic patient presented to a follow-up in-clinic with their implantable pacemaker, right ventricular, and atrial leads exhibiting noise over-sensing. the atiral lead noise over-sensing also caused automatic mode switch episodes. the device was reprogrammed to address the issue. patient was stable after the event.",
         "related manufacturer reference number   it was reported that an asymptomatic patient presented to a followup inclinic with their implantable pacemaker right ventricular and atrial leads exhibiting noise oversensing the atiral lead noise oversensing also caused automatic mode switch episodes",
         "related manufacturer reference number   it was reported that an asymptomatic patient presented to a followup inclinic with their implantable pacemaker right ventricular and atrial leads exhibiting noise oversensing the atiral lead noise oversensing also caused automatic mode switch episodes the device was reprogrammed to address the issue patient was stable after the event"
        ],
        [
         "361320",
         "it was further reported that the ra lead is now stable.",
         "A070102",
         "it was further reported that the ra lead is now stable.",
         "it was further reported that the ra lead is now stable",
         "it was further that the ra is now stable.",
         "it was further that the ra is now stable.",
         "it was further that the is now stable.",
         "A07",
         "A0701",
         "it was further reported that the ra lead is now stable.",
         "it was further reported that the ra lead is now stable.",
         "it was further reported that the ra lead is now stable.",
         "it was further reported that the ra lead is now stable.",
         "it was further reported that the ra lead is now stable",
         "it was further reported that the ra lead is now stable"
        ],
        [
         "458258",
         "it was reported that the�right ventricular (rv) lead exhibited rising thresholds and high thresholds. the rv lead remains in use.�no patient complications have been reported as a result of this event.",
         "A0701",
         "it was reported that the right ventricular lead exhibited rising thresholds and high thresholds. the rv lead remains in use. no patient complications have been reported as a result of this event.",
         "it was reported that the right ventricular lead exhibited rising thresholds and high thresholds the rv lead remains in use no patient complications have been reported as a result of this event",
         "it was that the exhibited rising thresholds and high thresholds. the rv remains in use. no have been as a of this event.",
         "it was that the rising thresholds and thresholds. the rv remains in use. no have been as a of this event.",
         "it was that the rising thresholds and thresholds. the in use. no have been as a of this event.",
         "A07",
         "A0701",
         "it was reported that the�right ventricular (rv) lead exhibited rising thresholds and high thresholds. the rv lead remains in use.�no patient complications have been reported as a result of this event.",
         "it was reported that the�right ventricular (rv) lead exhibited rising thresholds and high thresholds. the rv lead remains in use.�no patient complications have been reported as a result of this event.",
         "it was reported that the right ventricular lead exhibited rising thresholds and high thresholds. the rv lead remains in use. no patient complications have been reported as a result of this event.",
         "it was reported that the right ventricular lead exhibited rising thresholds and high thresholds. the rv lead remains in use. no patient complications have been reported as a result of this event.",
         "it was reported that the right ventricular lead exhibited rising thresholds and high thresholds the rv lead remains in use no patient complications have been reported as a result of this event",
         "it was reported that the right ventricular lead exhibited rising thresholds and high thresholds the rv lead remains in use no patient complications have been reported as a result of this event"
        ],
        [
         "383726",
         "it was reported that the patient experienced near syncope. the�right ventricular (rv) lead exhibited high and rising impedance, with a polarity switch noted. the rv lead was explanted and replaced. no further patient complications have been reported as a result of this event.",
         "A072201",
         "it was reported that the patient experienced near syncope. the right ventricular lead exhibited high and rising impedance, with a polarity switch noted. the rv lead was explanted and replaced. no further patient complications have been reported as a result of this event.",
         "it was reported that the patient experienced near syncope the right ventricular lead exhibited high and rising impedance with a polarity switch noted the rv lead was explanted and replaced no further patient complications have been reported as a result of this event",
         "it was that the experienced near syncope. the exhibited high and rising impedance, with a polarity switch noted. the rv was explanted and replaced. no further have been as a of this event.",
         "it was that the experienced near syncope. the and rising impedance, with a polarity switch noted. the rv was and replaced. no further have been as a of this event.",
         "it was that the experienced near syncope. the and rising impedance, with a polarity switch noted. the was and replaced. no further have been as a of this event.",
         "A07",
         "A0722",
         "it was reported that the patient experienced near syncope. the�right ventricular (rv) lead exhibited high and rising impedance, with a polarity switch noted.",
         "it was reported that the patient experienced near syncope. the�right ventricular (rv) lead exhibited high and rising impedance, with a polarity switch noted. the rv lead was explanted and replaced. no further patient complications have been reported as a result of this event.",
         "it was reported that the patient experienced near syncope. the right ventricular lead exhibited high and rising impedance, with a polarity switch noted.",
         "it was reported that the patient experienced near syncope. the right ventricular lead exhibited high and rising impedance, with a polarity switch noted. the rv lead was explanted and replaced. no further patient complications have been reported as a result of this event.",
         "it was reported that the patient experienced near syncope the right ventricular lead exhibited high and rising impedance with a polarity switch noted",
         "it was reported that the patient experienced near syncope the right ventricular lead exhibited high and rising impedance with a polarity switch noted the rv lead was explanted and replaced no further patient complications have been reported as a result of this event"
        ],
        [
         "252926",
         "the rv lead was reprogrammed.",
         "A1502",
         "the rv lead was reprogrammed.",
         "the rv lead was reprogrammed",
         "the rv was reprogrammed.",
         "the rv was reprogrammed.",
         "the was reprogrammed.",
         "A15",
         "A1502",
         "the rv lead was reprogrammed.",
         "the rv lead was reprogrammed.",
         "the rv lead was reprogrammed.",
         "the rv lead was reprogrammed.",
         "the rv lead was reprogrammed",
         "the rv lead was reprogrammed"
        ],
        [
         "560034",
         "during follow-up, sensing noise was observed on the right atrial (ra) lead and the device. lead damage was suspected but was not confirmed visually. device reprogramming was anticipated to resolve the event. the patient was stable and there were no adverse consequences. related manufacturer reference number: (b)(4).",
         "A070909",
         "during follow-up, sensing noise was observed on the right atrial lead and the device. lead damage was suspected but was not confirmed visually. device reprogramming was anticipated to resolve the event. the patient was stable and there were no adverse consequences. related manufacturer reference number: .",
         "during followup sensing noise was observed on the right atrial lead and the device lead damage was suspected but was not confirmed visually device reprogramming was anticipated to resolve the event the patient was stable and there were no adverse consequences related manufacturer reference number",
         "during follow-up, sensing noise was observed on the and the device. damage was suspected but was not confirmed visually. reprogramming was anticipated to resolve the event. the was stable and there were no adverse consequences. related manufacturer reference number: .",
         "during follow-up, sensing noise was observed on the and the device. damage was suspected but was not confirmed visually. reprogramming was anticipated to resolve the event. the was stable and there were no consequences. related manufacturer reference number: .",
         "during follow-up, sensing was observed on the and the device. damage was suspected but was not confirmed visually. reprogramming was anticipated to resolve the event. the was and there were no consequences. related manufacturer reference number: .",
         "A07",
         "A0709",
         "during follow-up, sensing noise was observed on the right atrial (ra) lead and the device. lead damage was suspected but was not confirmed visually.",
         "during follow-up, sensing noise was observed on the right atrial (ra) lead and the device. lead damage was suspected but was not confirmed visually. device reprogramming was anticipated to resolve the event. the patient was stable and there were no adverse consequences. related manufacturer reference number: (b)(4).",
         "during follow-up, sensing noise was observed on the right atrial lead and the device. lead damage was suspected but was not confirmed visually.",
         "during follow-up, sensing noise was observed on the right atrial lead and the device. lead damage was suspected but was not confirmed visually. device reprogramming was anticipated to resolve the event. the patient was stable and there were no adverse consequences. related manufacturer reference number: .",
         "during followup sensing noise was observed on the right atrial lead and the device lead damage was suspected but was not confirmed visually",
         "during followup sensing noise was observed on the right atrial lead and the device lead damage was suspected but was not confirmed visually device reprogramming was anticipated to resolve the event the patient was stable and there were no adverse consequences related manufacturer reference number"
        ],
        [
         "205071",
         "it was reported that this implantable cardioverter defibrillator (icd) exhibited high out of range shock impedance measurements and recorded a fault code 1005. a commanded shock was delivered and out of range measurements were again observed. this device was also found to have recorded a fault code 1003. this device remains in service. no additional adverse patient effects were reported.",
         "A070504",
         "it was reported that this implantable cardioverter defibrillator exhibited high out of range shock impedance measurements and recorded a fault code . a commanded shock was delivered and out of range measurements were again observed. this device was also found to have recorded a fault code . this device remains in service. no additional adverse patient effects were reported.",
         "it was reported that this implantable cardioverter defibrillator exhibited high out of range shock impedance measurements and recorded a fault code  a commanded shock was delivered and out of range measurements were again observed this device was also found to have recorded a fault code  this device remains in service no additional adverse patient effects were reported",
         "it was that this implantable cardioverter defibrillator exhibited high out of range shock impedance measurements and recorded a fault code . a commanded shock was delivered and out of range measurements were again observed. this was also found to have recorded a fault code . this remains in service. no additional adverse effects were reported.",
         "it was that this implantable cardioverter defibrillator out of range shock measurements and recorded a fault code . a commanded shock was delivered and out of range measurements were again observed. this was also found to have recorded a fault code . this remains in service. no were reported.",
         "it was that this implantable cardioverter defibrillator out of range shock measurements and recorded a fault code . a commanded shock was delivered and out of range measurements were again observed. this was also found to have recorded a fault code . this in service. no were reported.",
         "A07",
         "A0705",
         "it was reported that this implantable cardioverter defibrillator (icd) exhibited high out of range shock impedance measurements and recorded a fault code 1005. a commanded shock was delivered and out of range measurements were again observed. this device was also found to have recorded a fault code 1003. this device remains in service.",
         "it was reported that this implantable cardioverter defibrillator (icd) exhibited high out of range shock impedance measurements and recorded a fault code 1005. a commanded shock was delivered and out of range measurements were again observed. this device was also found to have recorded a fault code 1003. this device remains in service. no additional adverse patient effects were reported.",
         "it was reported that this implantable cardioverter defibrillator exhibited high out of range shock impedance measurements and recorded a fault code . a commanded shock was delivered and out of range measurements were again observed. this device was also found to have recorded a fault code . this device remains in service.",
         "it was reported that this implantable cardioverter defibrillator exhibited high out of range shock impedance measurements and recorded a fault code . a commanded shock was delivered and out of range measurements were again observed. this device was also found to have recorded a fault code . this device remains in service. no additional adverse patient effects were reported.",
         "it was reported that this implantable cardioverter defibrillator exhibited high out of range shock impedance measurements and recorded a fault code  a commanded shock was delivered and out of range measurements were again observed this device was also found to have recorded a fault code  this device remains in service",
         "it was reported that this implantable cardioverter defibrillator exhibited high out of range shock impedance measurements and recorded a fault code  a commanded shock was delivered and out of range measurements were again observed this device was also found to have recorded a fault code  this device remains in service no additional adverse patient effects were reported"
        ],
        [
         "92617",
         "it was reported that this pacemaker was part of a system revision due to infection and erosion. this device was explanted. no additional adverse patient effects were reported.",
         "A24",
         "it was reported that this pacemaker was part of a system revision due to infection and erosion. this device was explanted. no additional adverse patient effects were reported.",
         "it was reported that this pacemaker was part of a system revision due to infection and erosion this device was explanted no additional adverse patient effects were reported",
         "it was that this pacemaker was part of a system revision due to infection and erosion. this was explanted. no additional adverse effects were reported.",
         "it was that this pacemaker was part of a system revision due to infection and erosion. this was explanted. no were reported.",
         "it was that this was part of a system revision to infection and erosion. this was explanted. no were reported.",
         "A24",
         "",
         "it was reported that this pacemaker was part of a system revision due to infection and erosion. this device was explanted.",
         "it was reported that this pacemaker was part of a system revision due to infection and erosion. this device was explanted. no additional adverse patient effects were reported.",
         "it was reported that this pacemaker was part of a system revision due to infection and erosion. this device was explanted.",
         "it was reported that this pacemaker was part of a system revision due to infection and erosion. this device was explanted. no additional adverse patient effects were reported.",
         "it was reported that this pacemaker was part of a system revision due to infection and erosion this device was explanted",
         "it was reported that this pacemaker was part of a system revision due to infection and erosion this device was explanted no additional adverse patient effects were reported"
        ],
        [
         "23941",
         "additional information received noted the organism identified was staphylococcus aureus bacteremia.",
         "A24",
         "additional information received noted the organism identified was staphylococcus aureus bacteremia.",
         "additional information received noted the organism identified was staphylococcus aureus bacteremia",
         "additional information received noted the organism identified was staphylococcus aureus bacteremia.",
         "information received the organism identified was staphylococcus aureus bacteremia.",
         "information received the organism identified was staphylococcus aureus bacteremia.",
         "A24",
         "",
         "additional information received noted the organism identified was staphylococcus aureus bacteremia.",
         "additional information received noted the organism identified was staphylococcus aureus bacteremia.",
         "additional information received noted the organism identified was staphylococcus aureus bacteremia.",
         "additional information received noted the organism identified was staphylococcus aureus bacteremia.",
         "additional information received noted the organism identified was staphylococcus aureus bacteremia",
         "additional information received noted the organism identified was staphylococcus aureus bacteremia"
        ],
        [
         "245950",
         "it was reported that the patient presented for a follow up to the clinic on (b)(6) 2021. during interrogation of the pacemaker, it was noted that the battery longevity decreased more than normal from the previous device interrogation performed 8 months ago. the physician decided to shorten the device check intervals. no programming changes were made to the pacemaker. the patient is in stable condition.",
         "A090805",
         "it was reported that the patient presented for a follow up to the clinic on . during interrogation of the pacemaker, it was noted that the battery longevity decreased more than normal from the previous device interrogation performed months ago. the physician decided to shorten the device check intervals. no programming changes were made to the pacemaker. the patient is in stable condition.",
         "it was reported that the patient presented for a follow up to the clinic on  during interrogation of the pacemaker it was noted that the battery longevity decreased more than normal from the previous device interrogation performed months ago the physician decided to shorten the device check intervals no programming changes were made to the pacemaker the patient is in stable condition",
         "it was that the presented for a follow up to the clinic on . during interrogation of the pacemaker, it was noted that the battery longevity decreased more than normal from the previous interrogation performed months ago. the physician decided to shorten the check intervals. no programming changes were made to the pacemaker. the is in stable condition.",
         "it was that the presented for a follow up to the clinic on . during interrogation of the pacemaker, it was that the battery longevity decreased more than normal from the previous interrogation performed months ago. the physician decided to shorten the check intervals. no programming changes were made to the pacemaker. the is in stable condition.",
         "it was that the presented for a follow up to the clinic on . during interrogation of the pacemaker, it was that the battery longevity decreased more than normal from the previous interrogation performed months ago. the physician decided to shorten the check intervals. no programming changes were made to the pacemaker. the is in condition.",
         "A09",
         "A0908",
         "it was reported that the patient presented for a follow up to the clinic on (b)(6) 2021. during interrogation of the pacemaker, it was noted that the battery longevity decreased more than normal from the previous device interrogation performed 8 months ago. the physician decided to shorten the device check intervals.",
         "it was reported that the patient presented for a follow up to the clinic on (b)(6) 2021. during interrogation of the pacemaker, it was noted that the battery longevity decreased more than normal from the previous device interrogation performed 8 months ago. the physician decided to shorten the device check intervals. no programming changes were made to the pacemaker. the patient is in stable condition.",
         "it was reported that the patient presented for a follow up to the clinic on . during interrogation of the pacemaker, it was noted that the battery longevity decreased more than normal from the previous device interrogation performed months ago. the physician decided to shorten the device check intervals.",
         "it was reported that the patient presented for a follow up to the clinic on . during interrogation of the pacemaker, it was noted that the battery longevity decreased more than normal from the previous device interrogation performed months ago. the physician decided to shorten the device check intervals. no programming changes were made to the pacemaker. the patient is in stable condition.",
         "it was reported that the patient presented for a follow up to the clinic on  during interrogation of the pacemaker it was noted that the battery longevity decreased more than normal from the previous device interrogation performed months ago the physician decided to shorten the device check intervals",
         "it was reported that the patient presented for a follow up to the clinic on  during interrogation of the pacemaker it was noted that the battery longevity decreased more than normal from the previous device interrogation performed months ago the physician decided to shorten the device check intervals no programming changes were made to the pacemaker the patient is in stable condition"
        ]
       ],
       "shape": {
        "columns": 15,
        "rows": 100
       }
      },
      "text/html": [
       "<div>\n",
       "<style scoped>\n",
       "    .dataframe tbody tr th:only-of-type {\n",
       "        vertical-align: middle;\n",
       "    }\n",
       "\n",
       "    .dataframe tbody tr th {\n",
       "        vertical-align: top;\n",
       "    }\n",
       "\n",
       "    .dataframe thead th {\n",
       "        text-align: right;\n",
       "    }\n",
       "</style>\n",
       "<table border=\"1\" class=\"dataframe\">\n",
       "  <thead>\n",
       "    <tr style=\"text-align: right;\">\n",
       "      <th></th>\n",
       "      <th>FOI_TEXT</th>\n",
       "      <th>IMDRF</th>\n",
       "      <th>Cleaned</th>\n",
       "      <th>NoPunctuation</th>\n",
       "      <th>NoStop10</th>\n",
       "      <th>NoStop20</th>\n",
       "      <th>NoStop30</th>\n",
       "      <th>CatOneIMDRF</th>\n",
       "      <th>CatTwoIMDRF</th>\n",
       "      <th>f2sent</th>\n",
       "      <th>trimsent</th>\n",
       "      <th>cleanf2</th>\n",
       "      <th>cleantrim</th>\n",
       "      <th>nopunf2</th>\n",
       "      <th>nopuntrim</th>\n",
       "    </tr>\n",
       "  </thead>\n",
       "  <tbody>\n",
       "    <tr>\n",
       "      <th>432108</th>\n",
       "      <td>it was reported that during implant the�right ...</td>\n",
       "      <td>A0701</td>\n",
       "      <td>it was reported that during implant the right ...</td>\n",
       "      <td>it was reported that during implant the right ...</td>\n",
       "      <td>it was that during implant the exhibited poor ...</td>\n",
       "      <td>it was that during implant the poor thresholds...</td>\n",
       "      <td>it was that during implant the poor thresholds...</td>\n",
       "      <td>A07</td>\n",
       "      <td>A0701</td>\n",
       "      <td>it was reported that during implant the�right ...</td>\n",
       "      <td>it was reported that during implant the�right ...</td>\n",
       "      <td>it was reported that during implant the right ...</td>\n",
       "      <td>it was reported that during implant the right ...</td>\n",
       "      <td>it was reported that during implant the right ...</td>\n",
       "      <td>it was reported that during implant the right ...</td>\n",
       "    </tr>\n",
       "    <tr>\n",
       "      <th>145991</th>\n",
       "      <td>it was reported that the patient presented to ...</td>\n",
       "      <td>A090801</td>\n",
       "      <td>it was reported that the patient presented to ...</td>\n",
       "      <td>it was reported that the patient presented to ...</td>\n",
       "      <td>it was that the presented to the hospital for ...</td>\n",
       "      <td>it was that the presented to the hospital for ...</td>\n",
       "      <td>it was that the presented to the hospital for ...</td>\n",
       "      <td>A09</td>\n",
       "      <td>A0908</td>\n",
       "      <td>it was reported that the patient presented to ...</td>\n",
       "      <td>it was reported that the patient presented to ...</td>\n",
       "      <td>it was reported that the patient presented to ...</td>\n",
       "      <td>it was reported that the patient presented to ...</td>\n",
       "      <td>it was reported that the patient presented to ...</td>\n",
       "      <td>it was reported that the patient presented to ...</td>\n",
       "    </tr>\n",
       "    <tr>\n",
       "      <th>259118</th>\n",
       "      <td>it was reported that this pacemaker system tri...</td>\n",
       "      <td>A072201</td>\n",
       "      <td>it was reported that this pacemaker system tri...</td>\n",
       "      <td>it was reported that this pacemaker system tri...</td>\n",
       "      <td>it was that this pacemaker system triggered a ...</td>\n",
       "      <td>it was that this pacemaker system triggered a ...</td>\n",
       "      <td>it was that this system triggered a safety swi...</td>\n",
       "      <td>A07</td>\n",
       "      <td>A0722</td>\n",
       "      <td>it was reported that this pacemaker system tri...</td>\n",
       "      <td>it was reported that this pacemaker system tri...</td>\n",
       "      <td>it was reported that this pacemaker system tri...</td>\n",
       "      <td>it was reported that this pacemaker system tri...</td>\n",
       "      <td>it was reported that this pacemaker system tri...</td>\n",
       "      <td>it was reported that this pacemaker system tri...</td>\n",
       "    </tr>\n",
       "    <tr>\n",
       "      <th>502603</th>\n",
       "      <td>related manufacturer report number: 2017865-20...</td>\n",
       "      <td>A070909</td>\n",
       "      <td>related manufacturer report number: --. it was...</td>\n",
       "      <td>related manufacturer report number  it was rep...</td>\n",
       "      <td>related manufacturer report number: --. it was...</td>\n",
       "      <td>related manufacturer report number: --. it was...</td>\n",
       "      <td>related manufacturer report number: --. it was...</td>\n",
       "      <td>A07</td>\n",
       "      <td>A0709</td>\n",
       "      <td>related manufacturer report number: 2017865-20...</td>\n",
       "      <td>related manufacturer report number: 2017865-20...</td>\n",
       "      <td>related manufacturer report number: --. it was...</td>\n",
       "      <td>related manufacturer report number: --. it was...</td>\n",
       "      <td>related manufacturer report number  it was rep...</td>\n",
       "      <td>related manufacturer report number  it was rep...</td>\n",
       "    </tr>\n",
       "    <tr>\n",
       "      <th>173353</th>\n",
       "      <td>it was reported that a patient presented in a ...</td>\n",
       "      <td>A070101</td>\n",
       "      <td>it was reported that a patient presented in a ...</td>\n",
       "      <td>it was reported that a patient presented in a ...</td>\n",
       "      <td>it was that a presented in a post operation ch...</td>\n",
       "      <td>it was that a presented in a post operation ch...</td>\n",
       "      <td>it was that a presented in a post operation ch...</td>\n",
       "      <td>A07</td>\n",
       "      <td>A0701</td>\n",
       "      <td>it was reported that a patient presented in a ...</td>\n",
       "      <td>it was reported that a patient presented in a ...</td>\n",
       "      <td>it was reported that a patient presented in a ...</td>\n",
       "      <td>it was reported that a patient presented in a ...</td>\n",
       "      <td>it was reported that a patient presented in a ...</td>\n",
       "      <td>it was reported that a patient presented in a ...</td>\n",
       "    </tr>\n",
       "    <tr>\n",
       "      <th>...</th>\n",
       "      <td>...</td>\n",
       "      <td>...</td>\n",
       "      <td>...</td>\n",
       "      <td>...</td>\n",
       "      <td>...</td>\n",
       "      <td>...</td>\n",
       "      <td>...</td>\n",
       "      <td>...</td>\n",
       "      <td>...</td>\n",
       "      <td>...</td>\n",
       "      <td>...</td>\n",
       "      <td>...</td>\n",
       "      <td>...</td>\n",
       "      <td>...</td>\n",
       "      <td>...</td>\n",
       "    </tr>\n",
       "    <tr>\n",
       "      <th>83969</th>\n",
       "      <td>related manufacturer reference number: 2938836...</td>\n",
       "      <td>A070909</td>\n",
       "      <td>related manufacturer reference number: --. it ...</td>\n",
       "      <td>related manufacturer reference number  it was ...</td>\n",
       "      <td>related manufacturer reference number: --. it ...</td>\n",
       "      <td>related manufacturer reference number: --. it ...</td>\n",
       "      <td>related manufacturer reference number: --. it ...</td>\n",
       "      <td>A07</td>\n",
       "      <td>A0709</td>\n",
       "      <td>related manufacturer reference number: 2938836...</td>\n",
       "      <td>related manufacturer reference number: 2938836...</td>\n",
       "      <td>related manufacturer reference number: --. it ...</td>\n",
       "      <td>related manufacturer reference number: --. it ...</td>\n",
       "      <td>related manufacturer reference number  it was ...</td>\n",
       "      <td>related manufacturer reference number  it was ...</td>\n",
       "    </tr>\n",
       "    <tr>\n",
       "      <th>323755</th>\n",
       "      <td>it was further reported that the wound culture...</td>\n",
       "      <td>A24</td>\n",
       "      <td>it was further reported that the wound culture...</td>\n",
       "      <td>it was further reported that the wound culture...</td>\n",
       "      <td>it was further that the wound culture from out...</td>\n",
       "      <td>it was further that the wound culture from out...</td>\n",
       "      <td>it was further that the wound culture from out...</td>\n",
       "      <td>A24</td>\n",
       "      <td></td>\n",
       "      <td>it was further reported that the wound culture...</td>\n",
       "      <td>it was further reported that the wound culture...</td>\n",
       "      <td>it was further reported that the wound culture...</td>\n",
       "      <td>it was further reported that the wound culture...</td>\n",
       "      <td>it was further reported that the wound culture...</td>\n",
       "      <td>it was further reported that the wound culture...</td>\n",
       "    </tr>\n",
       "    <tr>\n",
       "      <th>47378</th>\n",
       "      <td>it was reported that this implantable cardiove...</td>\n",
       "      <td>A090201</td>\n",
       "      <td>it was reported that this implantable cardiove...</td>\n",
       "      <td>it was reported that this implantable cardiove...</td>\n",
       "      <td>it was that this implantable cardioverter defi...</td>\n",
       "      <td>it was that this implantable cardioverter defi...</td>\n",
       "      <td>it was that this implantable cardioverter defi...</td>\n",
       "      <td>A09</td>\n",
       "      <td>A0902</td>\n",
       "      <td>it was reported that this implantable cardiove...</td>\n",
       "      <td>it was reported that this implantable cardiove...</td>\n",
       "      <td>it was reported that this implantable cardiove...</td>\n",
       "      <td>it was reported that this implantable cardiove...</td>\n",
       "      <td>it was reported that this implantable cardiove...</td>\n",
       "      <td>it was reported that this implantable cardiove...</td>\n",
       "    </tr>\n",
       "    <tr>\n",
       "      <th>483388</th>\n",
       "      <td>related mfr report number: 2017865-2023-21184....</td>\n",
       "      <td>A24</td>\n",
       "      <td>related mfr report number: --. related mfr rep...</td>\n",
       "      <td>related mfr report number  related mfr report ...</td>\n",
       "      <td>related mfr report number: --. related mfr rep...</td>\n",
       "      <td>related mfr report number: --. related mfr rep...</td>\n",
       "      <td>related mfr report number: --. related mfr rep...</td>\n",
       "      <td>A24</td>\n",
       "      <td></td>\n",
       "      <td>related mfr report number: 2017865-2023-21184....</td>\n",
       "      <td>related mfr report number: 2017865-2023-21184....</td>\n",
       "      <td>related mfr report number: --. related mfr rep...</td>\n",
       "      <td>related mfr report number: --. related mfr rep...</td>\n",
       "      <td>related mfr report number  related mfr report ...</td>\n",
       "      <td>related mfr report number  related mfr report ...</td>\n",
       "    </tr>\n",
       "    <tr>\n",
       "      <th>70224</th>\n",
       "      <td>it was reported that the right atrial (ra) lea...</td>\n",
       "      <td>A27</td>\n",
       "      <td>it was reported that the right atrial lead was...</td>\n",
       "      <td>it was reported that the right atrial lead was...</td>\n",
       "      <td>it was that the was capped for an unknown reas...</td>\n",
       "      <td>it was that the was capped for an unknown reas...</td>\n",
       "      <td>it was that the was capped for an unknown reas...</td>\n",
       "      <td>A27</td>\n",
       "      <td></td>\n",
       "      <td>it was reported that the right atrial (ra) lea...</td>\n",
       "      <td>it was reported that the right atrial (ra) lea...</td>\n",
       "      <td>it was reported that the right atrial lead was...</td>\n",
       "      <td>it was reported that the right atrial lead was...</td>\n",
       "      <td>it was reported that the right atrial lead was...</td>\n",
       "      <td>it was reported that the right atrial lead was...</td>\n",
       "    </tr>\n",
       "  </tbody>\n",
       "</table>\n",
       "<p>100 rows × 15 columns</p>\n",
       "</div>"
      ],
      "text/plain": [
       "                                                 FOI_TEXT    IMDRF  \\\n",
       "432108  it was reported that during implant the�right ...    A0701   \n",
       "145991  it was reported that the patient presented to ...  A090801   \n",
       "259118  it was reported that this pacemaker system tri...  A072201   \n",
       "502603  related manufacturer report number: 2017865-20...  A070909   \n",
       "173353  it was reported that a patient presented in a ...  A070101   \n",
       "...                                                   ...      ...   \n",
       "83969   related manufacturer reference number: 2938836...  A070909   \n",
       "323755  it was further reported that the wound culture...      A24   \n",
       "47378   it was reported that this implantable cardiove...  A090201   \n",
       "483388  related mfr report number: 2017865-2023-21184....      A24   \n",
       "70224   it was reported that the right atrial (ra) lea...      A27   \n",
       "\n",
       "                                                  Cleaned  \\\n",
       "432108  it was reported that during implant the right ...   \n",
       "145991  it was reported that the patient presented to ...   \n",
       "259118  it was reported that this pacemaker system tri...   \n",
       "502603  related manufacturer report number: --. it was...   \n",
       "173353  it was reported that a patient presented in a ...   \n",
       "...                                                   ...   \n",
       "83969   related manufacturer reference number: --. it ...   \n",
       "323755  it was further reported that the wound culture...   \n",
       "47378   it was reported that this implantable cardiove...   \n",
       "483388  related mfr report number: --. related mfr rep...   \n",
       "70224   it was reported that the right atrial lead was...   \n",
       "\n",
       "                                            NoPunctuation  \\\n",
       "432108  it was reported that during implant the right ...   \n",
       "145991  it was reported that the patient presented to ...   \n",
       "259118  it was reported that this pacemaker system tri...   \n",
       "502603  related manufacturer report number  it was rep...   \n",
       "173353  it was reported that a patient presented in a ...   \n",
       "...                                                   ...   \n",
       "83969   related manufacturer reference number  it was ...   \n",
       "323755  it was further reported that the wound culture...   \n",
       "47378   it was reported that this implantable cardiove...   \n",
       "483388  related mfr report number  related mfr report ...   \n",
       "70224   it was reported that the right atrial lead was...   \n",
       "\n",
       "                                                 NoStop10  \\\n",
       "432108  it was that during implant the exhibited poor ...   \n",
       "145991  it was that the presented to the hospital for ...   \n",
       "259118  it was that this pacemaker system triggered a ...   \n",
       "502603  related manufacturer report number: --. it was...   \n",
       "173353  it was that a presented in a post operation ch...   \n",
       "...                                                   ...   \n",
       "83969   related manufacturer reference number: --. it ...   \n",
       "323755  it was further that the wound culture from out...   \n",
       "47378   it was that this implantable cardioverter defi...   \n",
       "483388  related mfr report number: --. related mfr rep...   \n",
       "70224   it was that the was capped for an unknown reas...   \n",
       "\n",
       "                                                 NoStop20  \\\n",
       "432108  it was that during implant the poor thresholds...   \n",
       "145991  it was that the presented to the hospital for ...   \n",
       "259118  it was that this pacemaker system triggered a ...   \n",
       "502603  related manufacturer report number: --. it was...   \n",
       "173353  it was that a presented in a post operation ch...   \n",
       "...                                                   ...   \n",
       "83969   related manufacturer reference number: --. it ...   \n",
       "323755  it was further that the wound culture from out...   \n",
       "47378   it was that this implantable cardioverter defi...   \n",
       "483388  related mfr report number: --. related mfr rep...   \n",
       "70224   it was that the was capped for an unknown reas...   \n",
       "\n",
       "                                                 NoStop30 CatOneIMDRF  \\\n",
       "432108  it was that during implant the poor thresholds...         A07   \n",
       "145991  it was that the presented to the hospital for ...         A09   \n",
       "259118  it was that this system triggered a safety swi...         A07   \n",
       "502603  related manufacturer report number: --. it was...         A07   \n",
       "173353  it was that a presented in a post operation ch...         A07   \n",
       "...                                                   ...         ...   \n",
       "83969   related manufacturer reference number: --. it ...         A07   \n",
       "323755  it was further that the wound culture from out...         A24   \n",
       "47378   it was that this implantable cardioverter defi...         A09   \n",
       "483388  related mfr report number: --. related mfr rep...         A24   \n",
       "70224   it was that the was capped for an unknown reas...         A27   \n",
       "\n",
       "       CatTwoIMDRF                                             f2sent  \\\n",
       "432108       A0701  it was reported that during implant the�right ...   \n",
       "145991       A0908  it was reported that the patient presented to ...   \n",
       "259118       A0722  it was reported that this pacemaker system tri...   \n",
       "502603       A0709  related manufacturer report number: 2017865-20...   \n",
       "173353       A0701  it was reported that a patient presented in a ...   \n",
       "...            ...                                                ...   \n",
       "83969        A0709  related manufacturer reference number: 2938836...   \n",
       "323755              it was further reported that the wound culture...   \n",
       "47378        A0902  it was reported that this implantable cardiove...   \n",
       "483388              related mfr report number: 2017865-2023-21184....   \n",
       "70224               it was reported that the right atrial (ra) lea...   \n",
       "\n",
       "                                                 trimsent  \\\n",
       "432108  it was reported that during implant the�right ...   \n",
       "145991  it was reported that the patient presented to ...   \n",
       "259118  it was reported that this pacemaker system tri...   \n",
       "502603  related manufacturer report number: 2017865-20...   \n",
       "173353  it was reported that a patient presented in a ...   \n",
       "...                                                   ...   \n",
       "83969   related manufacturer reference number: 2938836...   \n",
       "323755  it was further reported that the wound culture...   \n",
       "47378   it was reported that this implantable cardiove...   \n",
       "483388  related mfr report number: 2017865-2023-21184....   \n",
       "70224   it was reported that the right atrial (ra) lea...   \n",
       "\n",
       "                                                  cleanf2  \\\n",
       "432108  it was reported that during implant the right ...   \n",
       "145991  it was reported that the patient presented to ...   \n",
       "259118  it was reported that this pacemaker system tri...   \n",
       "502603  related manufacturer report number: --. it was...   \n",
       "173353  it was reported that a patient presented in a ...   \n",
       "...                                                   ...   \n",
       "83969   related manufacturer reference number: --. it ...   \n",
       "323755  it was further reported that the wound culture...   \n",
       "47378   it was reported that this implantable cardiove...   \n",
       "483388  related mfr report number: --. related mfr rep...   \n",
       "70224   it was reported that the right atrial lead was...   \n",
       "\n",
       "                                                cleantrim  \\\n",
       "432108  it was reported that during implant the right ...   \n",
       "145991  it was reported that the patient presented to ...   \n",
       "259118  it was reported that this pacemaker system tri...   \n",
       "502603  related manufacturer report number: --. it was...   \n",
       "173353  it was reported that a patient presented in a ...   \n",
       "...                                                   ...   \n",
       "83969   related manufacturer reference number: --. it ...   \n",
       "323755  it was further reported that the wound culture...   \n",
       "47378   it was reported that this implantable cardiove...   \n",
       "483388  related mfr report number: --. related mfr rep...   \n",
       "70224   it was reported that the right atrial lead was...   \n",
       "\n",
       "                                                  nopunf2  \\\n",
       "432108  it was reported that during implant the right ...   \n",
       "145991  it was reported that the patient presented to ...   \n",
       "259118  it was reported that this pacemaker system tri...   \n",
       "502603  related manufacturer report number  it was rep...   \n",
       "173353  it was reported that a patient presented in a ...   \n",
       "...                                                   ...   \n",
       "83969   related manufacturer reference number  it was ...   \n",
       "323755  it was further reported that the wound culture...   \n",
       "47378   it was reported that this implantable cardiove...   \n",
       "483388  related mfr report number  related mfr report ...   \n",
       "70224   it was reported that the right atrial lead was...   \n",
       "\n",
       "                                                nopuntrim  \n",
       "432108  it was reported that during implant the right ...  \n",
       "145991  it was reported that the patient presented to ...  \n",
       "259118  it was reported that this pacemaker system tri...  \n",
       "502603  related manufacturer report number  it was rep...  \n",
       "173353  it was reported that a patient presented in a ...  \n",
       "...                                                   ...  \n",
       "83969   related manufacturer reference number  it was ...  \n",
       "323755  it was further reported that the wound culture...  \n",
       "47378   it was reported that this implantable cardiove...  \n",
       "483388  related mfr report number  related mfr report ...  \n",
       "70224   it was reported that the right atrial lead was...  \n",
       "\n",
       "[100 rows x 15 columns]"
      ]
     },
     "execution_count": 20,
     "metadata": {},
     "output_type": "execute_result"
    }
   ],
   "source": [
    "sub_df"
   ]
  },
  {
   "cell_type": "code",
   "execution_count": 14,
   "metadata": {},
   "outputs": [],
   "source": [
    "df_imdrf = pd.read_csv('df_imdrf_refined.csv')"
   ]
  },
  {
   "cell_type": "code",
   "execution_count": 15,
   "metadata": {},
   "outputs": [
    {
     "data": {
      "application/vnd.microsoft.datawrangler.viewer.v0+json": {
       "columns": [
        {
         "name": "index",
         "rawType": "int64",
         "type": "integer"
        },
        {
         "name": "Level 1 Term",
         "rawType": "object",
         "type": "unknown"
        },
        {
         "name": "Level 2 Term",
         "rawType": "object",
         "type": "unknown"
        },
        {
         "name": "Level 3 Term",
         "rawType": "object",
         "type": "unknown"
        },
        {
         "name": "FDA Code",
         "rawType": "int64",
         "type": "integer"
        },
        {
         "name": "NCIt Code",
         "rawType": "object",
         "type": "string"
        },
        {
         "name": "IMDRF Code",
         "rawType": "object",
         "type": "string"
        },
        {
         "name": "Definition",
         "rawType": "object",
         "type": "string"
        },
        {
         "name": "Non-IMDRF Code/Term",
         "rawType": "float64",
         "type": "float"
        },
        {
         "name": "Status",
         "rawType": "object",
         "type": "unknown"
        },
        {
         "name": "Status Description",
         "rawType": "object",
         "type": "unknown"
        },
        {
         "name": "CodeHierarchy",
         "rawType": "object",
         "type": "string"
        }
       ],
       "conversionMethod": "pd.DataFrame",
       "ref": "5c6b85c3-c00f-4a59-82c9-725aad125270",
       "rows": [
        [
         "0",
         "Patient Device Interaction Problem",
         null,
         null,
         "4001",
         "C133496",
         "A01",
         "Problem related to the interaction between the patient and the device.",
         null,
         null,
         null,
         "A01"
        ],
        [
         "1",
         null,
         "Patient-Device Incompatibility",
         null,
         "2682",
         "C62919",
         "A0101",
         "Problem associated with the interaction between the patient's physiology or anatomy and the device that affects the patient and/or the device.",
         null,
         null,
         null,
         "A01|A0101"
        ],
        [
         "2",
         null,
         null,
         "Biocompatibility",
         "2886",
         "C63294",
         "A010101",
         "Problem associated with undesirable local or systemic effects due to exposure to medical device materials or leachates from those materials by a patient who has an implant or is receiving treatment with a device made from them.",
         null,
         null,
         null,
         "A01|A0101|A010101"
        ],
        [
         "3",
         null,
         null,
         "Device Appears to Trigger Rejection",
         "1524",
         "C62853",
         "A010102",
         "The device appears to elicit undesired response in the patient to the presence of an implanted or invasive device, without inherent device failure, e.g. fibrous encapsulation, or inflammation of the tissue around the device, or extrusion of the device.",
         null,
         null,
         null,
         "A01|A0101|A010102"
        ],
        [
         "4",
         null,
         null,
         "Inadequacy of Device Shape and/or Size",
         "1583",
         "C62947",
         "A010103",
         "The physical size and/or shape of the device was inadequate with regard to the patient's anatomy.",
         null,
         null,
         null,
         "A01|A0101|A010103"
        ]
       ],
       "shape": {
        "columns": 11,
        "rows": 5
       }
      },
      "text/html": [
       "<div>\n",
       "<style scoped>\n",
       "    .dataframe tbody tr th:only-of-type {\n",
       "        vertical-align: middle;\n",
       "    }\n",
       "\n",
       "    .dataframe tbody tr th {\n",
       "        vertical-align: top;\n",
       "    }\n",
       "\n",
       "    .dataframe thead th {\n",
       "        text-align: right;\n",
       "    }\n",
       "</style>\n",
       "<table border=\"1\" class=\"dataframe\">\n",
       "  <thead>\n",
       "    <tr style=\"text-align: right;\">\n",
       "      <th></th>\n",
       "      <th>Level 1 Term</th>\n",
       "      <th>Level 2 Term</th>\n",
       "      <th>Level 3 Term</th>\n",
       "      <th>FDA Code</th>\n",
       "      <th>NCIt Code</th>\n",
       "      <th>IMDRF Code</th>\n",
       "      <th>Definition</th>\n",
       "      <th>Non-IMDRF Code/Term</th>\n",
       "      <th>Status</th>\n",
       "      <th>Status Description</th>\n",
       "      <th>CodeHierarchy</th>\n",
       "    </tr>\n",
       "  </thead>\n",
       "  <tbody>\n",
       "    <tr>\n",
       "      <th>0</th>\n",
       "      <td>Patient Device Interaction Problem</td>\n",
       "      <td>NaN</td>\n",
       "      <td>NaN</td>\n",
       "      <td>4001</td>\n",
       "      <td>C133496</td>\n",
       "      <td>A01</td>\n",
       "      <td>Problem related to the interaction between the...</td>\n",
       "      <td>NaN</td>\n",
       "      <td>NaN</td>\n",
       "      <td>NaN</td>\n",
       "      <td>A01</td>\n",
       "    </tr>\n",
       "    <tr>\n",
       "      <th>1</th>\n",
       "      <td>NaN</td>\n",
       "      <td>Patient-Device Incompatibility</td>\n",
       "      <td>NaN</td>\n",
       "      <td>2682</td>\n",
       "      <td>C62919</td>\n",
       "      <td>A0101</td>\n",
       "      <td>Problem associated with the interaction betwee...</td>\n",
       "      <td>NaN</td>\n",
       "      <td>NaN</td>\n",
       "      <td>NaN</td>\n",
       "      <td>A01|A0101</td>\n",
       "    </tr>\n",
       "    <tr>\n",
       "      <th>2</th>\n",
       "      <td>NaN</td>\n",
       "      <td>NaN</td>\n",
       "      <td>Biocompatibility</td>\n",
       "      <td>2886</td>\n",
       "      <td>C63294</td>\n",
       "      <td>A010101</td>\n",
       "      <td>Problem associated with undesirable local or s...</td>\n",
       "      <td>NaN</td>\n",
       "      <td>NaN</td>\n",
       "      <td>NaN</td>\n",
       "      <td>A01|A0101|A010101</td>\n",
       "    </tr>\n",
       "    <tr>\n",
       "      <th>3</th>\n",
       "      <td>NaN</td>\n",
       "      <td>NaN</td>\n",
       "      <td>Device Appears to Trigger Rejection</td>\n",
       "      <td>1524</td>\n",
       "      <td>C62853</td>\n",
       "      <td>A010102</td>\n",
       "      <td>The device appears to elicit undesired respons...</td>\n",
       "      <td>NaN</td>\n",
       "      <td>NaN</td>\n",
       "      <td>NaN</td>\n",
       "      <td>A01|A0101|A010102</td>\n",
       "    </tr>\n",
       "    <tr>\n",
       "      <th>4</th>\n",
       "      <td>NaN</td>\n",
       "      <td>NaN</td>\n",
       "      <td>Inadequacy of Device Shape and/or Size</td>\n",
       "      <td>1583</td>\n",
       "      <td>C62947</td>\n",
       "      <td>A010103</td>\n",
       "      <td>The physical size and/or shape of the device w...</td>\n",
       "      <td>NaN</td>\n",
       "      <td>NaN</td>\n",
       "      <td>NaN</td>\n",
       "      <td>A01|A0101|A010103</td>\n",
       "    </tr>\n",
       "  </tbody>\n",
       "</table>\n",
       "</div>"
      ],
      "text/plain": [
       "                         Level 1 Term                    Level 2 Term  \\\n",
       "0  Patient Device Interaction Problem                             NaN   \n",
       "1                                 NaN  Patient-Device Incompatibility   \n",
       "2                                 NaN                             NaN   \n",
       "3                                 NaN                             NaN   \n",
       "4                                 NaN                             NaN   \n",
       "\n",
       "                             Level 3 Term  FDA Code NCIt Code IMDRF Code  \\\n",
       "0                                     NaN      4001   C133496        A01   \n",
       "1                                     NaN      2682    C62919      A0101   \n",
       "2                        Biocompatibility      2886    C63294    A010101   \n",
       "3     Device Appears to Trigger Rejection      1524    C62853    A010102   \n",
       "4  Inadequacy of Device Shape and/or Size      1583    C62947    A010103   \n",
       "\n",
       "                                          Definition  Non-IMDRF Code/Term  \\\n",
       "0  Problem related to the interaction between the...                  NaN   \n",
       "1  Problem associated with the interaction betwee...                  NaN   \n",
       "2  Problem associated with undesirable local or s...                  NaN   \n",
       "3  The device appears to elicit undesired respons...                  NaN   \n",
       "4  The physical size and/or shape of the device w...                  NaN   \n",
       "\n",
       "  Status Status Description      CodeHierarchy  \n",
       "0    NaN                NaN                A01  \n",
       "1    NaN                NaN          A01|A0101  \n",
       "2    NaN                NaN  A01|A0101|A010101  \n",
       "3    NaN                NaN  A01|A0101|A010102  \n",
       "4    NaN                NaN  A01|A0101|A010103  "
      ]
     },
     "execution_count": 15,
     "metadata": {},
     "output_type": "execute_result"
    }
   ],
   "source": [
    "df_imdrf.head()"
   ]
  },
  {
   "cell_type": "code",
   "execution_count": 16,
   "metadata": {},
   "outputs": [
    {
     "name": "stderr",
     "output_type": "stream",
     "text": [
      "C:\\Users\\pietr\\AppData\\Local\\Temp\\ipykernel_2740\\3202361208.py:19: FutureWarning: A value is trying to be set on a copy of a DataFrame or Series through chained assignment using an inplace method.\n",
      "The behavior will change in pandas 3.0. This inplace method will never work because the intermediate object on which we are setting values always behaves as a copy.\n",
      "\n",
      "For example, when doing 'df[col].method(value, inplace=True)', try using 'df.method({col: value}, inplace=True)' or df[col] = df[col].method(value) instead, to perform the operation inplace on the original object.\n",
      "\n",
      "\n",
      "  df_imdrf['Level 1 Term'].fillna(method='ffill', inplace=True)\n",
      "C:\\Users\\pietr\\AppData\\Local\\Temp\\ipykernel_2740\\3202361208.py:19: FutureWarning: Series.fillna with 'method' is deprecated and will raise in a future version. Use obj.ffill() or obj.bfill() instead.\n",
      "  df_imdrf['Level 1 Term'].fillna(method='ffill', inplace=True)\n",
      "C:\\Users\\pietr\\AppData\\Local\\Temp\\ipykernel_2740\\3202361208.py:20: FutureWarning: A value is trying to be set on a copy of a DataFrame or Series through chained assignment using an inplace method.\n",
      "The behavior will change in pandas 3.0. This inplace method will never work because the intermediate object on which we are setting values always behaves as a copy.\n",
      "\n",
      "For example, when doing 'df[col].method(value, inplace=True)', try using 'df.method({col: value}, inplace=True)' or df[col] = df[col].method(value) instead, to perform the operation inplace on the original object.\n",
      "\n",
      "\n",
      "  df_imdrf['Level 2 Term'].fillna(method='ffill', inplace=True)\n",
      "C:\\Users\\pietr\\AppData\\Local\\Temp\\ipykernel_2740\\3202361208.py:20: FutureWarning: Series.fillna with 'method' is deprecated and will raise in a future version. Use obj.ffill() or obj.bfill() instead.\n",
      "  df_imdrf['Level 2 Term'].fillna(method='ffill', inplace=True)\n",
      "C:\\Users\\pietr\\AppData\\Local\\Temp\\ipykernel_2740\\3202361208.py:21: FutureWarning: A value is trying to be set on a copy of a DataFrame or Series through chained assignment using an inplace method.\n",
      "The behavior will change in pandas 3.0. This inplace method will never work because the intermediate object on which we are setting values always behaves as a copy.\n",
      "\n",
      "For example, when doing 'df[col].method(value, inplace=True)', try using 'df.method({col: value}, inplace=True)' or df[col] = df[col].method(value) instead, to perform the operation inplace on the original object.\n",
      "\n",
      "\n",
      "  df_imdrf['Level 3 Term'].fillna(method='ffill', inplace=True)\n",
      "C:\\Users\\pietr\\AppData\\Local\\Temp\\ipykernel_2740\\3202361208.py:21: FutureWarning: Series.fillna with 'method' is deprecated and will raise in a future version. Use obj.ffill() or obj.bfill() instead.\n",
      "  df_imdrf['Level 3 Term'].fillna(method='ffill', inplace=True)\n"
     ]
    }
   ],
   "source": [
    "# creating the single term and multiple terms\n",
    "def assignterm(df):\n",
    "    if len(df['IMDRF Code']) == 3: \n",
    "        df['single_term'] = df['Level 1 Term']\n",
    "        df['multiple_terms'] = df['Level 1 Term']\n",
    "    elif len(df['IMDRF Code']) == 5:\n",
    "        df['single_term'] = df['Level 2 Term']\n",
    "        df['multiple_terms'] = df['Level 1 Term'] + '; ' + df['Level 2 Term']\n",
    "    else:\n",
    "        df['single_term'] = df['Level 3 Term']\n",
    "        df['multiple_terms'] = df['Level 1 Term'] + '; ' + df['Level 2 Term'] + '; ' + df['Level 3 Term']\n",
    "\n",
    "    df['single_term'] = df['single_term'].lower()\n",
    "    df['multiple_terms'] = df['multiple_terms'].lower()\n",
    "    return df\n",
    "\n",
    "import numpy as np\n",
    "\n",
    "df_imdrf['Level 1 Term'].fillna(method='ffill', inplace=True)\n",
    "df_imdrf['Level 2 Term'].fillna(method='ffill', inplace=True)\n",
    "df_imdrf['Level 3 Term'].fillna(method='ffill', inplace=True)\n",
    "\n",
    "df_imdrf.loc[df_imdrf['IMDRF Code'].str.len() == 3, ['Level 2 Term', 'Level 3 Term']] = np.nan\n",
    "df_imdrf.loc[df_imdrf['IMDRF Code'].str.len() == 5, 'Level 3 Term'] = np.nan\n",
    "\n",
    "df_imdrf = df_imdrf.apply(assignterm, axis=1)"
   ]
  },
  {
   "cell_type": "code",
   "execution_count": 17,
   "metadata": {},
   "outputs": [],
   "source": [
    "df_imdrf1st = df_imdrf[df_imdrf['IMDRF Code'].str.len() == 3]"
   ]
  },
  {
   "cell_type": "code",
   "execution_count": null,
   "metadata": {},
   "outputs": [],
   "source": []
  },
  {
   "cell_type": "markdown",
   "metadata": {},
   "source": [
    "## Standard approach"
   ]
  },
  {
   "cell_type": "markdown",
   "metadata": {},
   "source": [
    "### Sentence Transformers"
   ]
  },
  {
   "cell_type": "markdown",
   "metadata": {},
   "source": [
    "#### SBERT"
   ]
  },
  {
   "cell_type": "code",
   "execution_count": null,
   "metadata": {},
   "outputs": [
    {
     "name": "stderr",
     "output_type": "stream",
     "text": [
      "c:\\Users\\pietr\\Documents\\GitHub\\Thesis-CaianiRenContardi\\tesinlp\\Lib\\site-packages\\huggingface_hub\\file_download.py:159: UserWarning: `huggingface_hub` cache-system uses symlinks by default to efficiently store duplicated files but your machine does not support them in C:\\Users\\pietr\\.cache\\huggingface\\hub\\models--pritamdeka--BioBERT-mnli-snli-scinli-scitail-mednli-stsb. Caching files will still work but in a degraded version that might require more space on your disk. This warning can be disabled by setting the `HF_HUB_DISABLE_SYMLINKS_WARNING` environment variable. For more details, see https://huggingface.co/docs/huggingface_hub/how-to-cache#limitations.\n",
      "To support symlinks on Windows, you either need to activate Developer Mode or to run Python as an administrator. In order to see activate developer mode, see this article: https://docs.microsoft.com/en-us/windows/apps/get-started/enable-your-device-for-development\n",
      "  warnings.warn(message)\n"
     ]
    },
    {
     "ename": "KeyboardInterrupt",
     "evalue": "",
     "output_type": "error",
     "traceback": [
      "\u001b[1;31m---------------------------------------------------------------------------\u001b[0m",
      "\u001b[1;31mKeyboardInterrupt\u001b[0m                         Traceback (most recent call last)",
      "Cell \u001b[1;32mIn[76], line 7\u001b[0m\n\u001b[0;32m      1\u001b[0m \u001b[38;5;28;01mfrom\u001b[39;00m \u001b[38;5;21;01msentence_transformers\u001b[39;00m \u001b[38;5;28;01mimport\u001b[39;00m SentenceTransformer, SimilarityFunction\n\u001b[0;32m      3\u001b[0m \u001b[38;5;66;03m# model = SentenceTransformer(\"all-MiniLM-L6-v2\", similarity_fn_name=SimilarityFunction.COSINE)\u001b[39;00m\n\u001b[0;32m      4\u001b[0m \u001b[38;5;66;03m# model = SentenceTransformer('pritamdeka/S-PubMedBert-MS-MARCO')\u001b[39;00m\n\u001b[0;32m      5\u001b[0m \u001b[38;5;66;03m# model = SentenceTransformer(\"neuml/pubmedbert-base-embeddings\")\u001b[39;00m\n\u001b[0;32m      6\u001b[0m \u001b[38;5;66;03m# model = SentenceTransformer('TimKond/S-PubMedBert-MedQuAD')\u001b[39;00m\n\u001b[1;32m----> 7\u001b[0m model \u001b[38;5;241m=\u001b[39m \u001b[43mSentenceTransformer\u001b[49m\u001b[43m(\u001b[49m\u001b[38;5;124;43m'\u001b[39;49m\u001b[38;5;124;43mpritamdeka/BioBERT-mnli-snli-scinli-scitail-mednli-stsb\u001b[39;49m\u001b[38;5;124;43m'\u001b[39;49m\u001b[43m)\u001b[49m\n",
      "File \u001b[1;32mc:\\Users\\pietr\\Documents\\GitHub\\Thesis-CaianiRenContardi\\tesinlp\\Lib\\site-packages\\sentence_transformers\\SentenceTransformer.py:306\u001b[0m, in \u001b[0;36mSentenceTransformer.__init__\u001b[1;34m(self, model_name_or_path, modules, device, prompts, default_prompt_name, similarity_fn_name, cache_folder, trust_remote_code, revision, local_files_only, token, use_auth_token, truncate_dim, model_kwargs, tokenizer_kwargs, config_kwargs, model_card_data, backend)\u001b[0m\n\u001b[0;32m    297\u001b[0m         model_name_or_path \u001b[38;5;241m=\u001b[39m __MODEL_HUB_ORGANIZATION__ \u001b[38;5;241m+\u001b[39m \u001b[38;5;124m\"\u001b[39m\u001b[38;5;124m/\u001b[39m\u001b[38;5;124m\"\u001b[39m \u001b[38;5;241m+\u001b[39m model_name_or_path\n\u001b[0;32m    299\u001b[0m \u001b[38;5;28;01mif\u001b[39;00m is_sentence_transformer_model(\n\u001b[0;32m    300\u001b[0m     model_name_or_path,\n\u001b[0;32m    301\u001b[0m     token,\n\u001b[1;32m   (...)\u001b[0m\n\u001b[0;32m    304\u001b[0m     local_files_only\u001b[38;5;241m=\u001b[39mlocal_files_only,\n\u001b[0;32m    305\u001b[0m ):\n\u001b[1;32m--> 306\u001b[0m     modules, \u001b[38;5;28mself\u001b[39m\u001b[38;5;241m.\u001b[39mmodule_kwargs \u001b[38;5;241m=\u001b[39m \u001b[38;5;28;43mself\u001b[39;49m\u001b[38;5;241;43m.\u001b[39;49m\u001b[43m_load_sbert_model\u001b[49m\u001b[43m(\u001b[49m\n\u001b[0;32m    307\u001b[0m \u001b[43m        \u001b[49m\u001b[43mmodel_name_or_path\u001b[49m\u001b[43m,\u001b[49m\n\u001b[0;32m    308\u001b[0m \u001b[43m        \u001b[49m\u001b[43mtoken\u001b[49m\u001b[38;5;241;43m=\u001b[39;49m\u001b[43mtoken\u001b[49m\u001b[43m,\u001b[49m\n\u001b[0;32m    309\u001b[0m \u001b[43m        \u001b[49m\u001b[43mcache_folder\u001b[49m\u001b[38;5;241;43m=\u001b[39;49m\u001b[43mcache_folder\u001b[49m\u001b[43m,\u001b[49m\n\u001b[0;32m    310\u001b[0m \u001b[43m        \u001b[49m\u001b[43mrevision\u001b[49m\u001b[38;5;241;43m=\u001b[39;49m\u001b[43mrevision\u001b[49m\u001b[43m,\u001b[49m\n\u001b[0;32m    311\u001b[0m \u001b[43m        \u001b[49m\u001b[43mtrust_remote_code\u001b[49m\u001b[38;5;241;43m=\u001b[39;49m\u001b[43mtrust_remote_code\u001b[49m\u001b[43m,\u001b[49m\n\u001b[0;32m    312\u001b[0m \u001b[43m        \u001b[49m\u001b[43mlocal_files_only\u001b[49m\u001b[38;5;241;43m=\u001b[39;49m\u001b[43mlocal_files_only\u001b[49m\u001b[43m,\u001b[49m\n\u001b[0;32m    313\u001b[0m \u001b[43m        \u001b[49m\u001b[43mmodel_kwargs\u001b[49m\u001b[38;5;241;43m=\u001b[39;49m\u001b[43mmodel_kwargs\u001b[49m\u001b[43m,\u001b[49m\n\u001b[0;32m    314\u001b[0m \u001b[43m        \u001b[49m\u001b[43mtokenizer_kwargs\u001b[49m\u001b[38;5;241;43m=\u001b[39;49m\u001b[43mtokenizer_kwargs\u001b[49m\u001b[43m,\u001b[49m\n\u001b[0;32m    315\u001b[0m \u001b[43m        \u001b[49m\u001b[43mconfig_kwargs\u001b[49m\u001b[38;5;241;43m=\u001b[39;49m\u001b[43mconfig_kwargs\u001b[49m\u001b[43m,\u001b[49m\n\u001b[0;32m    316\u001b[0m \u001b[43m    \u001b[49m\u001b[43m)\u001b[49m\n\u001b[0;32m    317\u001b[0m \u001b[38;5;28;01melse\u001b[39;00m:\n\u001b[0;32m    318\u001b[0m     modules \u001b[38;5;241m=\u001b[39m \u001b[38;5;28mself\u001b[39m\u001b[38;5;241m.\u001b[39m_load_auto_model(\n\u001b[0;32m    319\u001b[0m         model_name_or_path,\n\u001b[0;32m    320\u001b[0m         token\u001b[38;5;241m=\u001b[39mtoken,\n\u001b[1;32m   (...)\u001b[0m\n\u001b[0;32m    327\u001b[0m         config_kwargs\u001b[38;5;241m=\u001b[39mconfig_kwargs,\n\u001b[0;32m    328\u001b[0m     )\n",
      "File \u001b[1;32mc:\\Users\\pietr\\Documents\\GitHub\\Thesis-CaianiRenContardi\\tesinlp\\Lib\\site-packages\\sentence_transformers\\SentenceTransformer.py:1722\u001b[0m, in \u001b[0;36mSentenceTransformer._load_sbert_model\u001b[1;34m(self, model_name_or_path, token, cache_folder, revision, trust_remote_code, local_files_only, model_kwargs, tokenizer_kwargs, config_kwargs)\u001b[0m\n\u001b[0;32m   1719\u001b[0m \u001b[38;5;66;03m# Try to initialize the module with a lot of kwargs, but only if the module supports them\u001b[39;00m\n\u001b[0;32m   1720\u001b[0m \u001b[38;5;66;03m# Otherwise we fall back to the load method\u001b[39;00m\n\u001b[0;32m   1721\u001b[0m \u001b[38;5;28;01mtry\u001b[39;00m:\n\u001b[1;32m-> 1722\u001b[0m     module \u001b[38;5;241m=\u001b[39m \u001b[43mmodule_class\u001b[49m\u001b[43m(\u001b[49m\u001b[43mmodel_name_or_path\u001b[49m\u001b[43m,\u001b[49m\u001b[43m \u001b[49m\u001b[43mcache_dir\u001b[49m\u001b[38;5;241;43m=\u001b[39;49m\u001b[43mcache_folder\u001b[49m\u001b[43m,\u001b[49m\u001b[43m \u001b[49m\u001b[43mbackend\u001b[49m\u001b[38;5;241;43m=\u001b[39;49m\u001b[38;5;28;43mself\u001b[39;49m\u001b[38;5;241;43m.\u001b[39;49m\u001b[43mbackend\u001b[49m\u001b[43m,\u001b[49m\u001b[43m \u001b[49m\u001b[38;5;241;43m*\u001b[39;49m\u001b[38;5;241;43m*\u001b[39;49m\u001b[43mkwargs\u001b[49m\u001b[43m)\u001b[49m\n\u001b[0;32m   1723\u001b[0m \u001b[38;5;28;01mexcept\u001b[39;00m \u001b[38;5;167;01mTypeError\u001b[39;00m:\n\u001b[0;32m   1724\u001b[0m     module \u001b[38;5;241m=\u001b[39m module_class\u001b[38;5;241m.\u001b[39mload(model_name_or_path)\n",
      "File \u001b[1;32mc:\\Users\\pietr\\Documents\\GitHub\\Thesis-CaianiRenContardi\\tesinlp\\Lib\\site-packages\\sentence_transformers\\models\\Transformer.py:76\u001b[0m, in \u001b[0;36mTransformer.__init__\u001b[1;34m(self, model_name_or_path, max_seq_length, model_args, tokenizer_args, config_args, cache_dir, do_lower_case, tokenizer_name_or_path, backend)\u001b[0m\n\u001b[0;32m     73\u001b[0m     config_args \u001b[38;5;241m=\u001b[39m {}\n\u001b[0;32m     75\u001b[0m config \u001b[38;5;241m=\u001b[39m AutoConfig\u001b[38;5;241m.\u001b[39mfrom_pretrained(model_name_or_path, \u001b[38;5;241m*\u001b[39m\u001b[38;5;241m*\u001b[39mconfig_args, cache_dir\u001b[38;5;241m=\u001b[39mcache_dir)\n\u001b[1;32m---> 76\u001b[0m \u001b[38;5;28;43mself\u001b[39;49m\u001b[38;5;241;43m.\u001b[39;49m\u001b[43m_load_model\u001b[49m\u001b[43m(\u001b[49m\u001b[43mmodel_name_or_path\u001b[49m\u001b[43m,\u001b[49m\u001b[43m \u001b[49m\u001b[43mconfig\u001b[49m\u001b[43m,\u001b[49m\u001b[43m \u001b[49m\u001b[43mcache_dir\u001b[49m\u001b[43m,\u001b[49m\u001b[43m \u001b[49m\u001b[43mbackend\u001b[49m\u001b[43m,\u001b[49m\u001b[43m \u001b[49m\u001b[38;5;241;43m*\u001b[39;49m\u001b[38;5;241;43m*\u001b[39;49m\u001b[43mmodel_args\u001b[49m\u001b[43m)\u001b[49m\n\u001b[0;32m     78\u001b[0m \u001b[38;5;28;01mif\u001b[39;00m max_seq_length \u001b[38;5;129;01mis\u001b[39;00m \u001b[38;5;129;01mnot\u001b[39;00m \u001b[38;5;28;01mNone\u001b[39;00m \u001b[38;5;129;01mand\u001b[39;00m \u001b[38;5;124m\"\u001b[39m\u001b[38;5;124mmodel_max_length\u001b[39m\u001b[38;5;124m\"\u001b[39m \u001b[38;5;129;01mnot\u001b[39;00m \u001b[38;5;129;01min\u001b[39;00m tokenizer_args:\n\u001b[0;32m     79\u001b[0m     tokenizer_args[\u001b[38;5;124m\"\u001b[39m\u001b[38;5;124mmodel_max_length\u001b[39m\u001b[38;5;124m\"\u001b[39m] \u001b[38;5;241m=\u001b[39m max_seq_length\n",
      "File \u001b[1;32mc:\\Users\\pietr\\Documents\\GitHub\\Thesis-CaianiRenContardi\\tesinlp\\Lib\\site-packages\\sentence_transformers\\models\\Transformer.py:108\u001b[0m, in \u001b[0;36mTransformer._load_model\u001b[1;34m(self, model_name_or_path, config, cache_dir, backend, **model_args)\u001b[0m\n\u001b[0;32m    106\u001b[0m         \u001b[38;5;28mself\u001b[39m\u001b[38;5;241m.\u001b[39m_load_mt5_model(model_name_or_path, config, cache_dir, \u001b[38;5;241m*\u001b[39m\u001b[38;5;241m*\u001b[39mmodel_args)\n\u001b[0;32m    107\u001b[0m     \u001b[38;5;28;01melse\u001b[39;00m:\n\u001b[1;32m--> 108\u001b[0m         \u001b[38;5;28mself\u001b[39m\u001b[38;5;241m.\u001b[39mauto_model \u001b[38;5;241m=\u001b[39m \u001b[43mAutoModel\u001b[49m\u001b[38;5;241;43m.\u001b[39;49m\u001b[43mfrom_pretrained\u001b[49m\u001b[43m(\u001b[49m\n\u001b[0;32m    109\u001b[0m \u001b[43m            \u001b[49m\u001b[43mmodel_name_or_path\u001b[49m\u001b[43m,\u001b[49m\u001b[43m \u001b[49m\u001b[43mconfig\u001b[49m\u001b[38;5;241;43m=\u001b[39;49m\u001b[43mconfig\u001b[49m\u001b[43m,\u001b[49m\u001b[43m \u001b[49m\u001b[43mcache_dir\u001b[49m\u001b[38;5;241;43m=\u001b[39;49m\u001b[43mcache_dir\u001b[49m\u001b[43m,\u001b[49m\u001b[43m \u001b[49m\u001b[38;5;241;43m*\u001b[39;49m\u001b[38;5;241;43m*\u001b[39;49m\u001b[43mmodel_args\u001b[49m\n\u001b[0;32m    110\u001b[0m \u001b[43m        \u001b[49m\u001b[43m)\u001b[49m\n\u001b[0;32m    111\u001b[0m \u001b[38;5;28;01melif\u001b[39;00m backend \u001b[38;5;241m==\u001b[39m \u001b[38;5;124m\"\u001b[39m\u001b[38;5;124monnx\u001b[39m\u001b[38;5;124m\"\u001b[39m:\n\u001b[0;32m    112\u001b[0m     \u001b[38;5;28mself\u001b[39m\u001b[38;5;241m.\u001b[39m_load_onnx_model(model_name_or_path, config, cache_dir, \u001b[38;5;241m*\u001b[39m\u001b[38;5;241m*\u001b[39mmodel_args)\n",
      "File \u001b[1;32mc:\\Users\\pietr\\Documents\\GitHub\\Thesis-CaianiRenContardi\\tesinlp\\Lib\\site-packages\\transformers\\models\\auto\\auto_factory.py:564\u001b[0m, in \u001b[0;36m_BaseAutoModelClass.from_pretrained\u001b[1;34m(cls, pretrained_model_name_or_path, *model_args, **kwargs)\u001b[0m\n\u001b[0;32m    562\u001b[0m \u001b[38;5;28;01melif\u001b[39;00m \u001b[38;5;28mtype\u001b[39m(config) \u001b[38;5;129;01min\u001b[39;00m \u001b[38;5;28mcls\u001b[39m\u001b[38;5;241m.\u001b[39m_model_mapping\u001b[38;5;241m.\u001b[39mkeys():\n\u001b[0;32m    563\u001b[0m     model_class \u001b[38;5;241m=\u001b[39m _get_model_class(config, \u001b[38;5;28mcls\u001b[39m\u001b[38;5;241m.\u001b[39m_model_mapping)\n\u001b[1;32m--> 564\u001b[0m     \u001b[38;5;28;01mreturn\u001b[39;00m \u001b[43mmodel_class\u001b[49m\u001b[38;5;241;43m.\u001b[39;49m\u001b[43mfrom_pretrained\u001b[49m\u001b[43m(\u001b[49m\n\u001b[0;32m    565\u001b[0m \u001b[43m        \u001b[49m\u001b[43mpretrained_model_name_or_path\u001b[49m\u001b[43m,\u001b[49m\u001b[43m \u001b[49m\u001b[38;5;241;43m*\u001b[39;49m\u001b[43mmodel_args\u001b[49m\u001b[43m,\u001b[49m\u001b[43m \u001b[49m\u001b[43mconfig\u001b[49m\u001b[38;5;241;43m=\u001b[39;49m\u001b[43mconfig\u001b[49m\u001b[43m,\u001b[49m\u001b[43m \u001b[49m\u001b[38;5;241;43m*\u001b[39;49m\u001b[38;5;241;43m*\u001b[39;49m\u001b[43mhub_kwargs\u001b[49m\u001b[43m,\u001b[49m\u001b[43m \u001b[49m\u001b[38;5;241;43m*\u001b[39;49m\u001b[38;5;241;43m*\u001b[39;49m\u001b[43mkwargs\u001b[49m\n\u001b[0;32m    566\u001b[0m \u001b[43m    \u001b[49m\u001b[43m)\u001b[49m\n\u001b[0;32m    567\u001b[0m \u001b[38;5;28;01mraise\u001b[39;00m \u001b[38;5;167;01mValueError\u001b[39;00m(\n\u001b[0;32m    568\u001b[0m     \u001b[38;5;124mf\u001b[39m\u001b[38;5;124m\"\u001b[39m\u001b[38;5;124mUnrecognized configuration class \u001b[39m\u001b[38;5;132;01m{\u001b[39;00mconfig\u001b[38;5;241m.\u001b[39m\u001b[38;5;18m__class__\u001b[39m\u001b[38;5;132;01m}\u001b[39;00m\u001b[38;5;124m for this kind of AutoModel: \u001b[39m\u001b[38;5;132;01m{\u001b[39;00m\u001b[38;5;28mcls\u001b[39m\u001b[38;5;241m.\u001b[39m\u001b[38;5;18m__name__\u001b[39m\u001b[38;5;132;01m}\u001b[39;00m\u001b[38;5;124m.\u001b[39m\u001b[38;5;130;01m\\n\u001b[39;00m\u001b[38;5;124m\"\u001b[39m\n\u001b[0;32m    569\u001b[0m     \u001b[38;5;124mf\u001b[39m\u001b[38;5;124m\"\u001b[39m\u001b[38;5;124mModel type should be one of \u001b[39m\u001b[38;5;132;01m{\u001b[39;00m\u001b[38;5;124m'\u001b[39m\u001b[38;5;124m, \u001b[39m\u001b[38;5;124m'\u001b[39m\u001b[38;5;241m.\u001b[39mjoin(c\u001b[38;5;241m.\u001b[39m\u001b[38;5;18m__name__\u001b[39m\u001b[38;5;250m \u001b[39m\u001b[38;5;28;01mfor\u001b[39;00m\u001b[38;5;250m \u001b[39mc\u001b[38;5;250m \u001b[39m\u001b[38;5;129;01min\u001b[39;00m\u001b[38;5;250m \u001b[39m\u001b[38;5;28mcls\u001b[39m\u001b[38;5;241m.\u001b[39m_model_mapping\u001b[38;5;241m.\u001b[39mkeys())\u001b[38;5;132;01m}\u001b[39;00m\u001b[38;5;124m.\u001b[39m\u001b[38;5;124m\"\u001b[39m\n\u001b[0;32m    570\u001b[0m )\n",
      "File \u001b[1;32mc:\\Users\\pietr\\Documents\\GitHub\\Thesis-CaianiRenContardi\\tesinlp\\Lib\\site-packages\\transformers\\modeling_utils.py:3838\u001b[0m, in \u001b[0;36mPreTrainedModel.from_pretrained\u001b[1;34m(cls, pretrained_model_name_or_path, config, cache_dir, ignore_mismatched_sizes, force_download, local_files_only, token, revision, use_safetensors, weights_only, *model_args, **kwargs)\u001b[0m\n\u001b[0;32m   3835\u001b[0m     \u001b[38;5;28;01melse\u001b[39;00m:\n\u001b[0;32m   3836\u001b[0m         \u001b[38;5;66;03m# This repo has no safetensors file of any kind, we switch to PyTorch.\u001b[39;00m\n\u001b[0;32m   3837\u001b[0m         filename \u001b[38;5;241m=\u001b[39m _add_variant(WEIGHTS_NAME, variant)\n\u001b[1;32m-> 3838\u001b[0m         resolved_archive_file \u001b[38;5;241m=\u001b[39m \u001b[43mcached_file\u001b[49m\u001b[43m(\u001b[49m\n\u001b[0;32m   3839\u001b[0m \u001b[43m            \u001b[49m\u001b[43mpretrained_model_name_or_path\u001b[49m\u001b[43m,\u001b[49m\u001b[43m \u001b[49m\u001b[43mfilename\u001b[49m\u001b[43m,\u001b[49m\u001b[43m \u001b[49m\u001b[38;5;241;43m*\u001b[39;49m\u001b[38;5;241;43m*\u001b[39;49m\u001b[43mcached_file_kwargs\u001b[49m\n\u001b[0;32m   3840\u001b[0m \u001b[43m        \u001b[49m\u001b[43m)\u001b[49m\n\u001b[0;32m   3841\u001b[0m \u001b[38;5;28;01mif\u001b[39;00m resolved_archive_file \u001b[38;5;129;01mis\u001b[39;00m \u001b[38;5;28;01mNone\u001b[39;00m \u001b[38;5;129;01mand\u001b[39;00m filename \u001b[38;5;241m==\u001b[39m _add_variant(WEIGHTS_NAME, variant):\n\u001b[0;32m   3842\u001b[0m     \u001b[38;5;66;03m# Maybe the checkpoint is sharded, we try to grab the index name in this case.\u001b[39;00m\n\u001b[0;32m   3843\u001b[0m     resolved_archive_file \u001b[38;5;241m=\u001b[39m cached_file(\n\u001b[0;32m   3844\u001b[0m         pretrained_model_name_or_path,\n\u001b[0;32m   3845\u001b[0m         _add_variant(WEIGHTS_INDEX_NAME, variant),\n\u001b[0;32m   3846\u001b[0m         \u001b[38;5;241m*\u001b[39m\u001b[38;5;241m*\u001b[39mcached_file_kwargs,\n\u001b[0;32m   3847\u001b[0m     )\n",
      "File \u001b[1;32mc:\\Users\\pietr\\Documents\\GitHub\\Thesis-CaianiRenContardi\\tesinlp\\Lib\\site-packages\\transformers\\utils\\hub.py:403\u001b[0m, in \u001b[0;36mcached_file\u001b[1;34m(path_or_repo_id, filename, cache_dir, force_download, resume_download, proxies, token, revision, local_files_only, subfolder, repo_type, user_agent, _raise_exceptions_for_gated_repo, _raise_exceptions_for_missing_entries, _raise_exceptions_for_connection_errors, _commit_hash, **deprecated_kwargs)\u001b[0m\n\u001b[0;32m    400\u001b[0m user_agent \u001b[38;5;241m=\u001b[39m http_user_agent(user_agent)\n\u001b[0;32m    401\u001b[0m \u001b[38;5;28;01mtry\u001b[39;00m:\n\u001b[0;32m    402\u001b[0m     \u001b[38;5;66;03m# Load from URL or cache if already cached\u001b[39;00m\n\u001b[1;32m--> 403\u001b[0m     resolved_file \u001b[38;5;241m=\u001b[39m \u001b[43mhf_hub_download\u001b[49m\u001b[43m(\u001b[49m\n\u001b[0;32m    404\u001b[0m \u001b[43m        \u001b[49m\u001b[43mpath_or_repo_id\u001b[49m\u001b[43m,\u001b[49m\n\u001b[0;32m    405\u001b[0m \u001b[43m        \u001b[49m\u001b[43mfilename\u001b[49m\u001b[43m,\u001b[49m\n\u001b[0;32m    406\u001b[0m \u001b[43m        \u001b[49m\u001b[43msubfolder\u001b[49m\u001b[38;5;241;43m=\u001b[39;49m\u001b[38;5;28;43;01mNone\u001b[39;49;00m\u001b[43m \u001b[49m\u001b[38;5;28;43;01mif\u001b[39;49;00m\u001b[43m \u001b[49m\u001b[38;5;28;43mlen\u001b[39;49m\u001b[43m(\u001b[49m\u001b[43msubfolder\u001b[49m\u001b[43m)\u001b[49m\u001b[43m \u001b[49m\u001b[38;5;241;43m==\u001b[39;49m\u001b[43m \u001b[49m\u001b[38;5;241;43m0\u001b[39;49m\u001b[43m \u001b[49m\u001b[38;5;28;43;01melse\u001b[39;49;00m\u001b[43m \u001b[49m\u001b[43msubfolder\u001b[49m\u001b[43m,\u001b[49m\n\u001b[0;32m    407\u001b[0m \u001b[43m        \u001b[49m\u001b[43mrepo_type\u001b[49m\u001b[38;5;241;43m=\u001b[39;49m\u001b[43mrepo_type\u001b[49m\u001b[43m,\u001b[49m\n\u001b[0;32m    408\u001b[0m \u001b[43m        \u001b[49m\u001b[43mrevision\u001b[49m\u001b[38;5;241;43m=\u001b[39;49m\u001b[43mrevision\u001b[49m\u001b[43m,\u001b[49m\n\u001b[0;32m    409\u001b[0m \u001b[43m        \u001b[49m\u001b[43mcache_dir\u001b[49m\u001b[38;5;241;43m=\u001b[39;49m\u001b[43mcache_dir\u001b[49m\u001b[43m,\u001b[49m\n\u001b[0;32m    410\u001b[0m \u001b[43m        \u001b[49m\u001b[43muser_agent\u001b[49m\u001b[38;5;241;43m=\u001b[39;49m\u001b[43muser_agent\u001b[49m\u001b[43m,\u001b[49m\n\u001b[0;32m    411\u001b[0m \u001b[43m        \u001b[49m\u001b[43mforce_download\u001b[49m\u001b[38;5;241;43m=\u001b[39;49m\u001b[43mforce_download\u001b[49m\u001b[43m,\u001b[49m\n\u001b[0;32m    412\u001b[0m \u001b[43m        \u001b[49m\u001b[43mproxies\u001b[49m\u001b[38;5;241;43m=\u001b[39;49m\u001b[43mproxies\u001b[49m\u001b[43m,\u001b[49m\n\u001b[0;32m    413\u001b[0m \u001b[43m        \u001b[49m\u001b[43mresume_download\u001b[49m\u001b[38;5;241;43m=\u001b[39;49m\u001b[43mresume_download\u001b[49m\u001b[43m,\u001b[49m\n\u001b[0;32m    414\u001b[0m \u001b[43m        \u001b[49m\u001b[43mtoken\u001b[49m\u001b[38;5;241;43m=\u001b[39;49m\u001b[43mtoken\u001b[49m\u001b[43m,\u001b[49m\n\u001b[0;32m    415\u001b[0m \u001b[43m        \u001b[49m\u001b[43mlocal_files_only\u001b[49m\u001b[38;5;241;43m=\u001b[39;49m\u001b[43mlocal_files_only\u001b[49m\u001b[43m,\u001b[49m\n\u001b[0;32m    416\u001b[0m \u001b[43m    \u001b[49m\u001b[43m)\u001b[49m\n\u001b[0;32m    417\u001b[0m \u001b[38;5;28;01mexcept\u001b[39;00m GatedRepoError \u001b[38;5;28;01mas\u001b[39;00m e:\n\u001b[0;32m    418\u001b[0m     resolved_file \u001b[38;5;241m=\u001b[39m _get_cache_file_to_return(path_or_repo_id, full_filename, cache_dir, revision)\n",
      "File \u001b[1;32mc:\\Users\\pietr\\Documents\\GitHub\\Thesis-CaianiRenContardi\\tesinlp\\Lib\\site-packages\\huggingface_hub\\utils\\_deprecation.py:101\u001b[0m, in \u001b[0;36m_deprecate_arguments.<locals>._inner_deprecate_positional_args.<locals>.inner_f\u001b[1;34m(*args, **kwargs)\u001b[0m\n\u001b[0;32m     99\u001b[0m         message \u001b[38;5;241m+\u001b[39m\u001b[38;5;241m=\u001b[39m \u001b[38;5;124m\"\u001b[39m\u001b[38;5;130;01m\\n\u001b[39;00m\u001b[38;5;130;01m\\n\u001b[39;00m\u001b[38;5;124m\"\u001b[39m \u001b[38;5;241m+\u001b[39m custom_message\n\u001b[0;32m    100\u001b[0m     warnings\u001b[38;5;241m.\u001b[39mwarn(message, \u001b[38;5;167;01mFutureWarning\u001b[39;00m)\n\u001b[1;32m--> 101\u001b[0m \u001b[38;5;28;01mreturn\u001b[39;00m \u001b[43mf\u001b[49m\u001b[43m(\u001b[49m\u001b[38;5;241;43m*\u001b[39;49m\u001b[43margs\u001b[49m\u001b[43m,\u001b[49m\u001b[43m \u001b[49m\u001b[38;5;241;43m*\u001b[39;49m\u001b[38;5;241;43m*\u001b[39;49m\u001b[43mkwargs\u001b[49m\u001b[43m)\u001b[49m\n",
      "File \u001b[1;32mc:\\Users\\pietr\\Documents\\GitHub\\Thesis-CaianiRenContardi\\tesinlp\\Lib\\site-packages\\huggingface_hub\\utils\\_validators.py:114\u001b[0m, in \u001b[0;36mvalidate_hf_hub_args.<locals>._inner_fn\u001b[1;34m(*args, **kwargs)\u001b[0m\n\u001b[0;32m    111\u001b[0m \u001b[38;5;28;01mif\u001b[39;00m check_use_auth_token:\n\u001b[0;32m    112\u001b[0m     kwargs \u001b[38;5;241m=\u001b[39m smoothly_deprecate_use_auth_token(fn_name\u001b[38;5;241m=\u001b[39mfn\u001b[38;5;241m.\u001b[39m\u001b[38;5;18m__name__\u001b[39m, has_token\u001b[38;5;241m=\u001b[39mhas_token, kwargs\u001b[38;5;241m=\u001b[39mkwargs)\n\u001b[1;32m--> 114\u001b[0m \u001b[38;5;28;01mreturn\u001b[39;00m \u001b[43mfn\u001b[49m\u001b[43m(\u001b[49m\u001b[38;5;241;43m*\u001b[39;49m\u001b[43margs\u001b[49m\u001b[43m,\u001b[49m\u001b[43m \u001b[49m\u001b[38;5;241;43m*\u001b[39;49m\u001b[38;5;241;43m*\u001b[39;49m\u001b[43mkwargs\u001b[49m\u001b[43m)\u001b[49m\n",
      "File \u001b[1;32mc:\\Users\\pietr\\Documents\\GitHub\\Thesis-CaianiRenContardi\\tesinlp\\Lib\\site-packages\\huggingface_hub\\file_download.py:1240\u001b[0m, in \u001b[0;36mhf_hub_download\u001b[1;34m(repo_id, filename, subfolder, repo_type, revision, library_name, library_version, cache_dir, local_dir, user_agent, force_download, proxies, etag_timeout, token, local_files_only, headers, endpoint, legacy_cache_layout, resume_download, force_filename, local_dir_use_symlinks)\u001b[0m\n\u001b[0;32m   1220\u001b[0m     \u001b[38;5;28;01mreturn\u001b[39;00m _hf_hub_download_to_local_dir(\n\u001b[0;32m   1221\u001b[0m         \u001b[38;5;66;03m# Destination\u001b[39;00m\n\u001b[0;32m   1222\u001b[0m         local_dir\u001b[38;5;241m=\u001b[39mlocal_dir,\n\u001b[1;32m   (...)\u001b[0m\n\u001b[0;32m   1237\u001b[0m         local_files_only\u001b[38;5;241m=\u001b[39mlocal_files_only,\n\u001b[0;32m   1238\u001b[0m     )\n\u001b[0;32m   1239\u001b[0m \u001b[38;5;28;01melse\u001b[39;00m:\n\u001b[1;32m-> 1240\u001b[0m     \u001b[38;5;28;01mreturn\u001b[39;00m \u001b[43m_hf_hub_download_to_cache_dir\u001b[49m\u001b[43m(\u001b[49m\n\u001b[0;32m   1241\u001b[0m \u001b[43m        \u001b[49m\u001b[38;5;66;43;03m# Destination\u001b[39;49;00m\n\u001b[0;32m   1242\u001b[0m \u001b[43m        \u001b[49m\u001b[43mcache_dir\u001b[49m\u001b[38;5;241;43m=\u001b[39;49m\u001b[43mcache_dir\u001b[49m\u001b[43m,\u001b[49m\n\u001b[0;32m   1243\u001b[0m \u001b[43m        \u001b[49m\u001b[38;5;66;43;03m# File info\u001b[39;49;00m\n\u001b[0;32m   1244\u001b[0m \u001b[43m        \u001b[49m\u001b[43mrepo_id\u001b[49m\u001b[38;5;241;43m=\u001b[39;49m\u001b[43mrepo_id\u001b[49m\u001b[43m,\u001b[49m\n\u001b[0;32m   1245\u001b[0m \u001b[43m        \u001b[49m\u001b[43mfilename\u001b[49m\u001b[38;5;241;43m=\u001b[39;49m\u001b[43mfilename\u001b[49m\u001b[43m,\u001b[49m\n\u001b[0;32m   1246\u001b[0m \u001b[43m        \u001b[49m\u001b[43mrepo_type\u001b[49m\u001b[38;5;241;43m=\u001b[39;49m\u001b[43mrepo_type\u001b[49m\u001b[43m,\u001b[49m\n\u001b[0;32m   1247\u001b[0m \u001b[43m        \u001b[49m\u001b[43mrevision\u001b[49m\u001b[38;5;241;43m=\u001b[39;49m\u001b[43mrevision\u001b[49m\u001b[43m,\u001b[49m\n\u001b[0;32m   1248\u001b[0m \u001b[43m        \u001b[49m\u001b[38;5;66;43;03m# HTTP info\u001b[39;49;00m\n\u001b[0;32m   1249\u001b[0m \u001b[43m        \u001b[49m\u001b[43mendpoint\u001b[49m\u001b[38;5;241;43m=\u001b[39;49m\u001b[43mendpoint\u001b[49m\u001b[43m,\u001b[49m\n\u001b[0;32m   1250\u001b[0m \u001b[43m        \u001b[49m\u001b[43metag_timeout\u001b[49m\u001b[38;5;241;43m=\u001b[39;49m\u001b[43metag_timeout\u001b[49m\u001b[43m,\u001b[49m\n\u001b[0;32m   1251\u001b[0m \u001b[43m        \u001b[49m\u001b[43mheaders\u001b[49m\u001b[38;5;241;43m=\u001b[39;49m\u001b[43mheaders\u001b[49m\u001b[43m,\u001b[49m\n\u001b[0;32m   1252\u001b[0m \u001b[43m        \u001b[49m\u001b[43mproxies\u001b[49m\u001b[38;5;241;43m=\u001b[39;49m\u001b[43mproxies\u001b[49m\u001b[43m,\u001b[49m\n\u001b[0;32m   1253\u001b[0m \u001b[43m        \u001b[49m\u001b[43mtoken\u001b[49m\u001b[38;5;241;43m=\u001b[39;49m\u001b[43mtoken\u001b[49m\u001b[43m,\u001b[49m\n\u001b[0;32m   1254\u001b[0m \u001b[43m        \u001b[49m\u001b[38;5;66;43;03m# Additional options\u001b[39;49;00m\n\u001b[0;32m   1255\u001b[0m \u001b[43m        \u001b[49m\u001b[43mlocal_files_only\u001b[49m\u001b[38;5;241;43m=\u001b[39;49m\u001b[43mlocal_files_only\u001b[49m\u001b[43m,\u001b[49m\n\u001b[0;32m   1256\u001b[0m \u001b[43m        \u001b[49m\u001b[43mforce_download\u001b[49m\u001b[38;5;241;43m=\u001b[39;49m\u001b[43mforce_download\u001b[49m\u001b[43m,\u001b[49m\n\u001b[0;32m   1257\u001b[0m \u001b[43m    \u001b[49m\u001b[43m)\u001b[49m\n",
      "File \u001b[1;32mc:\\Users\\pietr\\Documents\\GitHub\\Thesis-CaianiRenContardi\\tesinlp\\Lib\\site-packages\\huggingface_hub\\file_download.py:1389\u001b[0m, in \u001b[0;36m_hf_hub_download_to_cache_dir\u001b[1;34m(cache_dir, repo_id, filename, repo_type, revision, endpoint, etag_timeout, headers, proxies, token, local_files_only, force_download)\u001b[0m\n\u001b[0;32m   1387\u001b[0m Path(lock_path)\u001b[38;5;241m.\u001b[39mparent\u001b[38;5;241m.\u001b[39mmkdir(parents\u001b[38;5;241m=\u001b[39m\u001b[38;5;28;01mTrue\u001b[39;00m, exist_ok\u001b[38;5;241m=\u001b[39m\u001b[38;5;28;01mTrue\u001b[39;00m)\n\u001b[0;32m   1388\u001b[0m \u001b[38;5;28;01mwith\u001b[39;00m WeakFileLock(lock_path):\n\u001b[1;32m-> 1389\u001b[0m     \u001b[43m_download_to_tmp_and_move\u001b[49m\u001b[43m(\u001b[49m\n\u001b[0;32m   1390\u001b[0m \u001b[43m        \u001b[49m\u001b[43mincomplete_path\u001b[49m\u001b[38;5;241;43m=\u001b[39;49m\u001b[43mPath\u001b[49m\u001b[43m(\u001b[49m\u001b[43mblob_path\u001b[49m\u001b[43m \u001b[49m\u001b[38;5;241;43m+\u001b[39;49m\u001b[43m \u001b[49m\u001b[38;5;124;43m\"\u001b[39;49m\u001b[38;5;124;43m.incomplete\u001b[39;49m\u001b[38;5;124;43m\"\u001b[39;49m\u001b[43m)\u001b[49m\u001b[43m,\u001b[49m\n\u001b[0;32m   1391\u001b[0m \u001b[43m        \u001b[49m\u001b[43mdestination_path\u001b[49m\u001b[38;5;241;43m=\u001b[39;49m\u001b[43mPath\u001b[49m\u001b[43m(\u001b[49m\u001b[43mblob_path\u001b[49m\u001b[43m)\u001b[49m\u001b[43m,\u001b[49m\n\u001b[0;32m   1392\u001b[0m \u001b[43m        \u001b[49m\u001b[43murl_to_download\u001b[49m\u001b[38;5;241;43m=\u001b[39;49m\u001b[43murl_to_download\u001b[49m\u001b[43m,\u001b[49m\n\u001b[0;32m   1393\u001b[0m \u001b[43m        \u001b[49m\u001b[43mproxies\u001b[49m\u001b[38;5;241;43m=\u001b[39;49m\u001b[43mproxies\u001b[49m\u001b[43m,\u001b[49m\n\u001b[0;32m   1394\u001b[0m \u001b[43m        \u001b[49m\u001b[43mheaders\u001b[49m\u001b[38;5;241;43m=\u001b[39;49m\u001b[43mheaders\u001b[49m\u001b[43m,\u001b[49m\n\u001b[0;32m   1395\u001b[0m \u001b[43m        \u001b[49m\u001b[43mexpected_size\u001b[49m\u001b[38;5;241;43m=\u001b[39;49m\u001b[43mexpected_size\u001b[49m\u001b[43m,\u001b[49m\n\u001b[0;32m   1396\u001b[0m \u001b[43m        \u001b[49m\u001b[43mfilename\u001b[49m\u001b[38;5;241;43m=\u001b[39;49m\u001b[43mfilename\u001b[49m\u001b[43m,\u001b[49m\n\u001b[0;32m   1397\u001b[0m \u001b[43m        \u001b[49m\u001b[43mforce_download\u001b[49m\u001b[38;5;241;43m=\u001b[39;49m\u001b[43mforce_download\u001b[49m\u001b[43m,\u001b[49m\n\u001b[0;32m   1398\u001b[0m \u001b[43m    \u001b[49m\u001b[43m)\u001b[49m\n\u001b[0;32m   1399\u001b[0m     _create_symlink(blob_path, pointer_path, new_blob\u001b[38;5;241m=\u001b[39m\u001b[38;5;28;01mTrue\u001b[39;00m)\n\u001b[0;32m   1401\u001b[0m \u001b[38;5;28;01mreturn\u001b[39;00m pointer_path\n",
      "File \u001b[1;32mc:\\Users\\pietr\\Documents\\GitHub\\Thesis-CaianiRenContardi\\tesinlp\\Lib\\site-packages\\huggingface_hub\\file_download.py:1915\u001b[0m, in \u001b[0;36m_download_to_tmp_and_move\u001b[1;34m(incomplete_path, destination_path, url_to_download, proxies, headers, expected_size, filename, force_download)\u001b[0m\n\u001b[0;32m   1912\u001b[0m         _check_disk_space(expected_size, incomplete_path\u001b[38;5;241m.\u001b[39mparent)\n\u001b[0;32m   1913\u001b[0m         _check_disk_space(expected_size, destination_path\u001b[38;5;241m.\u001b[39mparent)\n\u001b[1;32m-> 1915\u001b[0m     \u001b[43mhttp_get\u001b[49m\u001b[43m(\u001b[49m\n\u001b[0;32m   1916\u001b[0m \u001b[43m        \u001b[49m\u001b[43murl_to_download\u001b[49m\u001b[43m,\u001b[49m\n\u001b[0;32m   1917\u001b[0m \u001b[43m        \u001b[49m\u001b[43mf\u001b[49m\u001b[43m,\u001b[49m\n\u001b[0;32m   1918\u001b[0m \u001b[43m        \u001b[49m\u001b[43mproxies\u001b[49m\u001b[38;5;241;43m=\u001b[39;49m\u001b[43mproxies\u001b[49m\u001b[43m,\u001b[49m\n\u001b[0;32m   1919\u001b[0m \u001b[43m        \u001b[49m\u001b[43mresume_size\u001b[49m\u001b[38;5;241;43m=\u001b[39;49m\u001b[43mresume_size\u001b[49m\u001b[43m,\u001b[49m\n\u001b[0;32m   1920\u001b[0m \u001b[43m        \u001b[49m\u001b[43mheaders\u001b[49m\u001b[38;5;241;43m=\u001b[39;49m\u001b[43mheaders\u001b[49m\u001b[43m,\u001b[49m\n\u001b[0;32m   1921\u001b[0m \u001b[43m        \u001b[49m\u001b[43mexpected_size\u001b[49m\u001b[38;5;241;43m=\u001b[39;49m\u001b[43mexpected_size\u001b[49m\u001b[43m,\u001b[49m\n\u001b[0;32m   1922\u001b[0m \u001b[43m    \u001b[49m\u001b[43m)\u001b[49m\n\u001b[0;32m   1924\u001b[0m logger\u001b[38;5;241m.\u001b[39minfo(\u001b[38;5;124mf\u001b[39m\u001b[38;5;124m\"\u001b[39m\u001b[38;5;124mDownload complete. Moving file to \u001b[39m\u001b[38;5;132;01m{\u001b[39;00mdestination_path\u001b[38;5;132;01m}\u001b[39;00m\u001b[38;5;124m\"\u001b[39m)\n\u001b[0;32m   1925\u001b[0m _chmod_and_move(incomplete_path, destination_path)\n",
      "File \u001b[1;32mc:\\Users\\pietr\\Documents\\GitHub\\Thesis-CaianiRenContardi\\tesinlp\\Lib\\site-packages\\huggingface_hub\\file_download.py:549\u001b[0m, in \u001b[0;36mhttp_get\u001b[1;34m(url, temp_file, proxies, resume_size, headers, expected_size, displayed_filename, _nb_retries, _tqdm_bar)\u001b[0m\n\u001b[0;32m    547\u001b[0m new_resume_size \u001b[38;5;241m=\u001b[39m resume_size\n\u001b[0;32m    548\u001b[0m \u001b[38;5;28;01mtry\u001b[39;00m:\n\u001b[1;32m--> 549\u001b[0m \u001b[43m    \u001b[49m\u001b[38;5;28;43;01mfor\u001b[39;49;00m\u001b[43m \u001b[49m\u001b[43mchunk\u001b[49m\u001b[43m \u001b[49m\u001b[38;5;129;43;01min\u001b[39;49;00m\u001b[43m \u001b[49m\u001b[43mr\u001b[49m\u001b[38;5;241;43m.\u001b[39;49m\u001b[43miter_content\u001b[49m\u001b[43m(\u001b[49m\u001b[43mchunk_size\u001b[49m\u001b[38;5;241;43m=\u001b[39;49m\u001b[43mDOWNLOAD_CHUNK_SIZE\u001b[49m\u001b[43m)\u001b[49m\u001b[43m:\u001b[49m\n\u001b[0;32m    550\u001b[0m \u001b[43m        \u001b[49m\u001b[38;5;28;43;01mif\u001b[39;49;00m\u001b[43m \u001b[49m\u001b[43mchunk\u001b[49m\u001b[43m:\u001b[49m\u001b[43m  \u001b[49m\u001b[38;5;66;43;03m# filter out keep-alive new chunks\u001b[39;49;00m\n\u001b[0;32m    551\u001b[0m \u001b[43m            \u001b[49m\u001b[43mprogress\u001b[49m\u001b[38;5;241;43m.\u001b[39;49m\u001b[43mupdate\u001b[49m\u001b[43m(\u001b[49m\u001b[38;5;28;43mlen\u001b[39;49m\u001b[43m(\u001b[49m\u001b[43mchunk\u001b[49m\u001b[43m)\u001b[49m\u001b[43m)\u001b[49m\n",
      "File \u001b[1;32mc:\\Users\\pietr\\Documents\\GitHub\\Thesis-CaianiRenContardi\\tesinlp\\Lib\\site-packages\\requests\\models.py:820\u001b[0m, in \u001b[0;36mResponse.iter_content.<locals>.generate\u001b[1;34m()\u001b[0m\n\u001b[0;32m    818\u001b[0m \u001b[38;5;28;01mif\u001b[39;00m \u001b[38;5;28mhasattr\u001b[39m(\u001b[38;5;28mself\u001b[39m\u001b[38;5;241m.\u001b[39mraw, \u001b[38;5;124m\"\u001b[39m\u001b[38;5;124mstream\u001b[39m\u001b[38;5;124m\"\u001b[39m):\n\u001b[0;32m    819\u001b[0m     \u001b[38;5;28;01mtry\u001b[39;00m:\n\u001b[1;32m--> 820\u001b[0m         \u001b[38;5;28;01myield from\u001b[39;00m \u001b[38;5;28mself\u001b[39m\u001b[38;5;241m.\u001b[39mraw\u001b[38;5;241m.\u001b[39mstream(chunk_size, decode_content\u001b[38;5;241m=\u001b[39m\u001b[38;5;28;01mTrue\u001b[39;00m)\n\u001b[0;32m    821\u001b[0m     \u001b[38;5;28;01mexcept\u001b[39;00m ProtocolError \u001b[38;5;28;01mas\u001b[39;00m e:\n\u001b[0;32m    822\u001b[0m         \u001b[38;5;28;01mraise\u001b[39;00m ChunkedEncodingError(e)\n",
      "File \u001b[1;32mc:\\Users\\pietr\\Documents\\GitHub\\Thesis-CaianiRenContardi\\tesinlp\\Lib\\site-packages\\urllib3\\response.py:1060\u001b[0m, in \u001b[0;36mHTTPResponse.stream\u001b[1;34m(self, amt, decode_content)\u001b[0m\n\u001b[0;32m   1058\u001b[0m \u001b[38;5;28;01melse\u001b[39;00m:\n\u001b[0;32m   1059\u001b[0m     \u001b[38;5;28;01mwhile\u001b[39;00m \u001b[38;5;129;01mnot\u001b[39;00m is_fp_closed(\u001b[38;5;28mself\u001b[39m\u001b[38;5;241m.\u001b[39m_fp) \u001b[38;5;129;01mor\u001b[39;00m \u001b[38;5;28mlen\u001b[39m(\u001b[38;5;28mself\u001b[39m\u001b[38;5;241m.\u001b[39m_decoded_buffer) \u001b[38;5;241m>\u001b[39m \u001b[38;5;241m0\u001b[39m:\n\u001b[1;32m-> 1060\u001b[0m         data \u001b[38;5;241m=\u001b[39m \u001b[38;5;28;43mself\u001b[39;49m\u001b[38;5;241;43m.\u001b[39;49m\u001b[43mread\u001b[49m\u001b[43m(\u001b[49m\u001b[43mamt\u001b[49m\u001b[38;5;241;43m=\u001b[39;49m\u001b[43mamt\u001b[49m\u001b[43m,\u001b[49m\u001b[43m \u001b[49m\u001b[43mdecode_content\u001b[49m\u001b[38;5;241;43m=\u001b[39;49m\u001b[43mdecode_content\u001b[49m\u001b[43m)\u001b[49m\n\u001b[0;32m   1062\u001b[0m         \u001b[38;5;28;01mif\u001b[39;00m data:\n\u001b[0;32m   1063\u001b[0m             \u001b[38;5;28;01myield\u001b[39;00m data\n",
      "File \u001b[1;32mc:\\Users\\pietr\\Documents\\GitHub\\Thesis-CaianiRenContardi\\tesinlp\\Lib\\site-packages\\urllib3\\response.py:949\u001b[0m, in \u001b[0;36mHTTPResponse.read\u001b[1;34m(self, amt, decode_content, cache_content)\u001b[0m\n\u001b[0;32m    946\u001b[0m     \u001b[38;5;28;01mif\u001b[39;00m \u001b[38;5;28mlen\u001b[39m(\u001b[38;5;28mself\u001b[39m\u001b[38;5;241m.\u001b[39m_decoded_buffer) \u001b[38;5;241m>\u001b[39m\u001b[38;5;241m=\u001b[39m amt:\n\u001b[0;32m    947\u001b[0m         \u001b[38;5;28;01mreturn\u001b[39;00m \u001b[38;5;28mself\u001b[39m\u001b[38;5;241m.\u001b[39m_decoded_buffer\u001b[38;5;241m.\u001b[39mget(amt)\n\u001b[1;32m--> 949\u001b[0m data \u001b[38;5;241m=\u001b[39m \u001b[38;5;28;43mself\u001b[39;49m\u001b[38;5;241;43m.\u001b[39;49m\u001b[43m_raw_read\u001b[49m\u001b[43m(\u001b[49m\u001b[43mamt\u001b[49m\u001b[43m)\u001b[49m\n\u001b[0;32m    951\u001b[0m flush_decoder \u001b[38;5;241m=\u001b[39m amt \u001b[38;5;129;01mis\u001b[39;00m \u001b[38;5;28;01mNone\u001b[39;00m \u001b[38;5;129;01mor\u001b[39;00m (amt \u001b[38;5;241m!=\u001b[39m \u001b[38;5;241m0\u001b[39m \u001b[38;5;129;01mand\u001b[39;00m \u001b[38;5;129;01mnot\u001b[39;00m data)\n\u001b[0;32m    953\u001b[0m \u001b[38;5;28;01mif\u001b[39;00m \u001b[38;5;129;01mnot\u001b[39;00m data \u001b[38;5;129;01mand\u001b[39;00m \u001b[38;5;28mlen\u001b[39m(\u001b[38;5;28mself\u001b[39m\u001b[38;5;241m.\u001b[39m_decoded_buffer) \u001b[38;5;241m==\u001b[39m \u001b[38;5;241m0\u001b[39m:\n",
      "File \u001b[1;32mc:\\Users\\pietr\\Documents\\GitHub\\Thesis-CaianiRenContardi\\tesinlp\\Lib\\site-packages\\urllib3\\response.py:873\u001b[0m, in \u001b[0;36mHTTPResponse._raw_read\u001b[1;34m(self, amt, read1)\u001b[0m\n\u001b[0;32m    870\u001b[0m fp_closed \u001b[38;5;241m=\u001b[39m \u001b[38;5;28mgetattr\u001b[39m(\u001b[38;5;28mself\u001b[39m\u001b[38;5;241m.\u001b[39m_fp, \u001b[38;5;124m\"\u001b[39m\u001b[38;5;124mclosed\u001b[39m\u001b[38;5;124m\"\u001b[39m, \u001b[38;5;28;01mFalse\u001b[39;00m)\n\u001b[0;32m    872\u001b[0m \u001b[38;5;28;01mwith\u001b[39;00m \u001b[38;5;28mself\u001b[39m\u001b[38;5;241m.\u001b[39m_error_catcher():\n\u001b[1;32m--> 873\u001b[0m     data \u001b[38;5;241m=\u001b[39m \u001b[38;5;28;43mself\u001b[39;49m\u001b[38;5;241;43m.\u001b[39;49m\u001b[43m_fp_read\u001b[49m\u001b[43m(\u001b[49m\u001b[43mamt\u001b[49m\u001b[43m,\u001b[49m\u001b[43m \u001b[49m\u001b[43mread1\u001b[49m\u001b[38;5;241;43m=\u001b[39;49m\u001b[43mread1\u001b[49m\u001b[43m)\u001b[49m \u001b[38;5;28;01mif\u001b[39;00m \u001b[38;5;129;01mnot\u001b[39;00m fp_closed \u001b[38;5;28;01melse\u001b[39;00m \u001b[38;5;124mb\u001b[39m\u001b[38;5;124m\"\u001b[39m\u001b[38;5;124m\"\u001b[39m\n\u001b[0;32m    874\u001b[0m     \u001b[38;5;28;01mif\u001b[39;00m amt \u001b[38;5;129;01mis\u001b[39;00m \u001b[38;5;129;01mnot\u001b[39;00m \u001b[38;5;28;01mNone\u001b[39;00m \u001b[38;5;129;01mand\u001b[39;00m amt \u001b[38;5;241m!=\u001b[39m \u001b[38;5;241m0\u001b[39m \u001b[38;5;129;01mand\u001b[39;00m \u001b[38;5;129;01mnot\u001b[39;00m data:\n\u001b[0;32m    875\u001b[0m         \u001b[38;5;66;03m# Platform-specific: Buggy versions of Python.\u001b[39;00m\n\u001b[0;32m    876\u001b[0m         \u001b[38;5;66;03m# Close the connection when no data is returned\u001b[39;00m\n\u001b[1;32m   (...)\u001b[0m\n\u001b[0;32m    881\u001b[0m         \u001b[38;5;66;03m# not properly close the connection in all cases. There is\u001b[39;00m\n\u001b[0;32m    882\u001b[0m         \u001b[38;5;66;03m# no harm in redundantly calling close.\u001b[39;00m\n\u001b[0;32m    883\u001b[0m         \u001b[38;5;28mself\u001b[39m\u001b[38;5;241m.\u001b[39m_fp\u001b[38;5;241m.\u001b[39mclose()\n",
      "File \u001b[1;32mc:\\Users\\pietr\\Documents\\GitHub\\Thesis-CaianiRenContardi\\tesinlp\\Lib\\site-packages\\urllib3\\response.py:856\u001b[0m, in \u001b[0;36mHTTPResponse._fp_read\u001b[1;34m(self, amt, read1)\u001b[0m\n\u001b[0;32m    853\u001b[0m     \u001b[38;5;28;01mreturn\u001b[39;00m \u001b[38;5;28mself\u001b[39m\u001b[38;5;241m.\u001b[39m_fp\u001b[38;5;241m.\u001b[39mread1(amt) \u001b[38;5;28;01mif\u001b[39;00m amt \u001b[38;5;129;01mis\u001b[39;00m \u001b[38;5;129;01mnot\u001b[39;00m \u001b[38;5;28;01mNone\u001b[39;00m \u001b[38;5;28;01melse\u001b[39;00m \u001b[38;5;28mself\u001b[39m\u001b[38;5;241m.\u001b[39m_fp\u001b[38;5;241m.\u001b[39mread1()\n\u001b[0;32m    854\u001b[0m \u001b[38;5;28;01melse\u001b[39;00m:\n\u001b[0;32m    855\u001b[0m     \u001b[38;5;66;03m# StringIO doesn't like amt=None\u001b[39;00m\n\u001b[1;32m--> 856\u001b[0m     \u001b[38;5;28;01mreturn\u001b[39;00m \u001b[38;5;28;43mself\u001b[39;49m\u001b[38;5;241;43m.\u001b[39;49m\u001b[43m_fp\u001b[49m\u001b[38;5;241;43m.\u001b[39;49m\u001b[43mread\u001b[49m\u001b[43m(\u001b[49m\u001b[43mamt\u001b[49m\u001b[43m)\u001b[49m \u001b[38;5;28;01mif\u001b[39;00m amt \u001b[38;5;129;01mis\u001b[39;00m \u001b[38;5;129;01mnot\u001b[39;00m \u001b[38;5;28;01mNone\u001b[39;00m \u001b[38;5;28;01melse\u001b[39;00m \u001b[38;5;28mself\u001b[39m\u001b[38;5;241m.\u001b[39m_fp\u001b[38;5;241m.\u001b[39mread()\n",
      "File \u001b[1;32mC:\\Program Files\\WindowsApps\\PythonSoftwareFoundation.Python.3.11_3.11.2544.0_x64__qbz5n2kfra8p0\\Lib\\http\\client.py:473\u001b[0m, in \u001b[0;36mHTTPResponse.read\u001b[1;34m(self, amt)\u001b[0m\n\u001b[0;32m    470\u001b[0m \u001b[38;5;28;01mif\u001b[39;00m \u001b[38;5;28mself\u001b[39m\u001b[38;5;241m.\u001b[39mlength \u001b[38;5;129;01mis\u001b[39;00m \u001b[38;5;129;01mnot\u001b[39;00m \u001b[38;5;28;01mNone\u001b[39;00m \u001b[38;5;129;01mand\u001b[39;00m amt \u001b[38;5;241m>\u001b[39m \u001b[38;5;28mself\u001b[39m\u001b[38;5;241m.\u001b[39mlength:\n\u001b[0;32m    471\u001b[0m     \u001b[38;5;66;03m# clip the read to the \"end of response\"\u001b[39;00m\n\u001b[0;32m    472\u001b[0m     amt \u001b[38;5;241m=\u001b[39m \u001b[38;5;28mself\u001b[39m\u001b[38;5;241m.\u001b[39mlength\n\u001b[1;32m--> 473\u001b[0m s \u001b[38;5;241m=\u001b[39m \u001b[38;5;28mself\u001b[39m\u001b[38;5;241m.\u001b[39mfp\u001b[38;5;241m.\u001b[39mread(amt)\n\u001b[0;32m    474\u001b[0m \u001b[38;5;28;01mif\u001b[39;00m \u001b[38;5;129;01mnot\u001b[39;00m s \u001b[38;5;129;01mand\u001b[39;00m amt:\n\u001b[0;32m    475\u001b[0m     \u001b[38;5;66;03m# Ideally, we would raise IncompleteRead if the content-length\u001b[39;00m\n\u001b[0;32m    476\u001b[0m     \u001b[38;5;66;03m# wasn't satisfied, but it might break compatibility.\u001b[39;00m\n\u001b[0;32m    477\u001b[0m     \u001b[38;5;28mself\u001b[39m\u001b[38;5;241m.\u001b[39m_close_conn()\n",
      "File \u001b[1;32mC:\\Program Files\\WindowsApps\\PythonSoftwareFoundation.Python.3.11_3.11.2544.0_x64__qbz5n2kfra8p0\\Lib\\socket.py:706\u001b[0m, in \u001b[0;36mSocketIO.readinto\u001b[1;34m(self, b)\u001b[0m\n\u001b[0;32m    704\u001b[0m \u001b[38;5;28;01mwhile\u001b[39;00m \u001b[38;5;28;01mTrue\u001b[39;00m:\n\u001b[0;32m    705\u001b[0m     \u001b[38;5;28;01mtry\u001b[39;00m:\n\u001b[1;32m--> 706\u001b[0m         \u001b[38;5;28;01mreturn\u001b[39;00m \u001b[38;5;28;43mself\u001b[39;49m\u001b[38;5;241;43m.\u001b[39;49m\u001b[43m_sock\u001b[49m\u001b[38;5;241;43m.\u001b[39;49m\u001b[43mrecv_into\u001b[49m\u001b[43m(\u001b[49m\u001b[43mb\u001b[49m\u001b[43m)\u001b[49m\n\u001b[0;32m    707\u001b[0m     \u001b[38;5;28;01mexcept\u001b[39;00m timeout:\n\u001b[0;32m    708\u001b[0m         \u001b[38;5;28mself\u001b[39m\u001b[38;5;241m.\u001b[39m_timeout_occurred \u001b[38;5;241m=\u001b[39m \u001b[38;5;28;01mTrue\u001b[39;00m\n",
      "File \u001b[1;32mC:\\Program Files\\WindowsApps\\PythonSoftwareFoundation.Python.3.11_3.11.2544.0_x64__qbz5n2kfra8p0\\Lib\\ssl.py:1314\u001b[0m, in \u001b[0;36mSSLSocket.recv_into\u001b[1;34m(self, buffer, nbytes, flags)\u001b[0m\n\u001b[0;32m   1310\u001b[0m     \u001b[38;5;28;01mif\u001b[39;00m flags \u001b[38;5;241m!=\u001b[39m \u001b[38;5;241m0\u001b[39m:\n\u001b[0;32m   1311\u001b[0m         \u001b[38;5;28;01mraise\u001b[39;00m \u001b[38;5;167;01mValueError\u001b[39;00m(\n\u001b[0;32m   1312\u001b[0m           \u001b[38;5;124m\"\u001b[39m\u001b[38;5;124mnon-zero flags not allowed in calls to recv_into() on \u001b[39m\u001b[38;5;132;01m%s\u001b[39;00m\u001b[38;5;124m\"\u001b[39m \u001b[38;5;241m%\u001b[39m\n\u001b[0;32m   1313\u001b[0m           \u001b[38;5;28mself\u001b[39m\u001b[38;5;241m.\u001b[39m\u001b[38;5;18m__class__\u001b[39m)\n\u001b[1;32m-> 1314\u001b[0m     \u001b[38;5;28;01mreturn\u001b[39;00m \u001b[38;5;28;43mself\u001b[39;49m\u001b[38;5;241;43m.\u001b[39;49m\u001b[43mread\u001b[49m\u001b[43m(\u001b[49m\u001b[43mnbytes\u001b[49m\u001b[43m,\u001b[49m\u001b[43m \u001b[49m\u001b[43mbuffer\u001b[49m\u001b[43m)\u001b[49m\n\u001b[0;32m   1315\u001b[0m \u001b[38;5;28;01melse\u001b[39;00m:\n\u001b[0;32m   1316\u001b[0m     \u001b[38;5;28;01mreturn\u001b[39;00m \u001b[38;5;28msuper\u001b[39m()\u001b[38;5;241m.\u001b[39mrecv_into(buffer, nbytes, flags)\n",
      "File \u001b[1;32mC:\\Program Files\\WindowsApps\\PythonSoftwareFoundation.Python.3.11_3.11.2544.0_x64__qbz5n2kfra8p0\\Lib\\ssl.py:1166\u001b[0m, in \u001b[0;36mSSLSocket.read\u001b[1;34m(self, len, buffer)\u001b[0m\n\u001b[0;32m   1164\u001b[0m \u001b[38;5;28;01mtry\u001b[39;00m:\n\u001b[0;32m   1165\u001b[0m     \u001b[38;5;28;01mif\u001b[39;00m buffer \u001b[38;5;129;01mis\u001b[39;00m \u001b[38;5;129;01mnot\u001b[39;00m \u001b[38;5;28;01mNone\u001b[39;00m:\n\u001b[1;32m-> 1166\u001b[0m         \u001b[38;5;28;01mreturn\u001b[39;00m \u001b[38;5;28;43mself\u001b[39;49m\u001b[38;5;241;43m.\u001b[39;49m\u001b[43m_sslobj\u001b[49m\u001b[38;5;241;43m.\u001b[39;49m\u001b[43mread\u001b[49m\u001b[43m(\u001b[49m\u001b[38;5;28;43mlen\u001b[39;49m\u001b[43m,\u001b[49m\u001b[43m \u001b[49m\u001b[43mbuffer\u001b[49m\u001b[43m)\u001b[49m\n\u001b[0;32m   1167\u001b[0m     \u001b[38;5;28;01melse\u001b[39;00m:\n\u001b[0;32m   1168\u001b[0m         \u001b[38;5;28;01mreturn\u001b[39;00m \u001b[38;5;28mself\u001b[39m\u001b[38;5;241m.\u001b[39m_sslobj\u001b[38;5;241m.\u001b[39mread(\u001b[38;5;28mlen\u001b[39m)\n",
      "\u001b[1;31mKeyboardInterrupt\u001b[0m: "
     ]
    }
   ],
   "source": [
    "from sentence_transformers import SentenceTransformer, SimilarityFunction\n",
    "\n",
    "model = SentenceTransformer(\"all-MiniLM-L6-v2\", similarity_fn_name=SimilarityFunction.COSINE)\n",
    "# model = SentenceTransformer('pritamdeka/S-PubMedBert-MS-MARCO')\n",
    "# model = SentenceTransformer(\"neuml/pubmedbert-base-embeddings\")\n",
    "# model = SentenceTransformer('TimKond/S-PubMedBert-MedQuAD')\n",
    "#model = SentenceTransformer('pritamdeka/BioBERT-mnli-snli-scinli-scitail-mednli-stsb')"
   ]
  },
  {
   "cell_type": "code",
   "execution_count": null,
   "metadata": {},
   "outputs": [],
   "source": [
    "from util.prepemb import SbertComparer\n",
    "comparer = SbertComparer(model=model, df=sub_df, df_imdrf=df_imdrf1st)"
   ]
  },
  {
   "cell_type": "code",
   "execution_count": null,
   "metadata": {},
   "outputs": [],
   "source": [
    "normaltext = model.encode(sub_df['FOI_TEXT'].to_list())\n",
    "cleanpun = model.encode(sub_df['Cleaned'].to_list())\n",
    "nopun = model.encode(sub_df['NoPunctuation'].to_list())"
   ]
  },
  {
   "cell_type": "code",
   "execution_count": null,
   "metadata": {},
   "outputs": [],
   "source": [
    "f2sent = model.encode(sub_df['f2sent'].to_list())\n",
    "trimsent = model.encode(sub_df['trimsent'].to_list())\n",
    "cleanf2 = model.encode(sub_df['cleanf2'].to_list())\n",
    "cleantrim = model.encode(sub_df['cleantrim'].to_list())\n",
    "nopunf2 = model.encode(sub_df['nopunf2'].to_list())\n",
    "nopuntrim = model.encode(sub_df['nopuntrim'].to_list())"
   ]
  },
  {
   "cell_type": "code",
   "execution_count": null,
   "metadata": {},
   "outputs": [],
   "source": [
    "singleterm = model.encode(df_imdrf1st['single_term'].to_list())\n",
    "multiterm = model.encode(df_imdrf1st['multiple_terms'].to_list())\n",
    "defimdrf = model.encode(df_imdrf1st['Definition'].to_list())"
   ]
  },
  {
   "cell_type": "code",
   "execution_count": 66,
   "metadata": {},
   "outputs": [
    {
     "name": "stdout",
     "output_type": "stream",
     "text": [
      "Correct Prediction\n",
      "1    57\n",
      "0    43\n",
      "Name: count, dtype: int64\n",
      "Correct Prediction\n",
      "1    59\n",
      "0    41\n",
      "Name: count, dtype: int64\n",
      "Correct Prediction\n",
      "1    60\n",
      "0    40\n",
      "Name: count, dtype: int64\n"
     ]
    }
   ],
   "source": [
    "nopunsingle = comparer.extractbestmatch(nopun, singleterm, 'CatOneIMDRF')\n",
    "punsingle = comparer.extractbestmatch(cleanpun, singleterm, 'CatOneIMDRF')\n",
    "normalsingle = comparer.extractbestmatch(normaltext, singleterm, 'CatOneIMDRF')"
   ]
  },
  {
   "cell_type": "code",
   "execution_count": null,
   "metadata": {},
   "outputs": [
    {
     "name": "stdout",
     "output_type": "stream",
     "text": [
      "Correct Prediction\n",
      "0    59\n",
      "1    41\n",
      "Name: count, dtype: int64\n",
      "Correct Prediction\n",
      "0    57\n",
      "1    43\n",
      "Name: count, dtype: int64\n",
      "Correct Prediction\n",
      "0    55\n",
      "1    45\n",
      "Name: count, dtype: int64\n"
     ]
    }
   ],
   "source": [
    "nopunmulti = comparer.extractbestmatch(nopun, multiterm, 'CatOneIMDRF')\n",
    "punmulti = comparer.extractbestmatch(cleanpun, multiterm, 'CatOneIMDRF')\n",
    "normalmulti = comparer.extractbestmatch(normaltext, multiterm, 'CatOneIMDRF')"
   ]
  },
  {
   "cell_type": "code",
   "execution_count": 68,
   "metadata": {},
   "outputs": [
    {
     "name": "stdout",
     "output_type": "stream",
     "text": [
      "Correct Prediction\n",
      "1    59\n",
      "0    41\n",
      "Name: count, dtype: int64\n",
      "Correct Prediction\n",
      "1    59\n",
      "0    41\n",
      "Name: count, dtype: int64\n",
      "Correct Prediction\n",
      "1    59\n",
      "0    41\n",
      "Name: count, dtype: int64\n"
     ]
    }
   ],
   "source": [
    "nopundef = comparer.extractbestmatch(nopun, defimdrf, 'CatOneIMDRF')\n",
    "punundef = comparer.extractbestmatch(cleanpun, defimdrf, 'CatOneIMDRF')\n",
    "normaldef = comparer.extractbestmatch(normaltext, defimdrf, 'CatOneIMDRF')"
   ]
  },
  {
   "cell_type": "code",
   "execution_count": 69,
   "metadata": {},
   "outputs": [
    {
     "name": "stdout",
     "output_type": "stream",
     "text": [
      "Correct Prediction\n",
      "1    57\n",
      "0    43\n",
      "Name: count, dtype: int64\n",
      "Correct Prediction\n",
      "1    60\n",
      "0    40\n",
      "Name: count, dtype: int64\n"
     ]
    }
   ],
   "source": [
    "singlef2 = comparer.extractbestmatch(f2sent, singleterm, 'CatOneIMDRF')\n",
    "singletrim = comparer.extractbestmatch(trimsent, singleterm, 'CatOneIMDRF')"
   ]
  },
  {
   "cell_type": "code",
   "execution_count": 70,
   "metadata": {},
   "outputs": [
    {
     "name": "stdout",
     "output_type": "stream",
     "text": [
      "Correct Prediction\n",
      "0    52\n",
      "1    48\n",
      "Name: count, dtype: int64\n",
      "Correct Prediction\n",
      "0    55\n",
      "1    45\n",
      "Name: count, dtype: int64\n"
     ]
    }
   ],
   "source": [
    "multif2 = comparer.extractbestmatch(f2sent, multiterm, 'CatOneIMDRF')\n",
    "multitrim = comparer.extractbestmatch(trimsent, multiterm, 'CatOneIMDRF')"
   ]
  },
  {
   "cell_type": "code",
   "execution_count": 71,
   "metadata": {},
   "outputs": [
    {
     "name": "stdout",
     "output_type": "stream",
     "text": [
      "Correct Prediction\n",
      "1    59\n",
      "0    41\n",
      "Name: count, dtype: int64\n",
      "Correct Prediction\n",
      "1    59\n",
      "0    41\n",
      "Name: count, dtype: int64\n"
     ]
    }
   ],
   "source": [
    "deff2 = comparer.extractbestmatch(f2sent, defimdrf, 'CatOneIMDRF')\n",
    "deftrim = comparer.extractbestmatch(trimsent, defimdrf, 'CatOneIMDRF')"
   ]
  },
  {
   "cell_type": "code",
   "execution_count": 72,
   "metadata": {},
   "outputs": [
    {
     "name": "stdout",
     "output_type": "stream",
     "text": [
      "Correct Prediction\n",
      "1    56\n",
      "0    44\n",
      "Name: count, dtype: int64\n",
      "Correct Prediction\n",
      "0    55\n",
      "1    45\n",
      "Name: count, dtype: int64\n",
      "Correct Prediction\n",
      "1    59\n",
      "0    41\n",
      "Name: count, dtype: int64\n"
     ]
    }
   ],
   "source": [
    "f2punsingle = comparer.extractbestmatch(cleanf2, singleterm, 'CatOneIMDRF')\n",
    "f2punmulti = comparer.extractbestmatch(cleanf2, multiterm, 'CatOneIMDRF')\n",
    "f2pundef = comparer.extractbestmatch(cleanf2, defimdrf, 'CatOneIMDRF')"
   ]
  },
  {
   "cell_type": "code",
   "execution_count": 73,
   "metadata": {},
   "outputs": [
    {
     "name": "stdout",
     "output_type": "stream",
     "text": [
      "Correct Prediction\n",
      "1    59\n",
      "0    41\n",
      "Name: count, dtype: int64\n",
      "Correct Prediction\n",
      "0    57\n",
      "1    43\n",
      "Name: count, dtype: int64\n",
      "Correct Prediction\n",
      "1    59\n",
      "0    41\n",
      "Name: count, dtype: int64\n"
     ]
    }
   ],
   "source": [
    "trimpunsingle = comparer.extractbestmatch(cleantrim, singleterm, 'CatOneIMDRF')\n",
    "trimpunmulti = comparer.extractbestmatch(cleantrim, multiterm, 'CatOneIMDRF')\n",
    "trimpundef = comparer.extractbestmatch(cleantrim, defimdrf, 'CatOneIMDRF')"
   ]
  },
  {
   "cell_type": "code",
   "execution_count": 74,
   "metadata": {},
   "outputs": [
    {
     "name": "stdout",
     "output_type": "stream",
     "text": [
      "Correct Prediction\n",
      "1    55\n",
      "0    45\n",
      "Name: count, dtype: int64\n",
      "Correct Prediction\n",
      "0    57\n",
      "1    43\n",
      "Name: count, dtype: int64\n",
      "Correct Prediction\n",
      "1    60\n",
      "0    40\n",
      "Name: count, dtype: int64\n"
     ]
    }
   ],
   "source": [
    "f2nopunsingle = comparer.extractbestmatch(nopunf2, singleterm, 'CatOneIMDRF')\n",
    "f2nopunmulti = comparer.extractbestmatch(nopunf2, multiterm, 'CatOneIMDRF')\n",
    "f2nopundef = comparer.extractbestmatch(nopunf2, defimdrf, 'CatOneIMDRF')"
   ]
  },
  {
   "cell_type": "code",
   "execution_count": 75,
   "metadata": {},
   "outputs": [
    {
     "name": "stdout",
     "output_type": "stream",
     "text": [
      "Correct Prediction\n",
      "1    57\n",
      "0    43\n",
      "Name: count, dtype: int64\n",
      "Correct Prediction\n",
      "0    59\n",
      "1    41\n",
      "Name: count, dtype: int64\n",
      "Correct Prediction\n",
      "1    59\n",
      "0    41\n",
      "Name: count, dtype: int64\n"
     ]
    }
   ],
   "source": [
    "trimnopunsingle = comparer.extractbestmatch(nopuntrim, singleterm, 'CatOneIMDRF')\n",
    "trimnopunmulti = comparer.extractbestmatch(nopuntrim, multiterm, 'CatOneIMDRF')\n",
    "trimnopundef = comparer.extractbestmatch(nopuntrim, defimdrf, 'CatOneIMDRF')"
   ]
  },
  {
   "cell_type": "markdown",
   "metadata": {},
   "source": [
    "### Transformers Models"
   ]
  },
  {
   "cell_type": "markdown",
   "metadata": {},
   "source": [
    "#### Choosing the model"
   ]
  },
  {
   "cell_type": "code",
   "execution_count": 96,
   "metadata": {},
   "outputs": [],
   "source": [
    "from transformers import BertTokenizer, BertModel\n",
    "tokenizer = BertTokenizer.from_pretrained('bert-base-uncased')\n",
    "model = BertModel.from_pretrained(\"bert-base-uncased\")"
   ]
  },
  {
   "cell_type": "code",
   "execution_count": 113,
   "metadata": {},
   "outputs": [],
   "source": [
    "from transformers import AutoTokenizer, AutoModel\n",
    "tokenizer = AutoTokenizer.from_pretrained(\"emilyalsentzer/Bio_ClinicalBERT\")\n",
    "model = AutoModel.from_pretrained(\"emilyalsentzer/Bio_ClinicalBERT\")"
   ]
  },
  {
   "cell_type": "code",
   "execution_count": 144,
   "metadata": {},
   "outputs": [],
   "source": [
    "model = AutoModel.from_pretrained(\"ncbi/MedCPT-Query-Encoder\")\n",
    "tokenizer = AutoTokenizer.from_pretrained(\"ncbi/MedCPT-Query-Encoder\")"
   ]
  },
  {
   "cell_type": "code",
   "execution_count": 176,
   "metadata": {},
   "outputs": [
    {
     "name": "stderr",
     "output_type": "stream",
     "text": [
      "c:\\Users\\pietr\\Documents\\GitHub\\Thesis-CaianiRenContardi\\tesinlp\\Lib\\site-packages\\huggingface_hub\\file_download.py:159: UserWarning: `huggingface_hub` cache-system uses symlinks by default to efficiently store duplicated files but your machine does not support them in C:\\Users\\pietr\\.cache\\huggingface\\hub\\models--microsoft--BiomedNLP-BiomedBERT-base-uncased-abstract-fulltext. Caching files will still work but in a degraded version that might require more space on your disk. This warning can be disabled by setting the `HF_HUB_DISABLE_SYMLINKS_WARNING` environment variable. For more details, see https://huggingface.co/docs/huggingface_hub/how-to-cache#limitations.\n",
      "To support symlinks on Windows, you either need to activate Developer Mode or to run Python as an administrator. In order to see activate developer mode, see this article: https://docs.microsoft.com/en-us/windows/apps/get-started/enable-your-device-for-development\n",
      "  warnings.warn(message)\n"
     ]
    },
    {
     "ename": "KeyboardInterrupt",
     "evalue": "",
     "output_type": "error",
     "traceback": [
      "\u001b[1;31m---------------------------------------------------------------------------\u001b[0m",
      "\u001b[1;31mKeyboardInterrupt\u001b[0m                         Traceback (most recent call last)",
      "Cell \u001b[1;32mIn[176], line 4\u001b[0m\n\u001b[0;32m      1\u001b[0m \u001b[38;5;28;01mfrom\u001b[39;00m \u001b[38;5;21;01mtransformers\u001b[39;00m \u001b[38;5;28;01mimport\u001b[39;00m AutoTokenizer, AutoModelForMaskedLM\n\u001b[0;32m      3\u001b[0m tokenizer \u001b[38;5;241m=\u001b[39m AutoTokenizer\u001b[38;5;241m.\u001b[39mfrom_pretrained(\u001b[38;5;124m\"\u001b[39m\u001b[38;5;124mmicrosoft/BiomedNLP-BiomedBERT-base-uncased-abstract-fulltext\u001b[39m\u001b[38;5;124m\"\u001b[39m)\n\u001b[1;32m----> 4\u001b[0m model \u001b[38;5;241m=\u001b[39m \u001b[43mAutoModelForMaskedLM\u001b[49m\u001b[38;5;241;43m.\u001b[39;49m\u001b[43mfrom_pretrained\u001b[49m\u001b[43m(\u001b[49m\u001b[38;5;124;43m\"\u001b[39;49m\u001b[38;5;124;43mmicrosoft/BiomedNLP-BiomedBERT-base-uncased-abstract-fulltext\u001b[39;49m\u001b[38;5;124;43m\"\u001b[39;49m\u001b[43m)\u001b[49m\n",
      "File \u001b[1;32mc:\\Users\\pietr\\Documents\\GitHub\\Thesis-CaianiRenContardi\\tesinlp\\Lib\\site-packages\\transformers\\models\\auto\\auto_factory.py:564\u001b[0m, in \u001b[0;36m_BaseAutoModelClass.from_pretrained\u001b[1;34m(cls, pretrained_model_name_or_path, *model_args, **kwargs)\u001b[0m\n\u001b[0;32m    562\u001b[0m \u001b[38;5;28;01melif\u001b[39;00m \u001b[38;5;28mtype\u001b[39m(config) \u001b[38;5;129;01min\u001b[39;00m \u001b[38;5;28mcls\u001b[39m\u001b[38;5;241m.\u001b[39m_model_mapping\u001b[38;5;241m.\u001b[39mkeys():\n\u001b[0;32m    563\u001b[0m     model_class \u001b[38;5;241m=\u001b[39m _get_model_class(config, \u001b[38;5;28mcls\u001b[39m\u001b[38;5;241m.\u001b[39m_model_mapping)\n\u001b[1;32m--> 564\u001b[0m     \u001b[38;5;28;01mreturn\u001b[39;00m \u001b[43mmodel_class\u001b[49m\u001b[38;5;241;43m.\u001b[39;49m\u001b[43mfrom_pretrained\u001b[49m\u001b[43m(\u001b[49m\n\u001b[0;32m    565\u001b[0m \u001b[43m        \u001b[49m\u001b[43mpretrained_model_name_or_path\u001b[49m\u001b[43m,\u001b[49m\u001b[43m \u001b[49m\u001b[38;5;241;43m*\u001b[39;49m\u001b[43mmodel_args\u001b[49m\u001b[43m,\u001b[49m\u001b[43m \u001b[49m\u001b[43mconfig\u001b[49m\u001b[38;5;241;43m=\u001b[39;49m\u001b[43mconfig\u001b[49m\u001b[43m,\u001b[49m\u001b[43m \u001b[49m\u001b[38;5;241;43m*\u001b[39;49m\u001b[38;5;241;43m*\u001b[39;49m\u001b[43mhub_kwargs\u001b[49m\u001b[43m,\u001b[49m\u001b[43m \u001b[49m\u001b[38;5;241;43m*\u001b[39;49m\u001b[38;5;241;43m*\u001b[39;49m\u001b[43mkwargs\u001b[49m\n\u001b[0;32m    566\u001b[0m \u001b[43m    \u001b[49m\u001b[43m)\u001b[49m\n\u001b[0;32m    567\u001b[0m \u001b[38;5;28;01mraise\u001b[39;00m \u001b[38;5;167;01mValueError\u001b[39;00m(\n\u001b[0;32m    568\u001b[0m     \u001b[38;5;124mf\u001b[39m\u001b[38;5;124m\"\u001b[39m\u001b[38;5;124mUnrecognized configuration class \u001b[39m\u001b[38;5;132;01m{\u001b[39;00mconfig\u001b[38;5;241m.\u001b[39m\u001b[38;5;18m__class__\u001b[39m\u001b[38;5;132;01m}\u001b[39;00m\u001b[38;5;124m for this kind of AutoModel: \u001b[39m\u001b[38;5;132;01m{\u001b[39;00m\u001b[38;5;28mcls\u001b[39m\u001b[38;5;241m.\u001b[39m\u001b[38;5;18m__name__\u001b[39m\u001b[38;5;132;01m}\u001b[39;00m\u001b[38;5;124m.\u001b[39m\u001b[38;5;130;01m\\n\u001b[39;00m\u001b[38;5;124m\"\u001b[39m\n\u001b[0;32m    569\u001b[0m     \u001b[38;5;124mf\u001b[39m\u001b[38;5;124m\"\u001b[39m\u001b[38;5;124mModel type should be one of \u001b[39m\u001b[38;5;132;01m{\u001b[39;00m\u001b[38;5;124m'\u001b[39m\u001b[38;5;124m, \u001b[39m\u001b[38;5;124m'\u001b[39m\u001b[38;5;241m.\u001b[39mjoin(c\u001b[38;5;241m.\u001b[39m\u001b[38;5;18m__name__\u001b[39m\u001b[38;5;250m \u001b[39m\u001b[38;5;28;01mfor\u001b[39;00m\u001b[38;5;250m \u001b[39mc\u001b[38;5;250m \u001b[39m\u001b[38;5;129;01min\u001b[39;00m\u001b[38;5;250m \u001b[39m\u001b[38;5;28mcls\u001b[39m\u001b[38;5;241m.\u001b[39m_model_mapping\u001b[38;5;241m.\u001b[39mkeys())\u001b[38;5;132;01m}\u001b[39;00m\u001b[38;5;124m.\u001b[39m\u001b[38;5;124m\"\u001b[39m\n\u001b[0;32m    570\u001b[0m )\n",
      "File \u001b[1;32mc:\\Users\\pietr\\Documents\\GitHub\\Thesis-CaianiRenContardi\\tesinlp\\Lib\\site-packages\\transformers\\modeling_utils.py:3838\u001b[0m, in \u001b[0;36mPreTrainedModel.from_pretrained\u001b[1;34m(cls, pretrained_model_name_or_path, config, cache_dir, ignore_mismatched_sizes, force_download, local_files_only, token, revision, use_safetensors, weights_only, *model_args, **kwargs)\u001b[0m\n\u001b[0;32m   3835\u001b[0m     \u001b[38;5;28;01melse\u001b[39;00m:\n\u001b[0;32m   3836\u001b[0m         \u001b[38;5;66;03m# This repo has no safetensors file of any kind, we switch to PyTorch.\u001b[39;00m\n\u001b[0;32m   3837\u001b[0m         filename \u001b[38;5;241m=\u001b[39m _add_variant(WEIGHTS_NAME, variant)\n\u001b[1;32m-> 3838\u001b[0m         resolved_archive_file \u001b[38;5;241m=\u001b[39m \u001b[43mcached_file\u001b[49m\u001b[43m(\u001b[49m\n\u001b[0;32m   3839\u001b[0m \u001b[43m            \u001b[49m\u001b[43mpretrained_model_name_or_path\u001b[49m\u001b[43m,\u001b[49m\u001b[43m \u001b[49m\u001b[43mfilename\u001b[49m\u001b[43m,\u001b[49m\u001b[43m \u001b[49m\u001b[38;5;241;43m*\u001b[39;49m\u001b[38;5;241;43m*\u001b[39;49m\u001b[43mcached_file_kwargs\u001b[49m\n\u001b[0;32m   3840\u001b[0m \u001b[43m        \u001b[49m\u001b[43m)\u001b[49m\n\u001b[0;32m   3841\u001b[0m \u001b[38;5;28;01mif\u001b[39;00m resolved_archive_file \u001b[38;5;129;01mis\u001b[39;00m \u001b[38;5;28;01mNone\u001b[39;00m \u001b[38;5;129;01mand\u001b[39;00m filename \u001b[38;5;241m==\u001b[39m _add_variant(WEIGHTS_NAME, variant):\n\u001b[0;32m   3842\u001b[0m     \u001b[38;5;66;03m# Maybe the checkpoint is sharded, we try to grab the index name in this case.\u001b[39;00m\n\u001b[0;32m   3843\u001b[0m     resolved_archive_file \u001b[38;5;241m=\u001b[39m cached_file(\n\u001b[0;32m   3844\u001b[0m         pretrained_model_name_or_path,\n\u001b[0;32m   3845\u001b[0m         _add_variant(WEIGHTS_INDEX_NAME, variant),\n\u001b[0;32m   3846\u001b[0m         \u001b[38;5;241m*\u001b[39m\u001b[38;5;241m*\u001b[39mcached_file_kwargs,\n\u001b[0;32m   3847\u001b[0m     )\n",
      "File \u001b[1;32mc:\\Users\\pietr\\Documents\\GitHub\\Thesis-CaianiRenContardi\\tesinlp\\Lib\\site-packages\\transformers\\utils\\hub.py:403\u001b[0m, in \u001b[0;36mcached_file\u001b[1;34m(path_or_repo_id, filename, cache_dir, force_download, resume_download, proxies, token, revision, local_files_only, subfolder, repo_type, user_agent, _raise_exceptions_for_gated_repo, _raise_exceptions_for_missing_entries, _raise_exceptions_for_connection_errors, _commit_hash, **deprecated_kwargs)\u001b[0m\n\u001b[0;32m    400\u001b[0m user_agent \u001b[38;5;241m=\u001b[39m http_user_agent(user_agent)\n\u001b[0;32m    401\u001b[0m \u001b[38;5;28;01mtry\u001b[39;00m:\n\u001b[0;32m    402\u001b[0m     \u001b[38;5;66;03m# Load from URL or cache if already cached\u001b[39;00m\n\u001b[1;32m--> 403\u001b[0m     resolved_file \u001b[38;5;241m=\u001b[39m \u001b[43mhf_hub_download\u001b[49m\u001b[43m(\u001b[49m\n\u001b[0;32m    404\u001b[0m \u001b[43m        \u001b[49m\u001b[43mpath_or_repo_id\u001b[49m\u001b[43m,\u001b[49m\n\u001b[0;32m    405\u001b[0m \u001b[43m        \u001b[49m\u001b[43mfilename\u001b[49m\u001b[43m,\u001b[49m\n\u001b[0;32m    406\u001b[0m \u001b[43m        \u001b[49m\u001b[43msubfolder\u001b[49m\u001b[38;5;241;43m=\u001b[39;49m\u001b[38;5;28;43;01mNone\u001b[39;49;00m\u001b[43m \u001b[49m\u001b[38;5;28;43;01mif\u001b[39;49;00m\u001b[43m \u001b[49m\u001b[38;5;28;43mlen\u001b[39;49m\u001b[43m(\u001b[49m\u001b[43msubfolder\u001b[49m\u001b[43m)\u001b[49m\u001b[43m \u001b[49m\u001b[38;5;241;43m==\u001b[39;49m\u001b[43m \u001b[49m\u001b[38;5;241;43m0\u001b[39;49m\u001b[43m \u001b[49m\u001b[38;5;28;43;01melse\u001b[39;49;00m\u001b[43m \u001b[49m\u001b[43msubfolder\u001b[49m\u001b[43m,\u001b[49m\n\u001b[0;32m    407\u001b[0m \u001b[43m        \u001b[49m\u001b[43mrepo_type\u001b[49m\u001b[38;5;241;43m=\u001b[39;49m\u001b[43mrepo_type\u001b[49m\u001b[43m,\u001b[49m\n\u001b[0;32m    408\u001b[0m \u001b[43m        \u001b[49m\u001b[43mrevision\u001b[49m\u001b[38;5;241;43m=\u001b[39;49m\u001b[43mrevision\u001b[49m\u001b[43m,\u001b[49m\n\u001b[0;32m    409\u001b[0m \u001b[43m        \u001b[49m\u001b[43mcache_dir\u001b[49m\u001b[38;5;241;43m=\u001b[39;49m\u001b[43mcache_dir\u001b[49m\u001b[43m,\u001b[49m\n\u001b[0;32m    410\u001b[0m \u001b[43m        \u001b[49m\u001b[43muser_agent\u001b[49m\u001b[38;5;241;43m=\u001b[39;49m\u001b[43muser_agent\u001b[49m\u001b[43m,\u001b[49m\n\u001b[0;32m    411\u001b[0m \u001b[43m        \u001b[49m\u001b[43mforce_download\u001b[49m\u001b[38;5;241;43m=\u001b[39;49m\u001b[43mforce_download\u001b[49m\u001b[43m,\u001b[49m\n\u001b[0;32m    412\u001b[0m \u001b[43m        \u001b[49m\u001b[43mproxies\u001b[49m\u001b[38;5;241;43m=\u001b[39;49m\u001b[43mproxies\u001b[49m\u001b[43m,\u001b[49m\n\u001b[0;32m    413\u001b[0m \u001b[43m        \u001b[49m\u001b[43mresume_download\u001b[49m\u001b[38;5;241;43m=\u001b[39;49m\u001b[43mresume_download\u001b[49m\u001b[43m,\u001b[49m\n\u001b[0;32m    414\u001b[0m \u001b[43m        \u001b[49m\u001b[43mtoken\u001b[49m\u001b[38;5;241;43m=\u001b[39;49m\u001b[43mtoken\u001b[49m\u001b[43m,\u001b[49m\n\u001b[0;32m    415\u001b[0m \u001b[43m        \u001b[49m\u001b[43mlocal_files_only\u001b[49m\u001b[38;5;241;43m=\u001b[39;49m\u001b[43mlocal_files_only\u001b[49m\u001b[43m,\u001b[49m\n\u001b[0;32m    416\u001b[0m \u001b[43m    \u001b[49m\u001b[43m)\u001b[49m\n\u001b[0;32m    417\u001b[0m \u001b[38;5;28;01mexcept\u001b[39;00m GatedRepoError \u001b[38;5;28;01mas\u001b[39;00m e:\n\u001b[0;32m    418\u001b[0m     resolved_file \u001b[38;5;241m=\u001b[39m _get_cache_file_to_return(path_or_repo_id, full_filename, cache_dir, revision)\n",
      "File \u001b[1;32mc:\\Users\\pietr\\Documents\\GitHub\\Thesis-CaianiRenContardi\\tesinlp\\Lib\\site-packages\\huggingface_hub\\utils\\_deprecation.py:101\u001b[0m, in \u001b[0;36m_deprecate_arguments.<locals>._inner_deprecate_positional_args.<locals>.inner_f\u001b[1;34m(*args, **kwargs)\u001b[0m\n\u001b[0;32m     99\u001b[0m         message \u001b[38;5;241m+\u001b[39m\u001b[38;5;241m=\u001b[39m \u001b[38;5;124m\"\u001b[39m\u001b[38;5;130;01m\\n\u001b[39;00m\u001b[38;5;130;01m\\n\u001b[39;00m\u001b[38;5;124m\"\u001b[39m \u001b[38;5;241m+\u001b[39m custom_message\n\u001b[0;32m    100\u001b[0m     warnings\u001b[38;5;241m.\u001b[39mwarn(message, \u001b[38;5;167;01mFutureWarning\u001b[39;00m)\n\u001b[1;32m--> 101\u001b[0m \u001b[38;5;28;01mreturn\u001b[39;00m \u001b[43mf\u001b[49m\u001b[43m(\u001b[49m\u001b[38;5;241;43m*\u001b[39;49m\u001b[43margs\u001b[49m\u001b[43m,\u001b[49m\u001b[43m \u001b[49m\u001b[38;5;241;43m*\u001b[39;49m\u001b[38;5;241;43m*\u001b[39;49m\u001b[43mkwargs\u001b[49m\u001b[43m)\u001b[49m\n",
      "File \u001b[1;32mc:\\Users\\pietr\\Documents\\GitHub\\Thesis-CaianiRenContardi\\tesinlp\\Lib\\site-packages\\huggingface_hub\\utils\\_validators.py:114\u001b[0m, in \u001b[0;36mvalidate_hf_hub_args.<locals>._inner_fn\u001b[1;34m(*args, **kwargs)\u001b[0m\n\u001b[0;32m    111\u001b[0m \u001b[38;5;28;01mif\u001b[39;00m check_use_auth_token:\n\u001b[0;32m    112\u001b[0m     kwargs \u001b[38;5;241m=\u001b[39m smoothly_deprecate_use_auth_token(fn_name\u001b[38;5;241m=\u001b[39mfn\u001b[38;5;241m.\u001b[39m\u001b[38;5;18m__name__\u001b[39m, has_token\u001b[38;5;241m=\u001b[39mhas_token, kwargs\u001b[38;5;241m=\u001b[39mkwargs)\n\u001b[1;32m--> 114\u001b[0m \u001b[38;5;28;01mreturn\u001b[39;00m \u001b[43mfn\u001b[49m\u001b[43m(\u001b[49m\u001b[38;5;241;43m*\u001b[39;49m\u001b[43margs\u001b[49m\u001b[43m,\u001b[49m\u001b[43m \u001b[49m\u001b[38;5;241;43m*\u001b[39;49m\u001b[38;5;241;43m*\u001b[39;49m\u001b[43mkwargs\u001b[49m\u001b[43m)\u001b[49m\n",
      "File \u001b[1;32mc:\\Users\\pietr\\Documents\\GitHub\\Thesis-CaianiRenContardi\\tesinlp\\Lib\\site-packages\\huggingface_hub\\file_download.py:1240\u001b[0m, in \u001b[0;36mhf_hub_download\u001b[1;34m(repo_id, filename, subfolder, repo_type, revision, library_name, library_version, cache_dir, local_dir, user_agent, force_download, proxies, etag_timeout, token, local_files_only, headers, endpoint, legacy_cache_layout, resume_download, force_filename, local_dir_use_symlinks)\u001b[0m\n\u001b[0;32m   1220\u001b[0m     \u001b[38;5;28;01mreturn\u001b[39;00m _hf_hub_download_to_local_dir(\n\u001b[0;32m   1221\u001b[0m         \u001b[38;5;66;03m# Destination\u001b[39;00m\n\u001b[0;32m   1222\u001b[0m         local_dir\u001b[38;5;241m=\u001b[39mlocal_dir,\n\u001b[1;32m   (...)\u001b[0m\n\u001b[0;32m   1237\u001b[0m         local_files_only\u001b[38;5;241m=\u001b[39mlocal_files_only,\n\u001b[0;32m   1238\u001b[0m     )\n\u001b[0;32m   1239\u001b[0m \u001b[38;5;28;01melse\u001b[39;00m:\n\u001b[1;32m-> 1240\u001b[0m     \u001b[38;5;28;01mreturn\u001b[39;00m \u001b[43m_hf_hub_download_to_cache_dir\u001b[49m\u001b[43m(\u001b[49m\n\u001b[0;32m   1241\u001b[0m \u001b[43m        \u001b[49m\u001b[38;5;66;43;03m# Destination\u001b[39;49;00m\n\u001b[0;32m   1242\u001b[0m \u001b[43m        \u001b[49m\u001b[43mcache_dir\u001b[49m\u001b[38;5;241;43m=\u001b[39;49m\u001b[43mcache_dir\u001b[49m\u001b[43m,\u001b[49m\n\u001b[0;32m   1243\u001b[0m \u001b[43m        \u001b[49m\u001b[38;5;66;43;03m# File info\u001b[39;49;00m\n\u001b[0;32m   1244\u001b[0m \u001b[43m        \u001b[49m\u001b[43mrepo_id\u001b[49m\u001b[38;5;241;43m=\u001b[39;49m\u001b[43mrepo_id\u001b[49m\u001b[43m,\u001b[49m\n\u001b[0;32m   1245\u001b[0m \u001b[43m        \u001b[49m\u001b[43mfilename\u001b[49m\u001b[38;5;241;43m=\u001b[39;49m\u001b[43mfilename\u001b[49m\u001b[43m,\u001b[49m\n\u001b[0;32m   1246\u001b[0m \u001b[43m        \u001b[49m\u001b[43mrepo_type\u001b[49m\u001b[38;5;241;43m=\u001b[39;49m\u001b[43mrepo_type\u001b[49m\u001b[43m,\u001b[49m\n\u001b[0;32m   1247\u001b[0m \u001b[43m        \u001b[49m\u001b[43mrevision\u001b[49m\u001b[38;5;241;43m=\u001b[39;49m\u001b[43mrevision\u001b[49m\u001b[43m,\u001b[49m\n\u001b[0;32m   1248\u001b[0m \u001b[43m        \u001b[49m\u001b[38;5;66;43;03m# HTTP info\u001b[39;49;00m\n\u001b[0;32m   1249\u001b[0m \u001b[43m        \u001b[49m\u001b[43mendpoint\u001b[49m\u001b[38;5;241;43m=\u001b[39;49m\u001b[43mendpoint\u001b[49m\u001b[43m,\u001b[49m\n\u001b[0;32m   1250\u001b[0m \u001b[43m        \u001b[49m\u001b[43metag_timeout\u001b[49m\u001b[38;5;241;43m=\u001b[39;49m\u001b[43metag_timeout\u001b[49m\u001b[43m,\u001b[49m\n\u001b[0;32m   1251\u001b[0m \u001b[43m        \u001b[49m\u001b[43mheaders\u001b[49m\u001b[38;5;241;43m=\u001b[39;49m\u001b[43mheaders\u001b[49m\u001b[43m,\u001b[49m\n\u001b[0;32m   1252\u001b[0m \u001b[43m        \u001b[49m\u001b[43mproxies\u001b[49m\u001b[38;5;241;43m=\u001b[39;49m\u001b[43mproxies\u001b[49m\u001b[43m,\u001b[49m\n\u001b[0;32m   1253\u001b[0m \u001b[43m        \u001b[49m\u001b[43mtoken\u001b[49m\u001b[38;5;241;43m=\u001b[39;49m\u001b[43mtoken\u001b[49m\u001b[43m,\u001b[49m\n\u001b[0;32m   1254\u001b[0m \u001b[43m        \u001b[49m\u001b[38;5;66;43;03m# Additional options\u001b[39;49;00m\n\u001b[0;32m   1255\u001b[0m \u001b[43m        \u001b[49m\u001b[43mlocal_files_only\u001b[49m\u001b[38;5;241;43m=\u001b[39;49m\u001b[43mlocal_files_only\u001b[49m\u001b[43m,\u001b[49m\n\u001b[0;32m   1256\u001b[0m \u001b[43m        \u001b[49m\u001b[43mforce_download\u001b[49m\u001b[38;5;241;43m=\u001b[39;49m\u001b[43mforce_download\u001b[49m\u001b[43m,\u001b[49m\n\u001b[0;32m   1257\u001b[0m \u001b[43m    \u001b[49m\u001b[43m)\u001b[49m\n",
      "File \u001b[1;32mc:\\Users\\pietr\\Documents\\GitHub\\Thesis-CaianiRenContardi\\tesinlp\\Lib\\site-packages\\huggingface_hub\\file_download.py:1389\u001b[0m, in \u001b[0;36m_hf_hub_download_to_cache_dir\u001b[1;34m(cache_dir, repo_id, filename, repo_type, revision, endpoint, etag_timeout, headers, proxies, token, local_files_only, force_download)\u001b[0m\n\u001b[0;32m   1387\u001b[0m Path(lock_path)\u001b[38;5;241m.\u001b[39mparent\u001b[38;5;241m.\u001b[39mmkdir(parents\u001b[38;5;241m=\u001b[39m\u001b[38;5;28;01mTrue\u001b[39;00m, exist_ok\u001b[38;5;241m=\u001b[39m\u001b[38;5;28;01mTrue\u001b[39;00m)\n\u001b[0;32m   1388\u001b[0m \u001b[38;5;28;01mwith\u001b[39;00m WeakFileLock(lock_path):\n\u001b[1;32m-> 1389\u001b[0m     \u001b[43m_download_to_tmp_and_move\u001b[49m\u001b[43m(\u001b[49m\n\u001b[0;32m   1390\u001b[0m \u001b[43m        \u001b[49m\u001b[43mincomplete_path\u001b[49m\u001b[38;5;241;43m=\u001b[39;49m\u001b[43mPath\u001b[49m\u001b[43m(\u001b[49m\u001b[43mblob_path\u001b[49m\u001b[43m \u001b[49m\u001b[38;5;241;43m+\u001b[39;49m\u001b[43m \u001b[49m\u001b[38;5;124;43m\"\u001b[39;49m\u001b[38;5;124;43m.incomplete\u001b[39;49m\u001b[38;5;124;43m\"\u001b[39;49m\u001b[43m)\u001b[49m\u001b[43m,\u001b[49m\n\u001b[0;32m   1391\u001b[0m \u001b[43m        \u001b[49m\u001b[43mdestination_path\u001b[49m\u001b[38;5;241;43m=\u001b[39;49m\u001b[43mPath\u001b[49m\u001b[43m(\u001b[49m\u001b[43mblob_path\u001b[49m\u001b[43m)\u001b[49m\u001b[43m,\u001b[49m\n\u001b[0;32m   1392\u001b[0m \u001b[43m        \u001b[49m\u001b[43murl_to_download\u001b[49m\u001b[38;5;241;43m=\u001b[39;49m\u001b[43murl_to_download\u001b[49m\u001b[43m,\u001b[49m\n\u001b[0;32m   1393\u001b[0m \u001b[43m        \u001b[49m\u001b[43mproxies\u001b[49m\u001b[38;5;241;43m=\u001b[39;49m\u001b[43mproxies\u001b[49m\u001b[43m,\u001b[49m\n\u001b[0;32m   1394\u001b[0m \u001b[43m        \u001b[49m\u001b[43mheaders\u001b[49m\u001b[38;5;241;43m=\u001b[39;49m\u001b[43mheaders\u001b[49m\u001b[43m,\u001b[49m\n\u001b[0;32m   1395\u001b[0m \u001b[43m        \u001b[49m\u001b[43mexpected_size\u001b[49m\u001b[38;5;241;43m=\u001b[39;49m\u001b[43mexpected_size\u001b[49m\u001b[43m,\u001b[49m\n\u001b[0;32m   1396\u001b[0m \u001b[43m        \u001b[49m\u001b[43mfilename\u001b[49m\u001b[38;5;241;43m=\u001b[39;49m\u001b[43mfilename\u001b[49m\u001b[43m,\u001b[49m\n\u001b[0;32m   1397\u001b[0m \u001b[43m        \u001b[49m\u001b[43mforce_download\u001b[49m\u001b[38;5;241;43m=\u001b[39;49m\u001b[43mforce_download\u001b[49m\u001b[43m,\u001b[49m\n\u001b[0;32m   1398\u001b[0m \u001b[43m    \u001b[49m\u001b[43m)\u001b[49m\n\u001b[0;32m   1399\u001b[0m     _create_symlink(blob_path, pointer_path, new_blob\u001b[38;5;241m=\u001b[39m\u001b[38;5;28;01mTrue\u001b[39;00m)\n\u001b[0;32m   1401\u001b[0m \u001b[38;5;28;01mreturn\u001b[39;00m pointer_path\n",
      "File \u001b[1;32mc:\\Users\\pietr\\Documents\\GitHub\\Thesis-CaianiRenContardi\\tesinlp\\Lib\\site-packages\\huggingface_hub\\file_download.py:1915\u001b[0m, in \u001b[0;36m_download_to_tmp_and_move\u001b[1;34m(incomplete_path, destination_path, url_to_download, proxies, headers, expected_size, filename, force_download)\u001b[0m\n\u001b[0;32m   1912\u001b[0m         _check_disk_space(expected_size, incomplete_path\u001b[38;5;241m.\u001b[39mparent)\n\u001b[0;32m   1913\u001b[0m         _check_disk_space(expected_size, destination_path\u001b[38;5;241m.\u001b[39mparent)\n\u001b[1;32m-> 1915\u001b[0m     \u001b[43mhttp_get\u001b[49m\u001b[43m(\u001b[49m\n\u001b[0;32m   1916\u001b[0m \u001b[43m        \u001b[49m\u001b[43murl_to_download\u001b[49m\u001b[43m,\u001b[49m\n\u001b[0;32m   1917\u001b[0m \u001b[43m        \u001b[49m\u001b[43mf\u001b[49m\u001b[43m,\u001b[49m\n\u001b[0;32m   1918\u001b[0m \u001b[43m        \u001b[49m\u001b[43mproxies\u001b[49m\u001b[38;5;241;43m=\u001b[39;49m\u001b[43mproxies\u001b[49m\u001b[43m,\u001b[49m\n\u001b[0;32m   1919\u001b[0m \u001b[43m        \u001b[49m\u001b[43mresume_size\u001b[49m\u001b[38;5;241;43m=\u001b[39;49m\u001b[43mresume_size\u001b[49m\u001b[43m,\u001b[49m\n\u001b[0;32m   1920\u001b[0m \u001b[43m        \u001b[49m\u001b[43mheaders\u001b[49m\u001b[38;5;241;43m=\u001b[39;49m\u001b[43mheaders\u001b[49m\u001b[43m,\u001b[49m\n\u001b[0;32m   1921\u001b[0m \u001b[43m        \u001b[49m\u001b[43mexpected_size\u001b[49m\u001b[38;5;241;43m=\u001b[39;49m\u001b[43mexpected_size\u001b[49m\u001b[43m,\u001b[49m\n\u001b[0;32m   1922\u001b[0m \u001b[43m    \u001b[49m\u001b[43m)\u001b[49m\n\u001b[0;32m   1924\u001b[0m logger\u001b[38;5;241m.\u001b[39minfo(\u001b[38;5;124mf\u001b[39m\u001b[38;5;124m\"\u001b[39m\u001b[38;5;124mDownload complete. Moving file to \u001b[39m\u001b[38;5;132;01m{\u001b[39;00mdestination_path\u001b[38;5;132;01m}\u001b[39;00m\u001b[38;5;124m\"\u001b[39m)\n\u001b[0;32m   1925\u001b[0m _chmod_and_move(incomplete_path, destination_path)\n",
      "File \u001b[1;32mc:\\Users\\pietr\\Documents\\GitHub\\Thesis-CaianiRenContardi\\tesinlp\\Lib\\site-packages\\huggingface_hub\\file_download.py:549\u001b[0m, in \u001b[0;36mhttp_get\u001b[1;34m(url, temp_file, proxies, resume_size, headers, expected_size, displayed_filename, _nb_retries, _tqdm_bar)\u001b[0m\n\u001b[0;32m    547\u001b[0m new_resume_size \u001b[38;5;241m=\u001b[39m resume_size\n\u001b[0;32m    548\u001b[0m \u001b[38;5;28;01mtry\u001b[39;00m:\n\u001b[1;32m--> 549\u001b[0m \u001b[43m    \u001b[49m\u001b[38;5;28;43;01mfor\u001b[39;49;00m\u001b[43m \u001b[49m\u001b[43mchunk\u001b[49m\u001b[43m \u001b[49m\u001b[38;5;129;43;01min\u001b[39;49;00m\u001b[43m \u001b[49m\u001b[43mr\u001b[49m\u001b[38;5;241;43m.\u001b[39;49m\u001b[43miter_content\u001b[49m\u001b[43m(\u001b[49m\u001b[43mchunk_size\u001b[49m\u001b[38;5;241;43m=\u001b[39;49m\u001b[43mDOWNLOAD_CHUNK_SIZE\u001b[49m\u001b[43m)\u001b[49m\u001b[43m:\u001b[49m\n\u001b[0;32m    550\u001b[0m \u001b[43m        \u001b[49m\u001b[38;5;28;43;01mif\u001b[39;49;00m\u001b[43m \u001b[49m\u001b[43mchunk\u001b[49m\u001b[43m:\u001b[49m\u001b[43m  \u001b[49m\u001b[38;5;66;43;03m# filter out keep-alive new chunks\u001b[39;49;00m\n\u001b[0;32m    551\u001b[0m \u001b[43m            \u001b[49m\u001b[43mprogress\u001b[49m\u001b[38;5;241;43m.\u001b[39;49m\u001b[43mupdate\u001b[49m\u001b[43m(\u001b[49m\u001b[38;5;28;43mlen\u001b[39;49m\u001b[43m(\u001b[49m\u001b[43mchunk\u001b[49m\u001b[43m)\u001b[49m\u001b[43m)\u001b[49m\n",
      "File \u001b[1;32mc:\\Users\\pietr\\Documents\\GitHub\\Thesis-CaianiRenContardi\\tesinlp\\Lib\\site-packages\\requests\\models.py:820\u001b[0m, in \u001b[0;36mResponse.iter_content.<locals>.generate\u001b[1;34m()\u001b[0m\n\u001b[0;32m    818\u001b[0m \u001b[38;5;28;01mif\u001b[39;00m \u001b[38;5;28mhasattr\u001b[39m(\u001b[38;5;28mself\u001b[39m\u001b[38;5;241m.\u001b[39mraw, \u001b[38;5;124m\"\u001b[39m\u001b[38;5;124mstream\u001b[39m\u001b[38;5;124m\"\u001b[39m):\n\u001b[0;32m    819\u001b[0m     \u001b[38;5;28;01mtry\u001b[39;00m:\n\u001b[1;32m--> 820\u001b[0m         \u001b[38;5;28;01myield from\u001b[39;00m \u001b[38;5;28mself\u001b[39m\u001b[38;5;241m.\u001b[39mraw\u001b[38;5;241m.\u001b[39mstream(chunk_size, decode_content\u001b[38;5;241m=\u001b[39m\u001b[38;5;28;01mTrue\u001b[39;00m)\n\u001b[0;32m    821\u001b[0m     \u001b[38;5;28;01mexcept\u001b[39;00m ProtocolError \u001b[38;5;28;01mas\u001b[39;00m e:\n\u001b[0;32m    822\u001b[0m         \u001b[38;5;28;01mraise\u001b[39;00m ChunkedEncodingError(e)\n",
      "File \u001b[1;32mc:\\Users\\pietr\\Documents\\GitHub\\Thesis-CaianiRenContardi\\tesinlp\\Lib\\site-packages\\urllib3\\response.py:1060\u001b[0m, in \u001b[0;36mHTTPResponse.stream\u001b[1;34m(self, amt, decode_content)\u001b[0m\n\u001b[0;32m   1058\u001b[0m \u001b[38;5;28;01melse\u001b[39;00m:\n\u001b[0;32m   1059\u001b[0m     \u001b[38;5;28;01mwhile\u001b[39;00m \u001b[38;5;129;01mnot\u001b[39;00m is_fp_closed(\u001b[38;5;28mself\u001b[39m\u001b[38;5;241m.\u001b[39m_fp) \u001b[38;5;129;01mor\u001b[39;00m \u001b[38;5;28mlen\u001b[39m(\u001b[38;5;28mself\u001b[39m\u001b[38;5;241m.\u001b[39m_decoded_buffer) \u001b[38;5;241m>\u001b[39m \u001b[38;5;241m0\u001b[39m:\n\u001b[1;32m-> 1060\u001b[0m         data \u001b[38;5;241m=\u001b[39m \u001b[38;5;28;43mself\u001b[39;49m\u001b[38;5;241;43m.\u001b[39;49m\u001b[43mread\u001b[49m\u001b[43m(\u001b[49m\u001b[43mamt\u001b[49m\u001b[38;5;241;43m=\u001b[39;49m\u001b[43mamt\u001b[49m\u001b[43m,\u001b[49m\u001b[43m \u001b[49m\u001b[43mdecode_content\u001b[49m\u001b[38;5;241;43m=\u001b[39;49m\u001b[43mdecode_content\u001b[49m\u001b[43m)\u001b[49m\n\u001b[0;32m   1062\u001b[0m         \u001b[38;5;28;01mif\u001b[39;00m data:\n\u001b[0;32m   1063\u001b[0m             \u001b[38;5;28;01myield\u001b[39;00m data\n",
      "File \u001b[1;32mc:\\Users\\pietr\\Documents\\GitHub\\Thesis-CaianiRenContardi\\tesinlp\\Lib\\site-packages\\urllib3\\response.py:949\u001b[0m, in \u001b[0;36mHTTPResponse.read\u001b[1;34m(self, amt, decode_content, cache_content)\u001b[0m\n\u001b[0;32m    946\u001b[0m     \u001b[38;5;28;01mif\u001b[39;00m \u001b[38;5;28mlen\u001b[39m(\u001b[38;5;28mself\u001b[39m\u001b[38;5;241m.\u001b[39m_decoded_buffer) \u001b[38;5;241m>\u001b[39m\u001b[38;5;241m=\u001b[39m amt:\n\u001b[0;32m    947\u001b[0m         \u001b[38;5;28;01mreturn\u001b[39;00m \u001b[38;5;28mself\u001b[39m\u001b[38;5;241m.\u001b[39m_decoded_buffer\u001b[38;5;241m.\u001b[39mget(amt)\n\u001b[1;32m--> 949\u001b[0m data \u001b[38;5;241m=\u001b[39m \u001b[38;5;28;43mself\u001b[39;49m\u001b[38;5;241;43m.\u001b[39;49m\u001b[43m_raw_read\u001b[49m\u001b[43m(\u001b[49m\u001b[43mamt\u001b[49m\u001b[43m)\u001b[49m\n\u001b[0;32m    951\u001b[0m flush_decoder \u001b[38;5;241m=\u001b[39m amt \u001b[38;5;129;01mis\u001b[39;00m \u001b[38;5;28;01mNone\u001b[39;00m \u001b[38;5;129;01mor\u001b[39;00m (amt \u001b[38;5;241m!=\u001b[39m \u001b[38;5;241m0\u001b[39m \u001b[38;5;129;01mand\u001b[39;00m \u001b[38;5;129;01mnot\u001b[39;00m data)\n\u001b[0;32m    953\u001b[0m \u001b[38;5;28;01mif\u001b[39;00m \u001b[38;5;129;01mnot\u001b[39;00m data \u001b[38;5;129;01mand\u001b[39;00m \u001b[38;5;28mlen\u001b[39m(\u001b[38;5;28mself\u001b[39m\u001b[38;5;241m.\u001b[39m_decoded_buffer) \u001b[38;5;241m==\u001b[39m \u001b[38;5;241m0\u001b[39m:\n",
      "File \u001b[1;32mc:\\Users\\pietr\\Documents\\GitHub\\Thesis-CaianiRenContardi\\tesinlp\\Lib\\site-packages\\urllib3\\response.py:873\u001b[0m, in \u001b[0;36mHTTPResponse._raw_read\u001b[1;34m(self, amt, read1)\u001b[0m\n\u001b[0;32m    870\u001b[0m fp_closed \u001b[38;5;241m=\u001b[39m \u001b[38;5;28mgetattr\u001b[39m(\u001b[38;5;28mself\u001b[39m\u001b[38;5;241m.\u001b[39m_fp, \u001b[38;5;124m\"\u001b[39m\u001b[38;5;124mclosed\u001b[39m\u001b[38;5;124m\"\u001b[39m, \u001b[38;5;28;01mFalse\u001b[39;00m)\n\u001b[0;32m    872\u001b[0m \u001b[38;5;28;01mwith\u001b[39;00m \u001b[38;5;28mself\u001b[39m\u001b[38;5;241m.\u001b[39m_error_catcher():\n\u001b[1;32m--> 873\u001b[0m     data \u001b[38;5;241m=\u001b[39m \u001b[38;5;28;43mself\u001b[39;49m\u001b[38;5;241;43m.\u001b[39;49m\u001b[43m_fp_read\u001b[49m\u001b[43m(\u001b[49m\u001b[43mamt\u001b[49m\u001b[43m,\u001b[49m\u001b[43m \u001b[49m\u001b[43mread1\u001b[49m\u001b[38;5;241;43m=\u001b[39;49m\u001b[43mread1\u001b[49m\u001b[43m)\u001b[49m \u001b[38;5;28;01mif\u001b[39;00m \u001b[38;5;129;01mnot\u001b[39;00m fp_closed \u001b[38;5;28;01melse\u001b[39;00m \u001b[38;5;124mb\u001b[39m\u001b[38;5;124m\"\u001b[39m\u001b[38;5;124m\"\u001b[39m\n\u001b[0;32m    874\u001b[0m     \u001b[38;5;28;01mif\u001b[39;00m amt \u001b[38;5;129;01mis\u001b[39;00m \u001b[38;5;129;01mnot\u001b[39;00m \u001b[38;5;28;01mNone\u001b[39;00m \u001b[38;5;129;01mand\u001b[39;00m amt \u001b[38;5;241m!=\u001b[39m \u001b[38;5;241m0\u001b[39m \u001b[38;5;129;01mand\u001b[39;00m \u001b[38;5;129;01mnot\u001b[39;00m data:\n\u001b[0;32m    875\u001b[0m         \u001b[38;5;66;03m# Platform-specific: Buggy versions of Python.\u001b[39;00m\n\u001b[0;32m    876\u001b[0m         \u001b[38;5;66;03m# Close the connection when no data is returned\u001b[39;00m\n\u001b[1;32m   (...)\u001b[0m\n\u001b[0;32m    881\u001b[0m         \u001b[38;5;66;03m# not properly close the connection in all cases. There is\u001b[39;00m\n\u001b[0;32m    882\u001b[0m         \u001b[38;5;66;03m# no harm in redundantly calling close.\u001b[39;00m\n\u001b[0;32m    883\u001b[0m         \u001b[38;5;28mself\u001b[39m\u001b[38;5;241m.\u001b[39m_fp\u001b[38;5;241m.\u001b[39mclose()\n",
      "File \u001b[1;32mc:\\Users\\pietr\\Documents\\GitHub\\Thesis-CaianiRenContardi\\tesinlp\\Lib\\site-packages\\urllib3\\response.py:856\u001b[0m, in \u001b[0;36mHTTPResponse._fp_read\u001b[1;34m(self, amt, read1)\u001b[0m\n\u001b[0;32m    853\u001b[0m     \u001b[38;5;28;01mreturn\u001b[39;00m \u001b[38;5;28mself\u001b[39m\u001b[38;5;241m.\u001b[39m_fp\u001b[38;5;241m.\u001b[39mread1(amt) \u001b[38;5;28;01mif\u001b[39;00m amt \u001b[38;5;129;01mis\u001b[39;00m \u001b[38;5;129;01mnot\u001b[39;00m \u001b[38;5;28;01mNone\u001b[39;00m \u001b[38;5;28;01melse\u001b[39;00m \u001b[38;5;28mself\u001b[39m\u001b[38;5;241m.\u001b[39m_fp\u001b[38;5;241m.\u001b[39mread1()\n\u001b[0;32m    854\u001b[0m \u001b[38;5;28;01melse\u001b[39;00m:\n\u001b[0;32m    855\u001b[0m     \u001b[38;5;66;03m# StringIO doesn't like amt=None\u001b[39;00m\n\u001b[1;32m--> 856\u001b[0m     \u001b[38;5;28;01mreturn\u001b[39;00m \u001b[38;5;28;43mself\u001b[39;49m\u001b[38;5;241;43m.\u001b[39;49m\u001b[43m_fp\u001b[49m\u001b[38;5;241;43m.\u001b[39;49m\u001b[43mread\u001b[49m\u001b[43m(\u001b[49m\u001b[43mamt\u001b[49m\u001b[43m)\u001b[49m \u001b[38;5;28;01mif\u001b[39;00m amt \u001b[38;5;129;01mis\u001b[39;00m \u001b[38;5;129;01mnot\u001b[39;00m \u001b[38;5;28;01mNone\u001b[39;00m \u001b[38;5;28;01melse\u001b[39;00m \u001b[38;5;28mself\u001b[39m\u001b[38;5;241m.\u001b[39m_fp\u001b[38;5;241m.\u001b[39mread()\n",
      "File \u001b[1;32mC:\\Program Files\\WindowsApps\\PythonSoftwareFoundation.Python.3.11_3.11.2544.0_x64__qbz5n2kfra8p0\\Lib\\http\\client.py:473\u001b[0m, in \u001b[0;36mHTTPResponse.read\u001b[1;34m(self, amt)\u001b[0m\n\u001b[0;32m    470\u001b[0m \u001b[38;5;28;01mif\u001b[39;00m \u001b[38;5;28mself\u001b[39m\u001b[38;5;241m.\u001b[39mlength \u001b[38;5;129;01mis\u001b[39;00m \u001b[38;5;129;01mnot\u001b[39;00m \u001b[38;5;28;01mNone\u001b[39;00m \u001b[38;5;129;01mand\u001b[39;00m amt \u001b[38;5;241m>\u001b[39m \u001b[38;5;28mself\u001b[39m\u001b[38;5;241m.\u001b[39mlength:\n\u001b[0;32m    471\u001b[0m     \u001b[38;5;66;03m# clip the read to the \"end of response\"\u001b[39;00m\n\u001b[0;32m    472\u001b[0m     amt \u001b[38;5;241m=\u001b[39m \u001b[38;5;28mself\u001b[39m\u001b[38;5;241m.\u001b[39mlength\n\u001b[1;32m--> 473\u001b[0m s \u001b[38;5;241m=\u001b[39m \u001b[38;5;28mself\u001b[39m\u001b[38;5;241m.\u001b[39mfp\u001b[38;5;241m.\u001b[39mread(amt)\n\u001b[0;32m    474\u001b[0m \u001b[38;5;28;01mif\u001b[39;00m \u001b[38;5;129;01mnot\u001b[39;00m s \u001b[38;5;129;01mand\u001b[39;00m amt:\n\u001b[0;32m    475\u001b[0m     \u001b[38;5;66;03m# Ideally, we would raise IncompleteRead if the content-length\u001b[39;00m\n\u001b[0;32m    476\u001b[0m     \u001b[38;5;66;03m# wasn't satisfied, but it might break compatibility.\u001b[39;00m\n\u001b[0;32m    477\u001b[0m     \u001b[38;5;28mself\u001b[39m\u001b[38;5;241m.\u001b[39m_close_conn()\n",
      "File \u001b[1;32mC:\\Program Files\\WindowsApps\\PythonSoftwareFoundation.Python.3.11_3.11.2544.0_x64__qbz5n2kfra8p0\\Lib\\socket.py:706\u001b[0m, in \u001b[0;36mSocketIO.readinto\u001b[1;34m(self, b)\u001b[0m\n\u001b[0;32m    704\u001b[0m \u001b[38;5;28;01mwhile\u001b[39;00m \u001b[38;5;28;01mTrue\u001b[39;00m:\n\u001b[0;32m    705\u001b[0m     \u001b[38;5;28;01mtry\u001b[39;00m:\n\u001b[1;32m--> 706\u001b[0m         \u001b[38;5;28;01mreturn\u001b[39;00m \u001b[38;5;28;43mself\u001b[39;49m\u001b[38;5;241;43m.\u001b[39;49m\u001b[43m_sock\u001b[49m\u001b[38;5;241;43m.\u001b[39;49m\u001b[43mrecv_into\u001b[49m\u001b[43m(\u001b[49m\u001b[43mb\u001b[49m\u001b[43m)\u001b[49m\n\u001b[0;32m    707\u001b[0m     \u001b[38;5;28;01mexcept\u001b[39;00m timeout:\n\u001b[0;32m    708\u001b[0m         \u001b[38;5;28mself\u001b[39m\u001b[38;5;241m.\u001b[39m_timeout_occurred \u001b[38;5;241m=\u001b[39m \u001b[38;5;28;01mTrue\u001b[39;00m\n",
      "File \u001b[1;32mC:\\Program Files\\WindowsApps\\PythonSoftwareFoundation.Python.3.11_3.11.2544.0_x64__qbz5n2kfra8p0\\Lib\\ssl.py:1314\u001b[0m, in \u001b[0;36mSSLSocket.recv_into\u001b[1;34m(self, buffer, nbytes, flags)\u001b[0m\n\u001b[0;32m   1310\u001b[0m     \u001b[38;5;28;01mif\u001b[39;00m flags \u001b[38;5;241m!=\u001b[39m \u001b[38;5;241m0\u001b[39m:\n\u001b[0;32m   1311\u001b[0m         \u001b[38;5;28;01mraise\u001b[39;00m \u001b[38;5;167;01mValueError\u001b[39;00m(\n\u001b[0;32m   1312\u001b[0m           \u001b[38;5;124m\"\u001b[39m\u001b[38;5;124mnon-zero flags not allowed in calls to recv_into() on \u001b[39m\u001b[38;5;132;01m%s\u001b[39;00m\u001b[38;5;124m\"\u001b[39m \u001b[38;5;241m%\u001b[39m\n\u001b[0;32m   1313\u001b[0m           \u001b[38;5;28mself\u001b[39m\u001b[38;5;241m.\u001b[39m\u001b[38;5;18m__class__\u001b[39m)\n\u001b[1;32m-> 1314\u001b[0m     \u001b[38;5;28;01mreturn\u001b[39;00m \u001b[38;5;28;43mself\u001b[39;49m\u001b[38;5;241;43m.\u001b[39;49m\u001b[43mread\u001b[49m\u001b[43m(\u001b[49m\u001b[43mnbytes\u001b[49m\u001b[43m,\u001b[49m\u001b[43m \u001b[49m\u001b[43mbuffer\u001b[49m\u001b[43m)\u001b[49m\n\u001b[0;32m   1315\u001b[0m \u001b[38;5;28;01melse\u001b[39;00m:\n\u001b[0;32m   1316\u001b[0m     \u001b[38;5;28;01mreturn\u001b[39;00m \u001b[38;5;28msuper\u001b[39m()\u001b[38;5;241m.\u001b[39mrecv_into(buffer, nbytes, flags)\n",
      "File \u001b[1;32mC:\\Program Files\\WindowsApps\\PythonSoftwareFoundation.Python.3.11_3.11.2544.0_x64__qbz5n2kfra8p0\\Lib\\ssl.py:1166\u001b[0m, in \u001b[0;36mSSLSocket.read\u001b[1;34m(self, len, buffer)\u001b[0m\n\u001b[0;32m   1164\u001b[0m \u001b[38;5;28;01mtry\u001b[39;00m:\n\u001b[0;32m   1165\u001b[0m     \u001b[38;5;28;01mif\u001b[39;00m buffer \u001b[38;5;129;01mis\u001b[39;00m \u001b[38;5;129;01mnot\u001b[39;00m \u001b[38;5;28;01mNone\u001b[39;00m:\n\u001b[1;32m-> 1166\u001b[0m         \u001b[38;5;28;01mreturn\u001b[39;00m \u001b[38;5;28;43mself\u001b[39;49m\u001b[38;5;241;43m.\u001b[39;49m\u001b[43m_sslobj\u001b[49m\u001b[38;5;241;43m.\u001b[39;49m\u001b[43mread\u001b[49m\u001b[43m(\u001b[49m\u001b[38;5;28;43mlen\u001b[39;49m\u001b[43m,\u001b[49m\u001b[43m \u001b[49m\u001b[43mbuffer\u001b[49m\u001b[43m)\u001b[49m\n\u001b[0;32m   1167\u001b[0m     \u001b[38;5;28;01melse\u001b[39;00m:\n\u001b[0;32m   1168\u001b[0m         \u001b[38;5;28;01mreturn\u001b[39;00m \u001b[38;5;28mself\u001b[39m\u001b[38;5;241m.\u001b[39m_sslobj\u001b[38;5;241m.\u001b[39mread(\u001b[38;5;28mlen\u001b[39m)\n",
      "\u001b[1;31mKeyboardInterrupt\u001b[0m: "
     ]
    }
   ],
   "source": [
    "from transformers import AutoTokenizer, AutoModelForMaskedLM\n",
    "\n",
    "tokenizer = AutoTokenizer.from_pretrained(\"microsoft/BiomedNLP-BiomedBERT-base-uncased-abstract-fulltext\")\n",
    "model = AutoModelForMaskedLM.from_pretrained(\"microsoft/BiomedNLP-BiomedBERT-base-uncased-abstract-fulltext\")"
   ]
  },
  {
   "cell_type": "code",
   "execution_count": 145,
   "metadata": {},
   "outputs": [],
   "source": [
    "from util.prepemb import BCBComparer\n",
    "bcbcomparer = BCBComparer(df=sub_df, df_imdrf=df_imdrf, tokenizer=tokenizer, model=model)"
   ]
  },
  {
   "cell_type": "markdown",
   "metadata": {},
   "source": [
    "#### Choosing the token"
   ]
  },
  {
   "cell_type": "markdown",
   "metadata": {},
   "source": [
    "comparing the differences among the different leves of cleaning of text"
   ]
  },
  {
   "cell_type": "code",
   "execution_count": 161,
   "metadata": {},
   "outputs": [],
   "source": [
    "#token = 'cls'\n",
    "token = 'mean'"
   ]
  },
  {
   "cell_type": "code",
   "execution_count": 162,
   "metadata": {},
   "outputs": [],
   "source": [
    "normalbcb = bcbcomparer.compute_bioclinical_embeddings(sub_df['FOI_TEXT'], token)\n",
    "cleanbcb = bcbcomparer.compute_bioclinical_embeddings(sub_df['Cleaned'], token)\n",
    "nopunbcb = bcbcomparer.compute_bioclinical_embeddings(sub_df['NoPunctuation'], token)"
   ]
  },
  {
   "cell_type": "code",
   "execution_count": 163,
   "metadata": {},
   "outputs": [],
   "source": [
    "f2sent = bcbcomparer.compute_bioclinical_embeddings(sub_df['f2sent'], token)\n",
    "trimsent = bcbcomparer.compute_bioclinical_embeddings(sub_df['trimsent'], token)\n",
    "cleanf2 = bcbcomparer.compute_bioclinical_embeddings(sub_df['cleanf2'], token)\n",
    "cleantrim = bcbcomparer.compute_bioclinical_embeddings(sub_df['cleantrim'], token)\n",
    "nopunf2 = bcbcomparer.compute_bioclinical_embeddings(sub_df['nopunf2'], token)\n",
    "nopuntrim = bcbcomparer.compute_bioclinical_embeddings(sub_df['nopuntrim'], token)"
   ]
  },
  {
   "cell_type": "code",
   "execution_count": 164,
   "metadata": {},
   "outputs": [],
   "source": [
    "singleterm = bcbcomparer.compute_bioclinical_embeddings(df_imdrf['single_term'], token)\n",
    "multiterm = bcbcomparer.compute_bioclinical_embeddings(df_imdrf['multiple_terms'], token)\n",
    "defimdrf = bcbcomparer.compute_bioclinical_embeddings(df_imdrf['Definition'], token)"
   ]
  },
  {
   "cell_type": "code",
   "execution_count": 165,
   "metadata": {},
   "outputs": [
    {
     "name": "stdout",
     "output_type": "stream",
     "text": [
      "Correct Prediction\n",
      "0    81\n",
      "1    19\n",
      "Name: count, dtype: int64\n",
      "Correct Prediction\n",
      "0    83\n",
      "1    17\n",
      "Name: count, dtype: int64\n",
      "Correct Prediction\n",
      "0    88\n",
      "1    12\n",
      "Name: count, dtype: int64\n"
     ]
    }
   ],
   "source": [
    "bcbsinglenormal = bcbcomparer.extractbestfit(normalbcb, singleterm, 'CatOneIMDRF')\n",
    "bcbsingleclean = bcbcomparer.extractbestfit(cleanbcb, singleterm, 'CatOneIMDRF')\n",
    "bcbsinglenopun = bcbcomparer.extractbestfit(nopunbcb, singleterm, 'CatOneIMDRF')"
   ]
  },
  {
   "cell_type": "code",
   "execution_count": 166,
   "metadata": {},
   "outputs": [
    {
     "name": "stdout",
     "output_type": "stream",
     "text": [
      "Correct Prediction\n",
      "0    88\n",
      "1    12\n",
      "Name: count, dtype: int64\n",
      "Correct Prediction\n",
      "0    88\n",
      "1    12\n",
      "Name: count, dtype: int64\n",
      "Correct Prediction\n",
      "0    93\n",
      "1     7\n",
      "Name: count, dtype: int64\n"
     ]
    }
   ],
   "source": [
    "bcbmultinormal = bcbcomparer.extractbestfit(normalbcb, multiterm, 'CatOneIMDRF')\n",
    "bcbmulticlean = bcbcomparer.extractbestfit(cleanbcb, multiterm, 'CatOneIMDRF')\n",
    "bcbmultinopun = bcbcomparer.extractbestfit(nopunbcb, multiterm, 'CatOneIMDRF')"
   ]
  },
  {
   "cell_type": "code",
   "execution_count": 167,
   "metadata": {},
   "outputs": [
    {
     "name": "stdout",
     "output_type": "stream",
     "text": [
      "Correct Prediction\n",
      "0    54\n",
      "1    46\n",
      "Name: count, dtype: int64\n",
      "Correct Prediction\n",
      "0    52\n",
      "1    48\n",
      "Name: count, dtype: int64\n",
      "Correct Prediction\n",
      "0    65\n",
      "1    35\n",
      "Name: count, dtype: int64\n"
     ]
    }
   ],
   "source": [
    "bcbdefnormal = bcbcomparer.extractbestfit(normalbcb, defimdrf, 'CatOneIMDRF')\n",
    "bcbdefclean = bcbcomparer.extractbestfit(cleanbcb, defimdrf, 'CatOneIMDRF')\n",
    "bcbdefnopun = bcbcomparer.extractbestfit(nopunbcb, defimdrf, 'CatOneIMDRF')"
   ]
  },
  {
   "cell_type": "code",
   "execution_count": 168,
   "metadata": {},
   "outputs": [
    {
     "name": "stdout",
     "output_type": "stream",
     "text": [
      "Correct Prediction\n",
      "0    63\n",
      "1    37\n",
      "Name: count, dtype: int64\n",
      "Correct Prediction\n",
      "0    72\n",
      "1    28\n",
      "Name: count, dtype: int64\n",
      "Correct Prediction\n",
      "0    51\n",
      "1    49\n",
      "Name: count, dtype: int64\n"
     ]
    }
   ],
   "source": [
    "bcbf2single = bcbcomparer.extractbestfit(f2sent, singleterm, 'CatOneIMDRF')\n",
    "bcbf2multi = bcbcomparer.extractbestfit(f2sent, multiterm, 'CatOneIMDRF')\n",
    "bcbf2def = bcbcomparer.extractbestfit(f2sent, defimdrf, 'CatOneIMDRF')"
   ]
  },
  {
   "cell_type": "code",
   "execution_count": 169,
   "metadata": {},
   "outputs": [
    {
     "name": "stdout",
     "output_type": "stream",
     "text": [
      "Correct Prediction\n",
      "0    81\n",
      "1    19\n",
      "Name: count, dtype: int64\n",
      "Correct Prediction\n",
      "0    88\n",
      "1    12\n",
      "Name: count, dtype: int64\n",
      "Correct Prediction\n",
      "0    54\n",
      "1    46\n",
      "Name: count, dtype: int64\n"
     ]
    }
   ],
   "source": [
    "bcbtrimsingle = bcbcomparer.extractbestfit(trimsent, singleterm, 'CatOneIMDRF')\n",
    "bcbtrimmulti = bcbcomparer.extractbestfit(trimsent, multiterm, 'CatOneIMDRF')\n",
    "bcbtrimdef = bcbcomparer.extractbestfit(trimsent, defimdrf, 'CatOneIMDRF')"
   ]
  },
  {
   "cell_type": "code",
   "execution_count": 170,
   "metadata": {},
   "outputs": [
    {
     "name": "stdout",
     "output_type": "stream",
     "text": [
      "Correct Prediction\n",
      "0    60\n",
      "1    40\n",
      "Name: count, dtype: int64\n",
      "Correct Prediction\n",
      "0    83\n",
      "1    17\n",
      "Name: count, dtype: int64\n"
     ]
    }
   ],
   "source": [
    "bcbsinglef2clean = bcbcomparer.extractbestfit(cleanf2, singleterm, 'CatOneIMDRF')\n",
    "bcbsingletrimclean = bcbcomparer.extractbestfit(cleantrim, singleterm, 'CatOneIMDRF')"
   ]
  },
  {
   "cell_type": "code",
   "execution_count": 171,
   "metadata": {},
   "outputs": [
    {
     "name": "stdout",
     "output_type": "stream",
     "text": [
      "Correct Prediction\n",
      "0    67\n",
      "1    33\n",
      "Name: count, dtype: int64\n",
      "Correct Prediction\n",
      "0    88\n",
      "1    12\n",
      "Name: count, dtype: int64\n"
     ]
    }
   ],
   "source": [
    "bcbsinglef2nopun = bcbcomparer.extractbestfit(nopunf2, singleterm, 'CatOneIMDRF')\n",
    "bcbsingletrimnopun = bcbcomparer.extractbestfit(nopuntrim, singleterm, 'CatOneIMDRF')"
   ]
  },
  {
   "cell_type": "code",
   "execution_count": 172,
   "metadata": {},
   "outputs": [
    {
     "name": "stdout",
     "output_type": "stream",
     "text": [
      "Correct Prediction\n",
      "0    69\n",
      "1    31\n",
      "Name: count, dtype: int64\n",
      "Correct Prediction\n",
      "0    88\n",
      "1    12\n",
      "Name: count, dtype: int64\n"
     ]
    }
   ],
   "source": [
    "bcbmultif2clean = bcbcomparer.extractbestfit(cleanf2, multiterm, 'CatOneIMDRF')\n",
    "bcbmultitrimclean = bcbcomparer.extractbestfit(cleantrim, multiterm, 'CatOneIMDRF')"
   ]
  },
  {
   "cell_type": "code",
   "execution_count": 173,
   "metadata": {},
   "outputs": [
    {
     "name": "stdout",
     "output_type": "stream",
     "text": [
      "Correct Prediction\n",
      "0    78\n",
      "1    22\n",
      "Name: count, dtype: int64\n",
      "Correct Prediction\n",
      "0    93\n",
      "1     7\n",
      "Name: count, dtype: int64\n"
     ]
    }
   ],
   "source": [
    "bcbmultif2nopun = bcbcomparer.extractbestfit(nopunf2, multiterm, 'CatOneIMDRF')\n",
    "bcbmultitrimnopun = bcbcomparer.extractbestfit(nopuntrim, multiterm, 'CatOneIMDRF')"
   ]
  },
  {
   "cell_type": "code",
   "execution_count": 174,
   "metadata": {},
   "outputs": [
    {
     "name": "stdout",
     "output_type": "stream",
     "text": [
      "Correct Prediction\n",
      "1    54\n",
      "0    46\n",
      "Name: count, dtype: int64\n",
      "Correct Prediction\n",
      "0    52\n",
      "1    48\n",
      "Name: count, dtype: int64\n"
     ]
    }
   ],
   "source": [
    "bcbdeff2clean = bcbcomparer.extractbestfit(cleanf2, defimdrf, 'CatOneIMDRF')\n",
    "bcbdeftrimclean = bcbcomparer.extractbestfit(cleantrim, defimdrf, 'CatOneIMDRF')"
   ]
  },
  {
   "cell_type": "code",
   "execution_count": 175,
   "metadata": {},
   "outputs": [
    {
     "name": "stdout",
     "output_type": "stream",
     "text": [
      "Correct Prediction\n",
      "0    54\n",
      "1    46\n",
      "Name: count, dtype: int64\n",
      "Correct Prediction\n",
      "0    65\n",
      "1    35\n",
      "Name: count, dtype: int64\n"
     ]
    }
   ],
   "source": [
    "bcbdeff2nopun = bcbcomparer.extractbestfit(nopunf2, defimdrf, 'CatOneIMDRF')\n",
    "bcbdeftrimnopun = bcbcomparer.extractbestfit(nopuntrim, defimdrf, 'CatOneIMDRF')"
   ]
  },
  {
   "cell_type": "markdown",
   "metadata": {},
   "source": [
    "## EmbedRank approach"
   ]
  },
  {
   "cell_type": "markdown",
   "metadata": {},
   "source": [
    "Which is the best number of keywords to predict? Let's take a comparison further on"
   ]
  },
  {
   "cell_type": "code",
   "execution_count": 15,
   "metadata": {},
   "outputs": [],
   "source": [
    "from sentence_transformers import SentenceTransformer\n",
    "from util.embedrank_sbert import EmbedRank\n",
    "from util.prepemb import SbertComparer\n",
    "\n",
    "embed_rank = EmbedRank()"
   ]
  },
  {
   "cell_type": "code",
   "execution_count": 19,
   "metadata": {},
   "outputs": [],
   "source": [
    "# test for the changes\n",
    "model = SentenceTransformer(\"all-MiniLM-L6-v2\")\n",
    "comparer = SbertComparer(model=model, df=sub_df, df_imdrf=df_imdrf)\n",
    "\n",
    "weight3 = sub_df['FOI_TEXT'].apply(lambda x: embed_rank.getKWembedding(document=x, model=model, weight_flag=True))\n",
    "weight3 = weight3.tolist()"
   ]
  },
  {
   "cell_type": "code",
   "execution_count": null,
   "metadata": {},
   "outputs": [],
   "source": []
  },
  {
   "cell_type": "code",
   "execution_count": 17,
   "metadata": {},
   "outputs": [],
   "source": [
    "for i in range(1, 10):\n",
    "    sub_df[f'ListKW{i}'] = sub_df['Cleaned'].apply(lambda x: embed_rank._mmr(x, N=i)[0])\n",
    "    sub_df[f'simKW{i}'] = sub_df['Cleaned'].apply(lambda x: embed_rank._mmr(x, N=i)[1])"
   ]
  },
  {
   "cell_type": "code",
   "execution_count": 21,
   "metadata": {},
   "outputs": [],
   "source": [
    "# Compute weighted average of the embeddings using the similarity score as weights\n",
    "import numpy as np\n",
    "\n",
    "def weighted_avg(keylist, simlist):\n",
    "    emb = []\n",
    "    for key in keylist:\n",
    "        emb.append(model.encode(key))\n",
    "\n",
    "    emb = np.array(emb)\n",
    "    simlist = np.array(simlist)  # Ensure simlist is a numpy array\n",
    "    # computing the weighted average\n",
    "    avg = np.average(emb, axis=0, weights=simlist)\n",
    "    return avg\n",
    "\n",
    "def normal_avg(keylist):\n",
    "    emb = []\n",
    "    for key in keylist:\n",
    "        emb.append(model.encode(key))\n",
    "\n",
    "    emb = np.array(emb)\n",
    "    avg = np.mean(emb, axis=0)\n",
    "    return avg"
   ]
  },
  {
   "cell_type": "code",
   "execution_count": 22,
   "metadata": {},
   "outputs": [],
   "source": [
    "for i in range(1, 10):\n",
    "    sub_df[f'EmbKW{i}'] = sub_df.apply(lambda x: weighted_avg(x[f'ListKW{i}'], x[f'simKW{i}']), axis=1)"
   ]
  },
  {
   "cell_type": "code",
   "execution_count": 29,
   "metadata": {},
   "outputs": [],
   "source": [
    "singleterm = model.encode(df_imdrf['single_term'].to_list())\n",
    "multiterm = model.encode(df_imdrf['multiple_terms'].to_list())\n",
    "defimdrf = model.encode(df_imdrf['Definition'].to_list())"
   ]
  },
  {
   "cell_type": "code",
   "execution_count": 30,
   "metadata": {},
   "outputs": [
    {
     "name": "stdout",
     "output_type": "stream",
     "text": [
      "1\n",
      "Correct Prediction\n",
      "0    52\n",
      "1    48\n",
      "Name: count, dtype: int64\n",
      "Correct Prediction\n",
      "0    62\n",
      "1    38\n",
      "Name: count, dtype: int64\n",
      "Correct Prediction\n",
      "0    58\n",
      "1    42\n",
      "Name: count, dtype: int64\n",
      "\n",
      "\n",
      "2\n",
      "Correct Prediction\n",
      "0    55\n",
      "1    45\n",
      "Name: count, dtype: int64\n",
      "Correct Prediction\n",
      "0    60\n",
      "1    40\n",
      "Name: count, dtype: int64\n",
      "Correct Prediction\n",
      "1    52\n",
      "0    48\n",
      "Name: count, dtype: int64\n",
      "\n",
      "\n",
      "3\n",
      "Correct Prediction\n",
      "0    53\n",
      "1    47\n",
      "Name: count, dtype: int64\n",
      "Correct Prediction\n",
      "0    63\n",
      "1    37\n",
      "Name: count, dtype: int64\n",
      "Correct Prediction\n",
      "0    55\n",
      "1    45\n",
      "Name: count, dtype: int64\n",
      "\n",
      "\n",
      "4\n",
      "Correct Prediction\n",
      "0    56\n",
      "1    44\n",
      "Name: count, dtype: int64\n",
      "Correct Prediction\n",
      "0    65\n",
      "1    35\n",
      "Name: count, dtype: int64\n",
      "Correct Prediction\n",
      "0    58\n",
      "1    42\n",
      "Name: count, dtype: int64\n",
      "\n",
      "\n",
      "5\n",
      "Correct Prediction\n",
      "0    59\n",
      "1    41\n",
      "Name: count, dtype: int64\n",
      "Correct Prediction\n",
      "0    65\n",
      "1    35\n",
      "Name: count, dtype: int64\n",
      "Correct Prediction\n",
      "0    54\n",
      "1    46\n",
      "Name: count, dtype: int64\n",
      "\n",
      "\n",
      "6\n",
      "Correct Prediction\n",
      "0    60\n",
      "1    40\n",
      "Name: count, dtype: int64\n",
      "Correct Prediction\n",
      "0    65\n",
      "1    35\n",
      "Name: count, dtype: int64\n",
      "Correct Prediction\n",
      "0    58\n",
      "1    42\n",
      "Name: count, dtype: int64\n",
      "\n",
      "\n",
      "7\n",
      "Correct Prediction\n",
      "0    58\n",
      "1    42\n",
      "Name: count, dtype: int64\n",
      "Correct Prediction\n",
      "0    66\n",
      "1    34\n",
      "Name: count, dtype: int64\n",
      "Correct Prediction\n",
      "0    57\n",
      "1    43\n",
      "Name: count, dtype: int64\n",
      "\n",
      "\n",
      "8\n",
      "Correct Prediction\n",
      "0    58\n",
      "1    42\n",
      "Name: count, dtype: int64\n",
      "Correct Prediction\n",
      "0    67\n",
      "1    33\n",
      "Name: count, dtype: int64\n",
      "Correct Prediction\n",
      "0    57\n",
      "1    43\n",
      "Name: count, dtype: int64\n",
      "\n",
      "\n",
      "9\n",
      "Correct Prediction\n",
      "0    60\n",
      "1    40\n",
      "Name: count, dtype: int64\n",
      "Correct Prediction\n",
      "0    68\n",
      "1    32\n",
      "Name: count, dtype: int64\n",
      "Correct Prediction\n",
      "0    57\n",
      "1    43\n",
      "Name: count, dtype: int64\n",
      "\n",
      "\n"
     ]
    }
   ],
   "source": [
    "test0 = pd.DataFrame()\n",
    "\n",
    "for i in range(1, 10):\n",
    "    print(i)\n",
    "    test0 = pd.concat([test0, comparer.extractbestmatch(sub_df[f'EmbKW{i}'], singleterm, 'CatOneIMDRF').add_prefix(f'KW{i}single_')], axis=1)\n",
    "    test0 = pd.concat([test0, comparer.extractbestmatch(sub_df[f'EmbKW{i}'], multiterm, 'CatOneIMDRF').add_prefix(f'KW{i}multi_')], axis=1)\n",
    "    test0 = pd.concat([test0, comparer.extractbestmatch(sub_df[f'EmbKW{i}'], defimdrf, 'CatOneIMDRF').add_prefix(f'KW{i}def_')], axis=1)\n",
    "    print(\"\\n\")"
   ]
  },
  {
   "cell_type": "code",
   "execution_count": 31,
   "metadata": {},
   "outputs": [],
   "source": [
    "for i in range(1, 10):\n",
    "    sub_df[f'EmbKWavg{i}'] = sub_df[f'ListKW{i}'].apply(normal_avg)"
   ]
  },
  {
   "cell_type": "code",
   "execution_count": 32,
   "metadata": {},
   "outputs": [
    {
     "name": "stdout",
     "output_type": "stream",
     "text": [
      "1\n",
      "Correct Prediction\n",
      "0    52\n",
      "1    48\n",
      "Name: count, dtype: int64\n",
      "Correct Prediction\n",
      "0    62\n",
      "1    38\n",
      "Name: count, dtype: int64\n",
      "Correct Prediction\n",
      "0    58\n",
      "1    42\n",
      "Name: count, dtype: int64\n",
      "2\n",
      "Correct Prediction\n",
      "0    60\n",
      "1    40\n",
      "Name: count, dtype: int64\n",
      "Correct Prediction\n",
      "0    68\n",
      "1    32\n",
      "Name: count, dtype: int64\n",
      "Correct Prediction\n",
      "0    60\n",
      "1    40\n",
      "Name: count, dtype: int64\n",
      "3\n",
      "Correct Prediction\n",
      "0    57\n",
      "1    43\n",
      "Name: count, dtype: int64\n",
      "Correct Prediction\n",
      "0    66\n",
      "1    34\n",
      "Name: count, dtype: int64\n",
      "Correct Prediction\n",
      "0    62\n",
      "1    38\n",
      "Name: count, dtype: int64\n",
      "4\n",
      "Correct Prediction\n",
      "0    66\n",
      "1    34\n",
      "Name: count, dtype: int64\n",
      "Correct Prediction\n",
      "0    76\n",
      "1    24\n",
      "Name: count, dtype: int64\n",
      "Correct Prediction\n",
      "0    65\n",
      "1    35\n",
      "Name: count, dtype: int64\n",
      "5\n",
      "Correct Prediction\n",
      "0    69\n",
      "1    31\n",
      "Name: count, dtype: int64\n",
      "Correct Prediction\n",
      "0    82\n",
      "1    18\n",
      "Name: count, dtype: int64\n",
      "Correct Prediction\n",
      "0    69\n",
      "1    31\n",
      "Name: count, dtype: int64\n",
      "6\n",
      "Correct Prediction\n",
      "0    74\n",
      "1    26\n",
      "Name: count, dtype: int64\n",
      "Correct Prediction\n",
      "0    85\n",
      "1    15\n",
      "Name: count, dtype: int64\n",
      "Correct Prediction\n",
      "0    70\n",
      "1    30\n",
      "Name: count, dtype: int64\n",
      "7\n",
      "Correct Prediction\n",
      "0    80\n",
      "1    20\n",
      "Name: count, dtype: int64\n",
      "Correct Prediction\n",
      "0    87\n",
      "1    13\n",
      "Name: count, dtype: int64\n",
      "Correct Prediction\n",
      "0    71\n",
      "1    29\n",
      "Name: count, dtype: int64\n",
      "8\n",
      "Correct Prediction\n",
      "0    79\n",
      "1    21\n",
      "Name: count, dtype: int64\n",
      "Correct Prediction\n",
      "0    91\n",
      "1     9\n",
      "Name: count, dtype: int64\n",
      "Correct Prediction\n",
      "0    74\n",
      "1    26\n",
      "Name: count, dtype: int64\n",
      "9\n",
      "Correct Prediction\n",
      "0    76\n",
      "1    24\n",
      "Name: count, dtype: int64\n",
      "Correct Prediction\n",
      "0    90\n",
      "1    10\n",
      "Name: count, dtype: int64\n",
      "Correct Prediction\n",
      "0    73\n",
      "1    27\n",
      "Name: count, dtype: int64\n"
     ]
    }
   ],
   "source": [
    "for i in range(1,10):\n",
    "    print(i)\n",
    "    test0 = pd.concat([test0, comparer.extractbestmatch(sub_df[f'EmbKWavg{i}'], singleterm, 'CatOneIMDRF').add_prefix(f'KWavg{i}single_')], axis=1)\n",
    "    test0 = pd.concat([test0, comparer.extractbestmatch(sub_df[f'EmbKWavg{i}'], multiterm, 'CatOneIMDRF').add_prefix(f'KWavg{i}multi_')], axis=1)\n",
    "    test0 = pd.concat([test0, comparer.extractbestmatch(sub_df[f'EmbKWavg{i}'], defimdrf, 'CatOneIMDRF').add_prefix(f'KWavg{i}def_')], axis=1)"
   ]
  },
  {
   "cell_type": "markdown",
   "metadata": {},
   "source": [
    "### Sentence Transformers"
   ]
  },
  {
   "cell_type": "code",
   "execution_count": 14,
   "metadata": {},
   "outputs": [],
   "source": [
    "from sentence_transformers import SentenceTransformer\n",
    "\n",
    "# model = SentenceTransformer(\"all-MiniLM-L6-v2\", similarity_fn_name=SimilarityFunction.COSINE)\n",
    "model = SentenceTransformer('pritamdeka/S-PubMedBert-MS-MARCO')\n",
    "# model = SentenceTransformer(\"neuml/pubmedbert-base-embeddings\")\n",
    "# model = SentenceTransformer('TimKond/S-PubMedBert-MedQuAD')"
   ]
  },
  {
   "cell_type": "code",
   "execution_count": 15,
   "metadata": {},
   "outputs": [],
   "source": [
    "from util.embedrank_sbert import SBERT_EmbedRank\n",
    "\n",
    "embed_rank = SBERT_EmbedRank(model=model)"
   ]
  },
  {
   "cell_type": "code",
   "execution_count": 18,
   "metadata": {},
   "outputs": [],
   "source": [
    "from util.prepemb import SbertComparer\n",
    "comparer = SbertComparer(model=model, df=sub_df, df_imdrf=df_imdrf)"
   ]
  },
  {
   "cell_type": "markdown",
   "metadata": {},
   "source": [
    "2 keywords seems to be the best option "
   ]
  },
  {
   "cell_type": "code",
   "execution_count": 19,
   "metadata": {},
   "outputs": [],
   "source": [
    "sub_df[f'ListKW'] = sub_df['Cleaned'].apply(lambda x: embed_rank._mmr(x, N=2)[0])\n",
    "sub_df[f'simKW'] = sub_df['Cleaned'].apply(lambda x: embed_rank._mmr(x, N=2)[1])\n",
    "\n",
    "sub_df['EmbKW'] = sub_df.apply(lambda x: weighted_avg(x['ListKW'], x['simKW']), axis=1)\n",
    "sub_df['EmbKWavg'] = sub_df['ListKW'].apply(normal_avg)"
   ]
  },
  {
   "cell_type": "code",
   "execution_count": 20,
   "metadata": {},
   "outputs": [],
   "source": [
    "df_imdrf['DefKW'] = df_imdrf['Definition'].apply(lambda x: embed_rank._mmr(x, N=2)[0])\n",
    "df_imdrf['simDefKW'] = df_imdrf['Definition'].apply(lambda x: embed_rank._mmr(x, N=2)[1])"
   ]
  },
  {
   "cell_type": "code",
   "execution_count": 21,
   "metadata": {},
   "outputs": [],
   "source": [
    "defkw = df_imdrf.apply(lambda x: weighted_avg(x['DefKW'], x['simDefKW']), axis=1)\n",
    "defkwavg = df_imdrf['DefKW'].apply(normal_avg)"
   ]
  },
  {
   "cell_type": "code",
   "execution_count": 22,
   "metadata": {},
   "outputs": [],
   "source": [
    "# compute embeddings\n",
    "keytext = sub_df['EmbKW'].to_list()\n",
    "keytextavg = sub_df['EmbKWavg'].to_list()"
   ]
  },
  {
   "cell_type": "code",
   "execution_count": 24,
   "metadata": {},
   "outputs": [],
   "source": [
    "singleterm = model.encode(df_imdrf['single_term'].to_list())\n",
    "multiterm = model.encode(df_imdrf['multiple_terms'].to_list())\n",
    "defimdrf = model.encode(df_imdrf['Definition'].to_list())"
   ]
  },
  {
   "cell_type": "code",
   "execution_count": 25,
   "metadata": {},
   "outputs": [
    {
     "name": "stdout",
     "output_type": "stream",
     "text": [
      "Correct Prediction\n",
      "0    57\n",
      "1    43\n",
      "Name: count, dtype: int64\n",
      "Correct Prediction\n",
      "0    58\n",
      "1    42\n",
      "Name: count, dtype: int64\n"
     ]
    }
   ],
   "source": [
    "sbert_single_kw = comparer.extractbestmatch(keytext, singleterm, 'CatOneIMDRF')\n",
    "sbert_single_kwavg = comparer.extractbestmatch(keytextavg, singleterm, 'CatOneIMDRF')"
   ]
  },
  {
   "cell_type": "code",
   "execution_count": 26,
   "metadata": {},
   "outputs": [
    {
     "name": "stdout",
     "output_type": "stream",
     "text": [
      "Correct Prediction\n",
      "0    66\n",
      "1    34\n",
      "Name: count, dtype: int64\n",
      "Correct Prediction\n",
      "0    65\n",
      "1    35\n",
      "Name: count, dtype: int64\n"
     ]
    }
   ],
   "source": [
    "sbert_multi_ftext_first = comparer.extractbestmatch(keytext, multiterm, 'CatOneIMDRF')\n",
    "sbert_multi_ftext_avg = comparer.extractbestmatch(keytextavg, multiterm, 'CatOneIMDRF')"
   ]
  },
  {
   "cell_type": "code",
   "execution_count": 27,
   "metadata": {},
   "outputs": [
    {
     "name": "stdout",
     "output_type": "stream",
     "text": [
      "Correct Prediction\n",
      "1    55\n",
      "0    45\n",
      "Name: count, dtype: int64\n",
      "Correct Prediction\n",
      "1    55\n",
      "0    45\n",
      "Name: count, dtype: int64\n"
     ]
    }
   ],
   "source": [
    "sbert_def_kw = comparer.extractbestmatch(keytext, defimdrf, 'CatOneIMDRF')\n",
    "sbert_def_kwavg = comparer.extractbestmatch(keytextavg, defimdrf, 'CatOneIMDRF')"
   ]
  },
  {
   "cell_type": "code",
   "execution_count": 28,
   "metadata": {},
   "outputs": [],
   "source": [
    "defkw = df_imdrf.apply(lambda x: weighted_avg(x['DefKW'], x['simDefKW']), axis=1)\n",
    "defkwavg = df_imdrf['DefKW'].apply(normal_avg)"
   ]
  },
  {
   "cell_type": "code",
   "execution_count": 29,
   "metadata": {},
   "outputs": [
    {
     "name": "stderr",
     "output_type": "stream",
     "text": [
      "c:\\Users\\pietr\\Documents\\GitHub\\Thesis-CaianiRenContardi\\tesinlp\\Lib\\site-packages\\sentence_transformers\\util.py:44: UserWarning: Creating a tensor from a list of numpy.ndarrays is extremely slow. Please consider converting the list to a single numpy.ndarray with numpy.array() before converting to a tensor. (Triggered internally at C:\\actions-runner\\_work\\pytorch\\pytorch\\builder\\windows\\pytorch\\torch\\csrc\\utils\\tensor_new.cpp:281.)\n",
      "  a = torch.tensor(a)\n"
     ]
    },
    {
     "name": "stdout",
     "output_type": "stream",
     "text": [
      "Correct Prediction\n",
      "0    54\n",
      "1    46\n",
      "Name: count, dtype: int64\n",
      "Correct Prediction\n",
      "0    54\n",
      "1    46\n",
      "Name: count, dtype: int64\n",
      "Correct Prediction\n",
      "0    54\n",
      "1    46\n",
      "Name: count, dtype: int64\n",
      "Correct Prediction\n",
      "0    54\n",
      "1    46\n",
      "Name: count, dtype: int64\n"
     ]
    }
   ],
   "source": [
    "prova = comparer.extractbestmatch(keytext, defkw, 'CatOneIMDRF')\n",
    "prova1 = comparer.extractbestmatch(keytextavg, defkwavg, 'CatOneIMDRF')\n",
    "prova2 = comparer.extractbestmatch(keytext, defkwavg, 'CatOneIMDRF')\n",
    "prova3 = comparer.extractbestmatch(keytextavg, defkw, 'CatOneIMDRF')"
   ]
  },
  {
   "cell_type": "markdown",
   "metadata": {},
   "source": [
    "### BioClinicalBERT"
   ]
  },
  {
   "cell_type": "code",
   "execution_count": 154,
   "metadata": {},
   "outputs": [
    {
     "name": "stdout",
     "output_type": "stream",
     "text": [
      "Correct Prediction\n",
      "0    80\n",
      "1    20\n",
      "Name: count, dtype: int64\n"
     ]
    }
   ],
   "source": [
    "bcb_multikey = extractbestfit(keyemb, multiterm, 'CatOneIMDRF')"
   ]
  },
  {
   "cell_type": "code",
   "execution_count": 155,
   "metadata": {},
   "outputs": [
    {
     "name": "stdout",
     "output_type": "stream",
     "text": [
      "Correct Prediction\n",
      "0    100\n",
      "Name: count, dtype: int64\n"
     ]
    }
   ],
   "source": [
    "bcb_defkey = extractbestfit(keyemb, defimdrf, 'CatOneIMDRF')"
   ]
  },
  {
   "cell_type": "code",
   "execution_count": 159,
   "metadata": {},
   "outputs": [
    {
     "data": {
      "text/plain": [
       "array([[[ 0.23155749,  0.42346317, -0.28617242, ...,  0.07774629,\n",
       "          0.3985537 , -0.09858841]],\n",
       "\n",
       "       [[ 0.24650027,  0.5146463 , -0.15345092, ..., -0.01318007,\n",
       "          0.53123015, -0.01704025]],\n",
       "\n",
       "       [[ 0.35450855,  0.48198155, -0.15754001, ..., -0.23693207,\n",
       "          0.3843452 , -0.16703849]],\n",
       "\n",
       "       ...,\n",
       "\n",
       "       [[ 0.4327824 ,  0.4073781 , -0.19794036, ..., -0.15663508,\n",
       "          0.1246662 , -0.08677831]],\n",
       "\n",
       "       [[ 0.45247906,  0.3986438 , -0.35425413, ..., -0.13332123,\n",
       "          0.15436204, -0.19034617]],\n",
       "\n",
       "       [[ 0.44606107,  0.2969163 , -0.16692372, ...,  0.05608018,\n",
       "          0.0501839 , -0.32752177]]], dtype=float32)"
      ]
     },
     "execution_count": 159,
     "metadata": {},
     "output_type": "execute_result"
    }
   ],
   "source": [
    "keydef"
   ]
  },
  {
   "cell_type": "markdown",
   "metadata": {},
   "source": [
    "normal stuff"
   ]
  },
  {
   "cell_type": "code",
   "execution_count": 136,
   "metadata": {},
   "outputs": [],
   "source": [
    "normal = bcbcomparer.compute_bioclinical_embeddings(sub_df['FOI_TEXT'], 'cls')\n",
    "pun = bcbcomparer.compute_bioclinical_embeddings(sub_df['Cleaned'], 'cls')\n",
    "nopun = bcbcomparer.compute_bioclinical_embeddings(sub_df['TEXT_CLEAN'], 'cls')"
   ]
  },
  {
   "cell_type": "code",
   "execution_count": 137,
   "metadata": {},
   "outputs": [
    {
     "name": "stdout",
     "output_type": "stream",
     "text": [
      "Correct Prediction\n",
      "0    84\n",
      "1    16\n",
      "Name: count, dtype: int64\n",
      "Correct Prediction\n",
      "0    84\n",
      "1    16\n",
      "Name: count, dtype: int64\n",
      "Correct Prediction\n",
      "0    95\n",
      "1     5\n",
      "Name: count, dtype: int64\n"
     ]
    }
   ],
   "source": [
    "normal_single = extractbestfit(normal, singleterm, 'CatOneIMDRF')\n",
    "normal_multi = extractbestfit(normal, multiterm, 'CatOneIMDRF')\n",
    "normal_def = extractbestfit(normal, defimdrf, 'CatOneIMDRF')"
   ]
  },
  {
   "cell_type": "code",
   "execution_count": 138,
   "metadata": {},
   "outputs": [
    {
     "name": "stdout",
     "output_type": "stream",
     "text": [
      "Correct Prediction\n",
      "0    80\n",
      "1    20\n",
      "Name: count, dtype: int64\n",
      "Correct Prediction\n",
      "0    86\n",
      "1    14\n",
      "Name: count, dtype: int64\n",
      "Correct Prediction\n",
      "0    89\n",
      "1    11\n",
      "Name: count, dtype: int64\n"
     ]
    }
   ],
   "source": [
    "punsingle = extractbestfit(pun, singleterm, 'CatOneIMDRF')\n",
    "punmulti = extractbestfit(pun, multiterm, 'CatOneIMDRF')\n",
    "pundef = extractbestfit(pun, defimdrf, 'CatOneIMDRF')"
   ]
  },
  {
   "cell_type": "code",
   "execution_count": 139,
   "metadata": {},
   "outputs": [
    {
     "name": "stdout",
     "output_type": "stream",
     "text": [
      "Correct Prediction\n",
      "0    80\n",
      "1    20\n",
      "Name: count, dtype: int64\n",
      "Correct Prediction\n",
      "0    81\n",
      "1    19\n",
      "Name: count, dtype: int64\n",
      "Correct Prediction\n",
      "0    89\n",
      "1    11\n",
      "Name: count, dtype: int64\n"
     ]
    }
   ],
   "source": [
    "nopunsingle = extractbestfit(nopun, singleterm, 'CatOneIMDRF')\n",
    "nopunmulti = extractbestfit(nopun, multiterm, 'CatOneIMDRF')\n",
    "nopundef = extractbestfit(nopun, defimdrf, 'CatOneIMDRF')"
   ]
  },
  {
   "cell_type": "code",
   "execution_count": 140,
   "metadata": {},
   "outputs": [],
   "source": [
    "bcbf2 = sub_df['FOI_TEXT'].apply(lambda x: preprocessor.first_two_sentences(x))\n",
    "bcbf2 = bcbcomparer.compute_bioclinical_embeddings(bcbf2, 'cls')"
   ]
  },
  {
   "cell_type": "code",
   "execution_count": 141,
   "metadata": {},
   "outputs": [
    {
     "name": "stdout",
     "output_type": "stream",
     "text": [
      "Correct Prediction\n",
      "0    85\n",
      "1    15\n",
      "Name: count, dtype: int64\n",
      "Correct Prediction\n",
      "0    88\n",
      "1    12\n",
      "Name: count, dtype: int64\n",
      "Correct Prediction\n",
      "0    83\n",
      "1    17\n",
      "Name: count, dtype: int64\n"
     ]
    }
   ],
   "source": [
    "bcbsingle = extractbestfit(bcbf2, singleterm, 'CatOneIMDRF')\n",
    "bcbmulti = extractbestfit(bcbf2, multiterm, 'CatOneIMDRF')\n",
    "bcbdef = extractbestfit(bcbf2, defimdrf, 'CatOneIMDRF')"
   ]
  },
  {
   "cell_type": "code",
   "execution_count": 142,
   "metadata": {},
   "outputs": [],
   "source": [
    "trims = sub_df['FOI_TEXT'].apply(lambda x: preprocessor.trimtextlen(x))\n",
    "trims = bcbcomparer.compute_bioclinical_embeddings(trims, 'cls')"
   ]
  },
  {
   "cell_type": "code",
   "execution_count": 143,
   "metadata": {},
   "outputs": [
    {
     "name": "stdout",
     "output_type": "stream",
     "text": [
      "Correct Prediction\n",
      "0    80\n",
      "1    20\n",
      "Name: count, dtype: int64\n",
      "Correct Prediction\n",
      "0    86\n",
      "1    14\n",
      "Name: count, dtype: int64\n",
      "Correct Prediction\n",
      "0    89\n",
      "1    11\n",
      "Name: count, dtype: int64\n"
     ]
    }
   ],
   "source": [
    "trimsingle = extractbestfit(trims, singleterm, 'CatOneIMDRF')\n",
    "trimmulti = extractbestfit(trims, multiterm, 'CatOneIMDRF')\n",
    "trimdef = extractbestfit(trims, defimdrf, 'CatOneIMDRF')"
   ]
  },
  {
   "cell_type": "markdown",
   "metadata": {},
   "source": [
    "## Final Approach"
   ]
  },
  {
   "cell_type": "code",
   "execution_count": 18,
   "metadata": {},
   "outputs": [],
   "source": [
    "from util.embedrank_sbert import EmbedRank\n",
    "\n",
    "embed_rank = EmbedRank()"
   ]
  },
  {
   "cell_type": "markdown",
   "metadata": {},
   "source": [
    "### Sentence Transformers"
   ]
  },
  {
   "cell_type": "code",
   "execution_count": 52,
   "metadata": {},
   "outputs": [
    {
     "name": "stderr",
     "output_type": "stream",
     "text": [
      "Error during conversion: ChunkedEncodingError(ProtocolError('Response ended prematurely'))\n"
     ]
    }
   ],
   "source": [
    "from sentence_transformers import SentenceTransformer\n",
    "\n",
    "#model = SentenceTransformer(\"all-MiniLM-L6-v2\")\n",
    "#model = SentenceTransformer('pritamdeka/S-PubMedBert-MS-MARCO')\n",
    "#model = SentenceTransformer(\"neuml/pubmedbert-base-embeddings\")\n",
    "#model = SentenceTransformer('TimKond/S-PubMedBert-MedQuAD')\n",
    "model = SentenceTransformer('pritamdeka/BioBERT-mnli-snli-scinli-scitail-mednli-stsb')"
   ]
  },
  {
   "cell_type": "code",
   "execution_count": 53,
   "metadata": {},
   "outputs": [],
   "source": [
    "from util.prepemb import SbertComparer\n",
    "\n",
    "comparer = SbertComparer(model=model, df=sub_df, df_imdrf=df_imdrf1st)"
   ]
  },
  {
   "cell_type": "code",
   "execution_count": 54,
   "metadata": {},
   "outputs": [],
   "source": [
    "singleterm = model.encode(df_imdrf1st['single_term'].to_list())\n",
    "multiterm = model.encode(df_imdrf1st['multiple_terms'].to_list())\n",
    "defimdrf = model.encode(df_imdrf1st['Definition'].to_list())"
   ]
  },
  {
   "cell_type": "code",
   "execution_count": 55,
   "metadata": {},
   "outputs": [],
   "source": [
    "defkw_wt = df_imdrf1st['Definition'].apply(\n",
    "    lambda x: embed_rank.getKWembedding(document=x, model=model, weight_flag=True)\n",
    ").to_list()\n",
    "\n",
    "defkw_wt_array = np.array(defkw_wt)\n",
    "defkw_wt_array = np.squeeze(defkw_wt_array, axis=1)\n",
    "\n",
    "defkw_avg = df_imdrf1st['Definition'].apply(\n",
    "    lambda x: embed_rank.getKWembedding(document=x, model=model, weight_flag=False)\n",
    ").to_list()\n",
    "\n",
    "defkw_avg_array = np.array(defkw_avg)\n",
    "defkw_avg_array = np.squeeze(defkw_avg_array, axis=1)"
   ]
  },
  {
   "cell_type": "code",
   "execution_count": 56,
   "metadata": {},
   "outputs": [],
   "source": [
    "normaltext = model.encode(sub_df['FOI_TEXT'].to_list())\n",
    "cleanpun = model.encode(sub_df['Cleaned'].to_list())\n",
    "nopun = model.encode(sub_df['NoPunctuation'].to_list())\n",
    "\n",
    "cleanstop10 = model.encode(sub_df['NoStop10'].to_list())\n",
    "cleanstop20 = model.encode(sub_df['NoStop20'].to_list())\n",
    "cleanstop30 = model.encode(sub_df['NoStop30'].to_list())\n",
    "\n",
    "f2sent = model.encode(sub_df['f2sent'].to_list())\n",
    "trimsent = model.encode(sub_df['trimsent'].to_list())\n",
    "cleanf2 = model.encode(sub_df['cleanf2'].to_list())\n",
    "cleantrim = model.encode(sub_df['cleantrim'].to_list())\n",
    "nopunf2 = model.encode(sub_df['nopunf2'].to_list())\n",
    "nopuntrim = model.encode(sub_df['nopuntrim'].to_list())\n",
    "\n",
    "kw_wt = sub_df['FOI_TEXT'].apply(lambda x: embed_rank.getKWembedding(document=x, model=model, weight_flag=True)).to_list()\n",
    "kw_avg = sub_df['FOI_TEXT'].apply(lambda x: embed_rank.getKWembedding(document=x, model=model, weight_flag=False)).to_list()\n",
    "\n",
    "kw_wt_array = np.array(kw_wt)\n",
    "kw_avg_array = np.array(kw_avg)\n",
    "kw_wt_array = np.squeeze(kw_wt_array, axis=1)\n",
    "kw_avg_array = np.squeeze(kw_avg_array, axis=1)"
   ]
  },
  {
   "cell_type": "code",
   "execution_count": 60,
   "metadata": {},
   "outputs": [
    {
     "name": "stdout",
     "output_type": "stream",
     "text": [
      "Correct Prediction\n",
      "1    60\n",
      "0    40\n",
      "Name: count, dtype: int64\n",
      "Correct Prediction\n",
      "0    55\n",
      "1    45\n",
      "Name: count, dtype: int64\n",
      "Correct Prediction\n",
      "1    59\n",
      "0    41\n",
      "Name: count, dtype: int64\n",
      "Correct Prediction\n",
      "0    53\n",
      "1    47\n",
      "Name: count, dtype: int64\n",
      "Correct Prediction\n",
      "0    58\n",
      "1    42\n",
      "Name: count, dtype: int64\n"
     ]
    }
   ],
   "source": [
    "normalsingle = comparer.extractbestmatch(normaltext, singleterm, 'CatOneIMDRF')\n",
    "normalmulti = comparer.extractbestmatch(normaltext, multiterm, 'CatOneIMDRF')\n",
    "normaldef = comparer.extractbestmatch(normaltext, defimdrf, 'CatOneIMDRF')\n",
    "normaldefwt = comparer.extractbestmatch(normaltext, defkw_wt_array, 'CatOneIMDRF')\n",
    "normaldefavg = comparer.extractbestmatch(normaltext, defkw_avg_array, 'CatOneIMDRF')"
   ]
  },
  {
   "cell_type": "code",
   "execution_count": 32,
   "metadata": {},
   "outputs": [
    {
     "name": "stdout",
     "output_type": "stream",
     "text": [
      "Correct Prediction\n",
      "0    59\n",
      "1    41\n",
      "Name: count, dtype: int64\n",
      "Correct Prediction\n",
      "0    57\n",
      "1    43\n",
      "Name: count, dtype: int64\n",
      "Correct Prediction\n",
      "0    62\n",
      "1    38\n",
      "Name: count, dtype: int64\n",
      "Correct Prediction\n",
      "1    59\n",
      "0    41\n",
      "Name: count, dtype: int64\n",
      "Correct Prediction\n",
      "1    61\n",
      "0    39\n",
      "Name: count, dtype: int64\n"
     ]
    }
   ],
   "source": [
    "cleansingle = comparer.extractbestmatch(cleanpun, singleterm, 'CatOneIMDRF')\n",
    "cleanmulti = comparer.extractbestmatch(cleanpun, multiterm, 'CatOneIMDRF')\n",
    "cleandef = comparer.extractbestmatch(cleanpun, defimdrf, 'CatOneIMDRF')\n",
    "cleandefwt = comparer.extractbestmatch(cleanpun, defkw_wt_array, 'CatOneIMDRF')\n",
    "cleandefavg = comparer.extractbestmatch(cleanpun, defkw_avg_array, 'CatOneIMDRF')"
   ]
  },
  {
   "cell_type": "code",
   "execution_count": 27,
   "metadata": {},
   "outputs": [
    {
     "name": "stdout",
     "output_type": "stream",
     "text": [
      "Correct Prediction\n",
      "0    97\n",
      "1     3\n",
      "Name: count, dtype: int64\n",
      "Correct Prediction\n",
      "0    97\n",
      "1     3\n",
      "Name: count, dtype: int64\n",
      "Correct Prediction\n",
      "0    90\n",
      "1    10\n",
      "Name: count, dtype: int64\n",
      "Correct Prediction\n",
      "0    86\n",
      "1    14\n",
      "Name: count, dtype: int64\n",
      "Correct Prediction\n",
      "0    89\n",
      "1    11\n",
      "Name: count, dtype: int64\n"
     ]
    }
   ],
   "source": [
    "nopunsingle = comparer.extractbestmatch(nopun, singleterm, 'CatOneIMDRF')\n",
    "nopunmulti = comparer.extractbestmatch(nopun, multiterm, 'CatOneIMDRF')\n",
    "nopundef = comparer.extractbestmatch(nopun, defimdrf, 'CatOneIMDRF')\n",
    "nopundefwt = comparer.extractbestmatch(nopun, defkw_wt_array, 'CatOneIMDRF')\n",
    "nopundefavg = comparer.extractbestmatch(nopun, defkw_avg_array, 'CatOneIMDRF')"
   ]
  },
  {
   "cell_type": "code",
   "execution_count": 57,
   "metadata": {},
   "outputs": [
    {
     "name": "stdout",
     "output_type": "stream",
     "text": [
      "Correct Prediction\n",
      "0    88\n",
      "1    12\n",
      "Name: count, dtype: int64\n",
      "Correct Prediction\n",
      "0    88\n",
      "1    12\n",
      "Name: count, dtype: int64\n",
      "Correct Prediction\n",
      "0    74\n",
      "1    26\n",
      "Name: count, dtype: int64\n",
      "Correct Prediction\n",
      "0    89\n",
      "1    11\n",
      "Name: count, dtype: int64\n",
      "Correct Prediction\n",
      "0    93\n",
      "1     7\n",
      "Name: count, dtype: int64\n"
     ]
    }
   ],
   "source": [
    "nostop10single = comparer.extractbestmatch(cleanstop10, singleterm, 'CatOneIMDRF')\n",
    "nostop10multi = comparer.extractbestmatch(cleanstop10, multiterm, 'CatOneIMDRF')\n",
    "nostop10def = comparer.extractbestmatch(cleanstop10, defimdrf, 'CatOneIMDRF')\n",
    "nostop10defwt = comparer.extractbestmatch(cleanstop10, defkw_wt_array, 'CatOneIMDRF')\n",
    "nostop10defavg = comparer.extractbestmatch(cleanstop10, defkw_avg_array, 'CatOneIMDRF')"
   ]
  },
  {
   "cell_type": "code",
   "execution_count": 58,
   "metadata": {},
   "outputs": [
    {
     "name": "stdout",
     "output_type": "stream",
     "text": [
      "Correct Prediction\n",
      "0    89\n",
      "1    11\n",
      "Name: count, dtype: int64\n",
      "Correct Prediction\n",
      "0    89\n",
      "1    11\n",
      "Name: count, dtype: int64\n",
      "Correct Prediction\n",
      "0    82\n",
      "1    18\n",
      "Name: count, dtype: int64\n",
      "Correct Prediction\n",
      "0    90\n",
      "1    10\n",
      "Name: count, dtype: int64\n",
      "Correct Prediction\n",
      "0    93\n",
      "1     7\n",
      "Name: count, dtype: int64\n"
     ]
    }
   ],
   "source": [
    "nostop20single = comparer.extractbestmatch(cleanstop20, singleterm, 'CatOneIMDRF')\n",
    "nostop20multi = comparer.extractbestmatch(cleanstop20, multiterm, 'CatOneIMDRF')\n",
    "nostop20def = comparer.extractbestmatch(cleanstop20, defimdrf, 'CatOneIMDRF')\n",
    "nostop20defwt = comparer.extractbestmatch(cleanstop20, defkw_wt_array, 'CatOneIMDRF')\n",
    "nostop20defavg = comparer.extractbestmatch(cleanstop20, defkw_avg_array, 'CatOneIMDRF')"
   ]
  },
  {
   "cell_type": "code",
   "execution_count": 59,
   "metadata": {},
   "outputs": [
    {
     "name": "stdout",
     "output_type": "stream",
     "text": [
      "Correct Prediction\n",
      "0    88\n",
      "1    12\n",
      "Name: count, dtype: int64\n",
      "Correct Prediction\n",
      "0    88\n",
      "1    12\n",
      "Name: count, dtype: int64\n",
      "Correct Prediction\n",
      "0    77\n",
      "1    23\n",
      "Name: count, dtype: int64\n",
      "Correct Prediction\n",
      "0    94\n",
      "1     6\n",
      "Name: count, dtype: int64\n",
      "Correct Prediction\n",
      "0    94\n",
      "1     6\n",
      "Name: count, dtype: int64\n"
     ]
    }
   ],
   "source": [
    "nostop30single = comparer.extractbestmatch(cleanstop30, singleterm, 'CatOneIMDRF')\n",
    "nostop30multi = comparer.extractbestmatch(cleanstop30, multiterm, 'CatOneIMDRF')\n",
    "nostop30def = comparer.extractbestmatch(cleanstop30, defimdrf, 'CatOneIMDRF')\n",
    "nostop30defwt = comparer.extractbestmatch(cleanstop30, defkw_wt_array, 'CatOneIMDRF')\n",
    "nostop30defavg = comparer.extractbestmatch(cleanstop30, defkw_avg_array, 'CatOneIMDRF')"
   ]
  },
  {
   "cell_type": "code",
   "execution_count": 148,
   "metadata": {},
   "outputs": [
    {
     "name": "stdout",
     "output_type": "stream",
     "text": [
      "Correct Prediction\n",
      "0    96\n",
      "1     4\n",
      "Name: count, dtype: int64\n",
      "Correct Prediction\n",
      "0    96\n",
      "1     4\n",
      "Name: count, dtype: int64\n",
      "Correct Prediction\n",
      "0    66\n",
      "1    34\n",
      "Name: count, dtype: int64\n",
      "Correct Prediction\n",
      "0    95\n",
      "1     5\n",
      "Name: count, dtype: int64\n",
      "Correct Prediction\n",
      "0    91\n",
      "1     9\n",
      "Name: count, dtype: int64\n"
     ]
    }
   ],
   "source": [
    "f2single = comparer.extractbestmatch(f2sent, singleterm, 'CatOneIMDRF')\n",
    "f2multi = comparer.extractbestmatch(f2sent, multiterm, 'CatOneIMDRF')\n",
    "f2def = comparer.extractbestmatch(f2sent, defimdrf, 'CatOneIMDRF')\n",
    "f2defwt = comparer.extractbestmatch(f2sent, defkw_wt_array, 'CatOneIMDRF')\n",
    "f2defavg = comparer.extractbestmatch(f2sent, defkw_avg_array, 'CatOneIMDRF')"
   ]
  },
  {
   "cell_type": "code",
   "execution_count": 149,
   "metadata": {},
   "outputs": [
    {
     "name": "stdout",
     "output_type": "stream",
     "text": [
      "Correct Prediction\n",
      "0    92\n",
      "1     8\n",
      "Name: count, dtype: int64\n",
      "Correct Prediction\n",
      "0    92\n",
      "1     8\n",
      "Name: count, dtype: int64\n",
      "Correct Prediction\n",
      "0    72\n",
      "1    28\n",
      "Name: count, dtype: int64\n",
      "Correct Prediction\n",
      "0    94\n",
      "1     6\n",
      "Name: count, dtype: int64\n",
      "Correct Prediction\n",
      "0    96\n",
      "1     4\n",
      "Name: count, dtype: int64\n"
     ]
    }
   ],
   "source": [
    "trimsingle = comparer.extractbestmatch(trimsent, singleterm, 'CatOneIMDRF')\n",
    "trimmulti = comparer.extractbestmatch(trimsent, multiterm, 'CatOneIMDRF')\n",
    "trimdef = comparer.extractbestmatch(trimsent, defimdrf, 'CatOneIMDRF')\n",
    "trimdefwt = comparer.extractbestmatch(trimsent, defkw_wt_array, 'CatOneIMDRF')\n",
    "trimdefavg = comparer.extractbestmatch(trimsent, defkw_avg_array, 'CatOneIMDRF')"
   ]
  },
  {
   "cell_type": "code",
   "execution_count": 150,
   "metadata": {},
   "outputs": [
    {
     "name": "stdout",
     "output_type": "stream",
     "text": [
      "Correct Prediction\n",
      "0    95\n",
      "1     5\n",
      "Name: count, dtype: int64\n",
      "Correct Prediction\n",
      "0    95\n",
      "1     5\n",
      "Name: count, dtype: int64\n",
      "Correct Prediction\n",
      "0    61\n",
      "1    39\n",
      "Name: count, dtype: int64\n",
      "Correct Prediction\n",
      "0    93\n",
      "1     7\n",
      "Name: count, dtype: int64\n",
      "Correct Prediction\n",
      "0    91\n",
      "1     9\n",
      "Name: count, dtype: int64\n"
     ]
    }
   ],
   "source": [
    "cleanf2single = comparer.extractbestmatch(cleanf2, singleterm, 'CatOneIMDRF')\n",
    "cleanf2multi = comparer.extractbestmatch(cleanf2, multiterm, 'CatOneIMDRF')\n",
    "cleanf2def = comparer.extractbestmatch(cleanf2, defimdrf, 'CatOneIMDRF')\n",
    "cleanf2defwt = comparer.extractbestmatch(cleanf2, defkw_wt_array, 'CatOneIMDRF')\n",
    "cleanf2defavg = comparer.extractbestmatch(cleanf2, defkw_avg_array, 'CatOneIMDRF')"
   ]
  },
  {
   "cell_type": "code",
   "execution_count": 151,
   "metadata": {},
   "outputs": [
    {
     "name": "stdout",
     "output_type": "stream",
     "text": [
      "Correct Prediction\n",
      "0    89\n",
      "1    11\n",
      "Name: count, dtype: int64\n",
      "Correct Prediction\n",
      "0    89\n",
      "1    11\n",
      "Name: count, dtype: int64\n",
      "Correct Prediction\n",
      "0    70\n",
      "1    30\n",
      "Name: count, dtype: int64\n",
      "Correct Prediction\n",
      "0    95\n",
      "1     5\n",
      "Name: count, dtype: int64\n",
      "Correct Prediction\n",
      "0    96\n",
      "1     4\n",
      "Name: count, dtype: int64\n"
     ]
    }
   ],
   "source": [
    "cleantrimsingle = comparer.extractbestmatch(cleantrim, singleterm, 'CatOneIMDRF')\n",
    "cleantrimmulti = comparer.extractbestmatch(cleantrim, multiterm, 'CatOneIMDRF')\n",
    "cleantrimdef = comparer.extractbestmatch(cleantrim, defimdrf, 'CatOneIMDRF')\n",
    "cleantrimdefwt = comparer.extractbestmatch(cleantrim, defkw_wt_array, 'CatOneIMDRF')\n",
    "cleantrimdefavg = comparer.extractbestmatch(cleantrim, defkw_avg_array, 'CatOneIMDRF')"
   ]
  },
  {
   "cell_type": "code",
   "execution_count": 152,
   "metadata": {},
   "outputs": [
    {
     "name": "stdout",
     "output_type": "stream",
     "text": [
      "Correct Prediction\n",
      "0    96\n",
      "1     4\n",
      "Name: count, dtype: int64\n",
      "Correct Prediction\n",
      "0    96\n",
      "1     4\n",
      "Name: count, dtype: int64\n",
      "Correct Prediction\n",
      "0    63\n",
      "1    37\n",
      "Name: count, dtype: int64\n",
      "Correct Prediction\n",
      "0    92\n",
      "1     8\n",
      "Name: count, dtype: int64\n",
      "Correct Prediction\n",
      "0    91\n",
      "1     9\n",
      "Name: count, dtype: int64\n"
     ]
    }
   ],
   "source": [
    "nopunf2single = comparer.extractbestmatch(nopunf2, singleterm, 'CatOneIMDRF')\n",
    "nopunf2multi = comparer.extractbestmatch(nopunf2, multiterm, 'CatOneIMDRF')\n",
    "nopunf2def = comparer.extractbestmatch(nopunf2, defimdrf, 'CatOneIMDRF')\n",
    "nopunf2defwt = comparer.extractbestmatch(nopunf2, defkw_wt_array, 'CatOneIMDRF')\n",
    "nopunf2defavg = comparer.extractbestmatch(nopunf2, defkw_avg_array, 'CatOneIMDRF')"
   ]
  },
  {
   "cell_type": "code",
   "execution_count": 153,
   "metadata": {},
   "outputs": [
    {
     "name": "stdout",
     "output_type": "stream",
     "text": [
      "Correct Prediction\n",
      "0    92\n",
      "1     8\n",
      "Name: count, dtype: int64\n",
      "Correct Prediction\n",
      "0    92\n",
      "1     8\n",
      "Name: count, dtype: int64\n",
      "Correct Prediction\n",
      "0    69\n",
      "1    31\n",
      "Name: count, dtype: int64\n",
      "Correct Prediction\n",
      "0    96\n",
      "1     4\n",
      "Name: count, dtype: int64\n",
      "Correct Prediction\n",
      "0    96\n",
      "1     4\n",
      "Name: count, dtype: int64\n"
     ]
    }
   ],
   "source": [
    "nopuntrimsingle = comparer.extractbestmatch(nopuntrim, singleterm, 'CatOneIMDRF')\n",
    "nopuntrimmulti = comparer.extractbestmatch(nopuntrim, multiterm, 'CatOneIMDRF')\n",
    "nopuntrimdef = comparer.extractbestmatch(nopuntrim, defimdrf, 'CatOneIMDRF')\n",
    "nopuntrimdefwt = comparer.extractbestmatch(nopuntrim, defkw_wt_array, 'CatOneIMDRF')\n",
    "nopuntrimdefavg = comparer.extractbestmatch(nopuntrim, defkw_avg_array, 'CatOneIMDRF')"
   ]
  },
  {
   "cell_type": "code",
   "execution_count": 154,
   "metadata": {},
   "outputs": [
    {
     "name": "stdout",
     "output_type": "stream",
     "text": [
      "Correct Prediction\n",
      "0    90\n",
      "1    10\n",
      "Name: count, dtype: int64\n",
      "Correct Prediction\n",
      "0    90\n",
      "1    10\n",
      "Name: count, dtype: int64\n",
      "Correct Prediction\n",
      "0    60\n",
      "1    40\n",
      "Name: count, dtype: int64\n",
      "Correct Prediction\n",
      "0    72\n",
      "1    28\n",
      "Name: count, dtype: int64\n",
      "Correct Prediction\n",
      "0    69\n",
      "1    31\n",
      "Name: count, dtype: int64\n"
     ]
    }
   ],
   "source": [
    "kwwtsingle = comparer.extractbestmatch(kw_wt_array, singleterm, 'CatOneIMDRF')\n",
    "kwwtmulti = comparer.extractbestmatch(kw_wt_array, multiterm, 'CatOneIMDRF')\n",
    "kwwtdef = comparer.extractbestmatch(kw_wt_array, defimdrf, 'CatOneIMDRF')\n",
    "kwwtdefwt = comparer.extractbestmatch(kw_wt_array, defkw_wt_array, 'CatOneIMDRF')\n",
    "kwwtdefavg = comparer.extractbestmatch(kw_wt_array, defkw_avg_array, 'CatOneIMDRF')"
   ]
  },
  {
   "cell_type": "code",
   "execution_count": 155,
   "metadata": {},
   "outputs": [
    {
     "name": "stdout",
     "output_type": "stream",
     "text": [
      "Correct Prediction\n",
      "0    91\n",
      "1     9\n",
      "Name: count, dtype: int64\n",
      "Correct Prediction\n",
      "0    91\n",
      "1     9\n",
      "Name: count, dtype: int64\n",
      "Correct Prediction\n",
      "0    66\n",
      "1    34\n",
      "Name: count, dtype: int64\n",
      "Correct Prediction\n",
      "0    88\n",
      "1    12\n",
      "Name: count, dtype: int64\n",
      "Correct Prediction\n",
      "0    78\n",
      "1    22\n",
      "Name: count, dtype: int64\n"
     ]
    }
   ],
   "source": [
    "kwavgsingle = comparer.extractbestmatch(kw_avg_array, singleterm, 'CatOneIMDRF')\n",
    "kwavgmulti = comparer.extractbestmatch(kw_avg_array, multiterm, 'CatOneIMDRF')\n",
    "kwavgdef = comparer.extractbestmatch(kw_avg_array, defimdrf, 'CatOneIMDRF')\n",
    "kwavgdefwt = comparer.extractbestmatch(kw_avg_array, defkw_wt_array, 'CatOneIMDRF')\n",
    "kwavgdefavg = comparer.extractbestmatch(kw_avg_array, defkw_avg_array, 'CatOneIMDRF')"
   ]
  },
  {
   "cell_type": "markdown",
   "metadata": {},
   "source": [
    "### Transformers"
   ]
  },
  {
   "cell_type": "code",
   "execution_count": 60,
   "metadata": {},
   "outputs": [],
   "source": [
    "from transformers import BertTokenizer, BertModel\n",
    "tokenizer = BertTokenizer.from_pretrained('bert-base-uncased')\n",
    "model = BertModel.from_pretrained(\"bert-base-uncased\")"
   ]
  },
  {
   "cell_type": "code",
   "execution_count": 94,
   "metadata": {},
   "outputs": [],
   "source": [
    "from transformers import AutoTokenizer, AutoModel\n",
    "tokenizer = AutoTokenizer.from_pretrained(\"emilyalsentzer/Bio_ClinicalBERT\")\n",
    "model = AutoModel.from_pretrained(\"emilyalsentzer/Bio_ClinicalBERT\")"
   ]
  },
  {
   "cell_type": "code",
   "execution_count": 140,
   "metadata": {},
   "outputs": [],
   "source": [
    "from transformers import AutoTokenizer, AutoModel\n",
    "model = AutoModel.from_pretrained(\"ncbi/MedCPT-Query-Encoder\")\n",
    "tokenizer = AutoTokenizer.from_pretrained(\"ncbi/MedCPT-Query-Encoder\")"
   ]
  },
  {
   "cell_type": "code",
   "execution_count": 61,
   "metadata": {},
   "outputs": [
    {
     "name": "stderr",
     "output_type": "stream",
     "text": [
      "Some weights of the model checkpoint at microsoft/BiomedNLP-BiomedBERT-base-uncased-abstract-fulltext were not used when initializing BertForMaskedLM: ['bert.pooler.dense.bias', 'bert.pooler.dense.weight', 'cls.seq_relationship.bias', 'cls.seq_relationship.weight']\n",
      "- This IS expected if you are initializing BertForMaskedLM from the checkpoint of a model trained on another task or with another architecture (e.g. initializing a BertForSequenceClassification model from a BertForPreTraining model).\n",
      "- This IS NOT expected if you are initializing BertForMaskedLM from the checkpoint of a model that you expect to be exactly identical (initializing a BertForSequenceClassification model from a BertForSequenceClassification model).\n"
     ]
    }
   ],
   "source": [
    "from transformers import AutoTokenizer, AutoModelForMaskedLM\n",
    "\n",
    "tokenizer = AutoTokenizer.from_pretrained(\"microsoft/BiomedNLP-BiomedBERT-base-uncased-abstract-fulltext\")\n",
    "model = AutoModelForMaskedLM.from_pretrained(\"microsoft/BiomedNLP-BiomedBERT-base-uncased-abstract-fulltext\")"
   ]
  },
  {
   "cell_type": "code",
   "execution_count": 141,
   "metadata": {},
   "outputs": [],
   "source": [
    "from util.prepemb import BCBComparer\n",
    "bcbcomparer = BCBComparer(df=sub_df, df_imdrf=df_imdrf1st, tokenizer=tokenizer, model=model)"
   ]
  },
  {
   "cell_type": "code",
   "execution_count": 164,
   "metadata": {},
   "outputs": [],
   "source": [
    "#token = 'cls'\n",
    "token = 'mean'"
   ]
  },
  {
   "cell_type": "code",
   "execution_count": 165,
   "metadata": {},
   "outputs": [],
   "source": [
    "normalbcb = bcbcomparer.compute_bioclinical_embeddings(sub_df['FOI_TEXT'], token)\n",
    "cleanbcb = bcbcomparer.compute_bioclinical_embeddings(sub_df['Cleaned'], token)\n",
    "nopunbcb = bcbcomparer.compute_bioclinical_embeddings(sub_df['NoPunctuation'], token)"
   ]
  },
  {
   "cell_type": "code",
   "execution_count": 166,
   "metadata": {},
   "outputs": [],
   "source": [
    "nostop10 = bcbcomparer.compute_bioclinical_embeddings(sub_df['NoStop10'], token)\n",
    "nostop20 = bcbcomparer.compute_bioclinical_embeddings(sub_df['NoStop20'], token)\n",
    "nostop30 = bcbcomparer.compute_bioclinical_embeddings(sub_df['NoStop30'], token)"
   ]
  },
  {
   "cell_type": "code",
   "execution_count": 167,
   "metadata": {},
   "outputs": [],
   "source": [
    "f2sent = bcbcomparer.compute_bioclinical_embeddings(sub_df['f2sent'], token)\n",
    "trimsent = bcbcomparer.compute_bioclinical_embeddings(sub_df['trimsent'], token)\n",
    "cleanf2 = bcbcomparer.compute_bioclinical_embeddings(sub_df['cleanf2'], token)\n",
    "cleantrim = bcbcomparer.compute_bioclinical_embeddings(sub_df['cleantrim'], token)\n",
    "nopunf2 = bcbcomparer.compute_bioclinical_embeddings(sub_df['nopunf2'], token)\n",
    "nopuntrim = bcbcomparer.compute_bioclinical_embeddings(sub_df['nopuntrim'], token)"
   ]
  },
  {
   "cell_type": "code",
   "execution_count": 168,
   "metadata": {},
   "outputs": [],
   "source": [
    "defkw_wt = df_imdrf1st['Definition'].apply(\n",
    "    lambda x: embed_rank.getKWembedding(document=x, model=model, tokenizer=tokenizer, strategy=token, weight_flag=True)\n",
    ").to_list()\n",
    "\n",
    "defkw_wt_array = np.array(defkw_wt)\n",
    "defkw_wt_array = np.squeeze(defkw_wt_array, axis=1)\n",
    "\n",
    "defkw_avg = df_imdrf1st['Definition'].apply(\n",
    "    lambda x: embed_rank.getKWembedding(document=x, model=model, tokenizer=tokenizer, strategy=token, weight_flag=False)\n",
    ").to_list()\n",
    "\n",
    "defkw_avg_array = np.array(defkw_avg)\n",
    "defkw_avg_array = np.squeeze(defkw_avg_array, axis=1)"
   ]
  },
  {
   "cell_type": "code",
   "execution_count": 169,
   "metadata": {},
   "outputs": [],
   "source": [
    "singleterm = bcbcomparer.compute_bioclinical_embeddings(df_imdrf1st['single_term'], token)\n",
    "multiterm = bcbcomparer.compute_bioclinical_embeddings(df_imdrf1st['multiple_terms'], token)\n",
    "defimdrf = bcbcomparer.compute_bioclinical_embeddings(df_imdrf1st['Definition'], token)"
   ]
  },
  {
   "cell_type": "code",
   "execution_count": 170,
   "metadata": {},
   "outputs": [],
   "source": [
    "kw_wt = sub_df['FOI_TEXT'].apply(lambda x: embed_rank.getKWembedding(document=x, model=model, tokenizer=tokenizer, strategy=token, weight_flag=True)).to_list()\n",
    "kw_avg = sub_df['FOI_TEXT'].apply(lambda x: embed_rank.getKWembedding(document=x, model=model, tokenizer=tokenizer, strategy=token, weight_flag=False)).to_list()\n",
    "\n",
    "kw_wt_array = np.array(kw_wt)\n",
    "kw_avg_array = np.array(kw_avg)\n",
    "kw_wt_array = np.squeeze(kw_wt_array, axis=1)\n",
    "kw_avg_array = np.squeeze(kw_avg_array, axis=1)"
   ]
  },
  {
   "cell_type": "code",
   "execution_count": 171,
   "metadata": {},
   "outputs": [
    {
     "name": "stdout",
     "output_type": "stream",
     "text": [
      "Correct Prediction\n",
      "0    91\n",
      "1     9\n",
      "Name: count, dtype: int64\n",
      "Correct Prediction\n",
      "0    91\n",
      "1     9\n",
      "Name: count, dtype: int64\n",
      "Correct Prediction\n",
      "0    93\n",
      "1     7\n",
      "Name: count, dtype: int64\n",
      "Correct Prediction\n",
      "0    94\n",
      "1     6\n",
      "Name: count, dtype: int64\n",
      "Correct Prediction\n",
      "0    94\n",
      "1     6\n",
      "Name: count, dtype: int64\n"
     ]
    }
   ],
   "source": [
    "normalsingle = bcbcomparer.extractbestfit(normalbcb, singleterm, 'CatOneIMDRF')\n",
    "normalmulti = bcbcomparer.extractbestfit(normalbcb, multiterm, 'CatOneIMDRF')\n",
    "normaldef = bcbcomparer.extractbestfit(normalbcb, defimdrf, 'CatOneIMDRF')\n",
    "normaldefwt = bcbcomparer.extractbestfit(normalbcb, defkw_wt_array, 'CatOneIMDRF')\n",
    "normaldefavg = bcbcomparer.extractbestfit(normalbcb, defkw_avg_array, 'CatOneIMDRF')"
   ]
  },
  {
   "cell_type": "code",
   "execution_count": 172,
   "metadata": {},
   "outputs": [
    {
     "name": "stdout",
     "output_type": "stream",
     "text": [
      "Correct Prediction\n",
      "0    91\n",
      "1     9\n",
      "Name: count, dtype: int64\n",
      "Correct Prediction\n",
      "0    91\n",
      "1     9\n",
      "Name: count, dtype: int64\n",
      "Correct Prediction\n",
      "0    95\n",
      "1     5\n",
      "Name: count, dtype: int64\n",
      "Correct Prediction\n",
      "0    93\n",
      "1     7\n",
      "Name: count, dtype: int64\n",
      "Correct Prediction\n",
      "0    94\n",
      "1     6\n",
      "Name: count, dtype: int64\n"
     ]
    }
   ],
   "source": [
    "cleansingle = bcbcomparer.extractbestfit(cleanbcb, singleterm, 'CatOneIMDRF')\n",
    "cleanmulti = bcbcomparer.extractbestfit(cleanbcb, multiterm, 'CatOneIMDRF')\n",
    "cleandef = bcbcomparer.extractbestfit(cleanbcb, defimdrf, 'CatOneIMDRF')\n",
    "cleandefwt = bcbcomparer.extractbestfit(cleanbcb, defkw_wt_array, 'CatOneIMDRF')\n",
    "cleandefavg = bcbcomparer.extractbestfit(cleanbcb, defkw_avg_array, 'CatOneIMDRF')"
   ]
  },
  {
   "cell_type": "code",
   "execution_count": 173,
   "metadata": {},
   "outputs": [
    {
     "name": "stdout",
     "output_type": "stream",
     "text": [
      "Correct Prediction\n",
      "0    91\n",
      "1     9\n",
      "Name: count, dtype: int64\n",
      "Correct Prediction\n",
      "0    91\n",
      "1     9\n",
      "Name: count, dtype: int64\n",
      "Correct Prediction\n",
      "0    93\n",
      "1     7\n",
      "Name: count, dtype: int64\n",
      "Correct Prediction\n",
      "0    93\n",
      "1     7\n",
      "Name: count, dtype: int64\n",
      "Correct Prediction\n",
      "0    93\n",
      "1     7\n",
      "Name: count, dtype: int64\n"
     ]
    }
   ],
   "source": [
    "nopunsingle = bcbcomparer.extractbestfit(nopunbcb, singleterm, 'CatOneIMDRF')\n",
    "nopunmulti = bcbcomparer.extractbestfit(nopunbcb, multiterm, 'CatOneIMDRF')\n",
    "nopundef = bcbcomparer.extractbestfit(nopunbcb, defimdrf, 'CatOneIMDRF')\n",
    "nopundefwt = bcbcomparer.extractbestfit(nopunbcb, defkw_wt_array, 'CatOneIMDRF')\n",
    "nopundefavg = bcbcomparer.extractbestfit(nopunbcb, defkw_avg_array, 'CatOneIMDRF')"
   ]
  },
  {
   "cell_type": "code",
   "execution_count": 174,
   "metadata": {},
   "outputs": [
    {
     "name": "stdout",
     "output_type": "stream",
     "text": [
      "Correct Prediction\n",
      "0    91\n",
      "1     9\n",
      "Name: count, dtype: int64\n",
      "Correct Prediction\n",
      "0    91\n",
      "1     9\n",
      "Name: count, dtype: int64\n",
      "Correct Prediction\n",
      "0    95\n",
      "1     5\n",
      "Name: count, dtype: int64\n",
      "Correct Prediction\n",
      "0    95\n",
      "1     5\n",
      "Name: count, dtype: int64\n",
      "Correct Prediction\n",
      "0    95\n",
      "1     5\n",
      "Name: count, dtype: int64\n"
     ]
    }
   ],
   "source": [
    "nostop10single = bcbcomparer.extractbestfit(nostop10, singleterm, 'CatOneIMDRF')\n",
    "nostop10multi = bcbcomparer.extractbestfit(nostop10, multiterm, 'CatOneIMDRF')\n",
    "nostop10def = bcbcomparer.extractbestfit(nostop10, defimdrf, 'CatOneIMDRF')\n",
    "nostop10defwt = bcbcomparer.extractbestfit(nostop10, defkw_wt_array, 'CatOneIMDRF')\n",
    "nostop10defavg = bcbcomparer.extractbestfit(nostop10, defkw_avg_array, 'CatOneIMDRF')"
   ]
  },
  {
   "cell_type": "code",
   "execution_count": 175,
   "metadata": {},
   "outputs": [
    {
     "name": "stdout",
     "output_type": "stream",
     "text": [
      "Correct Prediction\n",
      "0    92\n",
      "1     8\n",
      "Name: count, dtype: int64\n",
      "Correct Prediction\n",
      "0    92\n",
      "1     8\n",
      "Name: count, dtype: int64\n",
      "Correct Prediction\n",
      "0    96\n",
      "1     4\n",
      "Name: count, dtype: int64\n",
      "Correct Prediction\n",
      "0    95\n",
      "1     5\n",
      "Name: count, dtype: int64\n",
      "Correct Prediction\n",
      "0    98\n",
      "1     2\n",
      "Name: count, dtype: int64\n"
     ]
    }
   ],
   "source": [
    "nostop20single = bcbcomparer.extractbestfit(nostop20, singleterm, 'CatOneIMDRF')\n",
    "nostop20multi = bcbcomparer.extractbestfit(nostop20, multiterm, 'CatOneIMDRF')\n",
    "nostop20def = bcbcomparer.extractbestfit(nostop20, defimdrf, 'CatOneIMDRF')\n",
    "nostop20defwt = bcbcomparer.extractbestfit(nostop20, defkw_wt_array, 'CatOneIMDRF')\n",
    "nostop20defavg = bcbcomparer.extractbestfit(nostop20, defkw_avg_array, 'CatOneIMDRF')"
   ]
  },
  {
   "cell_type": "code",
   "execution_count": 176,
   "metadata": {},
   "outputs": [
    {
     "name": "stdout",
     "output_type": "stream",
     "text": [
      "Correct Prediction\n",
      "0    91\n",
      "1     9\n",
      "Name: count, dtype: int64\n",
      "Correct Prediction\n",
      "0    91\n",
      "1     9\n",
      "Name: count, dtype: int64\n",
      "Correct Prediction\n",
      "0    95\n",
      "1     5\n",
      "Name: count, dtype: int64\n",
      "Correct Prediction\n",
      "0    95\n",
      "1     5\n",
      "Name: count, dtype: int64\n",
      "Correct Prediction\n",
      "0    97\n",
      "1     3\n",
      "Name: count, dtype: int64\n"
     ]
    }
   ],
   "source": [
    "nostop30single = bcbcomparer.extractbestfit(nostop30, singleterm, 'CatOneIMDRF')\n",
    "nostop30multi = bcbcomparer.extractbestfit(nostop30, multiterm, 'CatOneIMDRF')\n",
    "nostop30def = bcbcomparer.extractbestfit(nostop30, defimdrf, 'CatOneIMDRF')\n",
    "nostop30defwt = bcbcomparer.extractbestfit(nostop30, defkw_wt_array, 'CatOneIMDRF')\n",
    "nostop30defavg = bcbcomparer.extractbestfit(nostop30, defkw_avg_array, 'CatOneIMDRF')"
   ]
  },
  {
   "cell_type": "code",
   "execution_count": 177,
   "metadata": {},
   "outputs": [
    {
     "name": "stdout",
     "output_type": "stream",
     "text": [
      "Correct Prediction\n",
      "0    91\n",
      "1     9\n",
      "Name: count, dtype: int64\n",
      "Correct Prediction\n",
      "0    91\n",
      "1     9\n",
      "Name: count, dtype: int64\n",
      "Correct Prediction\n",
      "0    92\n",
      "1     8\n",
      "Name: count, dtype: int64\n",
      "Correct Prediction\n",
      "0    94\n",
      "1     6\n",
      "Name: count, dtype: int64\n",
      "Correct Prediction\n",
      "0    95\n",
      "1     5\n",
      "Name: count, dtype: int64\n"
     ]
    }
   ],
   "source": [
    "f2single = bcbcomparer.extractbestfit(f2sent, singleterm, 'CatOneIMDRF')\n",
    "f2multi = bcbcomparer.extractbestfit(f2sent, multiterm, 'CatOneIMDRF')\n",
    "f2def = bcbcomparer.extractbestfit(f2sent, defimdrf, 'CatOneIMDRF')\n",
    "f2defwt = bcbcomparer.extractbestfit(f2sent, defkw_wt_array, 'CatOneIMDRF')\n",
    "f2defavg = bcbcomparer.extractbestfit(f2sent, defkw_avg_array, 'CatOneIMDRF')"
   ]
  },
  {
   "cell_type": "code",
   "execution_count": 178,
   "metadata": {},
   "outputs": [
    {
     "name": "stdout",
     "output_type": "stream",
     "text": [
      "Correct Prediction\n",
      "0    91\n",
      "1     9\n",
      "Name: count, dtype: int64\n",
      "Correct Prediction\n",
      "0    91\n",
      "1     9\n",
      "Name: count, dtype: int64\n",
      "Correct Prediction\n",
      "0    93\n",
      "1     7\n",
      "Name: count, dtype: int64\n",
      "Correct Prediction\n",
      "0    94\n",
      "1     6\n",
      "Name: count, dtype: int64\n",
      "Correct Prediction\n",
      "0    94\n",
      "1     6\n",
      "Name: count, dtype: int64\n"
     ]
    }
   ],
   "source": [
    "trimsingle = bcbcomparer.extractbestfit(trimsent, singleterm, 'CatOneIMDRF')\n",
    "trimmulti = bcbcomparer.extractbestfit(trimsent, multiterm, 'CatOneIMDRF')\n",
    "trimdef = bcbcomparer.extractbestfit(trimsent, defimdrf, 'CatOneIMDRF')\n",
    "trimdefwt = bcbcomparer.extractbestfit(trimsent, defkw_wt_array, 'CatOneIMDRF')\n",
    "trimdefavg = bcbcomparer.extractbestfit(trimsent, defkw_avg_array, 'CatOneIMDRF')"
   ]
  },
  {
   "cell_type": "code",
   "execution_count": 179,
   "metadata": {},
   "outputs": [
    {
     "name": "stdout",
     "output_type": "stream",
     "text": [
      "Correct Prediction\n",
      "0    91\n",
      "1     9\n",
      "Name: count, dtype: int64\n",
      "Correct Prediction\n",
      "0    91\n",
      "1     9\n",
      "Name: count, dtype: int64\n",
      "Correct Prediction\n",
      "0    92\n",
      "1     8\n",
      "Name: count, dtype: int64\n",
      "Correct Prediction\n",
      "0    94\n",
      "1     6\n",
      "Name: count, dtype: int64\n",
      "Correct Prediction\n",
      "0    95\n",
      "1     5\n",
      "Name: count, dtype: int64\n"
     ]
    }
   ],
   "source": [
    "cleanf2single = bcbcomparer.extractbestfit(cleanf2, singleterm, 'CatOneIMDRF')\n",
    "cleanf2multi = bcbcomparer.extractbestfit(cleanf2, multiterm, 'CatOneIMDRF')\n",
    "cleanf2def = bcbcomparer.extractbestfit(cleanf2, defimdrf, 'CatOneIMDRF')\n",
    "cleanf2defwt = bcbcomparer.extractbestfit(cleanf2, defkw_wt_array, 'CatOneIMDRF')\n",
    "cleanf2defavg = bcbcomparer.extractbestfit(cleanf2, defkw_avg_array, 'CatOneIMDRF')"
   ]
  },
  {
   "cell_type": "code",
   "execution_count": 180,
   "metadata": {},
   "outputs": [
    {
     "name": "stdout",
     "output_type": "stream",
     "text": [
      "Correct Prediction\n",
      "0    91\n",
      "1     9\n",
      "Name: count, dtype: int64\n",
      "Correct Prediction\n",
      "0    91\n",
      "1     9\n",
      "Name: count, dtype: int64\n",
      "Correct Prediction\n",
      "0    95\n",
      "1     5\n",
      "Name: count, dtype: int64\n",
      "Correct Prediction\n",
      "0    93\n",
      "1     7\n",
      "Name: count, dtype: int64\n",
      "Correct Prediction\n",
      "0    94\n",
      "1     6\n",
      "Name: count, dtype: int64\n"
     ]
    }
   ],
   "source": [
    "cleantrimsingle = bcbcomparer.extractbestfit(cleantrim, singleterm, 'CatOneIMDRF')\n",
    "cleantrimmulti = bcbcomparer.extractbestfit(cleantrim, multiterm, 'CatOneIMDRF')\n",
    "cleantrimdef = bcbcomparer.extractbestfit(cleantrim, defimdrf, 'CatOneIMDRF')\n",
    "cleantrimdefwt = bcbcomparer.extractbestfit(cleantrim, defkw_wt_array, 'CatOneIMDRF')\n",
    "cleantrimdefavg = bcbcomparer.extractbestfit(cleantrim, defkw_avg_array, 'CatOneIMDRF')"
   ]
  },
  {
   "cell_type": "code",
   "execution_count": 181,
   "metadata": {},
   "outputs": [
    {
     "name": "stdout",
     "output_type": "stream",
     "text": [
      "Correct Prediction\n",
      "0    91\n",
      "1     9\n",
      "Name: count, dtype: int64\n",
      "Correct Prediction\n",
      "0    91\n",
      "1     9\n",
      "Name: count, dtype: int64\n",
      "Correct Prediction\n",
      "0    95\n",
      "1     5\n",
      "Name: count, dtype: int64\n",
      "Correct Prediction\n",
      "0    95\n",
      "1     5\n",
      "Name: count, dtype: int64\n",
      "Correct Prediction\n",
      "0    96\n",
      "1     4\n",
      "Name: count, dtype: int64\n"
     ]
    }
   ],
   "source": [
    "nopunf2single = bcbcomparer.extractbestfit(nopunf2, singleterm, 'CatOneIMDRF')\n",
    "nopunf2multi = bcbcomparer.extractbestfit(nopunf2, multiterm, 'CatOneIMDRF')\n",
    "nopunf2def = bcbcomparer.extractbestfit(nopunf2, defimdrf, 'CatOneIMDRF')\n",
    "nopunf2defwt = bcbcomparer.extractbestfit(nopunf2, defkw_wt_array, 'CatOneIMDRF')\n",
    "nopunf2defavg = bcbcomparer.extractbestfit(nopunf2, defkw_avg_array, 'CatOneIMDRF')"
   ]
  },
  {
   "cell_type": "code",
   "execution_count": 182,
   "metadata": {},
   "outputs": [
    {
     "name": "stdout",
     "output_type": "stream",
     "text": [
      "Correct Prediction\n",
      "0    91\n",
      "1     9\n",
      "Name: count, dtype: int64\n",
      "Correct Prediction\n",
      "0    91\n",
      "1     9\n",
      "Name: count, dtype: int64\n",
      "Correct Prediction\n",
      "0    93\n",
      "1     7\n",
      "Name: count, dtype: int64\n",
      "Correct Prediction\n",
      "0    93\n",
      "1     7\n",
      "Name: count, dtype: int64\n",
      "Correct Prediction\n",
      "0    93\n",
      "1     7\n",
      "Name: count, dtype: int64\n"
     ]
    }
   ],
   "source": [
    "nopuntrimsingle = bcbcomparer.extractbestfit(nopuntrim, singleterm, 'CatOneIMDRF')\n",
    "nopuntrimmulti = bcbcomparer.extractbestfit(nopuntrim, multiterm, 'CatOneIMDRF')\n",
    "nopuntrimdef = bcbcomparer.extractbestfit(nopuntrim, defimdrf, 'CatOneIMDRF')\n",
    "nopuntrimdefwt = bcbcomparer.extractbestfit(nopuntrim, defkw_wt_array, 'CatOneIMDRF')\n",
    "nopuntrimdefavg = bcbcomparer.extractbestfit(nopuntrim, defkw_avg_array, 'CatOneIMDRF')"
   ]
  },
  {
   "cell_type": "code",
   "execution_count": 183,
   "metadata": {},
   "outputs": [
    {
     "name": "stdout",
     "output_type": "stream",
     "text": [
      "Correct Prediction\n",
      "0    91\n",
      "1     9\n",
      "Name: count, dtype: int64\n",
      "Correct Prediction\n",
      "0    91\n",
      "1     9\n",
      "Name: count, dtype: int64\n",
      "Correct Prediction\n",
      "0    93\n",
      "1     7\n",
      "Name: count, dtype: int64\n",
      "Correct Prediction\n",
      "0    87\n",
      "1    13\n",
      "Name: count, dtype: int64\n",
      "Correct Prediction\n",
      "0    88\n",
      "1    12\n",
      "Name: count, dtype: int64\n"
     ]
    }
   ],
   "source": [
    "kwwtsingle = bcbcomparer.extractbestfit(kw_wt_array, singleterm, 'CatOneIMDRF')\n",
    "kwwtmulti = bcbcomparer.extractbestfit(kw_wt_array, multiterm, 'CatOneIMDRF')\n",
    "kwwtdef = bcbcomparer.extractbestfit(kw_wt_array, defimdrf, 'CatOneIMDRF')\n",
    "kwwtdefwt = bcbcomparer.extractbestfit(kw_wt_array, defkw_wt_array, 'CatOneIMDRF')\n",
    "kwwtdefavg = bcbcomparer.extractbestfit(kw_wt_array, defkw_avg_array, 'CatOneIMDRF')"
   ]
  },
  {
   "cell_type": "code",
   "execution_count": 184,
   "metadata": {},
   "outputs": [
    {
     "name": "stdout",
     "output_type": "stream",
     "text": [
      "Correct Prediction\n",
      "0    91\n",
      "1     9\n",
      "Name: count, dtype: int64\n",
      "Correct Prediction\n",
      "0    91\n",
      "1     9\n",
      "Name: count, dtype: int64\n",
      "Correct Prediction\n",
      "0    93\n",
      "1     7\n",
      "Name: count, dtype: int64\n",
      "Correct Prediction\n",
      "0    87\n",
      "1    13\n",
      "Name: count, dtype: int64\n",
      "Correct Prediction\n",
      "0    89\n",
      "1    11\n",
      "Name: count, dtype: int64\n"
     ]
    }
   ],
   "source": [
    "kwavgsingle = bcbcomparer.extractbestfit(kw_avg_array, singleterm, 'CatOneIMDRF')\n",
    "kwavgmulti = bcbcomparer.extractbestfit(kw_avg_array, multiterm, 'CatOneIMDRF')\n",
    "kwavgdef = bcbcomparer.extractbestfit(kw_avg_array, defimdrf, 'CatOneIMDRF')\n",
    "kwavgdefwt = bcbcomparer.extractbestfit(kw_avg_array, defkw_wt_array, 'CatOneIMDRF')\n",
    "kwavgdefavg = bcbcomparer.extractbestfit(kw_avg_array, defkw_avg_array, 'CatOneIMDRF')"
   ]
  },
  {
   "cell_type": "code",
   "execution_count": 185,
   "metadata": {},
   "outputs": [
    {
     "data": {
      "application/vnd.microsoft.datawrangler.viewer.v0+json": {
       "columns": [
        {
         "name": "index",
         "rawType": "int64",
         "type": "integer"
        },
        {
         "name": "Original IMDRF",
         "rawType": "object",
         "type": "string"
        },
        {
         "name": "Predicted IMDRF",
         "rawType": "object",
         "type": "string"
        },
        {
         "name": "Similarity Score",
         "rawType": "float32",
         "type": "float"
        },
        {
         "name": "Correct Prediction",
         "rawType": "int64",
         "type": "integer"
        }
       ],
       "conversionMethod": "pd.DataFrame",
       "ref": "74a22871-d497-4553-9942-723fdb400897",
       "rows": [
        [
         "432108",
         "A07",
         "A16",
         "0.9292834",
         "0"
        ],
        [
         "145991",
         "A09",
         "A09",
         "0.8918846",
         "1"
        ],
        [
         "259118",
         "A07",
         "A12",
         "0.8788026",
         "0"
        ],
        [
         "502603",
         "A07",
         "A12",
         "0.83770883",
         "0"
        ],
        [
         "173353",
         "A07",
         "A09",
         "0.847493",
         "0"
        ],
        [
         "571440",
         "A07",
         "A04",
         "0.89677",
         "0"
        ],
        [
         "312318",
         "A07",
         "A09",
         "0.82784015",
         "0"
        ],
        [
         "198374",
         "A07",
         "A09",
         "0.82714075",
         "0"
        ],
        [
         "158201",
         "A09",
         "A12",
         "0.8543179",
         "0"
        ],
        [
         "361821",
         "A09",
         "A09",
         "0.8669733",
         "1"
        ],
        [
         "17015",
         "A05",
         "A09",
         "0.8742515",
         "0"
        ],
        [
         "158743",
         "A09",
         "A09",
         "0.9359591",
         "1"
        ],
        [
         "46007",
         "A07",
         "A09",
         "0.8719648",
         "0"
        ],
        [
         "311377",
         "A07",
         "A12",
         "0.9146732",
         "0"
        ],
        [
         "183255",
         "A07",
         "A09",
         "0.8346441",
         "0"
        ],
        [
         "63011",
         "A04",
         "A26",
         "0.89482105",
         "0"
        ],
        [
         "454756",
         "A07",
         "A26",
         "0.87086034",
         "0"
        ],
        [
         "278462",
         "A07",
         "A16",
         "0.8863628",
         "0"
        ],
        [
         "557384",
         "A07",
         "A16",
         "0.9280492",
         "0"
        ],
        [
         "8647",
         "A11",
         "A12",
         "0.8661517",
         "0"
        ],
        [
         "309169",
         "A04",
         "A26",
         "0.8410072",
         "0"
        ],
        [
         "173988",
         "A07",
         "A09",
         "0.849643",
         "0"
        ],
        [
         "357809",
         "A07",
         "A12",
         "0.86326694",
         "0"
        ],
        [
         "377355",
         "A15",
         "A16",
         "0.9208598",
         "0"
        ],
        [
         "484643",
         "A07",
         "A09",
         "0.87343943",
         "0"
        ],
        [
         "392006",
         "A07",
         "A05",
         "0.839449",
         "0"
        ],
        [
         "194035",
         "A09",
         "A09",
         "0.8738135",
         "1"
        ],
        [
         "536877",
         "A04",
         "A12",
         "0.8388707",
         "0"
        ],
        [
         "295302",
         "A07",
         "A04",
         "0.8523065",
         "0"
        ],
        [
         "35273",
         "A04",
         "A20",
         "0.83613604",
         "0"
        ],
        [
         "384765",
         "A07",
         "A12",
         "0.8273126",
         "0"
        ],
        [
         "133643",
         "A15",
         "A09",
         "0.88340837",
         "0"
        ],
        [
         "554907",
         "A07",
         "A23",
         "0.836128",
         "0"
        ],
        [
         "429829",
         "A07",
         "A09",
         "0.92225623",
         "0"
        ],
        [
         "294899",
         "A07",
         "A07",
         "0.80665374",
         "1"
        ],
        [
         "40139",
         "A15",
         "A09",
         "0.8798586",
         "0"
        ],
        [
         "265474",
         "A15",
         "A24",
         "0.89616215",
         "0"
        ],
        [
         "423793",
         "A07",
         "A16",
         "0.9323337",
         "0"
        ],
        [
         "251736",
         "A07",
         "A16",
         "0.9160735",
         "0"
        ],
        [
         "84568",
         "A07",
         "A09",
         "0.885026",
         "0"
        ],
        [
         "169942",
         "A07",
         "A09",
         "0.878777",
         "0"
        ],
        [
         "361320",
         "A07",
         "A25",
         "0.8994743",
         "0"
        ],
        [
         "458258",
         "A07",
         "A16",
         "0.8739557",
         "0"
        ],
        [
         "383726",
         "A07",
         "A09",
         "0.84443843",
         "0"
        ],
        [
         "252926",
         "A15",
         "A09",
         "0.784328",
         "0"
        ],
        [
         "560034",
         "A07",
         "A09",
         "0.9317061",
         "0"
        ],
        [
         "205071",
         "A07",
         "A12",
         "0.8872713",
         "0"
        ],
        [
         "92617",
         "A24",
         "A07",
         "0.86209106",
         "0"
        ],
        [
         "23941",
         "A24",
         "A16",
         "0.88165647",
         "0"
        ],
        [
         "245950",
         "A09",
         "A12",
         "0.8809032",
         "0"
        ]
       ],
       "shape": {
        "columns": 4,
        "rows": 100
       }
      },
      "text/html": [
       "<div>\n",
       "<style scoped>\n",
       "    .dataframe tbody tr th:only-of-type {\n",
       "        vertical-align: middle;\n",
       "    }\n",
       "\n",
       "    .dataframe tbody tr th {\n",
       "        vertical-align: top;\n",
       "    }\n",
       "\n",
       "    .dataframe thead th {\n",
       "        text-align: right;\n",
       "    }\n",
       "</style>\n",
       "<table border=\"1\" class=\"dataframe\">\n",
       "  <thead>\n",
       "    <tr style=\"text-align: right;\">\n",
       "      <th></th>\n",
       "      <th>Original IMDRF</th>\n",
       "      <th>Predicted IMDRF</th>\n",
       "      <th>Similarity Score</th>\n",
       "      <th>Correct Prediction</th>\n",
       "    </tr>\n",
       "  </thead>\n",
       "  <tbody>\n",
       "    <tr>\n",
       "      <th>432108</th>\n",
       "      <td>A07</td>\n",
       "      <td>A16</td>\n",
       "      <td>0.929283</td>\n",
       "      <td>0</td>\n",
       "    </tr>\n",
       "    <tr>\n",
       "      <th>145991</th>\n",
       "      <td>A09</td>\n",
       "      <td>A09</td>\n",
       "      <td>0.891885</td>\n",
       "      <td>1</td>\n",
       "    </tr>\n",
       "    <tr>\n",
       "      <th>259118</th>\n",
       "      <td>A07</td>\n",
       "      <td>A12</td>\n",
       "      <td>0.878803</td>\n",
       "      <td>0</td>\n",
       "    </tr>\n",
       "    <tr>\n",
       "      <th>502603</th>\n",
       "      <td>A07</td>\n",
       "      <td>A12</td>\n",
       "      <td>0.837709</td>\n",
       "      <td>0</td>\n",
       "    </tr>\n",
       "    <tr>\n",
       "      <th>173353</th>\n",
       "      <td>A07</td>\n",
       "      <td>A09</td>\n",
       "      <td>0.847493</td>\n",
       "      <td>0</td>\n",
       "    </tr>\n",
       "    <tr>\n",
       "      <th>...</th>\n",
       "      <td>...</td>\n",
       "      <td>...</td>\n",
       "      <td>...</td>\n",
       "      <td>...</td>\n",
       "    </tr>\n",
       "    <tr>\n",
       "      <th>83969</th>\n",
       "      <td>A07</td>\n",
       "      <td>A09</td>\n",
       "      <td>0.838104</td>\n",
       "      <td>0</td>\n",
       "    </tr>\n",
       "    <tr>\n",
       "      <th>323755</th>\n",
       "      <td>A24</td>\n",
       "      <td>A16</td>\n",
       "      <td>0.849184</td>\n",
       "      <td>0</td>\n",
       "    </tr>\n",
       "    <tr>\n",
       "      <th>47378</th>\n",
       "      <td>A09</td>\n",
       "      <td>A12</td>\n",
       "      <td>0.892797</td>\n",
       "      <td>0</td>\n",
       "    </tr>\n",
       "    <tr>\n",
       "      <th>483388</th>\n",
       "      <td>A24</td>\n",
       "      <td>A16</td>\n",
       "      <td>0.889829</td>\n",
       "      <td>0</td>\n",
       "    </tr>\n",
       "    <tr>\n",
       "      <th>70224</th>\n",
       "      <td>A27</td>\n",
       "      <td>A16</td>\n",
       "      <td>0.932334</td>\n",
       "      <td>0</td>\n",
       "    </tr>\n",
       "  </tbody>\n",
       "</table>\n",
       "<p>100 rows × 4 columns</p>\n",
       "</div>"
      ],
      "text/plain": [
       "       Original IMDRF Predicted IMDRF  Similarity Score  Correct Prediction\n",
       "432108            A07             A16          0.929283                   0\n",
       "145991            A09             A09          0.891885                   1\n",
       "259118            A07             A12          0.878803                   0\n",
       "502603            A07             A12          0.837709                   0\n",
       "173353            A07             A09          0.847493                   0\n",
       "...               ...             ...               ...                 ...\n",
       "83969             A07             A09          0.838104                   0\n",
       "323755            A24             A16          0.849184                   0\n",
       "47378             A09             A12          0.892797                   0\n",
       "483388            A24             A16          0.889829                   0\n",
       "70224             A27             A16          0.932334                   0\n",
       "\n",
       "[100 rows x 4 columns]"
      ]
     },
     "execution_count": 185,
     "metadata": {},
     "output_type": "execute_result"
    }
   ],
   "source": [
    "kwavgdefavg"
   ]
  }
 ],
 "metadata": {
  "kernelspec": {
   "display_name": "tesinlp",
   "language": "python",
   "name": "python3"
  },
  "language_info": {
   "codemirror_mode": {
    "name": "ipython",
    "version": 3
   },
   "file_extension": ".py",
   "mimetype": "text/x-python",
   "name": "python",
   "nbconvert_exporter": "python",
   "pygments_lexer": "ipython3",
   "version": "3.11.9"
  }
 },
 "nbformat": 4,
 "nbformat_minor": 2
}
